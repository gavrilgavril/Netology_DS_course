{
 "cells": [
  {
   "cell_type": "markdown",
   "metadata": {},
   "source": [
    "## Digit Recognizer\n",
    "https://www.kaggle.com/c/digit-recognizer"
   ]
  },
  {
   "cell_type": "raw",
   "metadata": {},
   "source": [
    "Преподаватель: Вячеслав Мурашкин\n",
    "Необходимо построить классификатор изображений рукописного ввода на базе MNIST. В качестве шаблона можно использовать ipython-ноутбук 002-digit.ipynb.\n",
    "Классификатор предлагается строить на признаках, полученных в результате предобработки изображений, например, гистограммы градиентов (HOG) или результат PCA преобразования.\n",
    "В качестве модели классификатора можно использовать любую известную модель, за исключением сверточных нейронных сетей.\n",
    "\n",
    "**Критерии качества **\n",
    "Метрика accuracy. Чтобы получить зачёт по работе работе, значение метрики должно быть больше 0.6. Метрика оценивается на тестовой выборке в рамках контеста Digit Recognizer на Kaggle.\n",
    "\n",
    "Как сдавать\n",
    "Решение необходимо предоставить в виде** ipytnon-ноутбука** с реализацией процесса построения модели и скриншота с финальным результатом на Kaggle"
   ]
  },
  {
   "cell_type": "code",
   "execution_count": 1,
   "metadata": {},
   "outputs": [],
   "source": [
    "%matplotlib inline\n",
    "import cv2\n",
    "import numpy as np\n",
    "import matplotlib.pyplot as plt\n",
    "import pandas as pd\n",
    "\n",
    "from sklearn.model_selection import train_test_split\n",
    "from sklearn.model_selection import cross_val_score\n",
    "from sklearn.svm import LinearSVC\n",
    "from sklearn.ensemble import RandomForestClassifier\n",
    "from sklearn.linear_model import LogisticRegression\n",
    "from sklearn import linear_model\n",
    "from sklearn.neighbors import KNeighborsClassifier\n",
    "from sklearn.tree import DecisionTreeClassifier\n",
    "#import xgboost\n",
    "from xgboost import XGBClassifier\n",
    "from sklearn.metrics import confusion_matrix\n",
    "from functools import partial\n",
    "\n",
    "\n",
    "\n",
    "from sklearn.metrics import accuracy_score\n",
    "\n",
    "from sklearn.metrics import classification_report"
   ]
  },
  {
   "cell_type": "code",
   "execution_count": 2,
   "metadata": {},
   "outputs": [],
   "source": [
    "train = np.loadtxt('./data/digit/train.csv', delimiter=',', skiprows=1)\n",
    "test = np.loadtxt('./data/digit/test.csv', delimiter=',', skiprows=1)"
   ]
  },
  {
   "cell_type": "code",
   "execution_count": 3,
   "metadata": {},
   "outputs": [
    {
     "data": {
      "text/plain": [
       "(28000, 784)"
      ]
     },
     "execution_count": 3,
     "metadata": {},
     "output_type": "execute_result"
    }
   ],
   "source": [
    "test.shape"
   ]
  },
  {
   "cell_type": "code",
   "execution_count": 4,
   "metadata": {},
   "outputs": [],
   "source": [
    "# сохраняем разметку в отдельную переменную\n",
    "train_label = train[:, 0]\n",
    "# приводим размерность к удобному для обаботки виду\n",
    "train_img = np.resize(train[:, 1:], (train.shape[0], 28, 28))\n",
    "test_img = np.resize(test, (test.shape[0], 28, 28))"
   ]
  },
  {
   "cell_type": "code",
   "execution_count": 147,
   "metadata": {},
   "outputs": [],
   "source": [
    "\n",
    "X_train, X_valid, y_train, y_valid = train_test_split(np.resize(train_img, (train.shape[0], 28*28)), train_label, test_size=0.30, random_state=42)"
   ]
  },
  {
   "cell_type": "code",
   "execution_count": 6,
   "metadata": {},
   "outputs": [],
   "source": [
    "estimators = {\n",
    "    \n",
    "   \n",
    "    'knn': KNeighborsClassifier(n_jobs=-1),\n",
    "    'tree': DecisionTreeClassifier(),\n",
    "    'forest': linear_model.SGDClassifier(n_jobs=-1),\n",
    "    'SVC': LinearSVC(),\n",
    "    'XGB': XGBClassifier(n_jobs=-1)\n",
    "}"
   ]
  },
  {
   "cell_type": "code",
   "execution_count": 7,
   "metadata": {},
   "outputs": [],
   "source": [
    "results=pd.DataFrame(columns=['model','Mean_cross_val_Accuracy','Valid_Accuracy'])"
   ]
  },
  {
   "cell_type": "code",
   "execution_count": 10,
   "metadata": {},
   "outputs": [
    {
     "name": "stdout",
     "output_type": "stream",
     "text": [
      "knn Mean_cross_val_Accuracy  0.9622452608908219  Valid_Accuracy:  0.9655555555555555\n",
      "____________________________________________________________________\n",
      "tree Mean_cross_val_Accuracy  0.8427567137206065  Valid_Accuracy:  0.8465873015873016\n",
      "____________________________________________________________________\n"
     ]
    },
    {
     "name": "stderr",
     "output_type": "stream",
     "text": [
      "C:\\Users\\gpog001\\AppData\\Local\\Continuum\\anaconda3\\lib\\site-packages\\sklearn\\linear_model\\stochastic_gradient.py:144: FutureWarning: max_iter and tol parameters have been added in SGDClassifier in 0.19. If both are left unset, they default to max_iter=5 and tol=None. If tol is not None, max_iter defaults to max_iter=1000. From 0.21, default max_iter will be 1000, and default tol will be 1e-3.\n",
      "  FutureWarning)\n"
     ]
    },
    {
     "name": "stdout",
     "output_type": "stream",
     "text": [
      "forest Mean_cross_val_Accuracy  0.8566004171834459  Valid_Accuracy:  0.8626190476190476\n",
      "____________________________________________________________________\n"
     ]
    },
    {
     "name": "stderr",
     "output_type": "stream",
     "text": [
      "C:\\Users\\gpog001\\AppData\\Local\\Continuum\\anaconda3\\lib\\site-packages\\sklearn\\svm\\base.py:922: ConvergenceWarning: Liblinear failed to converge, increase the number of iterations.\n",
      "  \"the number of iterations.\", ConvergenceWarning)\n"
     ]
    },
    {
     "name": "stdout",
     "output_type": "stream",
     "text": [
      "SVC Mean_cross_val_Accuracy  0.8496235780624414  Valid_Accuracy:  0.8692063492063492\n",
      "____________________________________________________________________\n",
      "XGB Mean_cross_val_Accuracy  0.9310206088617065  Valid_Accuracy:  0.9292063492063493\n",
      "____________________________________________________________________\n",
      "Wall time: 10min 59s\n"
     ]
    }
   ],
   "source": [
    "%%time\n",
    "for est in estimators: \n",
    "    globals()[est]=estimators[est]\n",
    "    eval(est).fit(X_train,y_train)\n",
    "    cross_val_scores = cross_val_score(eval(est), X_train,y_train, cv=5,n_jobs=-1)\n",
    "    valid_score=accuracy_score(y_valid, eval(est).predict(X_valid))\n",
    "    print(est+' Mean_cross_val_Accuracy ',cross_val_scores.mean(),' Valid_Accuracy: ' ,valid_score)\n",
    "    results = results.append({'model' : est , 'Mean_cross_val_Accuracy' : cross_val_scores.mean(),'Valid_Accuracy':valid_score} , ignore_index=True)\n",
    "    print('____________________________________________________________________')"
   ]
  },
  {
   "cell_type": "markdown",
   "metadata": {},
   "source": [
    "### Ок, определили у нас лучше все рабоатют knn и  XGB. Оставим пока только их для дальнеших тестов"
   ]
  },
  {
   "cell_type": "code",
   "execution_count": 11,
   "metadata": {},
   "outputs": [
    {
     "data": {
      "text/html": [
       "<div>\n",
       "<style scoped>\n",
       "    .dataframe tbody tr th:only-of-type {\n",
       "        vertical-align: middle;\n",
       "    }\n",
       "\n",
       "    .dataframe tbody tr th {\n",
       "        vertical-align: top;\n",
       "    }\n",
       "\n",
       "    .dataframe thead th {\n",
       "        text-align: right;\n",
       "    }\n",
       "</style>\n",
       "<table border=\"1\" class=\"dataframe\">\n",
       "  <thead>\n",
       "    <tr style=\"text-align: right;\">\n",
       "      <th></th>\n",
       "      <th>model</th>\n",
       "      <th>Mean_cross_val_Accuracy</th>\n",
       "      <th>Valid_Accuracy</th>\n",
       "    </tr>\n",
       "  </thead>\n",
       "  <tbody>\n",
       "    <tr>\n",
       "      <th>0</th>\n",
       "      <td>knn</td>\n",
       "      <td>0.962245</td>\n",
       "      <td>0.965556</td>\n",
       "    </tr>\n",
       "    <tr>\n",
       "      <th>4</th>\n",
       "      <td>XGB</td>\n",
       "      <td>0.931021</td>\n",
       "      <td>0.929206</td>\n",
       "    </tr>\n",
       "    <tr>\n",
       "      <th>3</th>\n",
       "      <td>SVC</td>\n",
       "      <td>0.849624</td>\n",
       "      <td>0.869206</td>\n",
       "    </tr>\n",
       "    <tr>\n",
       "      <th>2</th>\n",
       "      <td>forest</td>\n",
       "      <td>0.856600</td>\n",
       "      <td>0.862619</td>\n",
       "    </tr>\n",
       "    <tr>\n",
       "      <th>1</th>\n",
       "      <td>tree</td>\n",
       "      <td>0.842757</td>\n",
       "      <td>0.846587</td>\n",
       "    </tr>\n",
       "  </tbody>\n",
       "</table>\n",
       "</div>"
      ],
      "text/plain": [
       "    model  Mean_cross_val_Accuracy  Valid_Accuracy\n",
       "0     knn                 0.962245        0.965556\n",
       "4     XGB                 0.931021        0.929206\n",
       "3     SVC                 0.849624        0.869206\n",
       "2  forest                 0.856600        0.862619\n",
       "1    tree                 0.842757        0.846587"
      ]
     },
     "execution_count": 11,
     "metadata": {},
     "output_type": "execute_result"
    }
   ],
   "source": [
    "results.sort_values(by=['Valid_Accuracy'], ascending=False)"
   ]
  },
  {
   "cell_type": "code",
   "execution_count": 12,
   "metadata": {},
   "outputs": [],
   "source": [
    "estimators = {\n",
    "    \n",
    "   \n",
    "    'knn': KNeighborsClassifier(n_jobs=-1),\n",
    "    #'tree': DecisionTreeClassifier(),\n",
    "    #'forest': linear_model.SGDClassifier(n_jobs=-1),\n",
    "    #'SVC': LinearSVC(),\n",
    "    'XGB': XGBClassifier(n_jobs=-1)\n",
    "}"
   ]
  },
  {
   "cell_type": "code",
   "execution_count": 13,
   "metadata": {},
   "outputs": [
    {
     "data": {
      "text/plain": [
       "array([[1196,    0,   10,    3,    2,    1,    9,    0,    2,    8],\n",
       "       [   0, 1384,   19,    5,   11,    3,    3,   26,   14,    3],\n",
       "       [   0,    1, 1223,    9,    0,    0,    1,    2,    3,    1],\n",
       "       [   0,    0,    4, 1299,    0,   30,    0,    0,   19,   13],\n",
       "       [   0,    0,    2,    0, 1181,    1,    1,    2,    3,   13],\n",
       "       [   0,    0,    2,   14,    0, 1034,    2,    0,   20,    1],\n",
       "       [   4,    4,    2,    2,    4,   11, 1239,    0,    5,    0],\n",
       "       [   0,    0,   28,    8,    2,    0,    0, 1311,    2,   18],\n",
       "       [   0,    0,    4,    7,    0,    1,    1,    0, 1127,    2],\n",
       "       [   0,    0,    0,    8,   22,    4,    0,   18,   14, 1172]],\n",
       "      dtype=int64)"
      ]
     },
     "execution_count": 13,
     "metadata": {},
     "output_type": "execute_result"
    }
   ],
   "source": [
    "confusion_matrix(knn.predict(X_valid),y_valid)"
   ]
  },
  {
   "cell_type": "code",
   "execution_count": null,
   "metadata": {},
   "outputs": [],
   "source": []
  },
  {
   "cell_type": "markdown",
   "metadata": {},
   "source": [
    "### Любопытно, что мы не угадываем"
   ]
  },
  {
   "cell_type": "code",
   "execution_count": 14,
   "metadata": {},
   "outputs": [],
   "source": [
    "y_pred=knn.predict(X_valid)"
   ]
  },
  {
   "cell_type": "code",
   "execution_count": 15,
   "metadata": {},
   "outputs": [],
   "source": [
    "def draw_numbers(X,y_test,y_pred,row=5,col=4):\n",
    "    fig = plt.figure(figsize=(20, 10))\n",
    "    ax = []\n",
    "    for i, img in enumerate(X[0:row*col], 1):\n",
    "        ax.append( fig.add_subplot(row, col, i) )\n",
    "        ax[-1].set_title('y_p '+str(y_pred[i - 1])+';'+'y_t '+str(y_test[i - 1])) \n",
    "        plt.axis('off')\n",
    "        plt.imshow(img, cmap='gray')\n",
    "    "
   ]
  },
  {
   "cell_type": "code",
   "execution_count": 150,
   "metadata": {
    "scrolled": false
   },
   "outputs": [
    {
     "data": {
      "image/png": "[encoded data removed]",
      "text/plain": [
       "<Figure size 1440x720 with 81 Axes>"
      ]
     },
     "metadata": {},
     "output_type": "display_data"
    }
   ],
   "source": [
    "draw_numbers(np.resize(X_valid[np.where( y_pred!= y_valid )], (X_valid[np.where( y_pred!= y_valid )].shape[0], 28, 28)),y_valid[np.where( y_pred!= y_valid )],y_pred[np.where( y_pred!= y_valid)],9,9)"
   ]
  },
  {
   "cell_type": "code",
   "execution_count": 17,
   "metadata": {},
   "outputs": [],
   "source": [
    "# Если честно, я многие из них сам не могу угадать"
   ]
  },
  {
   "cell_type": "markdown",
   "metadata": {},
   "source": [
    "### Засабмитим для любопытссва реузультат KNN"
   ]
  },
  {
   "cell_type": "code",
   "execution_count": 18,
   "metadata": {},
   "outputs": [],
   "source": [
    "pred_test=knn.predict(np.resize(test_img, (test.shape[0], 28*28)))"
   ]
  },
  {
   "cell_type": "code",
   "execution_count": 61,
   "metadata": {},
   "outputs": [],
   "source": [
    "with open('submit.txt', 'w') as dst:\n",
    "    dst.write('ImageId,Label\\n')\n",
    "    for i, p in enumerate(pred_test, 1):\n",
    "        dst.write('%s,%s\\n' % (i, int(p) ))"
   ]
  },
  {
   "cell_type": "code",
   "execution_count": 92,
   "metadata": {
    "scrolled": false
   },
   "outputs": [
    {
     "data": {
      "image/png": "[encoded data removed]",
      "text/plain": [
       "<IPython.core.display.Image object>"
      ]
     },
     "execution_count": 92,
     "metadata": {},
     "output_type": "execute_result"
    }
   ],
   "source": [
    "from IPython.display import Image\n",
    "Image('submit_without_all.png')"
   ]
  },
  {
   "cell_type": "markdown",
   "metadata": {},
   "source": [
    "### Фильтр Лапласса\n"
   ]
  },
  {
   "cell_type": "code",
   "execution_count": 19,
   "metadata": {},
   "outputs": [],
   "source": [
    "def laplas(img):\n",
    "    img_transf = cv2.Laplacian(img, cv2.CV_64F, ksize=3)\n",
    "    return img_transf"
   ]
  },
  {
   "cell_type": "code",
   "execution_count": 20,
   "metadata": {},
   "outputs": [
    {
     "data": {
      "text/plain": [
       "<matplotlib.image.AxesImage at 0x28db76a20>"
      ]
     },
     "execution_count": 20,
     "metadata": {},
     "output_type": "execute_result"
    },
    {
     "data": {
      "image/png": "[encoded data removed]",
      "text/plain": [
       "<Figure size 432x288 with 1 Axes>"
      ]
     },
     "metadata": {},
     "output_type": "display_data"
    }
   ],
   "source": [
    "plt.imshow(train_img[0])"
   ]
  },
  {
   "cell_type": "code",
   "execution_count": 21,
   "metadata": {},
   "outputs": [
    {
     "data": {
      "text/plain": [
       "<matplotlib.image.AxesImage at 0x28dbec780>"
      ]
     },
     "execution_count": 21,
     "metadata": {},
     "output_type": "execute_result"
    },
    {
     "data": {
      "image/png": "[encoded data removed]",
      "text/plain": [
       "<Figure size 432x288 with 1 Axes>"
      ]
     },
     "metadata": {},
     "output_type": "display_data"
    }
   ],
   "source": [
    "\n",
    "\n",
    "plt.imshow(laplas(train_img[0]))"
   ]
  },
  {
   "cell_type": "code",
   "execution_count": null,
   "metadata": {},
   "outputs": [],
   "source": []
  },
  {
   "cell_type": "code",
   "execution_count": 22,
   "metadata": {},
   "outputs": [],
   "source": [
    "train_img_laplas= np.array(list(map(laplas, train_img)))"
   ]
  },
  {
   "cell_type": "code",
   "execution_count": 128,
   "metadata": {},
   "outputs": [],
   "source": [
    "test_img_laplas= np.array(list(map(laplas, test_img)))"
   ]
  },
  {
   "cell_type": "code",
   "execution_count": 23,
   "metadata": {},
   "outputs": [
    {
     "data": {
      "image/png": "[encoded data removed]",
      "text/plain": [
       "<Figure size 1440x720 with 6 Axes>"
      ]
     },
     "metadata": {},
     "output_type": "display_data"
    }
   ],
   "source": [
    "fig2 = plt.figure(figsize=(20, 10))\n",
    "for i, img in enumerate(train_img_laplas[: 6],1):    \n",
    "    subplot2 = fig2.add_subplot(1,6,i)\n",
    "    plt.imshow(img, cmap='gray')\n",
    "    plt.title('%d' % train_label[i - 1])"
   ]
  },
  {
   "cell_type": "code",
   "execution_count": 24,
   "metadata": {
    "scrolled": true
   },
   "outputs": [
    {
     "data": {
      "image/png": "[encoded data removed]",
      "text/plain": [
       "<Figure size 1440x720 with 6 Axes>"
      ]
     },
     "metadata": {},
     "output_type": "display_data"
    }
   ],
   "source": [
    "fig2 = plt.figure(figsize=(20, 10))\n",
    "for i, img in enumerate(train_img[: 6],1):    \n",
    "    subplot2 = fig2.add_subplot(1,6,i)\n",
    "    plt.imshow(img, cmap='gray')\n",
    "    plt.title('%d' % train_label[i - 1])\n",
    "    "
   ]
  },
  {
   "cell_type": "code",
   "execution_count": 151,
   "metadata": {},
   "outputs": [],
   "source": [
    "X_train_laplas, X_valid_laplas, y_train, y_valid = train_test_split(np.resize(train_img_laplas, (train.shape[0], 28*28)), train_label, test_size=0.30, random_state=42)"
   ]
  },
  {
   "cell_type": "code",
   "execution_count": null,
   "metadata": {},
   "outputs": [],
   "source": []
  },
  {
   "cell_type": "code",
   "execution_count": 26,
   "metadata": {},
   "outputs": [
    {
     "name": "stdout",
     "output_type": "stream",
     "text": [
      "knn Mean_cross_val_Accuracy  0.8231647347025518  Valid_Accuracy:  0.8376984126984127\n",
      "____________________________________________________________________\n",
      "XGB Mean_cross_val_Accuracy  0.9143889126829032  Valid_Accuracy:  0.9172222222222223\n",
      "____________________________________________________________________\n"
     ]
    }
   ],
   "source": [
    "estimators = {\n",
    "    \n",
    "   \n",
    "    'knn': KNeighborsClassifier(n_jobs=-1),\n",
    "    #'tree': DecisionTreeClassifier(),\n",
    "    #'forest': linear_model.SGDClassifier(n_jobs=-1),\n",
    "    #'SVC': LinearSVC(),\n",
    "    'XGB': XGBClassifier(n_jobs=-1)\n",
    "}\n",
    "for est in estimators: \n",
    "    globals()[est+'_laplas']=estimators[est]\n",
    "    eval(est+'_laplas').fit(X_train_laplas,y_train)\n",
    "    cross_val_scores = cross_val_score(eval(est+'_laplas'), X_train_laplas,y_train, cv=5,n_jobs=-1)\n",
    "    valid_score=accuracy_score(y_valid_, eval(est+'_laplas').predict(X_valid_laplas))\n",
    "    print(est+' Mean_cross_val_Accuracy ',cross_val_scores.mean(),' Valid_Accuracy: ' ,valid_score)\n",
    "    results = results.append({'model' : est+'_laplas' , 'Mean_cross_val_Accuracy' : cross_val_scores.mean(),'Valid_Accuracy':valid_score} , ignore_index=True)\n",
    "    print('____________________________________________________________________')"
   ]
  },
  {
   "cell_type": "code",
   "execution_count": 27,
   "metadata": {},
   "outputs": [],
   "source": [
    "# сильно упала тчоность особенно для knn"
   ]
  },
  {
   "cell_type": "code",
   "execution_count": null,
   "metadata": {},
   "outputs": [],
   "source": []
  },
  {
   "cell_type": "code",
   "execution_count": 28,
   "metadata": {
    "scrolled": false
   },
   "outputs": [
    {
     "data": {
      "text/html": [
       "<div>\n",
       "<style scoped>\n",
       "    .dataframe tbody tr th:only-of-type {\n",
       "        vertical-align: middle;\n",
       "    }\n",
       "\n",
       "    .dataframe tbody tr th {\n",
       "        vertical-align: top;\n",
       "    }\n",
       "\n",
       "    .dataframe thead th {\n",
       "        text-align: right;\n",
       "    }\n",
       "</style>\n",
       "<table border=\"1\" class=\"dataframe\">\n",
       "  <thead>\n",
       "    <tr style=\"text-align: right;\">\n",
       "      <th></th>\n",
       "      <th>model</th>\n",
       "      <th>Mean_cross_val_Accuracy</th>\n",
       "      <th>Valid_Accuracy</th>\n",
       "    </tr>\n",
       "  </thead>\n",
       "  <tbody>\n",
       "    <tr>\n",
       "      <th>0</th>\n",
       "      <td>knn</td>\n",
       "      <td>0.962245</td>\n",
       "      <td>0.965556</td>\n",
       "    </tr>\n",
       "    <tr>\n",
       "      <th>1</th>\n",
       "      <td>tree</td>\n",
       "      <td>0.842757</td>\n",
       "      <td>0.846587</td>\n",
       "    </tr>\n",
       "    <tr>\n",
       "      <th>2</th>\n",
       "      <td>forest</td>\n",
       "      <td>0.856600</td>\n",
       "      <td>0.862619</td>\n",
       "    </tr>\n",
       "    <tr>\n",
       "      <th>3</th>\n",
       "      <td>SVC</td>\n",
       "      <td>0.849624</td>\n",
       "      <td>0.869206</td>\n",
       "    </tr>\n",
       "    <tr>\n",
       "      <th>4</th>\n",
       "      <td>XGB</td>\n",
       "      <td>0.931021</td>\n",
       "      <td>0.929206</td>\n",
       "    </tr>\n",
       "    <tr>\n",
       "      <th>5</th>\n",
       "      <td>knn_laplas</td>\n",
       "      <td>0.823165</td>\n",
       "      <td>0.837698</td>\n",
       "    </tr>\n",
       "    <tr>\n",
       "      <th>6</th>\n",
       "      <td>XGB_laplas</td>\n",
       "      <td>0.914389</td>\n",
       "      <td>0.917222</td>\n",
       "    </tr>\n",
       "  </tbody>\n",
       "</table>\n",
       "</div>"
      ],
      "text/plain": [
       "        model  Mean_cross_val_Accuracy  Valid_Accuracy\n",
       "0         knn                 0.962245        0.965556\n",
       "1        tree                 0.842757        0.846587\n",
       "2      forest                 0.856600        0.862619\n",
       "3         SVC                 0.849624        0.869206\n",
       "4         XGB                 0.931021        0.929206\n",
       "5  knn_laplas                 0.823165        0.837698\n",
       "6  XGB_laplas                 0.914389        0.917222"
      ]
     },
     "execution_count": 28,
     "metadata": {},
     "output_type": "execute_result"
    }
   ],
   "source": [
    "results"
   ]
  },
  {
   "cell_type": "code",
   "execution_count": 189,
   "metadata": {},
   "outputs": [
    {
     "data": {
      "image/png": "[encoded data removed]",
      "text/plain": [
       "<Figure size 1440x720 with 20 Axes>"
      ]
     },
     "metadata": {},
     "output_type": "display_data"
    }
   ],
   "source": [
    "draw_numbers(np.resize(X_valid_laplas[np.where( y_pred_laplas!= y_valid )], (X_valid_laplas[np.where( y_pred_laplas!= y_valid )].shape[0], 28, 28)),y_valid[np.where( y_pred_laplas!= y_valid )],y_pred_laplas[np.where( y_pred_laplas!= y_valid )])"
   ]
  },
  {
   "cell_type": "markdown",
   "metadata": {},
   "source": [
    "### Фильтр Cобеля"
   ]
  },
  {
   "cell_type": "code",
   "execution_count": 29,
   "metadata": {},
   "outputs": [],
   "source": [
    "def sobel(X,ksize=3):\n",
    "    sobel_x = np.zeros_like(X)\n",
    "    sobel_y = np.zeros_like(X)\n",
    "    for i in range(len(X)):\n",
    "        sobel_x[i] = cv2.Sobel(X[i], cv2.CV_64F, dx=1, dy=0, ksize=ksize)[:, 0]\n",
    "        sobel_y[i] = cv2.Sobel(X[i], cv2.CV_64F, dx=0, dy=1, ksize=ksize)[:, 0]\n",
    "        \n",
    "    g, theta = cv2.cartToPolar(sobel_x, sobel_y)\n",
    "    #angle and length of a vector\n",
    "    #grad = np.sqrt(grad_x ** 2 + grad_y ** 2)\n",
    "    return g "
   ]
  },
  {
   "cell_type": "code",
   "execution_count": 30,
   "metadata": {},
   "outputs": [
    {
     "data": {
      "text/plain": [
       "<matplotlib.image.AxesImage at 0x292c91cf8>"
      ]
     },
     "execution_count": 30,
     "metadata": {},
     "output_type": "execute_result"
    },
    {
     "data": {
      "image/png": "[encoded data removed]",
      "text/plain": [
       "<Figure size 432x288 with 1 Axes>"
      ]
     },
     "metadata": {},
     "output_type": "display_data"
    }
   ],
   "source": [
    "plt.imshow(train_img[0])"
   ]
  },
  {
   "cell_type": "code",
   "execution_count": 31,
   "metadata": {
    "scrolled": true
   },
   "outputs": [
    {
     "data": {
      "text/plain": [
       "<matplotlib.image.AxesImage at 0x292cea668>"
      ]
     },
     "execution_count": 31,
     "metadata": {},
     "output_type": "execute_result"
    },
    {
     "data": {
      "image/png": "[encoded data removed]",
      "text/plain": [
       "<Figure size 432x288 with 1 Axes>"
      ]
     },
     "metadata": {},
     "output_type": "display_data"
    }
   ],
   "source": [
    "plt.imshow(sobel(train_img[0]))"
   ]
  },
  {
   "cell_type": "code",
   "execution_count": 32,
   "metadata": {},
   "outputs": [
    {
     "name": "stdout",
     "output_type": "stream",
     "text": [
      "knn Mean_cross_val_Accuracy  0.9398303192351116  Valid_Accuracy:  0.9458730158730159\n",
      "____________________________________________________________________\n",
      "XGB Mean_cross_val_Accuracy  0.9121432273630964  Valid_Accuracy:  0.915\n",
      "____________________________________________________________________\n"
     ]
    }
   ],
   "source": [
    "%%time\n",
    "estimators = {\n",
    "    \n",
    "   \n",
    "    'knn': KNeighborsClassifier(n_jobs=-1),\n",
    "    #'tree': DecisionTreeClassifier(),\n",
    "    #'forest': linear_model.SGDClassifier(n_jobs=-1),\n",
    "    #'SVC': LinearSVC(),\n",
    "    'XGB': XGBClassifier(n_jobs=-1)\n",
    "}\n",
    "train_img_sobel= np.array(list(map(sobel, train_img)))\n",
    "X_train_sobel, X_valid_sobel, y_train, y_valid = train_test_split(np.resize(train_img_sobel, (train.shape[0], 28*28)), train_label, test_size=0.30, random_state=42)\n",
    "for est in estimators: \n",
    "    globals()[est+'_sobel']=estimators[est]\n",
    "    eval(est+'_sobel').fit(X_train_sobel,y_train)\n",
    "    cross_val_scores = cross_val_score(eval(est+'_sobel'), X_train_sobel,y_train, cv=5,n_jobs=-1)\n",
    "    valid_score=accuracy_score(y_valid, eval(est+'_sobel').predict(X_valid_sobel))\n",
    "    print(est+' Mean_cross_val_Accuracy ',cross_val_scores.mean(),' Valid_Accuracy: ' ,valid_score)\n",
    "    results = results.append({'model' : est+'_sobel' , 'Mean_cross_val_Accuracy' : cross_val_scores.mean(),'Valid_Accuracy':valid_score} , ignore_index=True)\n",
    "    print('____________________________________________________________________')"
   ]
  },
  {
   "cell_type": "code",
   "execution_count": 36,
   "metadata": {},
   "outputs": [
    {
     "data": {
      "text/html": [
       "<div>\n",
       "<style scoped>\n",
       "    .dataframe tbody tr th:only-of-type {\n",
       "        vertical-align: middle;\n",
       "    }\n",
       "\n",
       "    .dataframe tbody tr th {\n",
       "        vertical-align: top;\n",
       "    }\n",
       "\n",
       "    .dataframe thead th {\n",
       "        text-align: right;\n",
       "    }\n",
       "</style>\n",
       "<table border=\"1\" class=\"dataframe\">\n",
       "  <thead>\n",
       "    <tr style=\"text-align: right;\">\n",
       "      <th></th>\n",
       "      <th>model</th>\n",
       "      <th>Mean_cross_val_Accuracy</th>\n",
       "      <th>Valid_Accuracy</th>\n",
       "    </tr>\n",
       "  </thead>\n",
       "  <tbody>\n",
       "    <tr>\n",
       "      <th>0</th>\n",
       "      <td>knn</td>\n",
       "      <td>0.962245</td>\n",
       "      <td>0.965556</td>\n",
       "    </tr>\n",
       "    <tr>\n",
       "      <th>7</th>\n",
       "      <td>knn_sobel</td>\n",
       "      <td>0.939830</td>\n",
       "      <td>0.945873</td>\n",
       "    </tr>\n",
       "    <tr>\n",
       "      <th>4</th>\n",
       "      <td>XGB</td>\n",
       "      <td>0.931021</td>\n",
       "      <td>0.929206</td>\n",
       "    </tr>\n",
       "    <tr>\n",
       "      <th>6</th>\n",
       "      <td>XGB_laplas</td>\n",
       "      <td>0.914389</td>\n",
       "      <td>0.917222</td>\n",
       "    </tr>\n",
       "    <tr>\n",
       "      <th>8</th>\n",
       "      <td>XGB_sobel</td>\n",
       "      <td>0.912143</td>\n",
       "      <td>0.915000</td>\n",
       "    </tr>\n",
       "    <tr>\n",
       "      <th>3</th>\n",
       "      <td>SVC</td>\n",
       "      <td>0.849624</td>\n",
       "      <td>0.869206</td>\n",
       "    </tr>\n",
       "    <tr>\n",
       "      <th>2</th>\n",
       "      <td>forest</td>\n",
       "      <td>0.856600</td>\n",
       "      <td>0.862619</td>\n",
       "    </tr>\n",
       "    <tr>\n",
       "      <th>1</th>\n",
       "      <td>tree</td>\n",
       "      <td>0.842757</td>\n",
       "      <td>0.846587</td>\n",
       "    </tr>\n",
       "    <tr>\n",
       "      <th>5</th>\n",
       "      <td>knn_laplas</td>\n",
       "      <td>0.823165</td>\n",
       "      <td>0.837698</td>\n",
       "    </tr>\n",
       "  </tbody>\n",
       "</table>\n",
       "</div>"
      ],
      "text/plain": [
       "        model  Mean_cross_val_Accuracy  Valid_Accuracy\n",
       "0         knn                 0.962245        0.965556\n",
       "7   knn_sobel                 0.939830        0.945873\n",
       "4         XGB                 0.931021        0.929206\n",
       "6  XGB_laplas                 0.914389        0.917222\n",
       "8   XGB_sobel                 0.912143        0.915000\n",
       "3         SVC                 0.849624        0.869206\n",
       "2      forest                 0.856600        0.862619\n",
       "1        tree                 0.842757        0.846587\n",
       "5  knn_laplas                 0.823165        0.837698"
      ]
     },
     "execution_count": 36,
     "metadata": {},
     "output_type": "execute_result"
    }
   ],
   "source": [
    "results.sort_values(by=['Valid_Accuracy'], ascending=False)"
   ]
  },
  {
   "cell_type": "code",
   "execution_count": 193,
   "metadata": {},
   "outputs": [],
   "source": [
    "X_train_sobel, X_valid_sobel, y_train, y_valid = train_test_split(np.resize(train_img_sobel, (train.shape[0], 28*28)), train_label, test_size=0.30, random_state=42)"
   ]
  },
  {
   "cell_type": "code",
   "execution_count": 203,
   "metadata": {},
   "outputs": [
    {
     "data": {
      "image/png": "[encoded data removed]",
      "text/plain": [
       "<Figure size 1440x720 with 20 Axes>"
      ]
     },
     "metadata": {},
     "output_type": "display_data"
    }
   ],
   "source": [
    "draw_numbers(np.resize(X_valid_sobel[np.where( y_pred_sobel!= y_valid )], (X_valid_sobel[np.where( y_pred_sobel!= y_valid )].shape[0], 28, 28)),y_valid[np.where( y_pred_sobel!= y_valid )],y_pred_sobel[np.where( y_pred_sobel!= y_valid)])"
   ]
  },
  {
   "cell_type": "code",
   "execution_count": 292,
   "metadata": {
    "scrolled": false
   },
   "outputs": [
    {
     "data": {
      "text/html": [
       "<div>\n",
       "<style scoped>\n",
       "    .dataframe tbody tr th:only-of-type {\n",
       "        vertical-align: middle;\n",
       "    }\n",
       "\n",
       "    .dataframe tbody tr th {\n",
       "        vertical-align: top;\n",
       "    }\n",
       "\n",
       "    .dataframe thead th {\n",
       "        text-align: right;\n",
       "    }\n",
       "</style>\n",
       "<table border=\"1\" class=\"dataframe\">\n",
       "  <thead>\n",
       "    <tr style=\"text-align: right;\">\n",
       "      <th></th>\n",
       "      <th>model</th>\n",
       "      <th>Mean_cross_val_Accuracy</th>\n",
       "      <th>Valid_Accuracy</th>\n",
       "    </tr>\n",
       "  </thead>\n",
       "  <tbody>\n",
       "    <tr>\n",
       "      <th>0</th>\n",
       "      <td>knn</td>\n",
       "      <td>0.962245</td>\n",
       "      <td>0.965556</td>\n",
       "    </tr>\n",
       "    <tr>\n",
       "      <th>1</th>\n",
       "      <td>tree</td>\n",
       "      <td>0.842757</td>\n",
       "      <td>0.846587</td>\n",
       "    </tr>\n",
       "    <tr>\n",
       "      <th>2</th>\n",
       "      <td>forest</td>\n",
       "      <td>0.856600</td>\n",
       "      <td>0.862619</td>\n",
       "    </tr>\n",
       "    <tr>\n",
       "      <th>3</th>\n",
       "      <td>SVC</td>\n",
       "      <td>0.849624</td>\n",
       "      <td>0.869206</td>\n",
       "    </tr>\n",
       "    <tr>\n",
       "      <th>4</th>\n",
       "      <td>XGB</td>\n",
       "      <td>0.931021</td>\n",
       "      <td>0.929206</td>\n",
       "    </tr>\n",
       "    <tr>\n",
       "      <th>5</th>\n",
       "      <td>knn_laplas</td>\n",
       "      <td>0.823165</td>\n",
       "      <td>0.837698</td>\n",
       "    </tr>\n",
       "    <tr>\n",
       "      <th>6</th>\n",
       "      <td>XGB_laplas</td>\n",
       "      <td>0.914389</td>\n",
       "      <td>0.917222</td>\n",
       "    </tr>\n",
       "    <tr>\n",
       "      <th>7</th>\n",
       "      <td>knn_sobel</td>\n",
       "      <td>0.939830</td>\n",
       "      <td>0.945873</td>\n",
       "    </tr>\n",
       "    <tr>\n",
       "      <th>8</th>\n",
       "      <td>XGB_sobel</td>\n",
       "      <td>0.912143</td>\n",
       "      <td>0.915000</td>\n",
       "    </tr>\n",
       "    <tr>\n",
       "      <th>9</th>\n",
       "      <td>knn_median_k_size_3</td>\n",
       "      <td>0.921327</td>\n",
       "      <td>0.927222</td>\n",
       "    </tr>\n",
       "    <tr>\n",
       "      <th>10</th>\n",
       "      <td>XGB_median_k_size_3</td>\n",
       "      <td>0.910681</td>\n",
       "      <td>0.907381</td>\n",
       "    </tr>\n",
       "    <tr>\n",
       "      <th>11</th>\n",
       "      <td>knn_median_k_size_5</td>\n",
       "      <td>0.921327</td>\n",
       "      <td>0.927222</td>\n",
       "    </tr>\n",
       "    <tr>\n",
       "      <th>12</th>\n",
       "      <td>XGB_median_k_size_5</td>\n",
       "      <td>0.910681</td>\n",
       "      <td>0.907381</td>\n",
       "    </tr>\n",
       "    <tr>\n",
       "      <th>13</th>\n",
       "      <td>knn_median_k_size_7</td>\n",
       "      <td>0.921327</td>\n",
       "      <td>0.927222</td>\n",
       "    </tr>\n",
       "    <tr>\n",
       "      <th>14</th>\n",
       "      <td>XGB_median_k_size_7</td>\n",
       "      <td>0.910681</td>\n",
       "      <td>0.907381</td>\n",
       "    </tr>\n",
       "    <tr>\n",
       "      <th>15</th>\n",
       "      <td>knn_median_k_size_9</td>\n",
       "      <td>0.921327</td>\n",
       "      <td>0.927222</td>\n",
       "    </tr>\n",
       "    <tr>\n",
       "      <th>16</th>\n",
       "      <td>XGB_median_k_size_9</td>\n",
       "      <td>0.910681</td>\n",
       "      <td>0.907381</td>\n",
       "    </tr>\n",
       "    <tr>\n",
       "      <th>17</th>\n",
       "      <td>knn_median_k_size_3</td>\n",
       "      <td>0.928640</td>\n",
       "      <td>0.931349</td>\n",
       "    </tr>\n",
       "    <tr>\n",
       "      <th>18</th>\n",
       "      <td>XGB_median_k_size_3</td>\n",
       "      <td>0.895579</td>\n",
       "      <td>0.894841</td>\n",
       "    </tr>\n",
       "    <tr>\n",
       "      <th>19</th>\n",
       "      <td>knn_DIST_L2_mask_3</td>\n",
       "      <td>0.948504</td>\n",
       "      <td>0.959365</td>\n",
       "    </tr>\n",
       "    <tr>\n",
       "      <th>20</th>\n",
       "      <td>XGB_DIST_L2_mask_3</td>\n",
       "      <td>0.926973</td>\n",
       "      <td>0.928730</td>\n",
       "    </tr>\n",
       "    <tr>\n",
       "      <th>21</th>\n",
       "      <td>knn_DIST_L2_mask_5</td>\n",
       "      <td>0.949626</td>\n",
       "      <td>0.960635</td>\n",
       "    </tr>\n",
       "    <tr>\n",
       "      <th>22</th>\n",
       "      <td>XGB_DIST_L2_mask_5</td>\n",
       "      <td>0.926769</td>\n",
       "      <td>0.928571</td>\n",
       "    </tr>\n",
       "    <tr>\n",
       "      <th>23</th>\n",
       "      <td>knn_DIST_L1_mask_3</td>\n",
       "      <td>0.946497</td>\n",
       "      <td>0.956349</td>\n",
       "    </tr>\n",
       "    <tr>\n",
       "      <th>24</th>\n",
       "      <td>XGB_DIST_L1_mask_3</td>\n",
       "      <td>0.926803</td>\n",
       "      <td>0.927143</td>\n",
       "    </tr>\n",
       "    <tr>\n",
       "      <th>25</th>\n",
       "      <td>knn_DIST_L1_mask_5</td>\n",
       "      <td>0.946497</td>\n",
       "      <td>0.956349</td>\n",
       "    </tr>\n",
       "    <tr>\n",
       "      <th>26</th>\n",
       "      <td>XGB_DIST_L1_mask_5</td>\n",
       "      <td>0.926803</td>\n",
       "      <td>0.927143</td>\n",
       "    </tr>\n",
       "    <tr>\n",
       "      <th>27</th>\n",
       "      <td>knn_gauss_k_size_3</td>\n",
       "      <td>0.964966</td>\n",
       "      <td>0.967778</td>\n",
       "    </tr>\n",
       "    <tr>\n",
       "      <th>28</th>\n",
       "      <td>XGB_gauss_k_size_3</td>\n",
       "      <td>0.938265</td>\n",
       "      <td>0.939286</td>\n",
       "    </tr>\n",
       "    <tr>\n",
       "      <th>29</th>\n",
       "      <td>knn_gauss_k_size_5</td>\n",
       "      <td>0.963606</td>\n",
       "      <td>0.965238</td>\n",
       "    </tr>\n",
       "    <tr>\n",
       "      <th>30</th>\n",
       "      <td>XGB_gauss_k_size_5</td>\n",
       "      <td>0.940613</td>\n",
       "      <td>0.941984</td>\n",
       "    </tr>\n",
       "    <tr>\n",
       "      <th>31</th>\n",
       "      <td>knn_gauss_k_size_7</td>\n",
       "      <td>0.958877</td>\n",
       "      <td>0.961905</td>\n",
       "    </tr>\n",
       "    <tr>\n",
       "      <th>32</th>\n",
       "      <td>XGB_gauss_k_size_7</td>\n",
       "      <td>0.936055</td>\n",
       "      <td>0.939365</td>\n",
       "    </tr>\n",
       "    <tr>\n",
       "      <th>33</th>\n",
       "      <td>knn_deckew</td>\n",
       "      <td>0.973912</td>\n",
       "      <td>0.976587</td>\n",
       "    </tr>\n",
       "    <tr>\n",
       "      <th>34</th>\n",
       "      <td>XGB_deckew</td>\n",
       "      <td>0.953367</td>\n",
       "      <td>0.949921</td>\n",
       "    </tr>\n",
       "    <tr>\n",
       "      <th>35</th>\n",
       "      <td>knn_deckew_erode_k_size_1</td>\n",
       "      <td>0.963401</td>\n",
       "      <td>0.965238</td>\n",
       "    </tr>\n",
       "    <tr>\n",
       "      <th>36</th>\n",
       "      <td>XGB_deckew_erode_k_size_1</td>\n",
       "      <td>0.945817</td>\n",
       "      <td>0.945873</td>\n",
       "    </tr>\n",
       "    <tr>\n",
       "      <th>37</th>\n",
       "      <td>knn_deckew_dilate_k_size_1</td>\n",
       "      <td>0.963401</td>\n",
       "      <td>0.965238</td>\n",
       "    </tr>\n",
       "    <tr>\n",
       "      <th>38</th>\n",
       "      <td>XGB_deckew_dilate_k_size_1</td>\n",
       "      <td>0.945817</td>\n",
       "      <td>0.945873</td>\n",
       "    </tr>\n",
       "    <tr>\n",
       "      <th>39</th>\n",
       "      <td>knn_deckew_open_k_size_1</td>\n",
       "      <td>0.963401</td>\n",
       "      <td>0.965238</td>\n",
       "    </tr>\n",
       "    <tr>\n",
       "      <th>40</th>\n",
       "      <td>XGB_deckew_open_k_size_1</td>\n",
       "      <td>0.945817</td>\n",
       "      <td>0.945873</td>\n",
       "    </tr>\n",
       "    <tr>\n",
       "      <th>41</th>\n",
       "      <td>knn_deckew_close_k_size_1</td>\n",
       "      <td>0.963401</td>\n",
       "      <td>0.965238</td>\n",
       "    </tr>\n",
       "    <tr>\n",
       "      <th>42</th>\n",
       "      <td>XGB_deckew_close_k_size_1</td>\n",
       "      <td>0.945817</td>\n",
       "      <td>0.945873</td>\n",
       "    </tr>\n",
       "    <tr>\n",
       "      <th>43</th>\n",
       "      <td>knn_deckew_erode_k_size_2</td>\n",
       "      <td>0.965646</td>\n",
       "      <td>0.967143</td>\n",
       "    </tr>\n",
       "    <tr>\n",
       "      <th>44</th>\n",
       "      <td>XGB_deckew_erode_k_size_2</td>\n",
       "      <td>0.945205</td>\n",
       "      <td>0.942698</td>\n",
       "    </tr>\n",
       "    <tr>\n",
       "      <th>45</th>\n",
       "      <td>knn_deckew_dilate_k_size_2</td>\n",
       "      <td>0.956224</td>\n",
       "      <td>0.956984</td>\n",
       "    </tr>\n",
       "    <tr>\n",
       "      <th>46</th>\n",
       "      <td>XGB_deckew_dilate_k_size_2</td>\n",
       "      <td>0.943469</td>\n",
       "      <td>0.944127</td>\n",
       "    </tr>\n",
       "    <tr>\n",
       "      <th>47</th>\n",
       "      <td>knn_deckew_open_k_size_2</td>\n",
       "      <td>0.962993</td>\n",
       "      <td>0.965714</td>\n",
       "    </tr>\n",
       "    <tr>\n",
       "      <th>48</th>\n",
       "      <td>XGB_deckew_open_k_size_2</td>\n",
       "      <td>0.945306</td>\n",
       "      <td>0.946349</td>\n",
       "    </tr>\n",
       "    <tr>\n",
       "      <th>49</th>\n",
       "      <td>knn_deckew_close_k_size_2</td>\n",
       "      <td>0.960952</td>\n",
       "      <td>0.962937</td>\n",
       "    </tr>\n",
       "    <tr>\n",
       "      <th>50</th>\n",
       "      <td>XGB_deckew_close_k_size_3</td>\n",
       "      <td>0.938946</td>\n",
       "      <td>0.939048</td>\n",
       "    </tr>\n",
       "    <tr>\n",
       "      <th>51</th>\n",
       "      <td>knn_deckew_erode_k_size_5</td>\n",
       "      <td>0.904898</td>\n",
       "      <td>0.910794</td>\n",
       "    </tr>\n",
       "    <tr>\n",
       "      <th>52</th>\n",
       "      <td>XGB_deckew_erode_k_size_5</td>\n",
       "      <td>0.894898</td>\n",
       "      <td>0.895714</td>\n",
       "    </tr>\n",
       "    <tr>\n",
       "      <th>53</th>\n",
       "      <td>knn_deckew_dilate_k_size_5</td>\n",
       "      <td>0.934319</td>\n",
       "      <td>0.934444</td>\n",
       "    </tr>\n",
       "    <tr>\n",
       "      <th>54</th>\n",
       "      <td>XGB_deckew_dilate_k_size_5</td>\n",
       "      <td>0.933368</td>\n",
       "      <td>0.929286</td>\n",
       "    </tr>\n",
       "    <tr>\n",
       "      <th>55</th>\n",
       "      <td>knn_deckew_open_k_size_5</td>\n",
       "      <td>0.926973</td>\n",
       "      <td>0.928571</td>\n",
       "    </tr>\n",
       "    <tr>\n",
       "      <th>56</th>\n",
       "      <td>XGB_deckew_open_k_size_5</td>\n",
       "      <td>0.912653</td>\n",
       "      <td>0.913571</td>\n",
       "    </tr>\n",
       "    <tr>\n",
       "      <th>57</th>\n",
       "      <td>knn_deckew_close_k_size_5</td>\n",
       "      <td>0.943333</td>\n",
       "      <td>0.945317</td>\n",
       "    </tr>\n",
       "    <tr>\n",
       "      <th>58</th>\n",
       "      <td>XGB_deckew_close_k_size_5</td>\n",
       "      <td>0.930884</td>\n",
       "      <td>0.930635</td>\n",
       "    </tr>\n",
       "    <tr>\n",
       "      <th>59</th>\n",
       "      <td>knn_deckew_erode_k_size_8</td>\n",
       "      <td>0.774593</td>\n",
       "      <td>0.781667</td>\n",
       "    </tr>\n",
       "    <tr>\n",
       "      <th>60</th>\n",
       "      <td>XGB_deckew_erode_k_size_8</td>\n",
       "      <td>0.816904</td>\n",
       "      <td>0.822302</td>\n",
       "    </tr>\n",
       "    <tr>\n",
       "      <th>61</th>\n",
       "      <td>knn_deckew_dilate_k_size_8</td>\n",
       "      <td>0.923368</td>\n",
       "      <td>0.927460</td>\n",
       "    </tr>\n",
       "    <tr>\n",
       "      <th>62</th>\n",
       "      <td>XGB_deckew_dilate_k_size_8</td>\n",
       "      <td>0.923606</td>\n",
       "      <td>0.922063</td>\n",
       "    </tr>\n",
       "    <tr>\n",
       "      <th>63</th>\n",
       "      <td>knn_deckew_open_k_size_8</td>\n",
       "      <td>0.822111</td>\n",
       "      <td>0.835556</td>\n",
       "    </tr>\n",
       "    <tr>\n",
       "      <th>64</th>\n",
       "      <td>XGB_deckew_open_k_size_8</td>\n",
       "      <td>0.844319</td>\n",
       "      <td>0.846984</td>\n",
       "    </tr>\n",
       "    <tr>\n",
       "      <th>65</th>\n",
       "      <td>knn_deckew_close_k_size_8</td>\n",
       "      <td>0.930204</td>\n",
       "      <td>0.932381</td>\n",
       "    </tr>\n",
       "    <tr>\n",
       "      <th>66</th>\n",
       "      <td>XGB_deckew_close_k_size_8</td>\n",
       "      <td>0.923232</td>\n",
       "      <td>0.920556</td>\n",
       "    </tr>\n",
       "    <tr>\n",
       "      <th>67</th>\n",
       "      <td>knn_deckew_gauss</td>\n",
       "      <td>0.973912</td>\n",
       "      <td>0.976587</td>\n",
       "    </tr>\n",
       "    <tr>\n",
       "      <th>68</th>\n",
       "      <td>knn_deckew_gauss_erode_k_size_2</td>\n",
       "      <td>0.925918</td>\n",
       "      <td>0.926746</td>\n",
       "    </tr>\n",
       "    <tr>\n",
       "      <th>69</th>\n",
       "      <td>knn_deckew_gauss_dilate_k_size_2</td>\n",
       "      <td>0.908333</td>\n",
       "      <td>0.913175</td>\n",
       "    </tr>\n",
       "    <tr>\n",
       "      <th>70</th>\n",
       "      <td>knn_deckew_gauss_open_k_size_2</td>\n",
       "      <td>0.918810</td>\n",
       "      <td>0.920635</td>\n",
       "    </tr>\n",
       "    <tr>\n",
       "      <th>71</th>\n",
       "      <td>knn_deckew_gauss_close_k_size_2</td>\n",
       "      <td>0.914796</td>\n",
       "      <td>0.918889</td>\n",
       "    </tr>\n",
       "    <tr>\n",
       "      <th>72</th>\n",
       "      <td>knn_deckew_gauss_erode_k_size_3</td>\n",
       "      <td>0.929864</td>\n",
       "      <td>0.932143</td>\n",
       "    </tr>\n",
       "    <tr>\n",
       "      <th>73</th>\n",
       "      <td>knn_deckew_gauss_dilate_k_size_3</td>\n",
       "      <td>0.901497</td>\n",
       "      <td>0.906270</td>\n",
       "    </tr>\n",
       "    <tr>\n",
       "      <th>74</th>\n",
       "      <td>knn_deckew_gauss_open_k_size_3</td>\n",
       "      <td>0.918809</td>\n",
       "      <td>0.920317</td>\n",
       "    </tr>\n",
       "    <tr>\n",
       "      <th>75</th>\n",
       "      <td>knn_deckew_gauss_close_k_size_3</td>\n",
       "      <td>0.910136</td>\n",
       "      <td>0.912381</td>\n",
       "    </tr>\n",
       "    <tr>\n",
       "      <th>76</th>\n",
       "      <td>knn_deckew_gauss_erode_k_size_5</td>\n",
       "      <td>0.930816</td>\n",
       "      <td>0.933413</td>\n",
       "    </tr>\n",
       "    <tr>\n",
       "      <th>77</th>\n",
       "      <td>knn_deckew_gauss_dilate_k_size_5</td>\n",
       "      <td>0.895408</td>\n",
       "      <td>0.900556</td>\n",
       "    </tr>\n",
       "    <tr>\n",
       "      <th>78</th>\n",
       "      <td>knn_deckew_gauss_open_k_size_5</td>\n",
       "      <td>0.919456</td>\n",
       "      <td>0.920397</td>\n",
       "    </tr>\n",
       "    <tr>\n",
       "      <th>79</th>\n",
       "      <td>knn_deckew_gauss_close_k_size_5</td>\n",
       "      <td>0.901258</td>\n",
       "      <td>0.904127</td>\n",
       "    </tr>\n",
       "    <tr>\n",
       "      <th>80</th>\n",
       "      <td>knn_dilate_k_size_2</td>\n",
       "      <td>0.954388</td>\n",
       "      <td>0.956905</td>\n",
       "    </tr>\n",
       "    <tr>\n",
       "      <th>81</th>\n",
       "      <td>knn_close_k_size_2</td>\n",
       "      <td>0.957041</td>\n",
       "      <td>0.959524</td>\n",
       "    </tr>\n",
       "    <tr>\n",
       "      <th>82</th>\n",
       "      <td>knn_erode_k_size_2</td>\n",
       "      <td>0.955783</td>\n",
       "      <td>0.959841</td>\n",
       "    </tr>\n",
       "    <tr>\n",
       "      <th>83</th>\n",
       "      <td>knn_open_k_size_2</td>\n",
       "      <td>0.959218</td>\n",
       "      <td>0.962857</td>\n",
       "    </tr>\n",
       "    <tr>\n",
       "      <th>84</th>\n",
       "      <td>knn_dilate_k_size_3</td>\n",
       "      <td>0.946326</td>\n",
       "      <td>0.947460</td>\n",
       "    </tr>\n",
       "    <tr>\n",
       "      <th>85</th>\n",
       "      <td>knn_close_k_size_3</td>\n",
       "      <td>0.953197</td>\n",
       "      <td>0.955159</td>\n",
       "    </tr>\n",
       "    <tr>\n",
       "      <th>86</th>\n",
       "      <td>knn_erode_k_size_3</td>\n",
       "      <td>0.935647</td>\n",
       "      <td>0.940476</td>\n",
       "    </tr>\n",
       "    <tr>\n",
       "      <th>87</th>\n",
       "      <td>knn_open_k_size_3</td>\n",
       "      <td>0.953673</td>\n",
       "      <td>0.956825</td>\n",
       "    </tr>\n",
       "  </tbody>\n",
       "</table>\n",
       "</div>"
      ],
      "text/plain": [
       "                               model  Mean_cross_val_Accuracy  Valid_Accuracy\n",
       "0                                knn                 0.962245        0.965556\n",
       "1                               tree                 0.842757        0.846587\n",
       "2                             forest                 0.856600        0.862619\n",
       "3                                SVC                 0.849624        0.869206\n",
       "4                                XGB                 0.931021        0.929206\n",
       "5                         knn_laplas                 0.823165        0.837698\n",
       "6                         XGB_laplas                 0.914389        0.917222\n",
       "7                          knn_sobel                 0.939830        0.945873\n",
       "8                          XGB_sobel                 0.912143        0.915000\n",
       "9                knn_median_k_size_3                 0.921327        0.927222\n",
       "10               XGB_median_k_size_3                 0.910681        0.907381\n",
       "11               knn_median_k_size_5                 0.921327        0.927222\n",
       "12               XGB_median_k_size_5                 0.910681        0.907381\n",
       "13               knn_median_k_size_7                 0.921327        0.927222\n",
       "14               XGB_median_k_size_7                 0.910681        0.907381\n",
       "15               knn_median_k_size_9                 0.921327        0.927222\n",
       "16               XGB_median_k_size_9                 0.910681        0.907381\n",
       "17               knn_median_k_size_3                 0.928640        0.931349\n",
       "18               XGB_median_k_size_3                 0.895579        0.894841\n",
       "19                knn_DIST_L2_mask_3                 0.948504        0.959365\n",
       "20                XGB_DIST_L2_mask_3                 0.926973        0.928730\n",
       "21                knn_DIST_L2_mask_5                 0.949626        0.960635\n",
       "22                XGB_DIST_L2_mask_5                 0.926769        0.928571\n",
       "23                knn_DIST_L1_mask_3                 0.946497        0.956349\n",
       "24                XGB_DIST_L1_mask_3                 0.926803        0.927143\n",
       "25                knn_DIST_L1_mask_5                 0.946497        0.956349\n",
       "26                XGB_DIST_L1_mask_5                 0.926803        0.927143\n",
       "27                knn_gauss_k_size_3                 0.964966        0.967778\n",
       "28                XGB_gauss_k_size_3                 0.938265        0.939286\n",
       "29                knn_gauss_k_size_5                 0.963606        0.965238\n",
       "30                XGB_gauss_k_size_5                 0.940613        0.941984\n",
       "31                knn_gauss_k_size_7                 0.958877        0.961905\n",
       "32                XGB_gauss_k_size_7                 0.936055        0.939365\n",
       "33                        knn_deckew                 0.973912        0.976587\n",
       "34                        XGB_deckew                 0.953367        0.949921\n",
       "35         knn_deckew_erode_k_size_1                 0.963401        0.965238\n",
       "36         XGB_deckew_erode_k_size_1                 0.945817        0.945873\n",
       "37        knn_deckew_dilate_k_size_1                 0.963401        0.965238\n",
       "38        XGB_deckew_dilate_k_size_1                 0.945817        0.945873\n",
       "39          knn_deckew_open_k_size_1                 0.963401        0.965238\n",
       "40          XGB_deckew_open_k_size_1                 0.945817        0.945873\n",
       "41         knn_deckew_close_k_size_1                 0.963401        0.965238\n",
       "42         XGB_deckew_close_k_size_1                 0.945817        0.945873\n",
       "43         knn_deckew_erode_k_size_2                 0.965646        0.967143\n",
       "44         XGB_deckew_erode_k_size_2                 0.945205        0.942698\n",
       "45        knn_deckew_dilate_k_size_2                 0.956224        0.956984\n",
       "46        XGB_deckew_dilate_k_size_2                 0.943469        0.944127\n",
       "47          knn_deckew_open_k_size_2                 0.962993        0.965714\n",
       "48          XGB_deckew_open_k_size_2                 0.945306        0.946349\n",
       "49         knn_deckew_close_k_size_2                 0.960952        0.962937\n",
       "50         XGB_deckew_close_k_size_3                 0.938946        0.939048\n",
       "51         knn_deckew_erode_k_size_5                 0.904898        0.910794\n",
       "52         XGB_deckew_erode_k_size_5                 0.894898        0.895714\n",
       "53        knn_deckew_dilate_k_size_5                 0.934319        0.934444\n",
       "54        XGB_deckew_dilate_k_size_5                 0.933368        0.929286\n",
       "55          knn_deckew_open_k_size_5                 0.926973        0.928571\n",
       "56          XGB_deckew_open_k_size_5                 0.912653        0.913571\n",
       "57         knn_deckew_close_k_size_5                 0.943333        0.945317\n",
       "58         XGB_deckew_close_k_size_5                 0.930884        0.930635\n",
       "59         knn_deckew_erode_k_size_8                 0.774593        0.781667\n",
       "60         XGB_deckew_erode_k_size_8                 0.816904        0.822302\n",
       "61        knn_deckew_dilate_k_size_8                 0.923368        0.927460\n",
       "62        XGB_deckew_dilate_k_size_8                 0.923606        0.922063\n",
       "63          knn_deckew_open_k_size_8                 0.822111        0.835556\n",
       "64          XGB_deckew_open_k_size_8                 0.844319        0.846984\n",
       "65         knn_deckew_close_k_size_8                 0.930204        0.932381\n",
       "66         XGB_deckew_close_k_size_8                 0.923232        0.920556\n",
       "67                  knn_deckew_gauss                 0.973912        0.976587\n",
       "68   knn_deckew_gauss_erode_k_size_2                 0.925918        0.926746\n",
       "69  knn_deckew_gauss_dilate_k_size_2                 0.908333        0.913175\n",
       "70    knn_deckew_gauss_open_k_size_2                 0.918810        0.920635\n",
       "71   knn_deckew_gauss_close_k_size_2                 0.914796        0.918889\n",
       "72   knn_deckew_gauss_erode_k_size_3                 0.929864        0.932143\n",
       "73  knn_deckew_gauss_dilate_k_size_3                 0.901497        0.906270\n",
       "74    knn_deckew_gauss_open_k_size_3                 0.918809        0.920317\n",
       "75   knn_deckew_gauss_close_k_size_3                 0.910136        0.912381\n",
       "76   knn_deckew_gauss_erode_k_size_5                 0.930816        0.933413\n",
       "77  knn_deckew_gauss_dilate_k_size_5                 0.895408        0.900556\n",
       "78    knn_deckew_gauss_open_k_size_5                 0.919456        0.920397\n",
       "79   knn_deckew_gauss_close_k_size_5                 0.901258        0.904127\n",
       "80               knn_dilate_k_size_2                 0.954388        0.956905\n",
       "81                knn_close_k_size_2                 0.957041        0.959524\n",
       "82                knn_erode_k_size_2                 0.955783        0.959841\n",
       "83                 knn_open_k_size_2                 0.959218        0.962857\n",
       "84               knn_dilate_k_size_3                 0.946326        0.947460\n",
       "85                knn_close_k_size_3                 0.953197        0.955159\n",
       "86                knn_erode_k_size_3                 0.935647        0.940476\n",
       "87                 knn_open_k_size_3                 0.953673        0.956825"
      ]
     },
     "execution_count": 292,
     "metadata": {},
     "output_type": "execute_result"
    }
   ],
   "source": [
    "results"
   ]
  },
  {
   "cell_type": "code",
   "execution_count": null,
   "metadata": {},
   "outputs": [],
   "source": []
  },
  {
   "cell_type": "markdown",
   "metadata": {},
   "source": [
    "### Медианный фильтр"
   ]
  },
  {
   "cell_type": "code",
   "execution_count": 37,
   "metadata": {},
   "outputs": [
    {
     "data": {
      "text/plain": [
       "<matplotlib.image.AxesImage at 0x293289ac8>"
      ]
     },
     "execution_count": 37,
     "metadata": {},
     "output_type": "execute_result"
    },
    {
     "data": {
      "image/png": "[encoded data removed]",
      "text/plain": [
       "<Figure size 432x288 with 1 Axes>"
      ]
     },
     "metadata": {},
     "output_type": "display_data"
    }
   ],
   "source": [
    "def median_filter(img, ksize=3):\n",
    "    #print(img.shape)\n",
    "    result = np.zeros_like(img)\n",
    "    for row in range(img.shape[0]):\n",
    "            for col in range(img.shape[1]):\n",
    "                \n",
    "                row_top = max(0, row - ksize // 2)\n",
    "                row_bottom = min(img.shape[0] - 1, row + ksize // 2)\n",
    "                \n",
    "                col_left = max(0, col - ksize // 2)\n",
    "                col_right = min(img.shape[1] - 1, col + ksize // 2)\n",
    "                img_slice = img[row_top:row_bottom+1, col_left:col_right+1]\n",
    "                result[row, col] = np.median(img_slice.reshape(-1))\n",
    "    \n",
    "    \n",
    "    return result\n",
    "plt.imshow(median_filter(train_img[0]), cmap='gray')"
   ]
  },
  {
   "cell_type": "code",
   "execution_count": 38,
   "metadata": {},
   "outputs": [],
   "source": [
    "ksizes=[1,2,3,5,8]"
   ]
  },
  {
   "cell_type": "code",
   "execution_count": 39,
   "metadata": {},
   "outputs": [
    {
     "data": {
      "text/plain": [
       "<matplotlib.image.AxesImage at 0x2932d8ba8>"
      ]
     },
     "execution_count": 39,
     "metadata": {},
     "output_type": "execute_result"
    },
    {
     "data": {
      "image/png": "[encoded data removed]",
      "text/plain": [
       "<Figure size 432x288 with 1 Axes>"
      ]
     },
     "metadata": {},
     "output_type": "display_data"
    }
   ],
   "source": [
    "def median_filter(img, ksize=9):\n",
    "    img=np.float32(img)\n",
    "    median = cv2.medianBlur(img,5)\n",
    "    return median\n",
    "plt.imshow(median_filter(train_img[0]))"
   ]
  },
  {
   "cell_type": "code",
   "execution_count": 44,
   "metadata": {},
   "outputs": [
    {
     "data": {
      "text/plain": [
       "<matplotlib.image.AxesImage at 0x28e5f4278>"
      ]
     },
     "execution_count": 44,
     "metadata": {},
     "output_type": "execute_result"
    },
    {
     "data": {
      "image/png": "[encoded data removed]",
      "text/plain": [
       "<Figure size 432x288 with 1 Axes>"
      ]
     },
     "metadata": {},
     "output_type": "display_data"
    }
   ],
   "source": [
    "ksizes=[3]\n",
    "def median_filter(img, ksize=9):\n",
    "    img=np.float32(binar(img))\n",
    "    median = cv2.medianBlur(img,5)\n",
    "    return median\n",
    "plt.imshow(median_filter(train_img[0]))"
   ]
  },
  {
   "cell_type": "code",
   "execution_count": null,
   "metadata": {},
   "outputs": [],
   "source": []
  },
  {
   "cell_type": "code",
   "execution_count": 46,
   "metadata": {},
   "outputs": [
    {
     "name": "stdout",
     "output_type": "stream",
     "text": [
      "____________________________________________________________________\n",
      "3\n",
      "knn Mean_cross_val_Accuracy  0.9286395054568853  Valid_Accuracy:  0.9313492063492064\n",
      "____________________________________________________________________\n",
      "3\n",
      "XGB Mean_cross_val_Accuracy  0.8955788817796343  Valid_Accuracy:  0.8948412698412699\n"
     ]
    }
   ],
   "source": [
    "estimators = {\n",
    "    \n",
    "   \n",
    "    'knn': KNeighborsClassifier(n_jobs=-1),\n",
    "    #'tree': DecisionTreeClassifier(),\n",
    "    #'forest': linear_model.SGDClassifier(n_jobs=-1),\n",
    "    #'SVC': LinearSVC(),\n",
    "    'XGB': XGBClassifier(n_jobs=-1)\n",
    "}\n",
    "\n",
    "for ker  in ksizes:\n",
    "    \n",
    "       \n",
    "    globals()['train_img_median'+'_k_size_'+str(ker)]=np.array(list(map(partial(median_filter,ksize=ker),train_img)))\n",
    "    X_train, X_valid, y_train, y_valid = train_test_split(np.resize(eval('train_img_median'+'_k_size_'+str(ker)), (train.shape[0], 28*28)), train_label, test_size=0.30, random_state=42)\n",
    "        \n",
    "        \n",
    "    for est in estimators: \n",
    "        globals()[est+'_median'+'_k_size_'+str(ker)]=estimators[est]\n",
    "        eval(est+'_median'+'_k_size_'+str(ker)).fit(X_train,y_train)\n",
    "        cross_val_scores = cross_val_score(eval(est+'_median'+'_k_size_'+str(ker)), X_train,y_train, cv=5,n_jobs=-1)\n",
    "        valid_score=accuracy_score(y_valid, eval(est+'_median'+'_k_size_'+str(ker)).predict(X_valid))\n",
    "        print('____________________________________________________________________')\n",
    "        print(ker)\n",
    "        print(est+' Mean_cross_val_Accuracy ',cross_val_scores.mean(),' Valid_Accuracy: ' ,valid_score)\n",
    "        results = results.append({'model' : est+'_median'+'_k_size_'+str(ker) , 'Mean_cross_val_Accuracy' : cross_val_scores.mean(),'Valid_Accuracy':valid_score} , ignore_index=True)\n",
    "           "
   ]
  },
  {
   "cell_type": "code",
   "execution_count": null,
   "metadata": {},
   "outputs": [],
   "source": []
  },
  {
   "cell_type": "code",
   "execution_count": 47,
   "metadata": {
    "scrolled": false
   },
   "outputs": [
    {
     "data": {
      "text/html": [
       "<div>\n",
       "<style scoped>\n",
       "    .dataframe tbody tr th:only-of-type {\n",
       "        vertical-align: middle;\n",
       "    }\n",
       "\n",
       "    .dataframe tbody tr th {\n",
       "        vertical-align: top;\n",
       "    }\n",
       "\n",
       "    .dataframe thead th {\n",
       "        text-align: right;\n",
       "    }\n",
       "</style>\n",
       "<table border=\"1\" class=\"dataframe\">\n",
       "  <thead>\n",
       "    <tr style=\"text-align: right;\">\n",
       "      <th></th>\n",
       "      <th>model</th>\n",
       "      <th>Mean_cross_val_Accuracy</th>\n",
       "      <th>Valid_Accuracy</th>\n",
       "    </tr>\n",
       "  </thead>\n",
       "  <tbody>\n",
       "    <tr>\n",
       "      <th>0</th>\n",
       "      <td>knn</td>\n",
       "      <td>0.962245</td>\n",
       "      <td>0.965556</td>\n",
       "    </tr>\n",
       "    <tr>\n",
       "      <th>7</th>\n",
       "      <td>knn_sobel</td>\n",
       "      <td>0.939830</td>\n",
       "      <td>0.945873</td>\n",
       "    </tr>\n",
       "    <tr>\n",
       "      <th>17</th>\n",
       "      <td>knn_median_k_size_3</td>\n",
       "      <td>0.928640</td>\n",
       "      <td>0.931349</td>\n",
       "    </tr>\n",
       "    <tr>\n",
       "      <th>4</th>\n",
       "      <td>XGB</td>\n",
       "      <td>0.931021</td>\n",
       "      <td>0.929206</td>\n",
       "    </tr>\n",
       "    <tr>\n",
       "      <th>15</th>\n",
       "      <td>knn_median_k_size_9</td>\n",
       "      <td>0.921327</td>\n",
       "      <td>0.927222</td>\n",
       "    </tr>\n",
       "    <tr>\n",
       "      <th>13</th>\n",
       "      <td>knn_median_k_size_7</td>\n",
       "      <td>0.921327</td>\n",
       "      <td>0.927222</td>\n",
       "    </tr>\n",
       "    <tr>\n",
       "      <th>11</th>\n",
       "      <td>knn_median_k_size_5</td>\n",
       "      <td>0.921327</td>\n",
       "      <td>0.927222</td>\n",
       "    </tr>\n",
       "    <tr>\n",
       "      <th>9</th>\n",
       "      <td>knn_median_k_size_3</td>\n",
       "      <td>0.921327</td>\n",
       "      <td>0.927222</td>\n",
       "    </tr>\n",
       "    <tr>\n",
       "      <th>6</th>\n",
       "      <td>XGB_laplas</td>\n",
       "      <td>0.914389</td>\n",
       "      <td>0.917222</td>\n",
       "    </tr>\n",
       "    <tr>\n",
       "      <th>8</th>\n",
       "      <td>XGB_sobel</td>\n",
       "      <td>0.912143</td>\n",
       "      <td>0.915000</td>\n",
       "    </tr>\n",
       "    <tr>\n",
       "      <th>10</th>\n",
       "      <td>XGB_median_k_size_3</td>\n",
       "      <td>0.910681</td>\n",
       "      <td>0.907381</td>\n",
       "    </tr>\n",
       "    <tr>\n",
       "      <th>12</th>\n",
       "      <td>XGB_median_k_size_5</td>\n",
       "      <td>0.910681</td>\n",
       "      <td>0.907381</td>\n",
       "    </tr>\n",
       "    <tr>\n",
       "      <th>14</th>\n",
       "      <td>XGB_median_k_size_7</td>\n",
       "      <td>0.910681</td>\n",
       "      <td>0.907381</td>\n",
       "    </tr>\n",
       "    <tr>\n",
       "      <th>16</th>\n",
       "      <td>XGB_median_k_size_9</td>\n",
       "      <td>0.910681</td>\n",
       "      <td>0.907381</td>\n",
       "    </tr>\n",
       "    <tr>\n",
       "      <th>18</th>\n",
       "      <td>XGB_median_k_size_3</td>\n",
       "      <td>0.895579</td>\n",
       "      <td>0.894841</td>\n",
       "    </tr>\n",
       "    <tr>\n",
       "      <th>3</th>\n",
       "      <td>SVC</td>\n",
       "      <td>0.849624</td>\n",
       "      <td>0.869206</td>\n",
       "    </tr>\n",
       "    <tr>\n",
       "      <th>2</th>\n",
       "      <td>forest</td>\n",
       "      <td>0.856600</td>\n",
       "      <td>0.862619</td>\n",
       "    </tr>\n",
       "    <tr>\n",
       "      <th>1</th>\n",
       "      <td>tree</td>\n",
       "      <td>0.842757</td>\n",
       "      <td>0.846587</td>\n",
       "    </tr>\n",
       "    <tr>\n",
       "      <th>5</th>\n",
       "      <td>knn_laplas</td>\n",
       "      <td>0.823165</td>\n",
       "      <td>0.837698</td>\n",
       "    </tr>\n",
       "  </tbody>\n",
       "</table>\n",
       "</div>"
      ],
      "text/plain": [
       "                  model  Mean_cross_val_Accuracy  Valid_Accuracy\n",
       "0                   knn                 0.962245        0.965556\n",
       "7             knn_sobel                 0.939830        0.945873\n",
       "17  knn_median_k_size_3                 0.928640        0.931349\n",
       "4                   XGB                 0.931021        0.929206\n",
       "15  knn_median_k_size_9                 0.921327        0.927222\n",
       "13  knn_median_k_size_7                 0.921327        0.927222\n",
       "11  knn_median_k_size_5                 0.921327        0.927222\n",
       "9   knn_median_k_size_3                 0.921327        0.927222\n",
       "6            XGB_laplas                 0.914389        0.917222\n",
       "8             XGB_sobel                 0.912143        0.915000\n",
       "10  XGB_median_k_size_3                 0.910681        0.907381\n",
       "12  XGB_median_k_size_5                 0.910681        0.907381\n",
       "14  XGB_median_k_size_7                 0.910681        0.907381\n",
       "16  XGB_median_k_size_9                 0.910681        0.907381\n",
       "18  XGB_median_k_size_3                 0.895579        0.894841\n",
       "3                   SVC                 0.849624        0.869206\n",
       "2                forest                 0.856600        0.862619\n",
       "1                  tree                 0.842757        0.846587\n",
       "5            knn_laplas                 0.823165        0.837698"
      ]
     },
     "execution_count": 47,
     "metadata": {},
     "output_type": "execute_result"
    }
   ],
   "source": [
    "results.sort_values(by=['Valid_Accuracy'], ascending=False)"
   ]
  },
  {
   "cell_type": "code",
   "execution_count": null,
   "metadata": {},
   "outputs": [],
   "source": [
    "train_img_median_k_size_3"
   ]
  },
  {
   "cell_type": "code",
   "execution_count": 204,
   "metadata": {},
   "outputs": [],
   "source": [
    "X_train, X_valid, y_train, y_valid = train_test_split(np.resize(train_img_median_k_size_3, (train.shape[0], 28*28)), train_label, test_size=0.30, random_state=42)"
   ]
  },
  {
   "cell_type": "code",
   "execution_count": 207,
   "metadata": {},
   "outputs": [],
   "source": [
    "y_pred_knn_median_k_size_3=knn_median_k_size_3.predict(X_valid)"
   ]
  },
  {
   "cell_type": "code",
   "execution_count": 209,
   "metadata": {},
   "outputs": [
    {
     "data": {
      "image/png": "[encoded data removed]",
      "text/plain": [
       "<Figure size 1440x720 with 20 Axes>"
      ]
     },
     "metadata": {},
     "output_type": "display_data"
    }
   ],
   "source": [
    "draw_numbers(np.resize(X_valid[np.where( y_pred_knn_median_k_size_3!= y_valid )], (X_valid[np.where( y_pred_knn_median_k_size_3!= y_valid )].shape[0], 28, 28)),y_valid[np.where( y_pred_knn_median_k_size_3!= y_valid )],y_pred_knn_median_k_size_3[np.where( y_pred_knn_median_k_size_3!= y_valid )])"
   ]
  },
  {
   "cell_type": "markdown",
   "metadata": {},
   "source": [
    "### Distance transform"
   ]
  },
  {
   "cell_type": "code",
   "execution_count": null,
   "metadata": {},
   "outputs": [],
   "source": []
  },
  {
   "cell_type": "code",
   "execution_count": 48,
   "metadata": {},
   "outputs": [],
   "source": [
    "def binar(img,threshold=5, max_value=255.0):\n",
    "    return max_value * (img > threshold)"
   ]
  },
  {
   "cell_type": "code",
   "execution_count": 49,
   "metadata": {},
   "outputs": [],
   "source": [
    "def dist_transf(img,typedist='cv.DIST_L1',mask=5):\n",
    "    img=np.array(binar(img), dtype=np.uint8)\n",
    "    dt = cv.distanceTransform(img, typedist,mask )          \n",
    "    return dt"
   ]
  },
  {
   "cell_type": "code",
   "execution_count": null,
   "metadata": {},
   "outputs": [],
   "source": []
  },
  {
   "cell_type": "code",
   "execution_count": 50,
   "metadata": {},
   "outputs": [
    {
     "name": "stdout",
     "output_type": "stream",
     "text": [
      "____________________________________________________________________\n",
      "cv.DIST_L2 3\n",
      "knn Mean_cross_val_Accuracy  0.9485036965801971  Valid_Accuracy:  0.9593650793650793\n",
      "____________________________________________________________________\n",
      "cv.DIST_L2 3\n",
      "XGB Mean_cross_val_Accuracy  0.9269727831361523  Valid_Accuracy:  0.9287301587301587\n",
      "____________________________________________________________________\n",
      "cv.DIST_L2 5\n",
      "knn Mean_cross_val_Accuracy  0.9496261594636708  Valid_Accuracy:  0.9606349206349206\n",
      "____________________________________________________________________\n",
      "cv.DIST_L2 5\n",
      "XGB Mean_cross_val_Accuracy  0.9267687570321395  Valid_Accuracy:  0.9285714285714286\n",
      "____________________________________________________________________\n",
      "cv.DIST_L1 3\n",
      "knn Mean_cross_val_Accuracy  0.9464967966402296  Valid_Accuracy:  0.9563492063492064\n",
      "____________________________________________________________________\n",
      "cv.DIST_L1 3\n",
      "XGB Mean_cross_val_Accuracy  0.9268027937767189  Valid_Accuracy:  0.9271428571428572\n",
      "____________________________________________________________________\n",
      "cv.DIST_L1 5\n",
      "knn Mean_cross_val_Accuracy  0.9464967966402296  Valid_Accuracy:  0.9563492063492064\n",
      "____________________________________________________________________\n",
      "cv.DIST_L1 5\n",
      "XGB Mean_cross_val_Accuracy  0.9268027937767189  Valid_Accuracy:  0.9271428571428572\n"
     ]
    }
   ],
   "source": [
    "import cv2 as cv\n",
    "typedists=['cv.DIST_L2','cv.DIST_L1']\n",
    "masks=[3,5]\n",
    "for typ  in typedists:\n",
    "    for mask in masks:\n",
    "        #print(ker,met)\n",
    "        #print('train_img_deckew_'+met+'_k_size_'+str(ker))\n",
    "        globals()['train_img_'+typ[3:]+'_mask_'+str(mask)]=np.array(list(map(partial(dist_transf,typedist=eval(typ),mask=mask),train_img)))\n",
    "        X_train, X_valid, y_train, y_valid = train_test_split(np.resize(eval('train_img_'+typ[3:]+'_mask_'+str(mask)), (train.shape[0], 28*28)), train_label, test_size=0.30, random_state=42)\n",
    "        \n",
    "        \n",
    "        for est in estimators: \n",
    "            globals()[est+'_'+typ[3:]+'_mask_'+str(mask)]=estimators[est]\n",
    "            eval(est+'_'+typ[3:]+'_mask_'+str(mask)).fit(X_train,y_train)\n",
    "            cross_val_scores = cross_val_score(eval(est+'_'+typ[3:]+'_mask_'+str(mask)), X_train,y_train, cv=2,n_jobs=-1)\n",
    "            valid_score=accuracy_score(y_valid, eval(est+'_'+typ[3:]+'_mask_'+str(mask)).predict(X_valid))\n",
    "            print('____________________________________________________________________')\n",
    "            print(typ ,mask)\n",
    "            print(est+' Mean_cross_val_Accuracy ',cross_val_scores.mean(),' Valid_Accuracy: ' ,valid_score)\n",
    "            results = results.append({'model' : est+'_'+typ[3:]+'_mask_'+str(mask) , 'Mean_cross_val_Accuracy' : cross_val_scores.mean(),'Valid_Accuracy':valid_score} , ignore_index=True)"
   ]
  },
  {
   "cell_type": "code",
   "execution_count": 51,
   "metadata": {},
   "outputs": [
    {
     "data": {
      "text/html": [
       "<div>\n",
       "<style scoped>\n",
       "    .dataframe tbody tr th:only-of-type {\n",
       "        vertical-align: middle;\n",
       "    }\n",
       "\n",
       "    .dataframe tbody tr th {\n",
       "        vertical-align: top;\n",
       "    }\n",
       "\n",
       "    .dataframe thead th {\n",
       "        text-align: right;\n",
       "    }\n",
       "</style>\n",
       "<table border=\"1\" class=\"dataframe\">\n",
       "  <thead>\n",
       "    <tr style=\"text-align: right;\">\n",
       "      <th></th>\n",
       "      <th>model</th>\n",
       "      <th>Mean_cross_val_Accuracy</th>\n",
       "      <th>Valid_Accuracy</th>\n",
       "    </tr>\n",
       "  </thead>\n",
       "  <tbody>\n",
       "    <tr>\n",
       "      <th>0</th>\n",
       "      <td>knn</td>\n",
       "      <td>0.962245</td>\n",
       "      <td>0.965556</td>\n",
       "    </tr>\n",
       "    <tr>\n",
       "      <th>21</th>\n",
       "      <td>knn_DIST_L2_mask_5</td>\n",
       "      <td>0.949626</td>\n",
       "      <td>0.960635</td>\n",
       "    </tr>\n",
       "    <tr>\n",
       "      <th>19</th>\n",
       "      <td>knn_DIST_L2_mask_3</td>\n",
       "      <td>0.948504</td>\n",
       "      <td>0.959365</td>\n",
       "    </tr>\n",
       "    <tr>\n",
       "      <th>25</th>\n",
       "      <td>knn_DIST_L1_mask_5</td>\n",
       "      <td>0.946497</td>\n",
       "      <td>0.956349</td>\n",
       "    </tr>\n",
       "    <tr>\n",
       "      <th>23</th>\n",
       "      <td>knn_DIST_L1_mask_3</td>\n",
       "      <td>0.946497</td>\n",
       "      <td>0.956349</td>\n",
       "    </tr>\n",
       "    <tr>\n",
       "      <th>7</th>\n",
       "      <td>knn_sobel</td>\n",
       "      <td>0.939830</td>\n",
       "      <td>0.945873</td>\n",
       "    </tr>\n",
       "    <tr>\n",
       "      <th>17</th>\n",
       "      <td>knn_median_k_size_3</td>\n",
       "      <td>0.928640</td>\n",
       "      <td>0.931349</td>\n",
       "    </tr>\n",
       "    <tr>\n",
       "      <th>4</th>\n",
       "      <td>XGB</td>\n",
       "      <td>0.931021</td>\n",
       "      <td>0.929206</td>\n",
       "    </tr>\n",
       "    <tr>\n",
       "      <th>20</th>\n",
       "      <td>XGB_DIST_L2_mask_3</td>\n",
       "      <td>0.926973</td>\n",
       "      <td>0.928730</td>\n",
       "    </tr>\n",
       "    <tr>\n",
       "      <th>22</th>\n",
       "      <td>XGB_DIST_L2_mask_5</td>\n",
       "      <td>0.926769</td>\n",
       "      <td>0.928571</td>\n",
       "    </tr>\n",
       "    <tr>\n",
       "      <th>15</th>\n",
       "      <td>knn_median_k_size_9</td>\n",
       "      <td>0.921327</td>\n",
       "      <td>0.927222</td>\n",
       "    </tr>\n",
       "    <tr>\n",
       "      <th>13</th>\n",
       "      <td>knn_median_k_size_7</td>\n",
       "      <td>0.921327</td>\n",
       "      <td>0.927222</td>\n",
       "    </tr>\n",
       "    <tr>\n",
       "      <th>11</th>\n",
       "      <td>knn_median_k_size_5</td>\n",
       "      <td>0.921327</td>\n",
       "      <td>0.927222</td>\n",
       "    </tr>\n",
       "    <tr>\n",
       "      <th>9</th>\n",
       "      <td>knn_median_k_size_3</td>\n",
       "      <td>0.921327</td>\n",
       "      <td>0.927222</td>\n",
       "    </tr>\n",
       "    <tr>\n",
       "      <th>24</th>\n",
       "      <td>XGB_DIST_L1_mask_3</td>\n",
       "      <td>0.926803</td>\n",
       "      <td>0.927143</td>\n",
       "    </tr>\n",
       "    <tr>\n",
       "      <th>26</th>\n",
       "      <td>XGB_DIST_L1_mask_5</td>\n",
       "      <td>0.926803</td>\n",
       "      <td>0.927143</td>\n",
       "    </tr>\n",
       "    <tr>\n",
       "      <th>6</th>\n",
       "      <td>XGB_laplas</td>\n",
       "      <td>0.914389</td>\n",
       "      <td>0.917222</td>\n",
       "    </tr>\n",
       "    <tr>\n",
       "      <th>8</th>\n",
       "      <td>XGB_sobel</td>\n",
       "      <td>0.912143</td>\n",
       "      <td>0.915000</td>\n",
       "    </tr>\n",
       "    <tr>\n",
       "      <th>12</th>\n",
       "      <td>XGB_median_k_size_5</td>\n",
       "      <td>0.910681</td>\n",
       "      <td>0.907381</td>\n",
       "    </tr>\n",
       "    <tr>\n",
       "      <th>14</th>\n",
       "      <td>XGB_median_k_size_7</td>\n",
       "      <td>0.910681</td>\n",
       "      <td>0.907381</td>\n",
       "    </tr>\n",
       "    <tr>\n",
       "      <th>16</th>\n",
       "      <td>XGB_median_k_size_9</td>\n",
       "      <td>0.910681</td>\n",
       "      <td>0.907381</td>\n",
       "    </tr>\n",
       "    <tr>\n",
       "      <th>10</th>\n",
       "      <td>XGB_median_k_size_3</td>\n",
       "      <td>0.910681</td>\n",
       "      <td>0.907381</td>\n",
       "    </tr>\n",
       "    <tr>\n",
       "      <th>18</th>\n",
       "      <td>XGB_median_k_size_3</td>\n",
       "      <td>0.895579</td>\n",
       "      <td>0.894841</td>\n",
       "    </tr>\n",
       "    <tr>\n",
       "      <th>3</th>\n",
       "      <td>SVC</td>\n",
       "      <td>0.849624</td>\n",
       "      <td>0.869206</td>\n",
       "    </tr>\n",
       "    <tr>\n",
       "      <th>2</th>\n",
       "      <td>forest</td>\n",
       "      <td>0.856600</td>\n",
       "      <td>0.862619</td>\n",
       "    </tr>\n",
       "    <tr>\n",
       "      <th>1</th>\n",
       "      <td>tree</td>\n",
       "      <td>0.842757</td>\n",
       "      <td>0.846587</td>\n",
       "    </tr>\n",
       "    <tr>\n",
       "      <th>5</th>\n",
       "      <td>knn_laplas</td>\n",
       "      <td>0.823165</td>\n",
       "      <td>0.837698</td>\n",
       "    </tr>\n",
       "  </tbody>\n",
       "</table>\n",
       "</div>"
      ],
      "text/plain": [
       "                  model  Mean_cross_val_Accuracy  Valid_Accuracy\n",
       "0                   knn                 0.962245        0.965556\n",
       "21   knn_DIST_L2_mask_5                 0.949626        0.960635\n",
       "19   knn_DIST_L2_mask_3                 0.948504        0.959365\n",
       "25   knn_DIST_L1_mask_5                 0.946497        0.956349\n",
       "23   knn_DIST_L1_mask_3                 0.946497        0.956349\n",
       "7             knn_sobel                 0.939830        0.945873\n",
       "17  knn_median_k_size_3                 0.928640        0.931349\n",
       "4                   XGB                 0.931021        0.929206\n",
       "20   XGB_DIST_L2_mask_3                 0.926973        0.928730\n",
       "22   XGB_DIST_L2_mask_5                 0.926769        0.928571\n",
       "15  knn_median_k_size_9                 0.921327        0.927222\n",
       "13  knn_median_k_size_7                 0.921327        0.927222\n",
       "11  knn_median_k_size_5                 0.921327        0.927222\n",
       "9   knn_median_k_size_3                 0.921327        0.927222\n",
       "24   XGB_DIST_L1_mask_3                 0.926803        0.927143\n",
       "26   XGB_DIST_L1_mask_5                 0.926803        0.927143\n",
       "6            XGB_laplas                 0.914389        0.917222\n",
       "8             XGB_sobel                 0.912143        0.915000\n",
       "12  XGB_median_k_size_5                 0.910681        0.907381\n",
       "14  XGB_median_k_size_7                 0.910681        0.907381\n",
       "16  XGB_median_k_size_9                 0.910681        0.907381\n",
       "10  XGB_median_k_size_3                 0.910681        0.907381\n",
       "18  XGB_median_k_size_3                 0.895579        0.894841\n",
       "3                   SVC                 0.849624        0.869206\n",
       "2                forest                 0.856600        0.862619\n",
       "1                  tree                 0.842757        0.846587\n",
       "5            knn_laplas                 0.823165        0.837698"
      ]
     },
     "execution_count": 51,
     "metadata": {},
     "output_type": "execute_result"
    }
   ],
   "source": [
    "results.sort_values(by=['Valid_Accuracy'], ascending=False)"
   ]
  },
  {
   "cell_type": "code",
   "execution_count": 210,
   "metadata": {},
   "outputs": [],
   "source": [
    "X_train, X_valid, y_train, y_valid = train_test_split(np.resize(train_img_DIST_L2_mask_5, (train.shape[0], 28*28)), train_label, test_size=0.30, random_state=42)"
   ]
  },
  {
   "cell_type": "code",
   "execution_count": 211,
   "metadata": {},
   "outputs": [],
   "source": [
    "y_pred_knn_DIST_L2_mask_5=knn_DIST_L2_mask_5.predict(X_valid)"
   ]
  },
  {
   "cell_type": "code",
   "execution_count": 212,
   "metadata": {},
   "outputs": [
    {
     "data": {
      "image/png": "[encoded data removed]",
      "text/plain": [
       "<Figure size 1440x720 with 20 Axes>"
      ]
     },
     "metadata": {},
     "output_type": "display_data"
    }
   ],
   "source": [
    "draw_numbers(np.resize(X_valid[np.where( y_pred_knn_DIST_L2_mask_5!= y_valid )], (X_valid[np.where( y_pred_knn_DIST_L2_mask_5!= y_valid )].shape[0], 28, 28)),y_valid[np.where( y_pred_knn_DIST_L2_mask_5!= y_valid )],y_pred_knn_DIST_L2_mask_5[np.where( y_pred_knn_DIST_L2_mask_5!= y_valid )])"
   ]
  },
  {
   "cell_type": "markdown",
   "metadata": {},
   "source": [
    "### Gaussian Blurring"
   ]
  },
  {
   "cell_type": "code",
   "execution_count": 52,
   "metadata": {},
   "outputs": [],
   "source": [
    "def gaussblur_filter(img,ksize=3):\n",
    "    img=np.array(binar(img), dtype=np.uint8)\n",
    "    gb = cv2.GaussianBlur(img,(ksize,ksize),0 )          \n",
    "    return gb"
   ]
  },
  {
   "cell_type": "code",
   "execution_count": 53,
   "metadata": {},
   "outputs": [
    {
     "data": {
      "text/plain": [
       "<matplotlib.image.AxesImage at 0x28d64a160>"
      ]
     },
     "execution_count": 53,
     "metadata": {},
     "output_type": "execute_result"
    },
    {
     "data": {
      "image/png": "[encoded data removed]",
      "text/plain": [
       "<Figure size 432x288 with 1 Axes>"
      ]
     },
     "metadata": {},
     "output_type": "display_data"
    }
   ],
   "source": [
    "plt.imshow(train_img[0])"
   ]
  },
  {
   "cell_type": "code",
   "execution_count": 54,
   "metadata": {},
   "outputs": [
    {
     "data": {
      "text/plain": [
       "<matplotlib.image.AxesImage at 0x28d67fe48>"
      ]
     },
     "execution_count": 54,
     "metadata": {},
     "output_type": "execute_result"
    },
    {
     "data": {
      "image/png": "[encoded data removed]",
      "text/plain": [
       "<Figure size 432x288 with 1 Axes>"
      ]
     },
     "metadata": {},
     "output_type": "display_data"
    }
   ],
   "source": [
    "plt.imshow(gaussblur_filter(train_img[0],9))"
   ]
  },
  {
   "cell_type": "code",
   "execution_count": 55,
   "metadata": {
    "scrolled": true
   },
   "outputs": [
    {
     "name": "stdout",
     "output_type": "stream",
     "text": [
      "____________________________________________________________________\n",
      "3\n",
      "knn Mean_cross_val_Accuracy  0.9649663032872182  Valid_Accuracy:  0.9677777777777777\n",
      "____________________________________________________________________\n",
      "3\n",
      "XGB Mean_cross_val_Accuracy  0.9382651724475972  Valid_Accuracy:  0.9392857142857143\n",
      "____________________________________________________________________\n",
      "5\n",
      "knn Mean_cross_val_Accuracy  0.9636056315243705  Valid_Accuracy:  0.9652380952380952\n",
      "____________________________________________________________________\n",
      "5\n",
      "XGB Mean_cross_val_Accuracy  0.9406125688805368  Valid_Accuracy:  0.941984126984127\n",
      "____________________________________________________________________\n",
      "7\n",
      "knn Mean_cross_val_Accuracy  0.9588773925072525  Valid_Accuracy:  0.9619047619047619\n",
      "____________________________________________________________________\n",
      "7\n",
      "XGB Mean_cross_val_Accuracy  0.9360548025391775  Valid_Accuracy:  0.9393650793650794\n"
     ]
    }
   ],
   "source": [
    "ksizes=[3,5,7]\n",
    "for ker  in ksizes:\n",
    "    \n",
    "       \n",
    "    globals()['train_img_gauss'+'_k_size_'+str(ker)]=np.array(list(map(partial(gaussblur_filter,ksize=ker),train_img)))\n",
    "    X_train, X_valid, y_train, y_valid = train_test_split(np.resize(eval('train_img_gauss'+'_k_size_'+str(ker)), (train.shape[0], 28*28)), train_label, test_size=0.30, random_state=42)\n",
    "        \n",
    "        \n",
    "    for est in estimators: \n",
    "        globals()[est+'_gauss'+'_k_size_'+str(ker)]=estimators[est]\n",
    "        eval(est+'_gauss'+'_k_size_'+str(ker)).fit(X_train,y_train)\n",
    "        cross_val_scores = cross_val_score(eval(est+'_gauss'+'_k_size_'+str(ker)), X_train,y_train, cv=5,n_jobs=-1)\n",
    "        valid_score=accuracy_score(y_valid, eval(est+'_gauss'+'_k_size_'+str(ker)).predict(X_valid))\n",
    "        print('____________________________________________________________________')\n",
    "        print(ker)\n",
    "        print(est+' Mean_cross_val_Accuracy ',cross_val_scores.mean(),' Valid_Accuracy: ' ,valid_score)\n",
    "        results = results.append({'model' : est+'_gauss'+'_k_size_'+str(ker) , 'Mean_cross_val_Accuracy' : cross_val_scores.mean(),'Valid_Accuracy':valid_score} , ignore_index=True)"
   ]
  },
  {
   "cell_type": "code",
   "execution_count": 228,
   "metadata": {},
   "outputs": [],
   "source": [
    "test_img_gauss_k_size_3=np.array(list(map(partial(gaussblur_filter,ksize=3),test_img)))"
   ]
  },
  {
   "cell_type": "code",
   "execution_count": 233,
   "metadata": {},
   "outputs": [],
   "source": [
    "test_img_gauss_k_size_3=np.resize(test_img_gauss_k_size_3, (test.shape[0], 28*28))"
   ]
  },
  {
   "cell_type": "code",
   "execution_count": 236,
   "metadata": {},
   "outputs": [],
   "source": [
    "pred_knn_gauss_k_size_3=knn_gauss_k_size_3.predict(test_img_gauss_k_size_3)"
   ]
  },
  {
   "cell_type": "code",
   "execution_count": 237,
   "metadata": {},
   "outputs": [],
   "source": [
    "with open('submit_knn_gauss_k_size_3.txt', 'w') as dst:\n",
    "    dst.write('ImageId,Label\\n')\n",
    "    for i, p in enumerate(pred_knn_gauss_k_size_3, 1):\n",
    "        dst.write('%s,%s\\n' % (i, int(p) ))"
   ]
  },
  {
   "cell_type": "code",
   "execution_count": 238,
   "metadata": {
    "scrolled": false
   },
   "outputs": [
    {
     "data": {
      "image/png": "[encoded data removed]",
      "text/plain": [
       "<IPython.core.display.Image object>"
      ]
     },
     "execution_count": 238,
     "metadata": {},
     "output_type": "execute_result"
    }
   ],
   "source": [
    "from IPython.display import Image\n",
    "Image('submit_knn_gauss_k_size_3.png')"
   ]
  },
  {
   "cell_type": "code",
   "execution_count": 213,
   "metadata": {},
   "outputs": [],
   "source": [
    "X_train, X_valid, y_train, y_valid = train_test_split(np.resize(train_img_gauss_k_size_3, (train.shape[0], 28*28)), train_label, test_size=0.30, random_state=42)"
   ]
  },
  {
   "cell_type": "code",
   "execution_count": 222,
   "metadata": {},
   "outputs": [],
   "source": [
    "y_pred_knn_gauss_k_size_3=knn_gauss_k_size_3.predict(X_valid)"
   ]
  },
  {
   "cell_type": "code",
   "execution_count": 223,
   "metadata": {
    "scrolled": false
   },
   "outputs": [
    {
     "data": {
      "image/png": "[encoded data removed]",
      "text/plain": [
       "<Figure size 1440x720 with 20 Axes>"
      ]
     },
     "metadata": {},
     "output_type": "display_data"
    }
   ],
   "source": [
    "draw_numbers(np.resize(X_valid[np.where( y_pred_knn_gauss_k_size_3!= y_valid )], (X_valid[np.where( y_pred_knn_gauss_k_size_3!= y_valid )].shape[0], 28, 28)),y_valid[np.where( y_pred_knn_gauss_k_size_3!= y_valid )],y_pred_knn_gauss_k_size_3[np.where( y_pred_knn_gauss_k_size_3!= y_valid )])"
   ]
  },
  {
   "cell_type": "code",
   "execution_count": null,
   "metadata": {},
   "outputs": [],
   "source": []
  },
  {
   "cell_type": "code",
   "execution_count": 56,
   "metadata": {
    "scrolled": false
   },
   "outputs": [
    {
     "data": {
      "text/html": [
       "<div>\n",
       "<style scoped>\n",
       "    .dataframe tbody tr th:only-of-type {\n",
       "        vertical-align: middle;\n",
       "    }\n",
       "\n",
       "    .dataframe tbody tr th {\n",
       "        vertical-align: top;\n",
       "    }\n",
       "\n",
       "    .dataframe thead th {\n",
       "        text-align: right;\n",
       "    }\n",
       "</style>\n",
       "<table border=\"1\" class=\"dataframe\">\n",
       "  <thead>\n",
       "    <tr style=\"text-align: right;\">\n",
       "      <th></th>\n",
       "      <th>model</th>\n",
       "      <th>Mean_cross_val_Accuracy</th>\n",
       "      <th>Valid_Accuracy</th>\n",
       "    </tr>\n",
       "  </thead>\n",
       "  <tbody>\n",
       "    <tr>\n",
       "      <th>0</th>\n",
       "      <td>knn</td>\n",
       "      <td>0.962245</td>\n",
       "      <td>0.965556</td>\n",
       "    </tr>\n",
       "    <tr>\n",
       "      <th>1</th>\n",
       "      <td>tree</td>\n",
       "      <td>0.842757</td>\n",
       "      <td>0.846587</td>\n",
       "    </tr>\n",
       "    <tr>\n",
       "      <th>2</th>\n",
       "      <td>forest</td>\n",
       "      <td>0.856600</td>\n",
       "      <td>0.862619</td>\n",
       "    </tr>\n",
       "    <tr>\n",
       "      <th>3</th>\n",
       "      <td>SVC</td>\n",
       "      <td>0.849624</td>\n",
       "      <td>0.869206</td>\n",
       "    </tr>\n",
       "    <tr>\n",
       "      <th>4</th>\n",
       "      <td>XGB</td>\n",
       "      <td>0.931021</td>\n",
       "      <td>0.929206</td>\n",
       "    </tr>\n",
       "    <tr>\n",
       "      <th>5</th>\n",
       "      <td>knn_laplas</td>\n",
       "      <td>0.823165</td>\n",
       "      <td>0.837698</td>\n",
       "    </tr>\n",
       "    <tr>\n",
       "      <th>6</th>\n",
       "      <td>XGB_laplas</td>\n",
       "      <td>0.914389</td>\n",
       "      <td>0.917222</td>\n",
       "    </tr>\n",
       "    <tr>\n",
       "      <th>7</th>\n",
       "      <td>knn_sobel</td>\n",
       "      <td>0.939830</td>\n",
       "      <td>0.945873</td>\n",
       "    </tr>\n",
       "    <tr>\n",
       "      <th>8</th>\n",
       "      <td>XGB_sobel</td>\n",
       "      <td>0.912143</td>\n",
       "      <td>0.915000</td>\n",
       "    </tr>\n",
       "    <tr>\n",
       "      <th>9</th>\n",
       "      <td>knn_median_k_size_3</td>\n",
       "      <td>0.921327</td>\n",
       "      <td>0.927222</td>\n",
       "    </tr>\n",
       "    <tr>\n",
       "      <th>10</th>\n",
       "      <td>XGB_median_k_size_3</td>\n",
       "      <td>0.910681</td>\n",
       "      <td>0.907381</td>\n",
       "    </tr>\n",
       "    <tr>\n",
       "      <th>11</th>\n",
       "      <td>knn_median_k_size_5</td>\n",
       "      <td>0.921327</td>\n",
       "      <td>0.927222</td>\n",
       "    </tr>\n",
       "    <tr>\n",
       "      <th>12</th>\n",
       "      <td>XGB_median_k_size_5</td>\n",
       "      <td>0.910681</td>\n",
       "      <td>0.907381</td>\n",
       "    </tr>\n",
       "    <tr>\n",
       "      <th>13</th>\n",
       "      <td>knn_median_k_size_7</td>\n",
       "      <td>0.921327</td>\n",
       "      <td>0.927222</td>\n",
       "    </tr>\n",
       "    <tr>\n",
       "      <th>14</th>\n",
       "      <td>XGB_median_k_size_7</td>\n",
       "      <td>0.910681</td>\n",
       "      <td>0.907381</td>\n",
       "    </tr>\n",
       "    <tr>\n",
       "      <th>15</th>\n",
       "      <td>knn_median_k_size_9</td>\n",
       "      <td>0.921327</td>\n",
       "      <td>0.927222</td>\n",
       "    </tr>\n",
       "    <tr>\n",
       "      <th>16</th>\n",
       "      <td>XGB_median_k_size_9</td>\n",
       "      <td>0.910681</td>\n",
       "      <td>0.907381</td>\n",
       "    </tr>\n",
       "    <tr>\n",
       "      <th>17</th>\n",
       "      <td>knn_median_k_size_3</td>\n",
       "      <td>0.928640</td>\n",
       "      <td>0.931349</td>\n",
       "    </tr>\n",
       "    <tr>\n",
       "      <th>18</th>\n",
       "      <td>XGB_median_k_size_3</td>\n",
       "      <td>0.895579</td>\n",
       "      <td>0.894841</td>\n",
       "    </tr>\n",
       "    <tr>\n",
       "      <th>19</th>\n",
       "      <td>knn_DIST_L2_mask_3</td>\n",
       "      <td>0.948504</td>\n",
       "      <td>0.959365</td>\n",
       "    </tr>\n",
       "    <tr>\n",
       "      <th>20</th>\n",
       "      <td>XGB_DIST_L2_mask_3</td>\n",
       "      <td>0.926973</td>\n",
       "      <td>0.928730</td>\n",
       "    </tr>\n",
       "    <tr>\n",
       "      <th>21</th>\n",
       "      <td>knn_DIST_L2_mask_5</td>\n",
       "      <td>0.949626</td>\n",
       "      <td>0.960635</td>\n",
       "    </tr>\n",
       "    <tr>\n",
       "      <th>22</th>\n",
       "      <td>XGB_DIST_L2_mask_5</td>\n",
       "      <td>0.926769</td>\n",
       "      <td>0.928571</td>\n",
       "    </tr>\n",
       "    <tr>\n",
       "      <th>23</th>\n",
       "      <td>knn_DIST_L1_mask_3</td>\n",
       "      <td>0.946497</td>\n",
       "      <td>0.956349</td>\n",
       "    </tr>\n",
       "    <tr>\n",
       "      <th>24</th>\n",
       "      <td>XGB_DIST_L1_mask_3</td>\n",
       "      <td>0.926803</td>\n",
       "      <td>0.927143</td>\n",
       "    </tr>\n",
       "    <tr>\n",
       "      <th>25</th>\n",
       "      <td>knn_DIST_L1_mask_5</td>\n",
       "      <td>0.946497</td>\n",
       "      <td>0.956349</td>\n",
       "    </tr>\n",
       "    <tr>\n",
       "      <th>26</th>\n",
       "      <td>XGB_DIST_L1_mask_5</td>\n",
       "      <td>0.926803</td>\n",
       "      <td>0.927143</td>\n",
       "    </tr>\n",
       "    <tr>\n",
       "      <th>27</th>\n",
       "      <td>knn_gauss_k_size_3</td>\n",
       "      <td>0.964966</td>\n",
       "      <td>0.967778</td>\n",
       "    </tr>\n",
       "    <tr>\n",
       "      <th>28</th>\n",
       "      <td>XGB_gauss_k_size_3</td>\n",
       "      <td>0.938265</td>\n",
       "      <td>0.939286</td>\n",
       "    </tr>\n",
       "    <tr>\n",
       "      <th>29</th>\n",
       "      <td>knn_gauss_k_size_5</td>\n",
       "      <td>0.963606</td>\n",
       "      <td>0.965238</td>\n",
       "    </tr>\n",
       "    <tr>\n",
       "      <th>30</th>\n",
       "      <td>XGB_gauss_k_size_5</td>\n",
       "      <td>0.940613</td>\n",
       "      <td>0.941984</td>\n",
       "    </tr>\n",
       "    <tr>\n",
       "      <th>31</th>\n",
       "      <td>knn_gauss_k_size_7</td>\n",
       "      <td>0.958877</td>\n",
       "      <td>0.961905</td>\n",
       "    </tr>\n",
       "    <tr>\n",
       "      <th>32</th>\n",
       "      <td>XGB_gauss_k_size_7</td>\n",
       "      <td>0.936055</td>\n",
       "      <td>0.939365</td>\n",
       "    </tr>\n",
       "  </tbody>\n",
       "</table>\n",
       "</div>"
      ],
      "text/plain": [
       "                  model  Mean_cross_val_Accuracy  Valid_Accuracy\n",
       "0                   knn                 0.962245        0.965556\n",
       "1                  tree                 0.842757        0.846587\n",
       "2                forest                 0.856600        0.862619\n",
       "3                   SVC                 0.849624        0.869206\n",
       "4                   XGB                 0.931021        0.929206\n",
       "5            knn_laplas                 0.823165        0.837698\n",
       "6            XGB_laplas                 0.914389        0.917222\n",
       "7             knn_sobel                 0.939830        0.945873\n",
       "8             XGB_sobel                 0.912143        0.915000\n",
       "9   knn_median_k_size_3                 0.921327        0.927222\n",
       "10  XGB_median_k_size_3                 0.910681        0.907381\n",
       "11  knn_median_k_size_5                 0.921327        0.927222\n",
       "12  XGB_median_k_size_5                 0.910681        0.907381\n",
       "13  knn_median_k_size_7                 0.921327        0.927222\n",
       "14  XGB_median_k_size_7                 0.910681        0.907381\n",
       "15  knn_median_k_size_9                 0.921327        0.927222\n",
       "16  XGB_median_k_size_9                 0.910681        0.907381\n",
       "17  knn_median_k_size_3                 0.928640        0.931349\n",
       "18  XGB_median_k_size_3                 0.895579        0.894841\n",
       "19   knn_DIST_L2_mask_3                 0.948504        0.959365\n",
       "20   XGB_DIST_L2_mask_3                 0.926973        0.928730\n",
       "21   knn_DIST_L2_mask_5                 0.949626        0.960635\n",
       "22   XGB_DIST_L2_mask_5                 0.926769        0.928571\n",
       "23   knn_DIST_L1_mask_3                 0.946497        0.956349\n",
       "24   XGB_DIST_L1_mask_3                 0.926803        0.927143\n",
       "25   knn_DIST_L1_mask_5                 0.946497        0.956349\n",
       "26   XGB_DIST_L1_mask_5                 0.926803        0.927143\n",
       "27   knn_gauss_k_size_3                 0.964966        0.967778\n",
       "28   XGB_gauss_k_size_3                 0.938265        0.939286\n",
       "29   knn_gauss_k_size_5                 0.963606        0.965238\n",
       "30   XGB_gauss_k_size_5                 0.940613        0.941984\n",
       "31   knn_gauss_k_size_7                 0.958877        0.961905\n",
       "32   XGB_gauss_k_size_7                 0.936055        0.939365"
      ]
     },
     "execution_count": 56,
     "metadata": {},
     "output_type": "execute_result"
    }
   ],
   "source": [
    "results"
   ]
  },
  {
   "cell_type": "markdown",
   "metadata": {},
   "source": [
    "### deskew"
   ]
  },
  {
   "cell_type": "code",
   "execution_count": 65,
   "metadata": {},
   "outputs": [],
   "source": [
    "def deskew(img):\n",
    "    SZ=img.shape[0]\n",
    "    \n",
    "    m = cv2.moments(img)\n",
    "    if abs(m['mu02']) < 1e-2:\n",
    "        # no deskewing needed. \n",
    "        return img.copy()\n",
    "    # Calculate skew based on central momemts. \n",
    "    skew = m['mu11']/m['mu02']\n",
    "    # Calculate affine transform to correct skewness. \n",
    "    M = np.float32([[1, skew, -0.5*SZ*skew], [0, 1, 0]])\n",
    "    # Apply affine transform\n",
    "    img = cv2.warpAffine(img, M, (SZ, SZ), flags=cv2.WARP_INVERSE_MAP | cv2.INTER_LINEAR)\n",
    "    return img"
   ]
  },
  {
   "cell_type": "code",
   "execution_count": 66,
   "metadata": {},
   "outputs": [],
   "source": [
    "train_img_deckew= np.array(list(map(deskew, train_img)))\n"
   ]
  },
  {
   "cell_type": "code",
   "execution_count": 67,
   "metadata": {},
   "outputs": [],
   "source": [
    "test_img_deckew= np.array(list(map(deskew, test_img)))"
   ]
  },
  {
   "cell_type": "code",
   "execution_count": 68,
   "metadata": {},
   "outputs": [
    {
     "data": {
      "text/plain": [
       "<matplotlib.image.AxesImage at 0x28d740b00>"
      ]
     },
     "execution_count": 68,
     "metadata": {},
     "output_type": "execute_result"
    },
    {
     "data": {
      "image/png": "[encoded data removed]",
      "text/plain": [
       "<Figure size 432x288 with 1 Axes>"
      ]
     },
     "metadata": {},
     "output_type": "display_data"
    }
   ],
   "source": [
    "plt.imshow(deskew(train_img_deckew[0]), cmap='gray')"
   ]
  },
  {
   "cell_type": "code",
   "execution_count": 69,
   "metadata": {},
   "outputs": [],
   "source": [
    "X_train_deckew, X_valid_deckew, y_train, y_valid_ = train_test_split(np.resize(train_img_deckew, (train.shape[0], 28*28)), train_label, test_size=0.30, random_state=42)"
   ]
  },
  {
   "cell_type": "code",
   "execution_count": 70,
   "metadata": {
    "scrolled": true
   },
   "outputs": [
    {
     "name": "stdout",
     "output_type": "stream",
     "text": [
      "knn Mean_cross_val_Accuracy  0.9739117620901359  Valid_Accuracy:  0.9765873015873016\n",
      "____________________________________________________________________\n",
      "XGB Mean_cross_val_Accuracy  0.9533669330147386  Valid_Accuracy:  0.9499206349206349\n",
      "____________________________________________________________________\n"
     ]
    }
   ],
   "source": [
    "estimators = {\n",
    "    \n",
    "   \n",
    "    'knn': KNeighborsClassifier(n_jobs=-1),\n",
    "    #'tree': DecisionTreeClassifier(),\n",
    "    #'forest': linear_model.SGDClassifier(n_jobs=-1),\n",
    "    #'SVC': LinearSVC(),\n",
    "    'XGB': XGBClassifier(n_jobs=-1)\n",
    "}\n",
    "\n",
    "for est in estimators: \n",
    "    globals()[est+'_deckew']=estimators[est]\n",
    "    eval(est+'_deckew').fit(X_train_deckew,y_train)\n",
    "    cross_val_scores = cross_val_score(eval(est+'_deckew'), X_train_deckew,y_train, cv=5,n_jobs=-1)\n",
    "    valid_score=accuracy_score(y_valid, eval(est+'_deckew').predict(X_valid_deckew))\n",
    "    print(est+' Mean_cross_val_Accuracy ',cross_val_scores.mean(),' Valid_Accuracy: ' ,valid_score)\n",
    "    results = results.append({'model' : est+'_deckew' , 'Mean_cross_val_Accuracy' : cross_val_scores.mean(),'Valid_Accuracy':valid_score} , ignore_index=True)\n",
    "    print('____________________________________________________________________')"
   ]
  },
  {
   "cell_type": "code",
   "execution_count": 71,
   "metadata": {},
   "outputs": [],
   "source": [
    "# поворот дал почти процент прироста точности на валидацинной выборке"
   ]
  },
  {
   "cell_type": "code",
   "execution_count": 72,
   "metadata": {},
   "outputs": [
    {
     "data": {
      "text/html": [
       "<div>\n",
       "<style scoped>\n",
       "    .dataframe tbody tr th:only-of-type {\n",
       "        vertical-align: middle;\n",
       "    }\n",
       "\n",
       "    .dataframe tbody tr th {\n",
       "        vertical-align: top;\n",
       "    }\n",
       "\n",
       "    .dataframe thead th {\n",
       "        text-align: right;\n",
       "    }\n",
       "</style>\n",
       "<table border=\"1\" class=\"dataframe\">\n",
       "  <thead>\n",
       "    <tr style=\"text-align: right;\">\n",
       "      <th></th>\n",
       "      <th>model</th>\n",
       "      <th>Mean_cross_val_Accuracy</th>\n",
       "      <th>Valid_Accuracy</th>\n",
       "    </tr>\n",
       "  </thead>\n",
       "  <tbody>\n",
       "    <tr>\n",
       "      <th>33</th>\n",
       "      <td>knn_deckew</td>\n",
       "      <td>0.973912</td>\n",
       "      <td>0.976587</td>\n",
       "    </tr>\n",
       "    <tr>\n",
       "      <th>27</th>\n",
       "      <td>knn_gauss_k_size_3</td>\n",
       "      <td>0.964966</td>\n",
       "      <td>0.967778</td>\n",
       "    </tr>\n",
       "    <tr>\n",
       "      <th>0</th>\n",
       "      <td>knn</td>\n",
       "      <td>0.962245</td>\n",
       "      <td>0.965556</td>\n",
       "    </tr>\n",
       "    <tr>\n",
       "      <th>29</th>\n",
       "      <td>knn_gauss_k_size_5</td>\n",
       "      <td>0.963606</td>\n",
       "      <td>0.965238</td>\n",
       "    </tr>\n",
       "    <tr>\n",
       "      <th>31</th>\n",
       "      <td>knn_gauss_k_size_7</td>\n",
       "      <td>0.958877</td>\n",
       "      <td>0.961905</td>\n",
       "    </tr>\n",
       "    <tr>\n",
       "      <th>21</th>\n",
       "      <td>knn_DIST_L2_mask_5</td>\n",
       "      <td>0.949626</td>\n",
       "      <td>0.960635</td>\n",
       "    </tr>\n",
       "    <tr>\n",
       "      <th>19</th>\n",
       "      <td>knn_DIST_L2_mask_3</td>\n",
       "      <td>0.948504</td>\n",
       "      <td>0.959365</td>\n",
       "    </tr>\n",
       "    <tr>\n",
       "      <th>25</th>\n",
       "      <td>knn_DIST_L1_mask_5</td>\n",
       "      <td>0.946497</td>\n",
       "      <td>0.956349</td>\n",
       "    </tr>\n",
       "    <tr>\n",
       "      <th>23</th>\n",
       "      <td>knn_DIST_L1_mask_3</td>\n",
       "      <td>0.946497</td>\n",
       "      <td>0.956349</td>\n",
       "    </tr>\n",
       "    <tr>\n",
       "      <th>34</th>\n",
       "      <td>XGB_deckew</td>\n",
       "      <td>0.953367</td>\n",
       "      <td>0.949921</td>\n",
       "    </tr>\n",
       "    <tr>\n",
       "      <th>7</th>\n",
       "      <td>knn_sobel</td>\n",
       "      <td>0.939830</td>\n",
       "      <td>0.945873</td>\n",
       "    </tr>\n",
       "    <tr>\n",
       "      <th>30</th>\n",
       "      <td>XGB_gauss_k_size_5</td>\n",
       "      <td>0.940613</td>\n",
       "      <td>0.941984</td>\n",
       "    </tr>\n",
       "    <tr>\n",
       "      <th>32</th>\n",
       "      <td>XGB_gauss_k_size_7</td>\n",
       "      <td>0.936055</td>\n",
       "      <td>0.939365</td>\n",
       "    </tr>\n",
       "    <tr>\n",
       "      <th>28</th>\n",
       "      <td>XGB_gauss_k_size_3</td>\n",
       "      <td>0.938265</td>\n",
       "      <td>0.939286</td>\n",
       "    </tr>\n",
       "    <tr>\n",
       "      <th>17</th>\n",
       "      <td>knn_median_k_size_3</td>\n",
       "      <td>0.928640</td>\n",
       "      <td>0.931349</td>\n",
       "    </tr>\n",
       "    <tr>\n",
       "      <th>4</th>\n",
       "      <td>XGB</td>\n",
       "      <td>0.931021</td>\n",
       "      <td>0.929206</td>\n",
       "    </tr>\n",
       "    <tr>\n",
       "      <th>20</th>\n",
       "      <td>XGB_DIST_L2_mask_3</td>\n",
       "      <td>0.926973</td>\n",
       "      <td>0.928730</td>\n",
       "    </tr>\n",
       "    <tr>\n",
       "      <th>22</th>\n",
       "      <td>XGB_DIST_L2_mask_5</td>\n",
       "      <td>0.926769</td>\n",
       "      <td>0.928571</td>\n",
       "    </tr>\n",
       "    <tr>\n",
       "      <th>15</th>\n",
       "      <td>knn_median_k_size_9</td>\n",
       "      <td>0.921327</td>\n",
       "      <td>0.927222</td>\n",
       "    </tr>\n",
       "    <tr>\n",
       "      <th>11</th>\n",
       "      <td>knn_median_k_size_5</td>\n",
       "      <td>0.921327</td>\n",
       "      <td>0.927222</td>\n",
       "    </tr>\n",
       "    <tr>\n",
       "      <th>13</th>\n",
       "      <td>knn_median_k_size_7</td>\n",
       "      <td>0.921327</td>\n",
       "      <td>0.927222</td>\n",
       "    </tr>\n",
       "    <tr>\n",
       "      <th>9</th>\n",
       "      <td>knn_median_k_size_3</td>\n",
       "      <td>0.921327</td>\n",
       "      <td>0.927222</td>\n",
       "    </tr>\n",
       "    <tr>\n",
       "      <th>26</th>\n",
       "      <td>XGB_DIST_L1_mask_5</td>\n",
       "      <td>0.926803</td>\n",
       "      <td>0.927143</td>\n",
       "    </tr>\n",
       "    <tr>\n",
       "      <th>24</th>\n",
       "      <td>XGB_DIST_L1_mask_3</td>\n",
       "      <td>0.926803</td>\n",
       "      <td>0.927143</td>\n",
       "    </tr>\n",
       "    <tr>\n",
       "      <th>6</th>\n",
       "      <td>XGB_laplas</td>\n",
       "      <td>0.914389</td>\n",
       "      <td>0.917222</td>\n",
       "    </tr>\n",
       "    <tr>\n",
       "      <th>8</th>\n",
       "      <td>XGB_sobel</td>\n",
       "      <td>0.912143</td>\n",
       "      <td>0.915000</td>\n",
       "    </tr>\n",
       "    <tr>\n",
       "      <th>12</th>\n",
       "      <td>XGB_median_k_size_5</td>\n",
       "      <td>0.910681</td>\n",
       "      <td>0.907381</td>\n",
       "    </tr>\n",
       "    <tr>\n",
       "      <th>14</th>\n",
       "      <td>XGB_median_k_size_7</td>\n",
       "      <td>0.910681</td>\n",
       "      <td>0.907381</td>\n",
       "    </tr>\n",
       "    <tr>\n",
       "      <th>10</th>\n",
       "      <td>XGB_median_k_size_3</td>\n",
       "      <td>0.910681</td>\n",
       "      <td>0.907381</td>\n",
       "    </tr>\n",
       "    <tr>\n",
       "      <th>16</th>\n",
       "      <td>XGB_median_k_size_9</td>\n",
       "      <td>0.910681</td>\n",
       "      <td>0.907381</td>\n",
       "    </tr>\n",
       "    <tr>\n",
       "      <th>18</th>\n",
       "      <td>XGB_median_k_size_3</td>\n",
       "      <td>0.895579</td>\n",
       "      <td>0.894841</td>\n",
       "    </tr>\n",
       "    <tr>\n",
       "      <th>3</th>\n",
       "      <td>SVC</td>\n",
       "      <td>0.849624</td>\n",
       "      <td>0.869206</td>\n",
       "    </tr>\n",
       "    <tr>\n",
       "      <th>2</th>\n",
       "      <td>forest</td>\n",
       "      <td>0.856600</td>\n",
       "      <td>0.862619</td>\n",
       "    </tr>\n",
       "    <tr>\n",
       "      <th>1</th>\n",
       "      <td>tree</td>\n",
       "      <td>0.842757</td>\n",
       "      <td>0.846587</td>\n",
       "    </tr>\n",
       "    <tr>\n",
       "      <th>5</th>\n",
       "      <td>knn_laplas</td>\n",
       "      <td>0.823165</td>\n",
       "      <td>0.837698</td>\n",
       "    </tr>\n",
       "  </tbody>\n",
       "</table>\n",
       "</div>"
      ],
      "text/plain": [
       "                  model  Mean_cross_val_Accuracy  Valid_Accuracy\n",
       "33           knn_deckew                 0.973912        0.976587\n",
       "27   knn_gauss_k_size_3                 0.964966        0.967778\n",
       "0                   knn                 0.962245        0.965556\n",
       "29   knn_gauss_k_size_5                 0.963606        0.965238\n",
       "31   knn_gauss_k_size_7                 0.958877        0.961905\n",
       "21   knn_DIST_L2_mask_5                 0.949626        0.960635\n",
       "19   knn_DIST_L2_mask_3                 0.948504        0.959365\n",
       "25   knn_DIST_L1_mask_5                 0.946497        0.956349\n",
       "23   knn_DIST_L1_mask_3                 0.946497        0.956349\n",
       "34           XGB_deckew                 0.953367        0.949921\n",
       "7             knn_sobel                 0.939830        0.945873\n",
       "30   XGB_gauss_k_size_5                 0.940613        0.941984\n",
       "32   XGB_gauss_k_size_7                 0.936055        0.939365\n",
       "28   XGB_gauss_k_size_3                 0.938265        0.939286\n",
       "17  knn_median_k_size_3                 0.928640        0.931349\n",
       "4                   XGB                 0.931021        0.929206\n",
       "20   XGB_DIST_L2_mask_3                 0.926973        0.928730\n",
       "22   XGB_DIST_L2_mask_5                 0.926769        0.928571\n",
       "15  knn_median_k_size_9                 0.921327        0.927222\n",
       "11  knn_median_k_size_5                 0.921327        0.927222\n",
       "13  knn_median_k_size_7                 0.921327        0.927222\n",
       "9   knn_median_k_size_3                 0.921327        0.927222\n",
       "26   XGB_DIST_L1_mask_5                 0.926803        0.927143\n",
       "24   XGB_DIST_L1_mask_3                 0.926803        0.927143\n",
       "6            XGB_laplas                 0.914389        0.917222\n",
       "8             XGB_sobel                 0.912143        0.915000\n",
       "12  XGB_median_k_size_5                 0.910681        0.907381\n",
       "14  XGB_median_k_size_7                 0.910681        0.907381\n",
       "10  XGB_median_k_size_3                 0.910681        0.907381\n",
       "16  XGB_median_k_size_9                 0.910681        0.907381\n",
       "18  XGB_median_k_size_3                 0.895579        0.894841\n",
       "3                   SVC                 0.849624        0.869206\n",
       "2                forest                 0.856600        0.862619\n",
       "1                  tree                 0.842757        0.846587\n",
       "5            knn_laplas                 0.823165        0.837698"
      ]
     },
     "execution_count": 72,
     "metadata": {},
     "output_type": "execute_result"
    }
   ],
   "source": [
    "results.sort_values(by=['Valid_Accuracy'], ascending=False)"
   ]
  },
  {
   "cell_type": "code",
   "execution_count": null,
   "metadata": {},
   "outputs": [],
   "source": []
  },
  {
   "cell_type": "code",
   "execution_count": 124,
   "metadata": {},
   "outputs": [],
   "source": [
    "pred_test_deckew=knn_deckew.predict(np.resize(test_img_deckew, (test.shape[0], 28*28)))"
   ]
  },
  {
   "cell_type": "code",
   "execution_count": 125,
   "metadata": {},
   "outputs": [
    {
     "data": {
      "text/plain": [
       "array([2., 0., 9., ..., 3., 9., 2.])"
      ]
     },
     "execution_count": 125,
     "metadata": {},
     "output_type": "execute_result"
    }
   ],
   "source": [
    "pred_test_deckew"
   ]
  },
  {
   "cell_type": "code",
   "execution_count": 126,
   "metadata": {},
   "outputs": [],
   "source": [
    "with open('submit_knn_deckew.txt', 'w') as dst:\n",
    "    dst.write('ImageId,Label\\n')\n",
    "    for i, p in enumerate(pred_test_deckew, 1):\n",
    "        dst.write('%s,%s\\n' % (i, int(p) ))"
   ]
  },
  {
   "cell_type": "code",
   "execution_count": 127,
   "metadata": {
    "scrolled": true
   },
   "outputs": [
    {
     "data": {
      "image/png": "[encoded data removed]",
      "text/plain": [
       "<IPython.core.display.Image object>"
      ]
     },
     "execution_count": 127,
     "metadata": {},
     "output_type": "execute_result"
    }
   ],
   "source": [
    "from IPython.display import Image\n",
    "Image('submit_knn_deckew.png')"
   ]
  },
  {
   "cell_type": "code",
   "execution_count": 271,
   "metadata": {},
   "outputs": [],
   "source": [
    "X_train_deckew, X_valid_deckew, y_train, y_valid_ = train_test_split(np.resize(train_img_deckew, (train.shape[0], 28*28)), train_label, test_size=0.30, random_state=42)"
   ]
  },
  {
   "cell_type": "code",
   "execution_count": 274,
   "metadata": {},
   "outputs": [],
   "source": [
    "from sklearn.model_selection import RandomizedSearchCV\n",
    "from sklearn.model_selection import GridSearchCV"
   ]
  },
  {
   "cell_type": "code",
   "execution_count": 275,
   "metadata": {
    "ExecuteTime": {
     "end_time": "2018-12-03T08:13:54.805043Z",
     "start_time": "2018-12-03T08:13:54.802002Z"
    }
   },
   "outputs": [],
   "source": [
    "knn_params = {\n",
    "    'n_neighbors': [1, 3, 5, 7, 9,11,15,20,40,100,200],\n",
    "    'p': [1, 2],\n",
    "    'weights':['uniform','distance']\n",
    "}"
   ]
  },
  {
   "cell_type": "code",
   "execution_count": 276,
   "metadata": {
    "ExecuteTime": {
     "end_time": "2018-12-03T08:14:08.504498Z",
     "start_time": "2018-12-03T08:13:54.925973Z"
    }
   },
   "outputs": [
    {
     "name": "stdout",
     "output_type": "stream",
     "text": [
      "Fitting 3 folds for each of 44 candidates, totalling 132 fits\n"
     ]
    },
    {
     "name": "stderr",
     "output_type": "stream",
     "text": [
      "[Parallel(n_jobs=-1)]: Using backend LokyBackend with 20 concurrent workers.\n",
      "[Parallel(n_jobs=-1)]: Done   1 tasks      | elapsed: 11.3min\n",
      "[Parallel(n_jobs=-1)]: Done  10 tasks      | elapsed: 11.9min\n",
      "[Parallel(n_jobs=-1)]: Done  21 tasks      | elapsed: 26.5min\n",
      "[Parallel(n_jobs=-1)]: Done  32 tasks      | elapsed: 27.3min\n",
      "[Parallel(n_jobs=-1)]: Done  45 tasks      | elapsed: 42.2min\n",
      "[Parallel(n_jobs=-1)]: Done  58 tasks      | elapsed: 44.9min\n",
      "[Parallel(n_jobs=-1)]: Done  73 tasks      | elapsed: 58.6min\n",
      "[Parallel(n_jobs=-1)]: Done  88 tasks      | elapsed: 73.9min\n",
      "[Parallel(n_jobs=-1)]: Done 107 out of 132 | elapsed: 88.5min remaining: 20.7min\n",
      "[Parallel(n_jobs=-1)]: Done 121 out of 132 | elapsed: 96.2min remaining:  8.7min\n",
      "[Parallel(n_jobs=-1)]: Done 132 out of 132 | elapsed: 99.0min finished\n"
     ]
    },
    {
     "data": {
      "text/plain": [
       "GridSearchCV(cv=3, error_score='raise-deprecating',\n",
       "       estimator=KNeighborsClassifier(algorithm='auto', leaf_size=30, metric='minkowski',\n",
       "           metric_params=None, n_jobs=-1, n_neighbors=5, p=2,\n",
       "           weights='uniform'),\n",
       "       fit_params=None, iid='warn', n_jobs=-1,\n",
       "       param_grid={'n_neighbors': [1, 3, 5, 7, 9, 11, 15, 20, 40, 100, 200], 'p': [1, 2], 'weights': ['uniform', 'distance']},\n",
       "       pre_dispatch='2*n_jobs', refit=True, return_train_score='warn',\n",
       "       scoring='accuracy', verbose=10)"
      ]
     },
     "execution_count": 276,
     "metadata": {},
     "output_type": "execute_result"
    }
   ],
   "source": [
    "knn = KNeighborsClassifier(n_jobs=-1)\n",
    "grid_knn = GridSearchCV(knn, knn_params, scoring='accuracy', cv=3,n_jobs=-1, verbose=10)\n",
    "grid_knn.fit(X_train_deckew, y_train)"
   ]
  },
  {
   "cell_type": "code",
   "execution_count": 277,
   "metadata": {
    "ExecuteTime": {
     "end_time": "2018-12-03T08:14:08.610585Z",
     "start_time": "2018-12-03T08:14:08.606575Z"
    },
    "scrolled": true
   },
   "outputs": [
    {
     "name": "stdout",
     "output_type": "stream",
     "text": [
      "{'n_neighbors': 3, 'p': 2, 'weights': 'distance'}\n",
      "0.9743537414965986\n",
      "KNeighborsClassifier(algorithm='auto', leaf_size=30, metric='minkowski',\n",
      "           metric_params=None, n_jobs=-1, n_neighbors=3, p=2,\n",
      "           weights='distance')\n"
     ]
    }
   ],
   "source": [
    "print(grid_knn.best_params_)\n",
    "print(grid_knn.best_score_)\n",
    "print(grid_knn.best_estimator_)"
   ]
  },
  {
   "cell_type": "code",
   "execution_count": 280,
   "metadata": {},
   "outputs": [
    {
     "data": {
      "text/plain": [
       "0.9776984126984127"
      ]
     },
     "execution_count": 280,
     "metadata": {},
     "output_type": "execute_result"
    }
   ],
   "source": [
    "accuracy_score(y_valid_ , grid_knn.best_estimator_.predict(X_valid_deckew))"
   ]
  },
  {
   "cell_type": "code",
   "execution_count": 283,
   "metadata": {},
   "outputs": [],
   "source": [
    "import xgboost"
   ]
  },
  {
   "cell_type": "code",
   "execution_count": 285,
   "metadata": {},
   "outputs": [
    {
     "name": "stdout",
     "output_type": "stream",
     "text": [
      "Fitting 3 folds for each of 10 candidates, totalling 30 fits\n"
     ]
    },
    {
     "name": "stderr",
     "output_type": "stream",
     "text": [
      "[Parallel(n_jobs=-1)]: Using backend LokyBackend with 20 concurrent workers.\n",
      "[Parallel(n_jobs=-1)]: Done   3 out of  30 | elapsed:  2.3min remaining: 20.8min\n",
      "[Parallel(n_jobs=-1)]: Done   7 out of  30 | elapsed: 10.0min remaining: 32.9min\n",
      "[Parallel(n_jobs=-1)]: Done  11 out of  30 | elapsed: 12.0min remaining: 20.7min\n",
      "[Parallel(n_jobs=-1)]: Done  15 out of  30 | elapsed: 20.1min remaining: 20.1min\n",
      "[Parallel(n_jobs=-1)]: Done  19 out of  30 | elapsed: 21.8min remaining: 12.6min\n",
      "[Parallel(n_jobs=-1)]: Done  23 out of  30 | elapsed: 24.2min remaining:  7.4min\n",
      "[Parallel(n_jobs=-1)]: Done  27 out of  30 | elapsed: 27.4min remaining:  3.0min\n",
      "[Parallel(n_jobs=-1)]: Done  30 out of  30 | elapsed: 29.6min finished\n"
     ]
    },
    {
     "name": "stdout",
     "output_type": "stream",
     "text": [
      "{'subsample': 0.9, 'reg_alpha': 0.04, 'n_estimators': 350, 'max_depth': 5, 'learning_rate': 0.2, 'colsample_bytree': 0.7}\n",
      "0.9748639455782313\n",
      "XGBClassifier(base_score=0.5, booster='gbtree', colsample_bylevel=1,\n",
      "       colsample_bytree=0.7, gamma=0, learning_rate=0.2, max_delta_step=0,\n",
      "       max_depth=5, min_child_weight=1, missing=None, n_estimators=350,\n",
      "       n_jobs=-1, nthread=None, objective='multi:softprob', random_state=0,\n",
      "       reg_alpha=0.04, reg_lambda=1, scale_pos_weight=1, seed=None,\n",
      "       silent=True, subsample=0.9)\n",
      "Wall time: 39min 48s\n"
     ]
    }
   ],
   "source": [
    "%%time\n",
    "\n",
    "XGB_params = {\n",
    "           'max_depth': [2,3,4,5,6,7,8,25,50], # 5 is good but takes too long in kaggle env\n",
    "    'subsample': [0.4,0.5,0.6,0.7,0.8,0.9,1.0],\n",
    "    'colsample_bytree': [0.5,0.6,0.7,0.8,0.9,1],\n",
    "    'n_estimators': [10,30,40,50,80,100,350,500,700],\n",
    "    'reg_alpha': [0,0.01, 0.02, 0.03, 0.04],\n",
    "    'learning_rate':[0.01, 0.05,0.1,0.2]\n",
    "}\n",
    "\n",
    "    \n",
    "\n",
    "grid_XGB =  RandomizedSearchCV(xgboost.XGBClassifier(n_jobs=-1),XGB_params,scoring='accuracy',\n",
    "                       cv=3,n_jobs=-1, verbose=10)\n",
    "grid_XGB.fit(X_train_deckew, y_train)\n",
    "print(grid_XGB.best_params_)\n",
    "print(grid_XGB.best_score_)\n",
    "print(grid_XGB.best_estimator_)"
   ]
  },
  {
   "cell_type": "code",
   "execution_count": 286,
   "metadata": {},
   "outputs": [
    {
     "data": {
      "text/plain": [
       "0.9782539682539683"
      ]
     },
     "execution_count": 286,
     "metadata": {},
     "output_type": "execute_result"
    }
   ],
   "source": [
    "accuracy_score(y_valid_ , grid_XGB.best_estimator_.predict(X_valid_deckew))"
   ]
  },
  {
   "cell_type": "code",
   "execution_count": 109,
   "metadata": {},
   "outputs": [],
   "source": [
    "test_img_gauss_k_size_3=np.array(list(map(partial(gaussblur_filter,ksize=3),train_img)))"
   ]
  },
  {
   "cell_type": "code",
   "execution_count": 110,
   "metadata": {},
   "outputs": [],
   "source": [
    "train_img_deckew_gauss= np.array(list(map(deskew, train_img_gauss_k_size_3)))\n"
   ]
  },
  {
   "cell_type": "code",
   "execution_count": 111,
   "metadata": {},
   "outputs": [],
   "source": [
    "test_img_deckew_gauss= np.array(list(map(deskew, test_img_gauss_k_size_3)))"
   ]
  },
  {
   "cell_type": "code",
   "execution_count": 112,
   "metadata": {},
   "outputs": [
    {
     "data": {
      "text/plain": [
       "<matplotlib.image.AxesImage at 0x28d8fd710>"
      ]
     },
     "execution_count": 112,
     "metadata": {},
     "output_type": "execute_result"
    },
    {
     "data": {
      "image/png": "[encoded data removed]",
      "text/plain": [
       "<Figure size 432x288 with 1 Axes>"
      ]
     },
     "metadata": {},
     "output_type": "display_data"
    }
   ],
   "source": [
    "plt.imshow(deskew(train_img_deckew_gauss[0]), cmap='gray')"
   ]
  },
  {
   "cell_type": "code",
   "execution_count": 79,
   "metadata": {},
   "outputs": [],
   "source": [
    "X_train_deckew_gauss, X_valid_deckew_gauss, y_train, y_valid_ = train_test_split(np.resize(train_img_deckew_gauss, (train.shape[0], 28*28)), train_label, test_size=0.30, random_state=42)"
   ]
  },
  {
   "cell_type": "code",
   "execution_count": 113,
   "metadata": {
    "scrolled": true
   },
   "outputs": [
    {
     "name": "stdout",
     "output_type": "stream",
     "text": [
      "knn Mean_cross_val_Accuracy  0.9739117620901359  Valid_Accuracy:  0.9765873015873016\n",
      "____________________________________________________________________\n",
      "Wall time: 2min 38s\n"
     ]
    }
   ],
   "source": [
    "%%time\n",
    "\n",
    "estimators = {\n",
    "    \n",
    "   \n",
    "    'knn': KNeighborsClassifier(n_jobs=-1),\n",
    "    #'tree': DecisionTreeClassifier(),\n",
    "    #'forest': linear_model.SGDClassifier(n_jobs=-1),\n",
    "    #'SVC': LinearSVC(),\n",
    "    #'XGB': XGBClassifier(n_jobs=-1)\n",
    "}\n",
    "\n",
    "for est in estimators: \n",
    "    globals()[est+'_deckew_gauss']=estimators[est]\n",
    "    eval(est+'_deckew_gauss').fit(X_train_deckew,y_train)\n",
    "    cross_val_scores = cross_val_score(eval(est+'_deckew_gauss'), X_train_deckew,y_train, cv=5,n_jobs=-1)\n",
    "    valid_score=accuracy_score(y_valid, eval(est+'_deckew_gauss').predict(X_valid_deckew))\n",
    "    print(est+' Mean_cross_val_Accuracy ',cross_val_scores.mean(),' Valid_Accuracy: ' ,valid_score)\n",
    "    results = results.append({'model' : est+'_deckew_gauss' , 'Mean_cross_val_Accuracy' : cross_val_scores.mean(),'Valid_Accuracy':valid_score} , ignore_index=True)\n",
    "    print('____________________________________________________________________')"
   ]
  },
  {
   "cell_type": "code",
   "execution_count": null,
   "metadata": {},
   "outputs": [],
   "source": [
    "knn_deckew_gauss"
   ]
  },
  {
   "cell_type": "code",
   "execution_count": 120,
   "metadata": {},
   "outputs": [],
   "source": [
    "pred_test_deckew_gauss=knn_deckew_gauss.predict(np.resize(test_img_deckew_gauss, (test.shape[0], 28*28)))"
   ]
  },
  {
   "cell_type": "code",
   "execution_count": 83,
   "metadata": {
    "scrolled": true
   },
   "outputs": [
    {
     "data": {
      "text/plain": [
       "array([2., 0., 9., ..., 3., 9., 2.])"
      ]
     },
     "execution_count": 83,
     "metadata": {},
     "output_type": "execute_result"
    }
   ],
   "source": [
    "pred_test_deckew"
   ]
  },
  {
   "cell_type": "code",
   "execution_count": 121,
   "metadata": {},
   "outputs": [],
   "source": [
    "with open('pred_test_deckew_gauss.txt', 'w') as dst:\n",
    "    dst.write('ImageId,Label\\n')\n",
    "    for i, p in enumerate(pred_test_deckew, 1):\n",
    "        dst.write('%s,%s\\n' % (i, int(p) ))"
   ]
  },
  {
   "cell_type": "code",
   "execution_count": 123,
   "metadata": {
    "scrolled": true
   },
   "outputs": [
    {
     "data": {
      "image/png": "[encoded data removed]",
      "text/plain": [
       "<IPython.core.display.Image object>"
      ]
     },
     "execution_count": 123,
     "metadata": {},
     "output_type": "execute_result"
    }
   ],
   "source": [
    "from IPython.display import Image\n",
    "Image('pred_test_deckew_gauss.png')"
   ]
  },
  {
   "cell_type": "code",
   "execution_count": 119,
   "metadata": {},
   "outputs": [],
   "source": [
    "pd.set_option('display.max_rows', 120) # display all columns"
   ]
  },
  {
   "cell_type": "code",
   "execution_count": 81,
   "metadata": {},
   "outputs": [
    {
     "data": {
      "text/html": [
       "<div>\n",
       "<style scoped>\n",
       "    .dataframe tbody tr th:only-of-type {\n",
       "        vertical-align: middle;\n",
       "    }\n",
       "\n",
       "    .dataframe tbody tr th {\n",
       "        vertical-align: top;\n",
       "    }\n",
       "\n",
       "    .dataframe thead th {\n",
       "        text-align: right;\n",
       "    }\n",
       "</style>\n",
       "<table border=\"1\" class=\"dataframe\">\n",
       "  <thead>\n",
       "    <tr style=\"text-align: right;\">\n",
       "      <th></th>\n",
       "      <th>model</th>\n",
       "      <th>Mean_cross_val_Accuracy</th>\n",
       "      <th>Valid_Accuracy</th>\n",
       "    </tr>\n",
       "  </thead>\n",
       "  <tbody>\n",
       "    <tr>\n",
       "      <th>35</th>\n",
       "      <td>knn_deckew_gauss</td>\n",
       "      <td>0.973912</td>\n",
       "      <td>0.976587</td>\n",
       "    </tr>\n",
       "    <tr>\n",
       "      <th>33</th>\n",
       "      <td>knn_deckew</td>\n",
       "      <td>0.973912</td>\n",
       "      <td>0.976587</td>\n",
       "    </tr>\n",
       "    <tr>\n",
       "      <th>27</th>\n",
       "      <td>knn_gauss_k_size_3</td>\n",
       "      <td>0.964966</td>\n",
       "      <td>0.967778</td>\n",
       "    </tr>\n",
       "    <tr>\n",
       "      <th>0</th>\n",
       "      <td>knn</td>\n",
       "      <td>0.962245</td>\n",
       "      <td>0.965556</td>\n",
       "    </tr>\n",
       "    <tr>\n",
       "      <th>29</th>\n",
       "      <td>knn_gauss_k_size_5</td>\n",
       "      <td>0.963606</td>\n",
       "      <td>0.965238</td>\n",
       "    </tr>\n",
       "    <tr>\n",
       "      <th>31</th>\n",
       "      <td>knn_gauss_k_size_7</td>\n",
       "      <td>0.958877</td>\n",
       "      <td>0.961905</td>\n",
       "    </tr>\n",
       "    <tr>\n",
       "      <th>21</th>\n",
       "      <td>knn_DIST_L2_mask_5</td>\n",
       "      <td>0.949626</td>\n",
       "      <td>0.960635</td>\n",
       "    </tr>\n",
       "    <tr>\n",
       "      <th>19</th>\n",
       "      <td>knn_DIST_L2_mask_3</td>\n",
       "      <td>0.948504</td>\n",
       "      <td>0.959365</td>\n",
       "    </tr>\n",
       "    <tr>\n",
       "      <th>25</th>\n",
       "      <td>knn_DIST_L1_mask_5</td>\n",
       "      <td>0.946497</td>\n",
       "      <td>0.956349</td>\n",
       "    </tr>\n",
       "    <tr>\n",
       "      <th>23</th>\n",
       "      <td>knn_DIST_L1_mask_3</td>\n",
       "      <td>0.946497</td>\n",
       "      <td>0.956349</td>\n",
       "    </tr>\n",
       "    <tr>\n",
       "      <th>34</th>\n",
       "      <td>XGB_deckew</td>\n",
       "      <td>0.953367</td>\n",
       "      <td>0.949921</td>\n",
       "    </tr>\n",
       "    <tr>\n",
       "      <th>7</th>\n",
       "      <td>knn_sobel</td>\n",
       "      <td>0.939830</td>\n",
       "      <td>0.945873</td>\n",
       "    </tr>\n",
       "    <tr>\n",
       "      <th>30</th>\n",
       "      <td>XGB_gauss_k_size_5</td>\n",
       "      <td>0.940613</td>\n",
       "      <td>0.941984</td>\n",
       "    </tr>\n",
       "    <tr>\n",
       "      <th>32</th>\n",
       "      <td>XGB_gauss_k_size_7</td>\n",
       "      <td>0.936055</td>\n",
       "      <td>0.939365</td>\n",
       "    </tr>\n",
       "    <tr>\n",
       "      <th>28</th>\n",
       "      <td>XGB_gauss_k_size_3</td>\n",
       "      <td>0.938265</td>\n",
       "      <td>0.939286</td>\n",
       "    </tr>\n",
       "    <tr>\n",
       "      <th>17</th>\n",
       "      <td>knn_median_k_size_3</td>\n",
       "      <td>0.928640</td>\n",
       "      <td>0.931349</td>\n",
       "    </tr>\n",
       "    <tr>\n",
       "      <th>4</th>\n",
       "      <td>XGB</td>\n",
       "      <td>0.931021</td>\n",
       "      <td>0.929206</td>\n",
       "    </tr>\n",
       "    <tr>\n",
       "      <th>20</th>\n",
       "      <td>XGB_DIST_L2_mask_3</td>\n",
       "      <td>0.926973</td>\n",
       "      <td>0.928730</td>\n",
       "    </tr>\n",
       "    <tr>\n",
       "      <th>22</th>\n",
       "      <td>XGB_DIST_L2_mask_5</td>\n",
       "      <td>0.926769</td>\n",
       "      <td>0.928571</td>\n",
       "    </tr>\n",
       "    <tr>\n",
       "      <th>15</th>\n",
       "      <td>knn_median_k_size_9</td>\n",
       "      <td>0.921327</td>\n",
       "      <td>0.927222</td>\n",
       "    </tr>\n",
       "    <tr>\n",
       "      <th>13</th>\n",
       "      <td>knn_median_k_size_7</td>\n",
       "      <td>0.921327</td>\n",
       "      <td>0.927222</td>\n",
       "    </tr>\n",
       "    <tr>\n",
       "      <th>11</th>\n",
       "      <td>knn_median_k_size_5</td>\n",
       "      <td>0.921327</td>\n",
       "      <td>0.927222</td>\n",
       "    </tr>\n",
       "    <tr>\n",
       "      <th>9</th>\n",
       "      <td>knn_median_k_size_3</td>\n",
       "      <td>0.921327</td>\n",
       "      <td>0.927222</td>\n",
       "    </tr>\n",
       "    <tr>\n",
       "      <th>24</th>\n",
       "      <td>XGB_DIST_L1_mask_3</td>\n",
       "      <td>0.926803</td>\n",
       "      <td>0.927143</td>\n",
       "    </tr>\n",
       "    <tr>\n",
       "      <th>26</th>\n",
       "      <td>XGB_DIST_L1_mask_5</td>\n",
       "      <td>0.926803</td>\n",
       "      <td>0.927143</td>\n",
       "    </tr>\n",
       "    <tr>\n",
       "      <th>6</th>\n",
       "      <td>XGB_laplas</td>\n",
       "      <td>0.914389</td>\n",
       "      <td>0.917222</td>\n",
       "    </tr>\n",
       "    <tr>\n",
       "      <th>8</th>\n",
       "      <td>XGB_sobel</td>\n",
       "      <td>0.912143</td>\n",
       "      <td>0.915000</td>\n",
       "    </tr>\n",
       "    <tr>\n",
       "      <th>14</th>\n",
       "      <td>XGB_median_k_size_7</td>\n",
       "      <td>0.910681</td>\n",
       "      <td>0.907381</td>\n",
       "    </tr>\n",
       "    <tr>\n",
       "      <th>16</th>\n",
       "      <td>XGB_median_k_size_9</td>\n",
       "      <td>0.910681</td>\n",
       "      <td>0.907381</td>\n",
       "    </tr>\n",
       "    <tr>\n",
       "      <th>12</th>\n",
       "      <td>XGB_median_k_size_5</td>\n",
       "      <td>0.910681</td>\n",
       "      <td>0.907381</td>\n",
       "    </tr>\n",
       "    <tr>\n",
       "      <th>10</th>\n",
       "      <td>XGB_median_k_size_3</td>\n",
       "      <td>0.910681</td>\n",
       "      <td>0.907381</td>\n",
       "    </tr>\n",
       "    <tr>\n",
       "      <th>18</th>\n",
       "      <td>XGB_median_k_size_3</td>\n",
       "      <td>0.895579</td>\n",
       "      <td>0.894841</td>\n",
       "    </tr>\n",
       "    <tr>\n",
       "      <th>3</th>\n",
       "      <td>SVC</td>\n",
       "      <td>0.849624</td>\n",
       "      <td>0.869206</td>\n",
       "    </tr>\n",
       "    <tr>\n",
       "      <th>2</th>\n",
       "      <td>forest</td>\n",
       "      <td>0.856600</td>\n",
       "      <td>0.862619</td>\n",
       "    </tr>\n",
       "    <tr>\n",
       "      <th>1</th>\n",
       "      <td>tree</td>\n",
       "      <td>0.842757</td>\n",
       "      <td>0.846587</td>\n",
       "    </tr>\n",
       "    <tr>\n",
       "      <th>5</th>\n",
       "      <td>knn_laplas</td>\n",
       "      <td>0.823165</td>\n",
       "      <td>0.837698</td>\n",
       "    </tr>\n",
       "  </tbody>\n",
       "</table>\n",
       "</div>"
      ],
      "text/plain": [
       "                  model  Mean_cross_val_Accuracy  Valid_Accuracy\n",
       "35     knn_deckew_gauss                 0.973912        0.976587\n",
       "33           knn_deckew                 0.973912        0.976587\n",
       "27   knn_gauss_k_size_3                 0.964966        0.967778\n",
       "0                   knn                 0.962245        0.965556\n",
       "29   knn_gauss_k_size_5                 0.963606        0.965238\n",
       "31   knn_gauss_k_size_7                 0.958877        0.961905\n",
       "21   knn_DIST_L2_mask_5                 0.949626        0.960635\n",
       "19   knn_DIST_L2_mask_3                 0.948504        0.959365\n",
       "25   knn_DIST_L1_mask_5                 0.946497        0.956349\n",
       "23   knn_DIST_L1_mask_3                 0.946497        0.956349\n",
       "34           XGB_deckew                 0.953367        0.949921\n",
       "7             knn_sobel                 0.939830        0.945873\n",
       "30   XGB_gauss_k_size_5                 0.940613        0.941984\n",
       "32   XGB_gauss_k_size_7                 0.936055        0.939365\n",
       "28   XGB_gauss_k_size_3                 0.938265        0.939286\n",
       "17  knn_median_k_size_3                 0.928640        0.931349\n",
       "4                   XGB                 0.931021        0.929206\n",
       "20   XGB_DIST_L2_mask_3                 0.926973        0.928730\n",
       "22   XGB_DIST_L2_mask_5                 0.926769        0.928571\n",
       "15  knn_median_k_size_9                 0.921327        0.927222\n",
       "13  knn_median_k_size_7                 0.921327        0.927222\n",
       "11  knn_median_k_size_5                 0.921327        0.927222\n",
       "9   knn_median_k_size_3                 0.921327        0.927222\n",
       "24   XGB_DIST_L1_mask_3                 0.926803        0.927143\n",
       "26   XGB_DIST_L1_mask_5                 0.926803        0.927143\n",
       "6            XGB_laplas                 0.914389        0.917222\n",
       "8             XGB_sobel                 0.912143        0.915000\n",
       "14  XGB_median_k_size_7                 0.910681        0.907381\n",
       "16  XGB_median_k_size_9                 0.910681        0.907381\n",
       "12  XGB_median_k_size_5                 0.910681        0.907381\n",
       "10  XGB_median_k_size_3                 0.910681        0.907381\n",
       "18  XGB_median_k_size_3                 0.895579        0.894841\n",
       "3                   SVC                 0.849624        0.869206\n",
       "2                forest                 0.856600        0.862619\n",
       "1                  tree                 0.842757        0.846587\n",
       "5            knn_laplas                 0.823165        0.837698"
      ]
     },
     "execution_count": 81,
     "metadata": {},
     "output_type": "execute_result"
    }
   ],
   "source": [
    "results.sort_values(by=['Valid_Accuracy'], ascending=False)"
   ]
  },
  {
   "cell_type": "code",
   "execution_count": 35,
   "metadata": {},
   "outputs": [
    {
     "data": {
      "text/html": [
       "<div>\n",
       "<style scoped>\n",
       "    .dataframe tbody tr th:only-of-type {\n",
       "        vertical-align: middle;\n",
       "    }\n",
       "\n",
       "    .dataframe tbody tr th {\n",
       "        vertical-align: top;\n",
       "    }\n",
       "\n",
       "    .dataframe thead th {\n",
       "        text-align: right;\n",
       "    }\n",
       "</style>\n",
       "<table border=\"1\" class=\"dataframe\">\n",
       "  <thead>\n",
       "    <tr style=\"text-align: right;\">\n",
       "      <th></th>\n",
       "      <th>model</th>\n",
       "      <th>Mean_cross_val_Accuracy</th>\n",
       "      <th>Valid_Accuracy</th>\n",
       "    </tr>\n",
       "  </thead>\n",
       "  <tbody>\n",
       "    <tr>\n",
       "      <th>0</th>\n",
       "      <td>knn</td>\n",
       "      <td>0.962245</td>\n",
       "      <td>0.965556</td>\n",
       "    </tr>\n",
       "    <tr>\n",
       "      <th>1</th>\n",
       "      <td>tree</td>\n",
       "      <td>0.842757</td>\n",
       "      <td>0.846587</td>\n",
       "    </tr>\n",
       "    <tr>\n",
       "      <th>2</th>\n",
       "      <td>forest</td>\n",
       "      <td>0.856600</td>\n",
       "      <td>0.862619</td>\n",
       "    </tr>\n",
       "    <tr>\n",
       "      <th>3</th>\n",
       "      <td>SVC</td>\n",
       "      <td>0.849624</td>\n",
       "      <td>0.869206</td>\n",
       "    </tr>\n",
       "    <tr>\n",
       "      <th>4</th>\n",
       "      <td>XGB</td>\n",
       "      <td>0.931021</td>\n",
       "      <td>0.929206</td>\n",
       "    </tr>\n",
       "    <tr>\n",
       "      <th>5</th>\n",
       "      <td>knn_laplas</td>\n",
       "      <td>0.823165</td>\n",
       "      <td>0.837698</td>\n",
       "    </tr>\n",
       "    <tr>\n",
       "      <th>6</th>\n",
       "      <td>XGB_laplas</td>\n",
       "      <td>0.914389</td>\n",
       "      <td>0.917222</td>\n",
       "    </tr>\n",
       "    <tr>\n",
       "      <th>7</th>\n",
       "      <td>knn_sobel</td>\n",
       "      <td>0.939830</td>\n",
       "      <td>0.945873</td>\n",
       "    </tr>\n",
       "    <tr>\n",
       "      <th>8</th>\n",
       "      <td>XGB_sobel</td>\n",
       "      <td>0.912143</td>\n",
       "      <td>0.915000</td>\n",
       "    </tr>\n",
       "  </tbody>\n",
       "</table>\n",
       "</div>"
      ],
      "text/plain": [
       "        model  Mean_cross_val_Accuracy  Valid_Accuracy\n",
       "0         knn                 0.962245        0.965556\n",
       "1        tree                 0.842757        0.846587\n",
       "2      forest                 0.856600        0.862619\n",
       "3         SVC                 0.849624        0.869206\n",
       "4         XGB                 0.931021        0.929206\n",
       "5  knn_laplas                 0.823165        0.837698\n",
       "6  XGB_laplas                 0.914389        0.917222\n",
       "7   knn_sobel                 0.939830        0.945873\n",
       "8   XGB_sobel                 0.912143        0.915000"
      ]
     },
     "execution_count": 35,
     "metadata": {},
     "output_type": "execute_result"
    }
   ],
   "source": [
    "results"
   ]
  },
  {
   "cell_type": "code",
   "execution_count": null,
   "metadata": {},
   "outputs": [],
   "source": []
  },
  {
   "cell_type": "code",
   "execution_count": null,
   "metadata": {},
   "outputs": [],
   "source": []
  },
  {
   "cell_type": "markdown",
   "metadata": {},
   "source": [
    "### Попробуем некокторые морфологческие преобразования"
   ]
  },
  {
   "cell_type": "code",
   "execution_count": null,
   "metadata": {},
   "outputs": [],
   "source": [
    "# Биноризуем картинки"
   ]
  },
  {
   "cell_type": "code",
   "execution_count": null,
   "metadata": {},
   "outputs": [],
   "source": [
    "plt.imshow(train_img_deckew[1], cmap='gray')"
   ]
  },
  {
   "cell_type": "code",
   "execution_count": 84,
   "metadata": {},
   "outputs": [],
   "source": [
    "def binar(img,threshold=5, max_value=255.0):\n",
    "    return max_value * (img > threshold)"
   ]
  },
  {
   "cell_type": "code",
   "execution_count": null,
   "metadata": {
    "scrolled": true
   },
   "outputs": [],
   "source": [
    "plt.imshow(binar(train_img_deckew[1]))"
   ]
  },
  {
   "cell_type": "code",
   "execution_count": null,
   "metadata": {},
   "outputs": [],
   "source": [
    "a=binar(train_img_deckew[1])\n"
   ]
  },
  {
   "cell_type": "code",
   "execution_count": null,
   "metadata": {},
   "outputs": [],
   "source": [
    "a=train_img_deckew[1]"
   ]
  },
  {
   "cell_type": "code",
   "execution_count": 85,
   "metadata": {},
   "outputs": [],
   "source": [
    "test_img_deckew= np.array(list(map(deskew, test_img)))"
   ]
  },
  {
   "cell_type": "code",
   "execution_count": 86,
   "metadata": {},
   "outputs": [],
   "source": [
    "def Morpholog_transformation(img,method='erode',k_size=2):\n",
    "    img=binar(img)\n",
    "    kernel = np.ones((k_size, k_size), np.float32)\n",
    "    ret = np.zeros_like(img)\n",
    "    for i in range(len(img)):\n",
    "       # ret=2\n",
    "        if    method == 'erode':\n",
    "            ret[i] = cv2.erode(img[i],kernel,iterations = 1)[:, 0]\n",
    "        elif  method == 'dilate':\n",
    "            ret[i] = cv2.dilate(img[i],kernel,iterations = 1)[:, 0]\n",
    "        elif  method == 'open':\n",
    "            ret[i] = cv2.morphologyEx(img[i], cv2.MORPH_OPEN,kernel)[:, 0]\n",
    "        elif  method == 'close':\n",
    "            ret[i] = cv2.morphologyEx(img[i],cv2.MORPH_CLOSE,kernel)[:, 0]\n",
    "    return ret"
   ]
  },
  {
   "cell_type": "code",
   "execution_count": null,
   "metadata": {},
   "outputs": [],
   "source": []
  },
  {
   "cell_type": "code",
   "execution_count": 87,
   "metadata": {},
   "outputs": [],
   "source": [
    "estimators = {\n",
    "    \n",
    "   \n",
    "    'knn': KNeighborsClassifier(n_jobs=-1),\n",
    "    #'tree': DecisionTreeClassifier(),\n",
    "    #'forest': linear_model.SGDClassifier(n_jobs=-1),\n",
    "    #'SVC': LinearSVC(),\n",
    "    'XGB': XGBClassifier(n_jobs=-1)\n",
    "}"
   ]
  },
  {
   "cell_type": "code",
   "execution_count": 88,
   "metadata": {},
   "outputs": [
    {
     "name": "stdout",
     "output_type": "stream",
     "text": [
      "____________________________________________________________________\n",
      "1 erode\n",
      "knn Mean_cross_val_Accuracy  0.963401283901136  Valid_Accuracy:  0.9652380952380952\n",
      "____________________________________________________________________\n",
      "1 erode\n",
      "XGB Mean_cross_val_Accuracy  0.9458167437498339  Valid_Accuracy:  0.9458730158730159\n",
      "____________________________________________________________________\n",
      "1 dilate\n",
      "knn Mean_cross_val_Accuracy  0.963401283901136  Valid_Accuracy:  0.9652380952380952\n",
      "____________________________________________________________________\n",
      "1 dilate\n",
      "XGB Mean_cross_val_Accuracy  0.9458167437498339  Valid_Accuracy:  0.9458730158730159\n",
      "____________________________________________________________________\n",
      "1 open\n",
      "knn Mean_cross_val_Accuracy  0.963401283901136  Valid_Accuracy:  0.9652380952380952\n",
      "____________________________________________________________________\n",
      "1 open\n",
      "XGB Mean_cross_val_Accuracy  0.9458167437498339  Valid_Accuracy:  0.9458730158730159\n",
      "____________________________________________________________________\n",
      "1 close\n",
      "knn Mean_cross_val_Accuracy  0.963401283901136  Valid_Accuracy:  0.9652380952380952\n",
      "____________________________________________________________________\n",
      "1 close\n",
      "XGB Mean_cross_val_Accuracy  0.9458167437498339  Valid_Accuracy:  0.9458730158730159\n",
      "____________________________________________________________________\n",
      "2 erode\n",
      "knn Mean_cross_val_Accuracy  0.9656463617218087  Valid_Accuracy:  0.9671428571428572\n",
      "____________________________________________________________________\n",
      "2 erode\n",
      "XGB Mean_cross_val_Accuracy  0.9452048109267803  Valid_Accuracy:  0.9426984126984127\n",
      "____________________________________________________________________\n",
      "2 dilate\n",
      "knn Mean_cross_val_Accuracy  0.9562244233254237  Valid_Accuracy:  0.9569841269841269\n",
      "____________________________________________________________________\n",
      "2 dilate\n",
      "XGB Mean_cross_val_Accuracy  0.9434694575543094  Valid_Accuracy:  0.9441269841269841\n"
     ]
    },
    {
     "name": "stderr",
     "output_type": "stream",
     "text": [
      "C:\\Users\\gpog001\\AppData\\Local\\Continuum\\anaconda3\\lib\\site-packages\\sklearn\\externals\\joblib\\externals\\loky\\process_executor.py:700: UserWarning: A worker stopped while some jobs were given to the executor. This can be caused by a too short worker timeout or by a memory leak.\n",
      "  \"timeout or by a memory leak.\", UserWarning\n"
     ]
    },
    {
     "name": "stdout",
     "output_type": "stream",
     "text": [
      "____________________________________________________________________\n",
      "2 open\n",
      "knn Mean_cross_val_Accuracy  0.9629932477953498  Valid_Accuracy:  0.9657142857142857\n",
      "____________________________________________________________________\n",
      "2 open\n",
      "XGB Mean_cross_val_Accuracy  0.9453064933439723  Valid_Accuracy:  0.9463492063492064\n",
      "____________________________________________________________________\n",
      "2 close\n",
      "knn Mean_cross_val_Accuracy  0.9609523673274492  Valid_Accuracy:  0.962936507936508\n",
      "____________________________________________________________________\n",
      "2 close\n",
      "XGB Mean_cross_val_Accuracy  0.9426529342598144  Valid_Accuracy:  0.942936507936508\n",
      "____________________________________________________________________\n",
      "3 erode\n",
      "knn Mean_cross_val_Accuracy  0.9622790662142148  Valid_Accuracy:  0.9639682539682539\n",
      "____________________________________________________________________\n",
      "3 erode\n",
      "XGB Mean_cross_val_Accuracy  0.9373472446222522  Valid_Accuracy:  0.936984126984127\n",
      "____________________________________________________________________\n",
      "3 dilate\n",
      "knn Mean_cross_val_Accuracy  0.9466661126545558  Valid_Accuracy:  0.9498412698412698\n",
      "____________________________________________________________________\n",
      "3 dilate\n",
      "XGB Mean_cross_val_Accuracy  0.9384694856206839  Valid_Accuracy:  0.9393650793650794\n",
      "____________________________________________________________________\n",
      "3 open\n",
      "knn Mean_cross_val_Accuracy  0.9634011393159456  Valid_Accuracy:  0.964920634920635\n",
      "____________________________________________________________________\n",
      "3 open\n",
      "XGB Mean_cross_val_Accuracy  0.9446260764472887  Valid_Accuracy:  0.946031746031746\n",
      "____________________________________________________________________\n",
      "3 close\n",
      "knn Mean_cross_val_Accuracy  0.9563606801196494  Valid_Accuracy:  0.9562698412698413\n",
      "____________________________________________________________________\n",
      "3 close\n",
      "XGB Mean_cross_val_Accuracy  0.9389457107614179  Valid_Accuracy:  0.939047619047619\n",
      "____________________________________________________________________\n",
      "5 erode\n",
      "knn Mean_cross_val_Accuracy  0.9048982584756795  Valid_Accuracy:  0.9107936507936508\n",
      "____________________________________________________________________\n",
      "5 erode\n",
      "XGB Mean_cross_val_Accuracy  0.8948978982726873  Valid_Accuracy:  0.8957142857142857\n",
      "____________________________________________________________________\n",
      "5 dilate\n",
      "knn Mean_cross_val_Accuracy  0.9343194202603735  Valid_Accuracy:  0.9344444444444444\n",
      "____________________________________________________________________\n",
      "5 dilate\n",
      "XGB Mean_cross_val_Accuracy  0.9333675420149046  Valid_Accuracy:  0.9292857142857143\n",
      "____________________________________________________________________\n",
      "5 open\n",
      "knn Mean_cross_val_Accuracy  0.9269728153645443  Valid_Accuracy:  0.9285714285714286\n",
      "____________________________________________________________________\n",
      "5 open\n",
      "XGB Mean_cross_val_Accuracy  0.9126534085777587  Valid_Accuracy:  0.9135714285714286\n",
      "____________________________________________________________________\n",
      "5 close\n",
      "knn Mean_cross_val_Accuracy  0.9433334032820684  Valid_Accuracy:  0.9453174603174603\n",
      "____________________________________________________________________\n",
      "5 close\n",
      "XGB Mean_cross_val_Accuracy  0.9308841898106414  Valid_Accuracy:  0.9306349206349206\n",
      "____________________________________________________________________\n",
      "8 erode\n",
      "knn Mean_cross_val_Accuracy  0.7745929149657487  Valid_Accuracy:  0.7816666666666666\n",
      "____________________________________________________________________\n",
      "8 erode\n",
      "XGB Mean_cross_val_Accuracy  0.8169042690696422  Valid_Accuracy:  0.8223015873015873\n"
     ]
    },
    {
     "name": "stderr",
     "output_type": "stream",
     "text": [
      "C:\\Users\\gpog001\\AppData\\Local\\Continuum\\anaconda3\\lib\\site-packages\\sklearn\\externals\\joblib\\externals\\loky\\process_executor.py:700: UserWarning: A worker stopped while some jobs were given to the executor. This can be caused by a too short worker timeout or by a memory leak.\n",
      "  \"timeout or by a memory leak.\", UserWarning\n"
     ]
    },
    {
     "name": "stdout",
     "output_type": "stream",
     "text": [
      "____________________________________________________________________\n",
      "8 dilate\n",
      "knn Mean_cross_val_Accuracy  0.923367528631962  Valid_Accuracy:  0.9274603174603174\n",
      "____________________________________________________________________\n",
      "8 dilate\n",
      "XGB Mean_cross_val_Accuracy  0.9236055776047067  Valid_Accuracy:  0.922063492063492\n"
     ]
    },
    {
     "name": "stderr",
     "output_type": "stream",
     "text": [
      "C:\\Users\\gpog001\\AppData\\Local\\Continuum\\anaconda3\\lib\\site-packages\\sklearn\\externals\\joblib\\externals\\loky\\process_executor.py:700: UserWarning: A worker stopped while some jobs were given to the executor. This can be caused by a too short worker timeout or by a memory leak.\n",
      "  \"timeout or by a memory leak.\", UserWarning\n"
     ]
    },
    {
     "name": "stdout",
     "output_type": "stream",
     "text": [
      "____________________________________________________________________\n",
      "8 open\n",
      "knn Mean_cross_val_Accuracy  0.8221107689249667  Valid_Accuracy:  0.8355555555555556\n",
      "____________________________________________________________________\n",
      "8 open\n",
      "XGB Mean_cross_val_Accuracy  0.8443190435918924  Valid_Accuracy:  0.846984126984127\n",
      "____________________________________________________________________\n",
      "8 close\n",
      "knn Mean_cross_val_Accuracy  0.9302037904616492  Valid_Accuracy:  0.9323809523809524\n",
      "____________________________________________________________________\n",
      "8 close\n",
      "XGB Mean_cross_val_Accuracy  0.9232315780855487  Valid_Accuracy:  0.9205555555555556\n"
     ]
    }
   ],
   "source": [
    "kernels=[1,2,3,5,8]\n",
    "methods=['erode','dilate','open','close']\n",
    "for ker  in kernels:\n",
    "    for met in methods:\n",
    "        #print(ker,met)\n",
    "        #print('train_img_deckew_'+met+'_k_size_'+str(ker))\n",
    "        globals()['train_img_deckew_'+met+'_k_size_'+str(ker)]=np.array(list(map(partial(Morpholog_transformation,method=met,k_size=ker),train_img_deckew)))\n",
    "        X_train, X_valid, y_train, y_valid = train_test_split(np.resize(eval('train_img_deckew_'+met+'_k_size_'+str(ker)), (train.shape[0], 28*28)), train_label, test_size=0.30, random_state=42)\n",
    "        \n",
    "        \n",
    "        for est in estimators: \n",
    "            globals()[est+'_deckew_'+met+'_k_size_'+str(ker)]=estimators[est]\n",
    "            eval(est+'_deckew_'+met+'_k_size_'+str(ker)).fit(X_train,y_train)\n",
    "            cross_val_scores = cross_val_score(eval(est+'_deckew_'+met+'_k_size_'+str(ker)), X_train,y_train, cv=5,n_jobs=-1)\n",
    "            valid_score=accuracy_score(y_valid, eval(est+'_deckew_'+met+'_k_size_'+str(ker)).predict(X_valid))\n",
    "            print('____________________________________________________________________')\n",
    "            print(ker,met)\n",
    "            print(est+' Mean_cross_val_Accuracy ',cross_val_scores.mean(),' Valid_Accuracy: ' ,valid_score)\n",
    "            results = results.append({'model' : est+'_deckew_'+met+'_k_size_'+str(ker) , 'Mean_cross_val_Accuracy' : cross_val_scores.mean(),'Valid_Accuracy':valid_score} , ignore_index=True)\n",
    "           "
   ]
  },
  {
   "cell_type": "code",
   "execution_count": 90,
   "metadata": {},
   "outputs": [],
   "source": [
    "test_img_deckew_dilate_k_size_2=np.array(list(map(partial(Morpholog_transformation,method='dilate',k_size=2),test_img_deckew)))"
   ]
  },
  {
   "cell_type": "code",
   "execution_count": null,
   "metadata": {},
   "outputs": [],
   "source": [
    "knn_deckew_dilate_k_size_2"
   ]
  },
  {
   "cell_type": "code",
   "execution_count": null,
   "metadata": {},
   "outputs": [],
   "source": [
    "pred_test_deckew_dilate_k_size_2=knn_deckew_dilate_k_size_2.predict(np.resize(test_img_deckew_dilate_k_size_2, (test.shape[0], 28*28)))"
   ]
  },
  {
   "cell_type": "code",
   "execution_count": 457,
   "metadata": {},
   "outputs": [],
   "source": [
    "with open('submit_knn_deckew_dilate_k_size_2.txt', 'w') as dst:\n",
    "    dst.write('ImageId,Label\\n')\n",
    "    for i, p in enumerate(pred_test_deckew_dilate_k_size_2, 1):\n",
    "        dst.write('%s,%s\\n' % (i, int(p) ))"
   ]
  },
  {
   "cell_type": "code",
   "execution_count": 463,
   "metadata": {
    "scrolled": true
   },
   "outputs": [
    {
     "data": {
      "image/png": "[encoded data removed]",
      "text/plain": [
       "<IPython.core.display.Image object>"
      ]
     },
     "execution_count": 463,
     "metadata": {},
     "output_type": "execute_result"
    }
   ],
   "source": [
    "from IPython.display import Image\n",
    "Image('submit_knn_deckew_dilate_k_size_2.png')"
   ]
  },
  {
   "cell_type": "code",
   "execution_count": 89,
   "metadata": {},
   "outputs": [],
   "source": [
    "results=results.drop([51,52,53,54,55,56,57,58])"
   ]
  },
  {
   "cell_type": "code",
   "execution_count": null,
   "metadata": {},
   "outputs": [],
   "source": [
    "train_img_deckew_gauss"
   ]
  },
  {
   "cell_type": "code",
   "execution_count": 115,
   "metadata": {},
   "outputs": [
    {
     "name": "stdout",
     "output_type": "stream",
     "text": [
      "____________________________________________________________________\n",
      "2 erode\n",
      "knn Mean_cross_val_Accuracy  0.925918162159429  Valid_Accuracy:  0.9267460317460318\n",
      "____________________________________________________________________\n",
      "2 dilate\n",
      "knn Mean_cross_val_Accuracy  0.908333246195068  Valid_Accuracy:  0.9131746031746032\n",
      "____________________________________________________________________\n",
      "2 open\n",
      "knn Mean_cross_val_Accuracy  0.9188095196843367  Valid_Accuracy:  0.9206349206349206\n",
      "____________________________________________________________________\n",
      "2 close\n",
      "knn Mean_cross_val_Accuracy  0.9147962027024269  Valid_Accuracy:  0.9188888888888889\n",
      "____________________________________________________________________\n",
      "3 erode\n",
      "knn Mean_cross_val_Accuracy  0.9298640996986913  Valid_Accuracy:  0.9321428571428572\n",
      "____________________________________________________________________\n",
      "3 dilate\n",
      "knn Mean_cross_val_Accuracy  0.9014966836394167  Valid_Accuracy:  0.9062698412698412\n",
      "____________________________________________________________________\n",
      "3 open\n",
      "knn Mean_cross_val_Accuracy  0.9188094792145669  Valid_Accuracy:  0.9203174603174603\n",
      "____________________________________________________________________\n",
      "3 close\n",
      "knn Mean_cross_val_Accuracy  0.910135880943961  Valid_Accuracy:  0.9123809523809524\n",
      "____________________________________________________________________\n",
      "5 erode\n",
      "knn Mean_cross_val_Accuracy  0.9308159313641335  Valid_Accuracy:  0.9334126984126984\n",
      "____________________________________________________________________\n",
      "5 dilate\n",
      "knn Mean_cross_val_Accuracy  0.8954083281877903  Valid_Accuracy:  0.9005555555555556\n",
      "____________________________________________________________________\n",
      "5 open\n",
      "knn Mean_cross_val_Accuracy  0.9194556741843911  Valid_Accuracy:  0.9203968253968254\n",
      "____________________________________________________________________\n",
      "5 close\n",
      "knn Mean_cross_val_Accuracy  0.9012584436803944  Valid_Accuracy:  0.9041269841269841\n"
     ]
    }
   ],
   "source": [
    "kernels=[2,3,5]\n",
    "methods=['erode','dilate','open','close']\n",
    "for ker  in kernels:\n",
    "    for met in methods:\n",
    "        #print(ker,met)\n",
    "        #print('train_img_deckew_'+met+'_k_size_'+str(ker))\n",
    "        globals()['train_img_deckew_gauss_'+met+'_k_size_'+str(ker)]=np.array(list(map(partial(Morpholog_transformation,method=met,k_size=ker),train_img_deckew_gauss)))\n",
    "        X_train, X_valid, y_train, y_valid = train_test_split(np.resize(eval('train_img_deckew_gauss_'+met+'_k_size_'+str(ker)), (train.shape[0], 28*28)), train_label, test_size=0.30, random_state=42)\n",
    "        \n",
    "        \n",
    "        for est in estimators: \n",
    "            globals()[est+'_deckew_gauss_'+met+'_k_size_'+str(ker)]=estimators[est]\n",
    "            eval(est+'_deckew_gauss_'+met+'_k_size_'+str(ker)).fit(X_train,y_train)\n",
    "            cross_val_scores = cross_val_score(eval(est+'_deckew_gauss_'+met+'_k_size_'+str(ker)), X_train,y_train, cv=5,n_jobs=-1)\n",
    "            valid_score=accuracy_score(y_valid, eval(est+'_deckew_gauss_'+met+'_k_size_'+str(ker)).predict(X_valid))\n",
    "            print('____________________________________________________________________')\n",
    "            print(ker,met)\n",
    "            print(est+' Mean_cross_val_Accuracy ',cross_val_scores.mean(),' Valid_Accuracy: ' ,valid_score)\n",
    "            results = results.append({'model' : est+'_deckew_gauss_'+met+'_k_size_'+str(ker) , 'Mean_cross_val_Accuracy' : cross_val_scores.mean(),'Valid_Accuracy':valid_score} , ignore_index=True)\n",
    "           "
   ]
  },
  {
   "cell_type": "code",
   "execution_count": null,
   "metadata": {},
   "outputs": [],
   "source": [
    "knn_deckew_dilate_k_size_2"
   ]
  },
  {
   "cell_type": "code",
   "execution_count": null,
   "metadata": {},
   "outputs": [],
   "source": [
    "pred_test_deckew_dilate_k_size_2=knn_deckew_dilate_k_size_2.predict(np.resize(test_img_deckew_dilate_k_size_2, (test.shape[0], 28*28)))"
   ]
  },
  {
   "cell_type": "code",
   "execution_count": 457,
   "metadata": {},
   "outputs": [],
   "source": [
    "with open('submit_knn_deckew_dilate_k_size_2.txt', 'w') as dst:\n",
    "    dst.write('ImageId,Label\\n')\n",
    "    for i, p in enumerate(pred_test_deckew_dilate_k_size_2, 1):\n",
    "        dst.write('%s,%s\\n' % (i, int(p) ))"
   ]
  },
  {
   "cell_type": "code",
   "execution_count": 463,
   "metadata": {
    "scrolled": true
   },
   "outputs": [
    {
     "data": {
      "image/png": "[encoded data removed]",
      "text/plain": [
       "<IPython.core.display.Image object>"
      ]
     },
     "execution_count": 463,
     "metadata": {},
     "output_type": "execute_result"
    }
   ],
   "source": [
    "from IPython.display import Image\n",
    "Image('submit_knn_deckew_dilate_k_size_2.png')"
   ]
  },
  {
   "cell_type": "code",
   "execution_count": 116,
   "metadata": {},
   "outputs": [],
   "source": [
    "estimators = {\n",
    "    \n",
    "   \n",
    "    'knn': KNeighborsClassifier(n_jobs=-1),\n",
    "    #'tree': DecisionTreeClassifier(),\n",
    "    #'forest': linear_model.SGDClassifier(n_jobs=-1),\n",
    "    #'SVC': LinearSVC(),\n",
    "    #'XGB': XGBClassifier(n_jobs=-1)\n",
    "}"
   ]
  },
  {
   "cell_type": "code",
   "execution_count": 117,
   "metadata": {
    "scrolled": true
   },
   "outputs": [
    {
     "name": "stdout",
     "output_type": "stream",
     "text": [
      "____________________________________________________________________\n",
      "2 dilate\n",
      "knn Mean_cross_val_Accuracy  0.9543875783724266  Valid_Accuracy:  0.9569047619047619\n",
      "____________________________________________________________________\n",
      "2 close\n",
      "knn Mean_cross_val_Accuracy  0.957040981414259  Valid_Accuracy:  0.9595238095238096\n"
     ]
    },
    {
     "name": "stderr",
     "output_type": "stream",
     "text": [
      "C:\\Users\\gpog001\\AppData\\Local\\Continuum\\anaconda3\\lib\\site-packages\\sklearn\\externals\\joblib\\externals\\loky\\process_executor.py:700: UserWarning: A worker stopped while some jobs were given to the executor. This can be caused by a too short worker timeout or by a memory leak.\n",
      "  \"timeout or by a memory leak.\", UserWarning\n"
     ]
    },
    {
     "name": "stdout",
     "output_type": "stream",
     "text": [
      "____________________________________________________________________\n",
      "2 erode\n",
      "knn Mean_cross_val_Accuracy  0.9557825415169192  Valid_Accuracy:  0.9598412698412698\n",
      "____________________________________________________________________\n",
      "2 open\n",
      "knn Mean_cross_val_Accuracy  0.9592179394562592  Valid_Accuracy:  0.9628571428571429\n",
      "____________________________________________________________________\n",
      "3 dilate\n",
      "knn Mean_cross_val_Accuracy  0.9463260631817103  Valid_Accuracy:  0.9474603174603174\n",
      "____________________________________________________________________\n",
      "3 close\n",
      "knn Mean_cross_val_Accuracy  0.9531971136705234  Valid_Accuracy:  0.9551587301587302\n",
      "____________________________________________________________________\n",
      "3 erode\n",
      "knn Mean_cross_val_Accuracy  0.9356470557357582  Valid_Accuracy:  0.9404761904761905\n",
      "____________________________________________________________________\n",
      "3 open\n",
      "knn Mean_cross_val_Accuracy  0.9536730903210436  Valid_Accuracy:  0.9568253968253968\n"
     ]
    }
   ],
   "source": [
    "kernels=[2,3]\n",
    "methods=['dilate','close','erode','open']\n",
    "for ker  in kernels:\n",
    "    for met in methods:\n",
    "        #print(ker,met)\n",
    "        #print('train_img_deckew_'+met+'_k_size_'+str(ker))\n",
    "        globals()['train_img_'+met+'_k_size_'+str(ker)]=np.array(list(map(partial(Morpholog_transformation,method=met,k_size=ker),train_img)))\n",
    "        X_train, X_valid, y_train, y_valid = train_test_split(np.resize(eval('train_img_'+met+'_k_size_'+str(ker)), (train.shape[0], 28*28)), train_label, test_size=0.30, random_state=42)\n",
    "        \n",
    "        \n",
    "        for est in estimators: \n",
    "            globals()[est+'_'+met+'_k_size_'+str(ker)]=estimators[est]\n",
    "            eval(est+'_'+met+'_k_size_'+str(ker)).fit(X_train,y_train)\n",
    "            cross_val_scores = cross_val_score(eval(est+'_'+met+'_k_size_'+str(ker)), X_train,y_train, cv=5,n_jobs=-1)\n",
    "            valid_score=accuracy_score(y_valid, eval(est+'_'+met+'_k_size_'+str(ker)).predict(X_valid))\n",
    "            print('____________________________________________________________________')\n",
    "            print(ker,met)\n",
    "            print(est+' Mean_cross_val_Accuracy ',cross_val_scores.mean(),' Valid_Accuracy: ' ,valid_score)\n",
    "            results = results.append({'model' : est+'_'+met+'_k_size_'+str(ker) , 'Mean_cross_val_Accuracy' : cross_val_scores.mean(),'Valid_Accuracy':valid_score} , ignore_index=True)"
   ]
  },
  {
   "cell_type": "code",
   "execution_count": null,
   "metadata": {},
   "outputs": [],
   "source": []
  },
  {
   "cell_type": "code",
   "execution_count": null,
   "metadata": {},
   "outputs": [],
   "source": [
    "#results=results.drop([83,81])"
   ]
  },
  {
   "cell_type": "code",
   "execution_count": null,
   "metadata": {},
   "outputs": [],
   "source": [
    "results.sort_values(by=['Valid_Accuracy'], ascending=False)"
   ]
  },
  {
   "cell_type": "code",
   "execution_count": null,
   "metadata": {},
   "outputs": [],
   "source": [
    "test_img_deckew_erode_k_size_2=np.array(list(map(partial(Morpholog_transformation,method='erode',k_size=2),test_img_deckew)))"
   ]
  },
  {
   "cell_type": "code",
   "execution_count": null,
   "metadata": {},
   "outputs": [],
   "source": [
    "pred_test_deckew_erode_k_size_2=knn_dilate_k_size_2.predict(np.resize(test_img_deckew_erode_k_size_2, (test.shape[0], 28*28)))"
   ]
  },
  {
   "cell_type": "code",
   "execution_count": 245,
   "metadata": {},
   "outputs": [],
   "source": [
    "with open('submit_knn_deckew_erode_k_size_2.txt', 'w') as dst:\n",
    "    dst.write('ImageId,Label\\n')\n",
    "    for i, p in enumerate(pred_test_deckew_erode_k_size_2, 1):\n",
    "        dst.write('%s,%s\\n' % (i, int(p) ))"
   ]
  },
  {
   "cell_type": "code",
   "execution_count": 247,
   "metadata": {
    "scrolled": true
   },
   "outputs": [
    {
     "data": {
      "image/png": "[encoded data removed]",
      "text/plain": [
       "<IPython.core.display.Image object>"
      ]
     },
     "execution_count": 247,
     "metadata": {},
     "output_type": "execute_result"
    }
   ],
   "source": [
    "#ДАЖЕ ХУЖЕ СТАЛО\n",
    "from IPython.display import Image\n",
    "Image('submit_knn_deckew_erode_k_size_2.png')"
   ]
  },
  {
   "cell_type": "code",
   "execution_count": null,
   "metadata": {},
   "outputs": [],
   "source": []
  },
  {
   "cell_type": "code",
   "execution_count": null,
   "metadata": {},
   "outputs": [],
   "source": []
  },
  {
   "cell_type": "markdown",
   "metadata": {},
   "source": [
    "### Попробуем агументацию"
   ]
  },
  {
   "cell_type": "raw",
   "metadata": {},
   "source": []
  },
  {
   "cell_type": "code",
   "execution_count": 239,
   "metadata": {},
   "outputs": [],
   "source": [
    "train_aug=np.vstack((train_img,train_img_deckew,train_img_dilate_k_size_2,train_img_close_k_size_2,train_img_open_k_size_2,train_img_erode_k_size_2))"
   ]
  },
  {
   "cell_type": "code",
   "execution_count": 240,
   "metadata": {},
   "outputs": [],
   "source": [
    "label_aug=np.concatenate((train_label,train_label,train_label,train_label,train_label,train_label))"
   ]
  },
  {
   "cell_type": "code",
   "execution_count": 241,
   "metadata": {},
   "outputs": [],
   "source": [
    "train_aug=binar(train_aug)"
   ]
  },
  {
   "cell_type": "code",
   "execution_count": 242,
   "metadata": {},
   "outputs": [],
   "source": [
    "X_aug_train, X_aug_valid, y_aug_train, y_aug_valid = train_test_split(np.resize(train_aug, (train_aug.shape[0], 28*28)), label_aug, test_size=0.30, random_state=42)"
   ]
  },
  {
   "cell_type": "code",
   "execution_count": 243,
   "metadata": {},
   "outputs": [
    {
     "name": "stdout",
     "output_type": "stream",
     "text": [
      "Wall time: 12min 48s\n"
     ]
    }
   ],
   "source": [
    "%%time\n",
    "model=KNeighborsClassifier(n_jobs=-1)\n",
    "model.fit(X_aug_train,y_aug_train)"
   ]
  },
  {
   "cell_type": "code",
   "execution_count": 244,
   "metadata": {
    "scrolled": true
   },
   "outputs": [
    {
     "name": "stdout",
     "output_type": "stream",
     "text": [
      "Wall time: 32min 47s\n"
     ]
    },
    {
     "data": {
      "text/plain": [
       "0.9882275132275132"
      ]
     },
     "execution_count": 244,
     "metadata": {},
     "output_type": "execute_result"
    }
   ],
   "source": [
    "%%time\n",
    "accuracy_score(y_aug_valid, model.predict(X_aug_valid))"
   ]
  },
  {
   "cell_type": "code",
   "execution_count": 255,
   "metadata": {
    "collapsed": true
   },
   "outputs": [
    {
     "ename": "KeyboardInterrupt",
     "evalue": "",
     "output_type": "error",
     "traceback": [
      "\u001b[1;31m---------------------------------------------------------------------------\u001b[0m",
      "\u001b[1;31mKeyboardInterrupt\u001b[0m                         Traceback (most recent call last)",
      "\u001b[1;32m<ipython-input-255-830685208c9d>\u001b[0m in \u001b[0;36m<module>\u001b[1;34m()\u001b[0m\n\u001b[1;32m----> 1\u001b[1;33m \u001b[0mpred_test_aug\u001b[0m\u001b[1;33m=\u001b[0m\u001b[0mmodel\u001b[0m\u001b[1;33m.\u001b[0m\u001b[0mpredict\u001b[0m\u001b[1;33m(\u001b[0m\u001b[0mnp\u001b[0m\u001b[1;33m.\u001b[0m\u001b[0mresize\u001b[0m\u001b[1;33m(\u001b[0m\u001b[0mbinar\u001b[0m\u001b[1;33m(\u001b[0m\u001b[0mtest_img\u001b[0m\u001b[1;33m)\u001b[0m\u001b[1;33m,\u001b[0m \u001b[1;33m(\u001b[0m\u001b[0mtest\u001b[0m\u001b[1;33m.\u001b[0m\u001b[0mshape\u001b[0m\u001b[1;33m[\u001b[0m\u001b[1;36m0\u001b[0m\u001b[1;33m]\u001b[0m\u001b[1;33m,\u001b[0m \u001b[1;36m28\u001b[0m\u001b[1;33m*\u001b[0m\u001b[1;36m28\u001b[0m\u001b[1;33m)\u001b[0m\u001b[1;33m)\u001b[0m\u001b[1;33m)\u001b[0m\u001b[1;33m\u001b[0m\u001b[0m\n\u001b[0m",
      "\u001b[1;32m~\\AppData\\Local\\Continuum\\anaconda3\\lib\\site-packages\\sklearn\\neighbors\\classification.py\u001b[0m in \u001b[0;36mpredict\u001b[1;34m(self, X)\u001b[0m\n\u001b[0;32m    147\u001b[0m         \u001b[0mX\u001b[0m \u001b[1;33m=\u001b[0m \u001b[0mcheck_array\u001b[0m\u001b[1;33m(\u001b[0m\u001b[0mX\u001b[0m\u001b[1;33m,\u001b[0m \u001b[0maccept_sparse\u001b[0m\u001b[1;33m=\u001b[0m\u001b[1;34m'csr'\u001b[0m\u001b[1;33m)\u001b[0m\u001b[1;33m\u001b[0m\u001b[0m\n\u001b[0;32m    148\u001b[0m \u001b[1;33m\u001b[0m\u001b[0m\n\u001b[1;32m--> 149\u001b[1;33m         \u001b[0mneigh_dist\u001b[0m\u001b[1;33m,\u001b[0m \u001b[0mneigh_ind\u001b[0m \u001b[1;33m=\u001b[0m \u001b[0mself\u001b[0m\u001b[1;33m.\u001b[0m\u001b[0mkneighbors\u001b[0m\u001b[1;33m(\u001b[0m\u001b[0mX\u001b[0m\u001b[1;33m)\u001b[0m\u001b[1;33m\u001b[0m\u001b[0m\n\u001b[0m\u001b[0;32m    150\u001b[0m         \u001b[0mclasses_\u001b[0m \u001b[1;33m=\u001b[0m \u001b[0mself\u001b[0m\u001b[1;33m.\u001b[0m\u001b[0mclasses_\u001b[0m\u001b[1;33m\u001b[0m\u001b[0m\n\u001b[0;32m    151\u001b[0m         \u001b[0m_y\u001b[0m \u001b[1;33m=\u001b[0m \u001b[0mself\u001b[0m\u001b[1;33m.\u001b[0m\u001b[0m_y\u001b[0m\u001b[1;33m\u001b[0m\u001b[0m\n",
      "\u001b[1;32m~\\AppData\\Local\\Continuum\\anaconda3\\lib\\site-packages\\sklearn\\neighbors\\base.py\u001b[0m in \u001b[0;36mkneighbors\u001b[1;34m(self, X, n_neighbors, return_distance)\u001b[0m\n\u001b[0;32m    441\u001b[0m                 delayed_query(\n\u001b[0;32m    442\u001b[0m                     X[s], n_neighbors, return_distance)\n\u001b[1;32m--> 443\u001b[1;33m                 \u001b[1;32mfor\u001b[0m \u001b[0ms\u001b[0m \u001b[1;32min\u001b[0m \u001b[0mgen_even_slices\u001b[0m\u001b[1;33m(\u001b[0m\u001b[0mX\u001b[0m\u001b[1;33m.\u001b[0m\u001b[0mshape\u001b[0m\u001b[1;33m[\u001b[0m\u001b[1;36m0\u001b[0m\u001b[1;33m]\u001b[0m\u001b[1;33m,\u001b[0m \u001b[0mn_jobs\u001b[0m\u001b[1;33m)\u001b[0m\u001b[1;33m\u001b[0m\u001b[0m\n\u001b[0m\u001b[0;32m    444\u001b[0m             )\n\u001b[0;32m    445\u001b[0m         \u001b[1;32melse\u001b[0m\u001b[1;33m:\u001b[0m\u001b[1;33m\u001b[0m\u001b[0m\n",
      "\u001b[1;32m~\\AppData\\Local\\Continuum\\anaconda3\\lib\\site-packages\\sklearn\\externals\\joblib\\parallel.py\u001b[0m in \u001b[0;36m__call__\u001b[1;34m(self, iterable)\u001b[0m\n\u001b[0;32m    994\u001b[0m \u001b[1;33m\u001b[0m\u001b[0m\n\u001b[0;32m    995\u001b[0m             \u001b[1;32mwith\u001b[0m \u001b[0mself\u001b[0m\u001b[1;33m.\u001b[0m\u001b[0m_backend\u001b[0m\u001b[1;33m.\u001b[0m\u001b[0mretrieval_context\u001b[0m\u001b[1;33m(\u001b[0m\u001b[1;33m)\u001b[0m\u001b[1;33m:\u001b[0m\u001b[1;33m\u001b[0m\u001b[0m\n\u001b[1;32m--> 996\u001b[1;33m                 \u001b[0mself\u001b[0m\u001b[1;33m.\u001b[0m\u001b[0mretrieve\u001b[0m\u001b[1;33m(\u001b[0m\u001b[1;33m)\u001b[0m\u001b[1;33m\u001b[0m\u001b[0m\n\u001b[0m\u001b[0;32m    997\u001b[0m             \u001b[1;31m# Make sure that we get a last message telling us we are done\u001b[0m\u001b[1;33m\u001b[0m\u001b[1;33m\u001b[0m\u001b[0m\n\u001b[0;32m    998\u001b[0m             \u001b[0melapsed_time\u001b[0m \u001b[1;33m=\u001b[0m \u001b[0mtime\u001b[0m\u001b[1;33m.\u001b[0m\u001b[0mtime\u001b[0m\u001b[1;33m(\u001b[0m\u001b[1;33m)\u001b[0m \u001b[1;33m-\u001b[0m \u001b[0mself\u001b[0m\u001b[1;33m.\u001b[0m\u001b[0m_start_time\u001b[0m\u001b[1;33m\u001b[0m\u001b[0m\n",
      "\u001b[1;32m~\\AppData\\Local\\Continuum\\anaconda3\\lib\\site-packages\\sklearn\\externals\\joblib\\parallel.py\u001b[0m in \u001b[0;36mretrieve\u001b[1;34m(self)\u001b[0m\n\u001b[0;32m    897\u001b[0m             \u001b[1;32mtry\u001b[0m\u001b[1;33m:\u001b[0m\u001b[1;33m\u001b[0m\u001b[0m\n\u001b[0;32m    898\u001b[0m                 \u001b[1;32mif\u001b[0m \u001b[0mgetattr\u001b[0m\u001b[1;33m(\u001b[0m\u001b[0mself\u001b[0m\u001b[1;33m.\u001b[0m\u001b[0m_backend\u001b[0m\u001b[1;33m,\u001b[0m \u001b[1;34m'supports_timeout'\u001b[0m\u001b[1;33m,\u001b[0m \u001b[1;32mFalse\u001b[0m\u001b[1;33m)\u001b[0m\u001b[1;33m:\u001b[0m\u001b[1;33m\u001b[0m\u001b[0m\n\u001b[1;32m--> 899\u001b[1;33m                     \u001b[0mself\u001b[0m\u001b[1;33m.\u001b[0m\u001b[0m_output\u001b[0m\u001b[1;33m.\u001b[0m\u001b[0mextend\u001b[0m\u001b[1;33m(\u001b[0m\u001b[0mjob\u001b[0m\u001b[1;33m.\u001b[0m\u001b[0mget\u001b[0m\u001b[1;33m(\u001b[0m\u001b[0mtimeout\u001b[0m\u001b[1;33m=\u001b[0m\u001b[0mself\u001b[0m\u001b[1;33m.\u001b[0m\u001b[0mtimeout\u001b[0m\u001b[1;33m)\u001b[0m\u001b[1;33m)\u001b[0m\u001b[1;33m\u001b[0m\u001b[0m\n\u001b[0m\u001b[0;32m    900\u001b[0m                 \u001b[1;32melse\u001b[0m\u001b[1;33m:\u001b[0m\u001b[1;33m\u001b[0m\u001b[0m\n\u001b[0;32m    901\u001b[0m                     \u001b[0mself\u001b[0m\u001b[1;33m.\u001b[0m\u001b[0m_output\u001b[0m\u001b[1;33m.\u001b[0m\u001b[0mextend\u001b[0m\u001b[1;33m(\u001b[0m\u001b[0mjob\u001b[0m\u001b[1;33m.\u001b[0m\u001b[0mget\u001b[0m\u001b[1;33m(\u001b[0m\u001b[1;33m)\u001b[0m\u001b[1;33m)\u001b[0m\u001b[1;33m\u001b[0m\u001b[0m\n",
      "\u001b[1;32m~\\AppData\\Local\\Continuum\\anaconda3\\lib\\multiprocessing\\pool.py\u001b[0m in \u001b[0;36mget\u001b[1;34m(self, timeout)\u001b[0m\n\u001b[0;32m    636\u001b[0m \u001b[1;33m\u001b[0m\u001b[0m\n\u001b[0;32m    637\u001b[0m     \u001b[1;32mdef\u001b[0m \u001b[0mget\u001b[0m\u001b[1;33m(\u001b[0m\u001b[0mself\u001b[0m\u001b[1;33m,\u001b[0m \u001b[0mtimeout\u001b[0m\u001b[1;33m=\u001b[0m\u001b[1;32mNone\u001b[0m\u001b[1;33m)\u001b[0m\u001b[1;33m:\u001b[0m\u001b[1;33m\u001b[0m\u001b[0m\n\u001b[1;32m--> 638\u001b[1;33m         \u001b[0mself\u001b[0m\u001b[1;33m.\u001b[0m\u001b[0mwait\u001b[0m\u001b[1;33m(\u001b[0m\u001b[0mtimeout\u001b[0m\u001b[1;33m)\u001b[0m\u001b[1;33m\u001b[0m\u001b[0m\n\u001b[0m\u001b[0;32m    639\u001b[0m         \u001b[1;32mif\u001b[0m \u001b[1;32mnot\u001b[0m \u001b[0mself\u001b[0m\u001b[1;33m.\u001b[0m\u001b[0mready\u001b[0m\u001b[1;33m(\u001b[0m\u001b[1;33m)\u001b[0m\u001b[1;33m:\u001b[0m\u001b[1;33m\u001b[0m\u001b[0m\n\u001b[0;32m    640\u001b[0m             \u001b[1;32mraise\u001b[0m \u001b[0mTimeoutError\u001b[0m\u001b[1;33m\u001b[0m\u001b[0m\n",
      "\u001b[1;32m~\\AppData\\Local\\Continuum\\anaconda3\\lib\\multiprocessing\\pool.py\u001b[0m in \u001b[0;36mwait\u001b[1;34m(self, timeout)\u001b[0m\n\u001b[0;32m    633\u001b[0m \u001b[1;33m\u001b[0m\u001b[0m\n\u001b[0;32m    634\u001b[0m     \u001b[1;32mdef\u001b[0m \u001b[0mwait\u001b[0m\u001b[1;33m(\u001b[0m\u001b[0mself\u001b[0m\u001b[1;33m,\u001b[0m \u001b[0mtimeout\u001b[0m\u001b[1;33m=\u001b[0m\u001b[1;32mNone\u001b[0m\u001b[1;33m)\u001b[0m\u001b[1;33m:\u001b[0m\u001b[1;33m\u001b[0m\u001b[0m\n\u001b[1;32m--> 635\u001b[1;33m         \u001b[0mself\u001b[0m\u001b[1;33m.\u001b[0m\u001b[0m_event\u001b[0m\u001b[1;33m.\u001b[0m\u001b[0mwait\u001b[0m\u001b[1;33m(\u001b[0m\u001b[0mtimeout\u001b[0m\u001b[1;33m)\u001b[0m\u001b[1;33m\u001b[0m\u001b[0m\n\u001b[0m\u001b[0;32m    636\u001b[0m \u001b[1;33m\u001b[0m\u001b[0m\n\u001b[0;32m    637\u001b[0m     \u001b[1;32mdef\u001b[0m \u001b[0mget\u001b[0m\u001b[1;33m(\u001b[0m\u001b[0mself\u001b[0m\u001b[1;33m,\u001b[0m \u001b[0mtimeout\u001b[0m\u001b[1;33m=\u001b[0m\u001b[1;32mNone\u001b[0m\u001b[1;33m)\u001b[0m\u001b[1;33m:\u001b[0m\u001b[1;33m\u001b[0m\u001b[0m\n",
      "\u001b[1;32m~\\AppData\\Local\\Continuum\\anaconda3\\lib\\threading.py\u001b[0m in \u001b[0;36mwait\u001b[1;34m(self, timeout)\u001b[0m\n\u001b[0;32m    549\u001b[0m             \u001b[0msignaled\u001b[0m \u001b[1;33m=\u001b[0m \u001b[0mself\u001b[0m\u001b[1;33m.\u001b[0m\u001b[0m_flag\u001b[0m\u001b[1;33m\u001b[0m\u001b[0m\n\u001b[0;32m    550\u001b[0m             \u001b[1;32mif\u001b[0m \u001b[1;32mnot\u001b[0m \u001b[0msignaled\u001b[0m\u001b[1;33m:\u001b[0m\u001b[1;33m\u001b[0m\u001b[0m\n\u001b[1;32m--> 551\u001b[1;33m                 \u001b[0msignaled\u001b[0m \u001b[1;33m=\u001b[0m \u001b[0mself\u001b[0m\u001b[1;33m.\u001b[0m\u001b[0m_cond\u001b[0m\u001b[1;33m.\u001b[0m\u001b[0mwait\u001b[0m\u001b[1;33m(\u001b[0m\u001b[0mtimeout\u001b[0m\u001b[1;33m)\u001b[0m\u001b[1;33m\u001b[0m\u001b[0m\n\u001b[0m\u001b[0;32m    552\u001b[0m             \u001b[1;32mreturn\u001b[0m \u001b[0msignaled\u001b[0m\u001b[1;33m\u001b[0m\u001b[0m\n\u001b[0;32m    553\u001b[0m \u001b[1;33m\u001b[0m\u001b[0m\n",
      "\u001b[1;32m~\\AppData\\Local\\Continuum\\anaconda3\\lib\\threading.py\u001b[0m in \u001b[0;36mwait\u001b[1;34m(self, timeout)\u001b[0m\n\u001b[0;32m    293\u001b[0m         \u001b[1;32mtry\u001b[0m\u001b[1;33m:\u001b[0m    \u001b[1;31m# restore state no matter what (e.g., KeyboardInterrupt)\u001b[0m\u001b[1;33m\u001b[0m\u001b[0m\n\u001b[0;32m    294\u001b[0m             \u001b[1;32mif\u001b[0m \u001b[0mtimeout\u001b[0m \u001b[1;32mis\u001b[0m \u001b[1;32mNone\u001b[0m\u001b[1;33m:\u001b[0m\u001b[1;33m\u001b[0m\u001b[0m\n\u001b[1;32m--> 295\u001b[1;33m                 \u001b[0mwaiter\u001b[0m\u001b[1;33m.\u001b[0m\u001b[0macquire\u001b[0m\u001b[1;33m(\u001b[0m\u001b[1;33m)\u001b[0m\u001b[1;33m\u001b[0m\u001b[0m\n\u001b[0m\u001b[0;32m    296\u001b[0m                 \u001b[0mgotit\u001b[0m \u001b[1;33m=\u001b[0m \u001b[1;32mTrue\u001b[0m\u001b[1;33m\u001b[0m\u001b[0m\n\u001b[0;32m    297\u001b[0m             \u001b[1;32melse\u001b[0m\u001b[1;33m:\u001b[0m\u001b[1;33m\u001b[0m\u001b[0m\n",
      "\u001b[1;31mKeyboardInterrupt\u001b[0m: "
     ]
    }
   ],
   "source": [
    "pred_test_aug=model.predict(np.resize(binar(test_img), (test.shape[0], 28*28)))"
   ]
  },
  {
   "cell_type": "code",
   "execution_count": 269,
   "metadata": {},
   "outputs": [],
   "source": [
    "with open('submit_aug.txt', 'w') as dst:\n",
    "    dst.write('ImageId,Label\\n')\n",
    "    for i, p in enumerate(pred_test_aug, 1):\n",
    "        dst.write('%s,%s\\n' % (i, int(p) ))"
   ]
  },
  {
   "cell_type": "code",
   "execution_count": 298,
   "metadata": {},
   "outputs": [
    {
     "data": {
      "image/png": "[encoded data removed]",
      "text/plain": [
       "<IPython.core.display.Image object>"
      ]
     },
     "execution_count": 298,
     "metadata": {},
     "output_type": "execute_result"
    }
   ],
   "source": [
    "from IPython.display import Image\n",
    "Image('submit_aug.png')"
   ]
  },
  {
   "cell_type": "code",
   "execution_count": 118,
   "metadata": {},
   "outputs": [
    {
     "data": {
      "text/html": [
       "<div>\n",
       "<style scoped>\n",
       "    .dataframe tbody tr th:only-of-type {\n",
       "        vertical-align: middle;\n",
       "    }\n",
       "\n",
       "    .dataframe tbody tr th {\n",
       "        vertical-align: top;\n",
       "    }\n",
       "\n",
       "    .dataframe thead th {\n",
       "        text-align: right;\n",
       "    }\n",
       "</style>\n",
       "<table border=\"1\" class=\"dataframe\">\n",
       "  <thead>\n",
       "    <tr style=\"text-align: right;\">\n",
       "      <th></th>\n",
       "      <th>model</th>\n",
       "      <th>Mean_cross_val_Accuracy</th>\n",
       "      <th>Valid_Accuracy</th>\n",
       "    </tr>\n",
       "  </thead>\n",
       "  <tbody>\n",
       "    <tr>\n",
       "      <th>67</th>\n",
       "      <td>knn_deckew_gauss</td>\n",
       "      <td>0.973912</td>\n",
       "      <td>0.976587</td>\n",
       "    </tr>\n",
       "    <tr>\n",
       "      <th>33</th>\n",
       "      <td>knn_deckew</td>\n",
       "      <td>0.973912</td>\n",
       "      <td>0.976587</td>\n",
       "    </tr>\n",
       "    <tr>\n",
       "      <th>27</th>\n",
       "      <td>knn_gauss_k_size_3</td>\n",
       "      <td>0.964966</td>\n",
       "      <td>0.967778</td>\n",
       "    </tr>\n",
       "    <tr>\n",
       "      <th>43</th>\n",
       "      <td>knn_deckew_erode_k_size_2</td>\n",
       "      <td>0.965646</td>\n",
       "      <td>0.967143</td>\n",
       "    </tr>\n",
       "    <tr>\n",
       "      <th>47</th>\n",
       "      <td>knn_deckew_open_k_size_2</td>\n",
       "      <td>0.962993</td>\n",
       "      <td>0.965714</td>\n",
       "    </tr>\n",
       "    <tr>\n",
       "      <th>0</th>\n",
       "      <td>knn</td>\n",
       "      <td>0.962245</td>\n",
       "      <td>0.965556</td>\n",
       "    </tr>\n",
       "    <tr>\n",
       "      <th>41</th>\n",
       "      <td>knn_deckew_close_k_size_1</td>\n",
       "      <td>0.963401</td>\n",
       "      <td>0.965238</td>\n",
       "    </tr>\n",
       "    <tr>\n",
       "      <th>39</th>\n",
       "      <td>knn_deckew_open_k_size_1</td>\n",
       "      <td>0.963401</td>\n",
       "      <td>0.965238</td>\n",
       "    </tr>\n",
       "    <tr>\n",
       "      <th>37</th>\n",
       "      <td>knn_deckew_dilate_k_size_1</td>\n",
       "      <td>0.963401</td>\n",
       "      <td>0.965238</td>\n",
       "    </tr>\n",
       "    <tr>\n",
       "      <th>35</th>\n",
       "      <td>knn_deckew_erode_k_size_1</td>\n",
       "      <td>0.963401</td>\n",
       "      <td>0.965238</td>\n",
       "    </tr>\n",
       "    <tr>\n",
       "      <th>29</th>\n",
       "      <td>knn_gauss_k_size_5</td>\n",
       "      <td>0.963606</td>\n",
       "      <td>0.965238</td>\n",
       "    </tr>\n",
       "    <tr>\n",
       "      <th>49</th>\n",
       "      <td>knn_deckew_close_k_size_2</td>\n",
       "      <td>0.960952</td>\n",
       "      <td>0.962937</td>\n",
       "    </tr>\n",
       "    <tr>\n",
       "      <th>83</th>\n",
       "      <td>knn_open_k_size_2</td>\n",
       "      <td>0.959218</td>\n",
       "      <td>0.962857</td>\n",
       "    </tr>\n",
       "    <tr>\n",
       "      <th>31</th>\n",
       "      <td>knn_gauss_k_size_7</td>\n",
       "      <td>0.958877</td>\n",
       "      <td>0.961905</td>\n",
       "    </tr>\n",
       "    <tr>\n",
       "      <th>21</th>\n",
       "      <td>knn_DIST_L2_mask_5</td>\n",
       "      <td>0.949626</td>\n",
       "      <td>0.960635</td>\n",
       "    </tr>\n",
       "    <tr>\n",
       "      <th>82</th>\n",
       "      <td>knn_erode_k_size_2</td>\n",
       "      <td>0.955783</td>\n",
       "      <td>0.959841</td>\n",
       "    </tr>\n",
       "    <tr>\n",
       "      <th>81</th>\n",
       "      <td>knn_close_k_size_2</td>\n",
       "      <td>0.957041</td>\n",
       "      <td>0.959524</td>\n",
       "    </tr>\n",
       "    <tr>\n",
       "      <th>19</th>\n",
       "      <td>knn_DIST_L2_mask_3</td>\n",
       "      <td>0.948504</td>\n",
       "      <td>0.959365</td>\n",
       "    </tr>\n",
       "    <tr>\n",
       "      <th>45</th>\n",
       "      <td>knn_deckew_dilate_k_size_2</td>\n",
       "      <td>0.956224</td>\n",
       "      <td>0.956984</td>\n",
       "    </tr>\n",
       "    <tr>\n",
       "      <th>80</th>\n",
       "      <td>knn_dilate_k_size_2</td>\n",
       "      <td>0.954388</td>\n",
       "      <td>0.956905</td>\n",
       "    </tr>\n",
       "    <tr>\n",
       "      <th>87</th>\n",
       "      <td>knn_open_k_size_3</td>\n",
       "      <td>0.953673</td>\n",
       "      <td>0.956825</td>\n",
       "    </tr>\n",
       "    <tr>\n",
       "      <th>23</th>\n",
       "      <td>knn_DIST_L1_mask_3</td>\n",
       "      <td>0.946497</td>\n",
       "      <td>0.956349</td>\n",
       "    </tr>\n",
       "    <tr>\n",
       "      <th>25</th>\n",
       "      <td>knn_DIST_L1_mask_5</td>\n",
       "      <td>0.946497</td>\n",
       "      <td>0.956349</td>\n",
       "    </tr>\n",
       "    <tr>\n",
       "      <th>85</th>\n",
       "      <td>knn_close_k_size_3</td>\n",
       "      <td>0.953197</td>\n",
       "      <td>0.955159</td>\n",
       "    </tr>\n",
       "    <tr>\n",
       "      <th>34</th>\n",
       "      <td>XGB_deckew</td>\n",
       "      <td>0.953367</td>\n",
       "      <td>0.949921</td>\n",
       "    </tr>\n",
       "    <tr>\n",
       "      <th>84</th>\n",
       "      <td>knn_dilate_k_size_3</td>\n",
       "      <td>0.946326</td>\n",
       "      <td>0.947460</td>\n",
       "    </tr>\n",
       "    <tr>\n",
       "      <th>48</th>\n",
       "      <td>XGB_deckew_open_k_size_2</td>\n",
       "      <td>0.945306</td>\n",
       "      <td>0.946349</td>\n",
       "    </tr>\n",
       "    <tr>\n",
       "      <th>7</th>\n",
       "      <td>knn_sobel</td>\n",
       "      <td>0.939830</td>\n",
       "      <td>0.945873</td>\n",
       "    </tr>\n",
       "    <tr>\n",
       "      <th>42</th>\n",
       "      <td>XGB_deckew_close_k_size_1</td>\n",
       "      <td>0.945817</td>\n",
       "      <td>0.945873</td>\n",
       "    </tr>\n",
       "    <tr>\n",
       "      <th>40</th>\n",
       "      <td>XGB_deckew_open_k_size_1</td>\n",
       "      <td>0.945817</td>\n",
       "      <td>0.945873</td>\n",
       "    </tr>\n",
       "    <tr>\n",
       "      <th>38</th>\n",
       "      <td>XGB_deckew_dilate_k_size_1</td>\n",
       "      <td>0.945817</td>\n",
       "      <td>0.945873</td>\n",
       "    </tr>\n",
       "    <tr>\n",
       "      <th>36</th>\n",
       "      <td>XGB_deckew_erode_k_size_1</td>\n",
       "      <td>0.945817</td>\n",
       "      <td>0.945873</td>\n",
       "    </tr>\n",
       "    <tr>\n",
       "      <th>57</th>\n",
       "      <td>knn_deckew_close_k_size_5</td>\n",
       "      <td>0.943333</td>\n",
       "      <td>0.945317</td>\n",
       "    </tr>\n",
       "    <tr>\n",
       "      <th>46</th>\n",
       "      <td>XGB_deckew_dilate_k_size_2</td>\n",
       "      <td>0.943469</td>\n",
       "      <td>0.944127</td>\n",
       "    </tr>\n",
       "    <tr>\n",
       "      <th>44</th>\n",
       "      <td>XGB_deckew_erode_k_size_2</td>\n",
       "      <td>0.945205</td>\n",
       "      <td>0.942698</td>\n",
       "    </tr>\n",
       "    <tr>\n",
       "      <th>30</th>\n",
       "      <td>XGB_gauss_k_size_5</td>\n",
       "      <td>0.940613</td>\n",
       "      <td>0.941984</td>\n",
       "    </tr>\n",
       "    <tr>\n",
       "      <th>86</th>\n",
       "      <td>knn_erode_k_size_3</td>\n",
       "      <td>0.935647</td>\n",
       "      <td>0.940476</td>\n",
       "    </tr>\n",
       "    <tr>\n",
       "      <th>32</th>\n",
       "      <td>XGB_gauss_k_size_7</td>\n",
       "      <td>0.936055</td>\n",
       "      <td>0.939365</td>\n",
       "    </tr>\n",
       "    <tr>\n",
       "      <th>28</th>\n",
       "      <td>XGB_gauss_k_size_3</td>\n",
       "      <td>0.938265</td>\n",
       "      <td>0.939286</td>\n",
       "    </tr>\n",
       "    <tr>\n",
       "      <th>50</th>\n",
       "      <td>XGB_deckew_close_k_size_3</td>\n",
       "      <td>0.938946</td>\n",
       "      <td>0.939048</td>\n",
       "    </tr>\n",
       "    <tr>\n",
       "      <th>53</th>\n",
       "      <td>knn_deckew_dilate_k_size_5</td>\n",
       "      <td>0.934319</td>\n",
       "      <td>0.934444</td>\n",
       "    </tr>\n",
       "    <tr>\n",
       "      <th>76</th>\n",
       "      <td>knn_deckew_gauss_erode_k_size_5</td>\n",
       "      <td>0.930816</td>\n",
       "      <td>0.933413</td>\n",
       "    </tr>\n",
       "    <tr>\n",
       "      <th>65</th>\n",
       "      <td>knn_deckew_close_k_size_8</td>\n",
       "      <td>0.930204</td>\n",
       "      <td>0.932381</td>\n",
       "    </tr>\n",
       "    <tr>\n",
       "      <th>72</th>\n",
       "      <td>knn_deckew_gauss_erode_k_size_3</td>\n",
       "      <td>0.929864</td>\n",
       "      <td>0.932143</td>\n",
       "    </tr>\n",
       "    <tr>\n",
       "      <th>17</th>\n",
       "      <td>knn_median_k_size_3</td>\n",
       "      <td>0.928640</td>\n",
       "      <td>0.931349</td>\n",
       "    </tr>\n",
       "    <tr>\n",
       "      <th>58</th>\n",
       "      <td>XGB_deckew_close_k_size_5</td>\n",
       "      <td>0.930884</td>\n",
       "      <td>0.930635</td>\n",
       "    </tr>\n",
       "    <tr>\n",
       "      <th>54</th>\n",
       "      <td>XGB_deckew_dilate_k_size_5</td>\n",
       "      <td>0.933368</td>\n",
       "      <td>0.929286</td>\n",
       "    </tr>\n",
       "    <tr>\n",
       "      <th>4</th>\n",
       "      <td>XGB</td>\n",
       "      <td>0.931021</td>\n",
       "      <td>0.929206</td>\n",
       "    </tr>\n",
       "    <tr>\n",
       "      <th>20</th>\n",
       "      <td>XGB_DIST_L2_mask_3</td>\n",
       "      <td>0.926973</td>\n",
       "      <td>0.928730</td>\n",
       "    </tr>\n",
       "    <tr>\n",
       "      <th>22</th>\n",
       "      <td>XGB_DIST_L2_mask_5</td>\n",
       "      <td>0.926769</td>\n",
       "      <td>0.928571</td>\n",
       "    </tr>\n",
       "    <tr>\n",
       "      <th>55</th>\n",
       "      <td>knn_deckew_open_k_size_5</td>\n",
       "      <td>0.926973</td>\n",
       "      <td>0.928571</td>\n",
       "    </tr>\n",
       "    <tr>\n",
       "      <th>61</th>\n",
       "      <td>knn_deckew_dilate_k_size_8</td>\n",
       "      <td>0.923368</td>\n",
       "      <td>0.927460</td>\n",
       "    </tr>\n",
       "    <tr>\n",
       "      <th>13</th>\n",
       "      <td>knn_median_k_size_7</td>\n",
       "      <td>0.921327</td>\n",
       "      <td>0.927222</td>\n",
       "    </tr>\n",
       "    <tr>\n",
       "      <th>15</th>\n",
       "      <td>knn_median_k_size_9</td>\n",
       "      <td>0.921327</td>\n",
       "      <td>0.927222</td>\n",
       "    </tr>\n",
       "    <tr>\n",
       "      <th>9</th>\n",
       "      <td>knn_median_k_size_3</td>\n",
       "      <td>0.921327</td>\n",
       "      <td>0.927222</td>\n",
       "    </tr>\n",
       "    <tr>\n",
       "      <th>11</th>\n",
       "      <td>knn_median_k_size_5</td>\n",
       "      <td>0.921327</td>\n",
       "      <td>0.927222</td>\n",
       "    </tr>\n",
       "    <tr>\n",
       "      <th>26</th>\n",
       "      <td>XGB_DIST_L1_mask_5</td>\n",
       "      <td>0.926803</td>\n",
       "      <td>0.927143</td>\n",
       "    </tr>\n",
       "    <tr>\n",
       "      <th>24</th>\n",
       "      <td>XGB_DIST_L1_mask_3</td>\n",
       "      <td>0.926803</td>\n",
       "      <td>0.927143</td>\n",
       "    </tr>\n",
       "    <tr>\n",
       "      <th>68</th>\n",
       "      <td>knn_deckew_gauss_erode_k_size_2</td>\n",
       "      <td>0.925918</td>\n",
       "      <td>0.926746</td>\n",
       "    </tr>\n",
       "    <tr>\n",
       "      <th>62</th>\n",
       "      <td>XGB_deckew_dilate_k_size_8</td>\n",
       "      <td>0.923606</td>\n",
       "      <td>0.922063</td>\n",
       "    </tr>\n",
       "    <tr>\n",
       "      <th>70</th>\n",
       "      <td>knn_deckew_gauss_open_k_size_2</td>\n",
       "      <td>0.918810</td>\n",
       "      <td>0.920635</td>\n",
       "    </tr>\n",
       "    <tr>\n",
       "      <th>66</th>\n",
       "      <td>XGB_deckew_close_k_size_8</td>\n",
       "      <td>0.923232</td>\n",
       "      <td>0.920556</td>\n",
       "    </tr>\n",
       "    <tr>\n",
       "      <th>78</th>\n",
       "      <td>knn_deckew_gauss_open_k_size_5</td>\n",
       "      <td>0.919456</td>\n",
       "      <td>0.920397</td>\n",
       "    </tr>\n",
       "    <tr>\n",
       "      <th>74</th>\n",
       "      <td>knn_deckew_gauss_open_k_size_3</td>\n",
       "      <td>0.918809</td>\n",
       "      <td>0.920317</td>\n",
       "    </tr>\n",
       "    <tr>\n",
       "      <th>71</th>\n",
       "      <td>knn_deckew_gauss_close_k_size_2</td>\n",
       "      <td>0.914796</td>\n",
       "      <td>0.918889</td>\n",
       "    </tr>\n",
       "    <tr>\n",
       "      <th>6</th>\n",
       "      <td>XGB_laplas</td>\n",
       "      <td>0.914389</td>\n",
       "      <td>0.917222</td>\n",
       "    </tr>\n",
       "    <tr>\n",
       "      <th>8</th>\n",
       "      <td>XGB_sobel</td>\n",
       "      <td>0.912143</td>\n",
       "      <td>0.915000</td>\n",
       "    </tr>\n",
       "    <tr>\n",
       "      <th>56</th>\n",
       "      <td>XGB_deckew_open_k_size_5</td>\n",
       "      <td>0.912653</td>\n",
       "      <td>0.913571</td>\n",
       "    </tr>\n",
       "    <tr>\n",
       "      <th>69</th>\n",
       "      <td>knn_deckew_gauss_dilate_k_size_2</td>\n",
       "      <td>0.908333</td>\n",
       "      <td>0.913175</td>\n",
       "    </tr>\n",
       "    <tr>\n",
       "      <th>75</th>\n",
       "      <td>knn_deckew_gauss_close_k_size_3</td>\n",
       "      <td>0.910136</td>\n",
       "      <td>0.912381</td>\n",
       "    </tr>\n",
       "    <tr>\n",
       "      <th>51</th>\n",
       "      <td>knn_deckew_erode_k_size_5</td>\n",
       "      <td>0.904898</td>\n",
       "      <td>0.910794</td>\n",
       "    </tr>\n",
       "    <tr>\n",
       "      <th>10</th>\n",
       "      <td>XGB_median_k_size_3</td>\n",
       "      <td>0.910681</td>\n",
       "      <td>0.907381</td>\n",
       "    </tr>\n",
       "    <tr>\n",
       "      <th>16</th>\n",
       "      <td>XGB_median_k_size_9</td>\n",
       "      <td>0.910681</td>\n",
       "      <td>0.907381</td>\n",
       "    </tr>\n",
       "    <tr>\n",
       "      <th>14</th>\n",
       "      <td>XGB_median_k_size_7</td>\n",
       "      <td>0.910681</td>\n",
       "      <td>0.907381</td>\n",
       "    </tr>\n",
       "    <tr>\n",
       "      <th>12</th>\n",
       "      <td>XGB_median_k_size_5</td>\n",
       "      <td>0.910681</td>\n",
       "      <td>0.907381</td>\n",
       "    </tr>\n",
       "    <tr>\n",
       "      <th>73</th>\n",
       "      <td>knn_deckew_gauss_dilate_k_size_3</td>\n",
       "      <td>0.901497</td>\n",
       "      <td>0.906270</td>\n",
       "    </tr>\n",
       "    <tr>\n",
       "      <th>79</th>\n",
       "      <td>knn_deckew_gauss_close_k_size_5</td>\n",
       "      <td>0.901258</td>\n",
       "      <td>0.904127</td>\n",
       "    </tr>\n",
       "    <tr>\n",
       "      <th>77</th>\n",
       "      <td>knn_deckew_gauss_dilate_k_size_5</td>\n",
       "      <td>0.895408</td>\n",
       "      <td>0.900556</td>\n",
       "    </tr>\n",
       "    <tr>\n",
       "      <th>52</th>\n",
       "      <td>XGB_deckew_erode_k_size_5</td>\n",
       "      <td>0.894898</td>\n",
       "      <td>0.895714</td>\n",
       "    </tr>\n",
       "    <tr>\n",
       "      <th>18</th>\n",
       "      <td>XGB_median_k_size_3</td>\n",
       "      <td>0.895579</td>\n",
       "      <td>0.894841</td>\n",
       "    </tr>\n",
       "    <tr>\n",
       "      <th>3</th>\n",
       "      <td>SVC</td>\n",
       "      <td>0.849624</td>\n",
       "      <td>0.869206</td>\n",
       "    </tr>\n",
       "    <tr>\n",
       "      <th>2</th>\n",
       "      <td>forest</td>\n",
       "      <td>0.856600</td>\n",
       "      <td>0.862619</td>\n",
       "    </tr>\n",
       "    <tr>\n",
       "      <th>64</th>\n",
       "      <td>XGB_deckew_open_k_size_8</td>\n",
       "      <td>0.844319</td>\n",
       "      <td>0.846984</td>\n",
       "    </tr>\n",
       "    <tr>\n",
       "      <th>1</th>\n",
       "      <td>tree</td>\n",
       "      <td>0.842757</td>\n",
       "      <td>0.846587</td>\n",
       "    </tr>\n",
       "    <tr>\n",
       "      <th>5</th>\n",
       "      <td>knn_laplas</td>\n",
       "      <td>0.823165</td>\n",
       "      <td>0.837698</td>\n",
       "    </tr>\n",
       "    <tr>\n",
       "      <th>63</th>\n",
       "      <td>knn_deckew_open_k_size_8</td>\n",
       "      <td>0.822111</td>\n",
       "      <td>0.835556</td>\n",
       "    </tr>\n",
       "    <tr>\n",
       "      <th>60</th>\n",
       "      <td>XGB_deckew_erode_k_size_8</td>\n",
       "      <td>0.816904</td>\n",
       "      <td>0.822302</td>\n",
       "    </tr>\n",
       "    <tr>\n",
       "      <th>59</th>\n",
       "      <td>knn_deckew_erode_k_size_8</td>\n",
       "      <td>0.774593</td>\n",
       "      <td>0.781667</td>\n",
       "    </tr>\n",
       "  </tbody>\n",
       "</table>\n",
       "</div>"
      ],
      "text/plain": [
       "                               model  Mean_cross_val_Accuracy  Valid_Accuracy\n",
       "67                  knn_deckew_gauss                 0.973912        0.976587\n",
       "33                        knn_deckew                 0.973912        0.976587\n",
       "27                knn_gauss_k_size_3                 0.964966        0.967778\n",
       "43         knn_deckew_erode_k_size_2                 0.965646        0.967143\n",
       "47          knn_deckew_open_k_size_2                 0.962993        0.965714\n",
       "0                                knn                 0.962245        0.965556\n",
       "41         knn_deckew_close_k_size_1                 0.963401        0.965238\n",
       "39          knn_deckew_open_k_size_1                 0.963401        0.965238\n",
       "37        knn_deckew_dilate_k_size_1                 0.963401        0.965238\n",
       "35         knn_deckew_erode_k_size_1                 0.963401        0.965238\n",
       "29                knn_gauss_k_size_5                 0.963606        0.965238\n",
       "49         knn_deckew_close_k_size_2                 0.960952        0.962937\n",
       "83                 knn_open_k_size_2                 0.959218        0.962857\n",
       "31                knn_gauss_k_size_7                 0.958877        0.961905\n",
       "21                knn_DIST_L2_mask_5                 0.949626        0.960635\n",
       "82                knn_erode_k_size_2                 0.955783        0.959841\n",
       "81                knn_close_k_size_2                 0.957041        0.959524\n",
       "19                knn_DIST_L2_mask_3                 0.948504        0.959365\n",
       "45        knn_deckew_dilate_k_size_2                 0.956224        0.956984\n",
       "80               knn_dilate_k_size_2                 0.954388        0.956905\n",
       "87                 knn_open_k_size_3                 0.953673        0.956825\n",
       "23                knn_DIST_L1_mask_3                 0.946497        0.956349\n",
       "25                knn_DIST_L1_mask_5                 0.946497        0.956349\n",
       "85                knn_close_k_size_3                 0.953197        0.955159\n",
       "34                        XGB_deckew                 0.953367        0.949921\n",
       "84               knn_dilate_k_size_3                 0.946326        0.947460\n",
       "48          XGB_deckew_open_k_size_2                 0.945306        0.946349\n",
       "7                          knn_sobel                 0.939830        0.945873\n",
       "42         XGB_deckew_close_k_size_1                 0.945817        0.945873\n",
       "40          XGB_deckew_open_k_size_1                 0.945817        0.945873\n",
       "38        XGB_deckew_dilate_k_size_1                 0.945817        0.945873\n",
       "36         XGB_deckew_erode_k_size_1                 0.945817        0.945873\n",
       "57         knn_deckew_close_k_size_5                 0.943333        0.945317\n",
       "46        XGB_deckew_dilate_k_size_2                 0.943469        0.944127\n",
       "44         XGB_deckew_erode_k_size_2                 0.945205        0.942698\n",
       "30                XGB_gauss_k_size_5                 0.940613        0.941984\n",
       "86                knn_erode_k_size_3                 0.935647        0.940476\n",
       "32                XGB_gauss_k_size_7                 0.936055        0.939365\n",
       "28                XGB_gauss_k_size_3                 0.938265        0.939286\n",
       "50         XGB_deckew_close_k_size_3                 0.938946        0.939048\n",
       "53        knn_deckew_dilate_k_size_5                 0.934319        0.934444\n",
       "76   knn_deckew_gauss_erode_k_size_5                 0.930816        0.933413\n",
       "65         knn_deckew_close_k_size_8                 0.930204        0.932381\n",
       "72   knn_deckew_gauss_erode_k_size_3                 0.929864        0.932143\n",
       "17               knn_median_k_size_3                 0.928640        0.931349\n",
       "58         XGB_deckew_close_k_size_5                 0.930884        0.930635\n",
       "54        XGB_deckew_dilate_k_size_5                 0.933368        0.929286\n",
       "4                                XGB                 0.931021        0.929206\n",
       "20                XGB_DIST_L2_mask_3                 0.926973        0.928730\n",
       "22                XGB_DIST_L2_mask_5                 0.926769        0.928571\n",
       "55          knn_deckew_open_k_size_5                 0.926973        0.928571\n",
       "61        knn_deckew_dilate_k_size_8                 0.923368        0.927460\n",
       "13               knn_median_k_size_7                 0.921327        0.927222\n",
       "15               knn_median_k_size_9                 0.921327        0.927222\n",
       "9                knn_median_k_size_3                 0.921327        0.927222\n",
       "11               knn_median_k_size_5                 0.921327        0.927222\n",
       "26                XGB_DIST_L1_mask_5                 0.926803        0.927143\n",
       "24                XGB_DIST_L1_mask_3                 0.926803        0.927143\n",
       "68   knn_deckew_gauss_erode_k_size_2                 0.925918        0.926746\n",
       "62        XGB_deckew_dilate_k_size_8                 0.923606        0.922063\n",
       "70    knn_deckew_gauss_open_k_size_2                 0.918810        0.920635\n",
       "66         XGB_deckew_close_k_size_8                 0.923232        0.920556\n",
       "78    knn_deckew_gauss_open_k_size_5                 0.919456        0.920397\n",
       "74    knn_deckew_gauss_open_k_size_3                 0.918809        0.920317\n",
       "71   knn_deckew_gauss_close_k_size_2                 0.914796        0.918889\n",
       "6                         XGB_laplas                 0.914389        0.917222\n",
       "8                          XGB_sobel                 0.912143        0.915000\n",
       "56          XGB_deckew_open_k_size_5                 0.912653        0.913571\n",
       "69  knn_deckew_gauss_dilate_k_size_2                 0.908333        0.913175\n",
       "75   knn_deckew_gauss_close_k_size_3                 0.910136        0.912381\n",
       "51         knn_deckew_erode_k_size_5                 0.904898        0.910794\n",
       "10               XGB_median_k_size_3                 0.910681        0.907381\n",
       "16               XGB_median_k_size_9                 0.910681        0.907381\n",
       "14               XGB_median_k_size_7                 0.910681        0.907381\n",
       "12               XGB_median_k_size_5                 0.910681        0.907381\n",
       "73  knn_deckew_gauss_dilate_k_size_3                 0.901497        0.906270\n",
       "79   knn_deckew_gauss_close_k_size_5                 0.901258        0.904127\n",
       "77  knn_deckew_gauss_dilate_k_size_5                 0.895408        0.900556\n",
       "52         XGB_deckew_erode_k_size_5                 0.894898        0.895714\n",
       "18               XGB_median_k_size_3                 0.895579        0.894841\n",
       "3                                SVC                 0.849624        0.869206\n",
       "2                             forest                 0.856600        0.862619\n",
       "64          XGB_deckew_open_k_size_8                 0.844319        0.846984\n",
       "1                               tree                 0.842757        0.846587\n",
       "5                         knn_laplas                 0.823165        0.837698\n",
       "63          knn_deckew_open_k_size_8                 0.822111        0.835556\n",
       "60         XGB_deckew_erode_k_size_8                 0.816904        0.822302\n",
       "59         knn_deckew_erode_k_size_8                 0.774593        0.781667"
      ]
     },
     "execution_count": 118,
     "metadata": {},
     "output_type": "execute_result"
    }
   ],
   "source": [
    "results.sort_values(by=['Valid_Accuracy'], ascending=False)"
   ]
  },
  {
   "cell_type": "code",
   "execution_count": 288,
   "metadata": {},
   "outputs": [],
   "source": [
    "X_aug_train_deckew, X_aug_valid_deckew, y_aug_train, y_aug_valid = train_test_split(np.resize(train_aug_deckew, (train_aug.shape[0], 28*28)), label_aug, test_size=0.30, random_state=42)"
   ]
  },
  {
   "cell_type": "code",
   "execution_count": 263,
   "metadata": {},
   "outputs": [
    {
     "name": "stdout",
     "output_type": "stream",
     "text": [
      "Wall time: 12min 1s\n"
     ]
    }
   ],
   "source": [
    "%%time\n",
    "model=KNeighborsClassifier(n_jobs=-1)\n",
    "model.fit(X_aug_train_deckew,y_aug_train)"
   ]
  },
  {
   "cell_type": "code",
   "execution_count": 264,
   "metadata": {
    "scrolled": true
   },
   "outputs": [
    {
     "name": "stdout",
     "output_type": "stream",
     "text": [
      "Wall time: 30min 53s\n"
     ]
    },
    {
     "data": {
      "text/plain": [
       "0.9882275132275132"
      ]
     },
     "execution_count": 264,
     "metadata": {},
     "output_type": "execute_result"
    }
   ],
   "source": [
    "%%time\n",
    "accuracy_score(y_aug_valid, model.predict(X_aug_valid))"
   ]
  },
  {
   "cell_type": "code",
   "execution_count": 265,
   "metadata": {},
   "outputs": [],
   "source": [
    "pred_test_aug_deckew2=model.predict(np.resize(binar(test_img_deckew), (test.shape[0], 28*28)))"
   ]
  },
  {
   "cell_type": "code",
   "execution_count": 294,
   "metadata": {},
   "outputs": [
    {
     "data": {
      "text/plain": [
       "array([2., 0., 9., ..., 3., 9., 2.])"
      ]
     },
     "execution_count": 294,
     "metadata": {},
     "output_type": "execute_result"
    }
   ],
   "source": [
    "pred_test_aug_deckew2"
   ]
  },
  {
   "cell_type": "code",
   "execution_count": 296,
   "metadata": {},
   "outputs": [],
   "source": [
    "with open('submit_aug_deckew.txt', 'w') as dst:\n",
    "    dst.write('ImageId,Label\\n')\n",
    "    for i, p in enumerate(pred_test_aug_deckew2, 1):\n",
    "        dst.write('%s,%s\\n' % (i, int(p) ))"
   ]
  },
  {
   "cell_type": "code",
   "execution_count": 297,
   "metadata": {},
   "outputs": [
    {
     "data": {
      "image/png": "[encoded data removed]",
      "text/plain": [
       "<IPython.core.display.Image object>"
      ]
     },
     "execution_count": 297,
     "metadata": {},
     "output_type": "execute_result"
    }
   ],
   "source": [
    "from IPython.display import Image\n",
    "Image('submit_aug_deckew.png')"
   ]
  },
  {
   "cell_type": "code",
   "execution_count": null,
   "metadata": {},
   "outputs": [],
   "source": []
  },
  {
   "cell_type": "code",
   "execution_count": null,
   "metadata": {},
   "outputs": [],
   "source": []
  },
  {
   "cell_type": "code",
   "execution_count": 303,
   "metadata": {},
   "outputs": [],
   "source": [
    "estimators = {\n",
    "    \n",
    "   \n",
    "    'knn': KNeighborsClassifier(n_jobs=-1),\n",
    "    #'tree': DecisionTreeClassifier(),\n",
    "   # 'forest': linear_model.SGDClassifier(n_jobs=-1),\n",
    "    #'SVC': LinearSVC(),\n",
    "    #'XGB': XGBClassifier(n_jobs=-1)\n",
    "}"
   ]
  },
  {
   "cell_type": "markdown",
   "metadata": {},
   "source": [
    "### PCA"
   ]
  },
  {
   "cell_type": "markdown",
   "metadata": {},
   "source": [
    "### Поробуем PCA на изначальных призак\n"
   ]
  },
  {
   "cell_type": "code",
   "execution_count": 304,
   "metadata": {},
   "outputs": [],
   "source": [
    "from sklearn.decomposition import PCA"
   ]
  },
  {
   "cell_type": "code",
   "execution_count": 305,
   "metadata": {},
   "outputs": [],
   "source": [
    "n_components_=[1,2,3,4,5,10,20,30,40,50,60,70,80,90,100,120,200,250,400]\n",
    "valid_scores_ = np.zeros(len(n_components_))\n",
    "cross_val_scores_=np.zeros(len(n_components_))"
   ]
  },
  {
   "cell_type": "code",
   "execution_count": 306,
   "metadata": {},
   "outputs": [
    {
     "name": "stdout",
     "output_type": "stream",
     "text": [
      "n_components 0\n",
      "[0.27209381 0.27371642 0.26518115 0.27084042 0.26322954]\n",
      "____________________________________________________________________\n",
      "knn Mean_cross_val_Accuracy  0.2690122701534974  Valid_Accuracy:  0.27134920634920634\n",
      "n_components 1\n",
      "[0.41740313 0.41567494 0.42184045 0.41153454 0.41926153]\n",
      "____________________________________________________________________\n",
      "knn Mean_cross_val_Accuracy  0.41714291604471604  Valid_Accuracy:  0.4184126984126984\n",
      "n_components 2\n",
      "[0.48164514 0.4933696  0.4863072  0.47601225 0.4762634 ]\n",
      "____________________________________________________________________\n",
      "knn Mean_cross_val_Accuracy  0.4827195170792692  Valid_Accuracy:  0.4842063492063492\n",
      "n_components 3\n",
      "[0.62457512 0.61747705 0.62187447 0.62691392 0.62157563]\n",
      "____________________________________________________________________\n",
      "knn Mean_cross_val_Accuracy  0.6224832372322929  Valid_Accuracy:  0.6194444444444445\n",
      "n_components 4\n",
      "[0.74065262 0.72458348 0.74043205 0.73698537 0.73268674]\n",
      "____________________________________________________________________\n",
      "knn Mean_cross_val_Accuracy  0.7350680505306239  Valid_Accuracy:  0.7314285714285714\n",
      "n_components 5\n",
      "[0.92199184 0.91873512 0.92413676 0.91833957 0.91934661]\n",
      "____________________________________________________________________\n",
      "knn Mean_cross_val_Accuracy  0.9205099802074624  Valid_Accuracy:  0.9223015873015873\n",
      "n_components 6\n",
      "[0.96397009 0.96106766 0.96683109 0.96172167 0.96630934]\n",
      "____________________________________________________________________\n",
      "knn Mean_cross_val_Accuracy  0.963979972339615  Valid_Accuracy:  0.9651587301587301\n",
      "n_components 7\n",
      "[0.96991842 0.966678   0.97040313 0.96699558 0.97005275]\n",
      "____________________________________________________________________\n",
      "knn Mean_cross_val_Accuracy  0.9688095756066162  Valid_Accuracy:  0.9718253968253968\n",
      "n_components 8\n",
      "[0.97008838 0.96871812 0.97295458 0.96937734 0.97073337]\n",
      "____________________________________________________________________\n",
      "knn Mean_cross_val_Accuracy  0.970374357810118  Valid_Accuracy:  0.9723809523809523\n",
      "n_components 9\n",
      "[0.97042828 0.96701802 0.97176391 0.96699558 0.97141399]\n",
      "____________________________________________________________________\n",
      "knn Mean_cross_val_Accuracy  0.969523954008727  Valid_Accuracy:  0.9723809523809523\n",
      "n_components 10\n",
      "[0.96923861 0.96752805 0.97159381 0.96801633 0.97056321]\n",
      "____________________________________________________________________\n",
      "knn Mean_cross_val_Accuracy  0.9693880035902753  Valid_Accuracy:  0.9714285714285714\n",
      "n_components 11\n",
      "[0.96770904 0.96548793 0.97023303 0.9671657  0.97124383]\n",
      "____________________________________________________________________\n",
      "knn Mean_cross_val_Accuracy  0.9683679076159628  Valid_Accuracy:  0.9709523809523809\n",
      "n_components 12\n",
      "[0.96787899 0.96480789 0.97074332 0.96699558 0.97073337]\n",
      "____________________________________________________________________\n",
      "knn Mean_cross_val_Accuracy  0.9682318300281214  Valid_Accuracy:  0.9707142857142858\n",
      "n_components 13\n",
      "[0.96736914 0.96310779 0.96955265 0.96665532 0.97107368]\n",
      "____________________________________________________________________\n",
      "knn Mean_cross_val_Accuracy  0.9675517140206301  Valid_Accuracy:  0.9698412698412698\n",
      "n_components 14\n",
      "[0.96702923 0.96276777 0.96853206 0.96597482 0.97056321]\n",
      "____________________________________________________________________\n",
      "knn Mean_cross_val_Accuracy  0.9669734190096662  Valid_Accuracy:  0.9691269841269842\n",
      "n_components 15\n",
      "[0.9649898  0.96191772 0.96768158 0.96495407 0.96954228]\n",
      "____________________________________________________________________\n",
      "knn Mean_cross_val_Accuracy  0.9658170891809321  Valid_Accuracy:  0.9685714285714285\n",
      "n_components 16\n",
      "[0.96414004 0.96055763 0.96564042 0.96308268 0.96784074]\n",
      "____________________________________________________________________\n",
      "knn Mean_cross_val_Accuracy  0.9642523011072293  Valid_Accuracy:  0.9669047619047619\n",
      "n_components 17\n",
      "[0.96295037 0.96089765 0.96598061 0.96223205 0.96681981]\n",
      "____________________________________________________________________\n",
      "knn Mean_cross_val_Accuracy  0.9637760988886788  Valid_Accuracy:  0.966031746031746\n",
      "n_components 18\n",
      "[0.96312033 0.95902754 0.96393945 0.96070092 0.96545857]\n",
      "____________________________________________________________________\n",
      "knn Mean_cross_val_Accuracy  0.9624493598842241  Valid_Accuracy:  0.966031746031746\n"
     ]
    }
   ],
   "source": [
    "#Подберем лучшее число компонент\n",
    "for i, n_components in enumerate(n_components_):\n",
    "    pca = PCA(n_components=n_components)\n",
    "    pca.fit(np.resize(train_img, (train.shape[0], 28*28)))\n",
    "    transform = pca.transform(np.resize(train_img, (train.shape[0], 28*28)))\n",
    "    X_train, X_valid, y_train, y_valid =train_test_split(transform , train_label, test_size=0.30, random_state=42)\n",
    "    for est in estimators:\n",
    "        globals()[est+'_pca_n_components_'+str(n_components)]=estimators[est]\n",
    "        eval(est+'_pca_n_components_'+str(n_components)).fit(X_train,y_train)\n",
    "        valid_score=accuracy_score(y_valid, eval(est+'_pca_n_components_'+str(n_components)).predict(X_valid))\n",
    "        cross_val_scores = cross_val_score(eval(est+'_pca_n_components_'+str(n_components)), X_train,y_train, cv=5,n_jobs=-1)\n",
    "        print('n_components',i)\n",
    "        print(cross_val_scores)\n",
    "        valid_scores_[i]=valid_score\n",
    "        cross_val_scores_[i]=cross_val_scores.mean()\n",
    "        print('____________________________________________________________________')\n",
    "        print(est+' Mean_cross_val_Accuracy ',cross_val_scores.mean(),' Valid_Accuracy: ' ,valid_score)\n",
    "        #results = results.append({'model' : est+'_pca_n_components_'+str(n_components) , 'Mean_cross_val_Accuracy' : cross_val_scores.mean(),'Valid_Accuracy':valid_score} , ignore_index=True)\n",
    "    \n",
    "    "
   ]
  },
  {
   "cell_type": "code",
   "execution_count": 307,
   "metadata": {
    "scrolled": true
   },
   "outputs": [
    {
     "data": {
      "image/png": "[encoded data removed]",
      "text/plain": [
       "<Figure size 720x360 with 1 Axes>"
      ]
     },
     "metadata": {},
     "output_type": "display_data"
    }
   ],
   "source": [
    "plt.figure(figsize=(10,5))\n",
    "plt.plot(n_components_,valid_scores_,'.-')\n",
    "#plt.plot(n_components_,cross_val_scores_,'k.-')\n",
    "plt.xlabel(\"n_components\", size=20)\n",
    "plt.ylabel(\"accuracy\", size=20)\n",
    "plt.grid(which=\"both\")"
   ]
  },
  {
   "cell_type": "code",
   "execution_count": 308,
   "metadata": {},
   "outputs": [
    {
     "name": "stdout",
     "output_type": "stream",
     "text": [
      "0.9723809523809523 40\n",
      "0.9723809523809523 50\n"
     ]
    }
   ],
   "source": [
    "for x,y in zip(valid_scores_,n_components_):\n",
    "    if x==valid_scores_.max():\n",
    "        print(x,y)"
   ]
  },
  {
   "cell_type": "code",
   "execution_count": 309,
   "metadata": {},
   "outputs": [],
   "source": [
    "estimators = {\n",
    "    \n",
    "   \n",
    "    #'knn': KNeighborsClassifier(n_jobs=-1),\n",
    "    #'tree': DecisionTreeClassifier(),\n",
    "   # 'forest': linear_model.SGDClassifier(n_jobs=-1),\n",
    "    #'SVC': LinearSVC(),\n",
    "    'XGB': XGBClassifier(n_jobs=-1)\n",
    "}"
   ]
  },
  {
   "cell_type": "code",
   "execution_count": null,
   "metadata": {},
   "outputs": [],
   "source": []
  },
  {
   "cell_type": "code",
   "execution_count": 310,
   "metadata": {},
   "outputs": [
    {
     "name": "stdout",
     "output_type": "stream",
     "text": [
      "n_components 0\n",
      "[0.3025153  0.30754845 0.30311277 0.30214359 0.29726051]\n",
      "____________________________________________________________________\n",
      "XGB Mean_cross_val_Accuracy  0.3025161232441935  Valid_Accuracy:  0.3115079365079365\n",
      "n_components 1\n",
      "[0.45564242 0.46939816 0.46147304 0.45066349 0.46469287]\n",
      "____________________________________________________________________\n",
      "XGB Mean_cross_val_Accuracy  0.4603739970280567  Valid_Accuracy:  0.46555555555555556\n",
      "n_components 2\n",
      "[0.50645819 0.52652159 0.52253785 0.51207894 0.52067381]\n",
      "____________________________________________________________________\n",
      "XGB Mean_cross_val_Accuracy  0.5176540762317515  Valid_Accuracy:  0.5183333333333333\n",
      "n_components 3\n",
      "[0.62236574 0.63345801 0.62510631 0.6136441  0.61800238]\n",
      "____________________________________________________________________\n",
      "XGB Mean_cross_val_Accuracy  0.6225153068940485  Valid_Accuracy:  0.6294444444444445\n",
      "n_components 4\n",
      "[0.71770904 0.7133628  0.71780915 0.71503913 0.72094606]\n",
      "____________________________________________________________________\n",
      "XGB Mean_cross_val_Accuracy  0.7169732368647097  Valid_Accuracy:  0.7181746031746031\n",
      "n_components 5\n",
      "[0.85197145 0.84478069 0.85235584 0.85352161 0.85996257]\n",
      "____________________________________________________________________\n",
      "XGB Mean_cross_val_Accuracy  0.8525184299179234  Valid_Accuracy:  0.8452380952380952\n",
      "n_components 6\n",
      "[0.89768865 0.89204352 0.89981289 0.90098673 0.90250128]\n",
      "____________________________________________________________________\n",
      "XGB Mean_cross_val_Accuracy  0.8986066138961993  Valid_Accuracy:  0.8961904761904762\n",
      "n_components 7\n",
      "[0.90091774 0.89799388 0.905256   0.90626063 0.91151948]\n",
      "____________________________________________________________________\n",
      "XGB Mean_cross_val_Accuracy  0.9043895468360017  Valid_Accuracy:  0.9038888888888889\n",
      "n_components 8\n",
      "[0.90278722 0.90037402 0.90627658 0.90336849 0.91254041]\n",
      "____________________________________________________________________\n",
      "XGB Mean_cross_val_Accuracy  0.9050693448256851  Valid_Accuracy:  0.9044444444444445\n",
      "n_components 9\n",
      "[0.90550646 0.89986399 0.90950842 0.90915277 0.91339119]\n",
      "____________________________________________________________________\n",
      "XGB Mean_cross_val_Accuracy  0.9074845657723604  Valid_Accuracy:  0.9052380952380953\n",
      "n_components 10\n",
      "[0.90431679 0.9017341  0.91018881 0.90728139 0.91271057]\n",
      "____________________________________________________________________\n",
      "XGB Mean_cross_val_Accuracy  0.9072463315615863  Valid_Accuracy:  0.9041269841269841\n",
      "n_components 11\n",
      "[0.90584636 0.90020401 0.91001871 0.90745151 0.9122001 ]\n",
      "____________________________________________________________________\n",
      "XGB Mean_cross_val_Accuracy  0.9071441404275044  Valid_Accuracy:  0.9040476190476191\n",
      "n_components 12\n",
      "[0.90550646 0.90207412 0.90899813 0.90813202 0.91390165]\n",
      "____________________________________________________________________\n",
      "XGB Mean_cross_val_Accuracy  0.9077224759535429  Valid_Accuracy:  0.9048412698412699\n",
      "n_components 13\n",
      "[0.9049966  0.90088405 0.90899813 0.90813202 0.91305088]\n",
      "____________________________________________________________________\n",
      "XGB Mean_cross_val_Accuracy  0.9072123353837863  Valid_Accuracy:  0.9058730158730158\n",
      "n_components 14\n",
      "[0.90516655 0.90207412 0.90950842 0.90915277 0.91271057]\n",
      "____________________________________________________________________\n",
      "XGB Mean_cross_val_Accuracy  0.9077224874558978  Valid_Accuracy:  0.9046825396825396\n",
      "n_components 15\n",
      "[0.90550646 0.90139408 0.90831774 0.90915277 0.91288072]\n",
      "____________________________________________________________________\n",
      "XGB Mean_cross_val_Accuracy  0.9074503554915486  Valid_Accuracy:  0.9063492063492063\n",
      "n_components 16\n",
      "[0.90414684 0.90020401 0.9103589  0.9093229  0.91390165]\n",
      "____________________________________________________________________\n",
      "XGB Mean_cross_val_Accuracy  0.9075868610297263  Valid_Accuracy:  0.9056349206349207\n",
      "n_components 17\n",
      "[0.9046567  0.90139408 0.90933832 0.90830214 0.91356134]\n",
      "____________________________________________________________________\n",
      "XGB Mean_cross_val_Accuracy  0.9074505174041049  Valid_Accuracy:  0.9057142857142857\n",
      "n_components 18\n",
      "[0.90414684 0.90054403 0.90899813 0.90745151 0.91305088]\n",
      "____________________________________________________________________\n",
      "XGB Mean_cross_val_Accuracy  0.9068382781756885  Valid_Accuracy:  0.9053968253968254\n"
     ]
    }
   ],
   "source": [
    "for i, n_components in enumerate(n_components_):\n",
    "    pca = PCA(n_components=n_components)\n",
    "    pca.fit(np.resize(train_img, (train.shape[0], 28*28)))\n",
    "    transform = pca.transform(np.resize(train_img, (train.shape[0], 28*28)))\n",
    "    X_train, X_valid, y_train, y_valid =train_test_split(transform , train_label, test_size=0.30, random_state=42)\n",
    "    for est in estimators:\n",
    "        globals()[est+'_pca_n_components_'+str(n_components)]=estimators[est]\n",
    "        eval(est+'_pca_n_components_'+str(n_components)).fit(X_train,y_train)\n",
    "        valid_score=accuracy_score(y_valid, eval(est+'_pca_n_components_'+str(n_components)).predict(X_valid))\n",
    "        cross_val_scores = cross_val_score(eval(est+'_pca_n_components_'+str(n_components)), X_train,y_train, cv=5,n_jobs=-1)\n",
    "        print('n_components',i)\n",
    "        print(cross_val_scores)\n",
    "        valid_scores_[i]=valid_score\n",
    "        cross_val_scores_[i]=cross_val_scores.mean()\n",
    "        print('____________________________________________________________________')\n",
    "        print(est+' Mean_cross_val_Accuracy ',cross_val_scores.mean(),' Valid_Accuracy: ' ,valid_score)\n",
    "        #results = results.append({'model' : est+'_pca_n_components_'+str(n_components) , 'Mean_cross_val_Accuracy' : cross_val_scores.mean(),'Valid_Accuracy':valid_score} , ignore_index=True)\n",
    "    \n",
    "    "
   ]
  },
  {
   "cell_type": "code",
   "execution_count": 311,
   "metadata": {},
   "outputs": [
    {
     "data": {
      "image/png": "[encoded data removed]",
      "text/plain": [
       "<Figure size 720x360 with 1 Axes>"
      ]
     },
     "metadata": {},
     "output_type": "display_data"
    }
   ],
   "source": [
    "plt.figure(figsize=(10,5))\n",
    "plt.plot(n_components_,valid_scores_,'.-')\n",
    "#plt.plot(n_components_,cross_val_scores_,'k.-')\n",
    "plt.xlabel(\"n_components\", size=20)\n",
    "plt.ylabel(\"accuracy\", size=20)\n",
    "plt.grid(which=\"both\")"
   ]
  },
  {
   "cell_type": "code",
   "execution_count": 312,
   "metadata": {},
   "outputs": [
    {
     "name": "stdout",
     "output_type": "stream",
     "text": [
      "0.9063492063492063 120\n"
     ]
    }
   ],
   "source": [
    "for x,y in zip(valid_scores_,n_components_):\n",
    "    if x==valid_scores_.max():\n",
    "        print(x,y)"
   ]
  },
  {
   "cell_type": "code",
   "execution_count": null,
   "metadata": {},
   "outputs": [],
   "source": [
    "# Проделаем тоже самое для выровненных картинок"
   ]
  },
  {
   "cell_type": "code",
   "execution_count": 313,
   "metadata": {},
   "outputs": [
    {
     "name": "stdout",
     "output_type": "stream",
     "text": [
      "n_components 0\n",
      "[0.28382053 0.28017681 0.29086579 0.28070772 0.28177642]\n",
      "____________________________________________________________________\n",
      "XGB Mean_cross_val_Accuracy  0.2834694549234125  Valid_Accuracy:  0.28595238095238096\n",
      "n_components 1\n",
      "[0.43354861 0.44355661 0.43476782 0.42548486 0.44393398]\n",
      "____________________________________________________________________\n",
      "XGB Mean_cross_val_Accuracy  0.43625837523206323  Valid_Accuracy:  0.44047619047619047\n",
      "n_components 2\n",
      "[0.59755269 0.59537572 0.58292227 0.59663151 0.59298962]\n",
      "____________________________________________________________________\n",
      "XGB Mean_cross_val_Accuracy  0.593094360270609  Valid_Accuracy:  0.5962698412698413\n",
      "n_components 3\n",
      "[0.67063222 0.6616797  0.6645688  0.67420891 0.66530543]\n",
      "____________________________________________________________________\n",
      "XGB Mean_cross_val_Accuracy  0.6672790141028488  Valid_Accuracy:  0.6652380952380952\n",
      "n_components 4\n",
      "[0.74269205 0.74991499 0.74247321 0.74753317 0.7452782 ]\n",
      "____________________________________________________________________\n",
      "XGB Mean_cross_val_Accuracy  0.7455783257140686  Valid_Accuracy:  0.7453174603174603\n",
      "n_components 5\n",
      "[0.84942216 0.84240054 0.84606226 0.84637632 0.85111451]\n",
      "____________________________________________________________________\n",
      "XGB Mean_cross_val_Accuracy  0.8470751587993135  Valid_Accuracy:  0.8453968253968254\n",
      "n_components 6\n",
      "[0.88817131 0.88881333 0.89113795 0.89043892 0.8911009 ]\n",
      "____________________________________________________________________\n",
      "XGB Mean_cross_val_Accuracy  0.8899324832176181  Valid_Accuracy:  0.8859523809523809\n",
      "n_components 7\n",
      "[0.89802855 0.89680381 0.90168396 0.904049   0.9016505 ]\n",
      "____________________________________________________________________\n",
      "XGB Mean_cross_val_Accuracy  0.9004431636610125  Valid_Accuracy:  0.8953174603174603\n",
      "n_components 8\n",
      "[0.90091774 0.90071404 0.90236435 0.90711126 0.9050536 ]\n",
      "____________________________________________________________________\n",
      "XGB Mean_cross_val_Accuracy  0.9032321989323421  Valid_Accuracy:  0.8978571428571429\n",
      "n_components 9\n",
      "[0.90074779 0.89969398 0.90406532 0.90694114 0.90369236]\n",
      "____________________________________________________________________\n",
      "XGB Mean_cross_val_Accuracy  0.9030281171953913  Valid_Accuracy:  0.8991269841269841\n",
      "n_components 10\n",
      "[0.90074779 0.90020401 0.90474571 0.90898265 0.90386251]\n",
      "____________________________________________________________________\n",
      "XGB Mean_cross_val_Accuracy  0.9037085339917373  Valid_Accuracy:  0.8993650793650794\n",
      "n_components 11\n",
      "[0.90329708 0.90071404 0.90559619 0.90830214 0.90641484]\n",
      "____________________________________________________________________\n",
      "XGB Mean_cross_val_Accuracy  0.904864858115529  Valid_Accuracy:  0.8992857142857142\n",
      "n_components 12\n",
      "[0.90414684 0.90054403 0.90712706 0.90847227 0.90352221]\n",
      "____________________________________________________________________\n",
      "XGB Mean_cross_val_Accuracy  0.9047624817277613  Valid_Accuracy:  0.8978571428571429\n",
      "n_components 13\n",
      "[0.90363698 0.90037402 0.90763735 0.90881252 0.90539391]\n",
      "____________________________________________________________________\n",
      "XGB Mean_cross_val_Accuracy  0.9051709574200588  Valid_Accuracy:  0.8999206349206349\n",
      "n_components 14\n",
      "[0.90329708 0.90020401 0.90712706 0.90796189 0.90522375]\n",
      "____________________________________________________________________\n",
      "XGB Mean_cross_val_Accuracy  0.904762759380106  Valid_Accuracy:  0.9011111111111111\n",
      "n_components 15\n",
      "[0.9046567  0.89935396 0.90610648 0.90660088 0.90590437]\n",
      "____________________________________________________________________\n",
      "XGB Mean_cross_val_Accuracy  0.904524479138162  Valid_Accuracy:  0.8978571428571429\n",
      "n_components 16\n",
      "[0.90295717 0.89952397 0.90644667 0.90762164 0.90590437]\n",
      "____________________________________________________________________\n",
      "XGB Mean_cross_val_Accuracy  0.9044907662055349  Valid_Accuracy:  0.900079365079365\n",
      "n_components 17\n",
      "[0.90278722 0.90020401 0.90576629 0.90983328 0.90335205]\n",
      "____________________________________________________________________\n",
      "XGB Mean_cross_val_Accuracy  0.9043885691186508  Valid_Accuracy:  0.8997619047619048\n",
      "n_components 18\n",
      "[0.90482665 0.90139408 0.90406532 0.90660088 0.90539391]\n",
      "____________________________________________________________________\n",
      "XGB Mean_cross_val_Accuracy  0.9044561685051178  Valid_Accuracy:  0.9019047619047619\n",
      "0.9019047619047619 400\n"
     ]
    },
    {
     "data": {
      "image/png": "[encoded data removed]",
      "text/plain": [
       "<Figure size 720x360 with 1 Axes>"
      ]
     },
     "metadata": {},
     "output_type": "display_data"
    }
   ],
   "source": [
    "\n",
    "for i, n_components in enumerate(n_components_):\n",
    "    pca = PCA(n_components=n_components)\n",
    "    pca.fit(np.resize(train_img_deckew, (train.shape[0], 28*28)))\n",
    "    transform = pca.transform(np.resize(train_img, (train.shape[0], 28*28)))\n",
    "    X_train, X_valid, y_train, y_valid =train_test_split(transform , train_label, test_size=0.30, random_state=42)\n",
    "    for est in estimators:\n",
    "        globals()[est+'_pca_n_components_'+str(n_components)]=estimators[est]\n",
    "        eval(est+'_pca_n_components_'+str(n_components)).fit(X_train,y_train)\n",
    "        valid_score=accuracy_score(y_valid, eval(est+'_pca_n_components_'+str(n_components)).predict(X_valid))\n",
    "        cross_val_scores = cross_val_score(eval(est+'_pca_n_components_'+str(n_components)), X_train,y_train, cv=5,n_jobs=-1)\n",
    "        print('n_components',i)\n",
    "        print(cross_val_scores)\n",
    "        valid_scores_[i]=valid_score\n",
    "        cross_val_scores_[i]=cross_val_scores.mean()\n",
    "        print('____________________________________________________________________')\n",
    "        print(est+' Mean_cross_val_Accuracy ',cross_val_scores.mean(),' Valid_Accuracy: ' ,valid_score)\n",
    "        #results = results.append({'model' : est+'_pca_n_components_'+str(n_components) , 'Mean_cross_val_Accuracy' : cross_val_scores.mean(),'Valid_Accuracy':valid_score} , ignore_index=True)\n",
    "    \n",
    "    \n",
    "\n",
    "plt.figure(figsize=(10,5))\n",
    "plt.plot(n_components_,valid_scores_,'.-')\n",
    "#plt.plot(n_components_,cross_val_scores_,'k.-')\n",
    "plt.xlabel(\"n_components\", size=20)\n",
    "plt.ylabel(\"accuracy\", size=20)\n",
    "plt.grid(which=\"both\")\n",
    "\n",
    "for x,y in zip(valid_scores_,n_components_):\n",
    "    if x==valid_scores_.max():\n",
    "        print(x,y)"
   ]
  },
  {
   "cell_type": "code",
   "execution_count": 314,
   "metadata": {},
   "outputs": [
    {
     "name": "stdout",
     "output_type": "stream",
     "text": [
      "0.9019047619047619 400\n"
     ]
    }
   ],
   "source": [
    "for x,y in zip(valid_scores_,n_components_):\n",
    "    if x==valid_scores_.max():\n",
    "        print(x,y)"
   ]
  },
  {
   "cell_type": "code",
   "execution_count": null,
   "metadata": {},
   "outputs": [],
   "source": []
  },
  {
   "cell_type": "code",
   "execution_count": null,
   "metadata": {},
   "outputs": [],
   "source": []
  },
  {
   "cell_type": "code",
   "execution_count": null,
   "metadata": {},
   "outputs": [],
   "source": [
    "pca = PCA(n_components=50)\n",
    "pca.fit(np.resize(train_img, (train.shape[0], 28*28)))\n",
    "train_pca_n_comp_50 = pca.transform(np.resize(train_img, (train.shape[0], 28*28)))\n",
    "test_pca_n_comp_50 = pca.transform(np.resize(test_img, (test.shape[0], 28*28)))"
   ]
  },
  {
   "cell_type": "code",
   "execution_count": null,
   "metadata": {},
   "outputs": [],
   "source": [
    "clf = KNeighborsClassifier()\n",
    "clf.fit(train_pca_n_comp_50,train_label)\n",
    "#train_predictions=clf.predict(train_pca_n_comp_50)\n",
    "pred_test_pca_n_components_50=clf.predict(test_pca_n_comp_50)"
   ]
  },
  {
   "cell_type": "code",
   "execution_count": null,
   "metadata": {},
   "outputs": [],
   "source": [
    "pred_test_pca_n_components_50"
   ]
  },
  {
   "cell_type": "code",
   "execution_count": 419,
   "metadata": {},
   "outputs": [],
   "source": [
    "with open('submit_pca_n_components_50.txt', 'w') as dst:\n",
    "    dst.write('ImageId,Label\\n')\n",
    "    for i, p in enumerate(pred_test_aug, 1):\n",
    "        dst.write('%s,%s\\n' % (i, int(p) ))"
   ]
  },
  {
   "cell_type": "code",
   "execution_count": 372,
   "metadata": {
    "scrolled": false
   },
   "outputs": [
    {
     "data": {
      "image/png": "[encoded data removed]",
      "text/plain": [
       "<IPython.core.display.Image object>"
      ]
     },
     "execution_count": 372,
     "metadata": {},
     "output_type": "execute_result"
    }
   ],
   "source": [
    "#pca на изнчальных признкаах дала тот же результат, что и и простой knn на аугументрованных признаках\n",
    "from IPython.display import Image\n",
    "Image('submit_aug.png')"
   ]
  },
  {
   "cell_type": "code",
   "execution_count": null,
   "metadata": {},
   "outputs": [],
   "source": []
  },
  {
   "cell_type": "markdown",
   "metadata": {},
   "source": [
    "### HOG"
   ]
  },
  {
   "cell_type": "code",
   "execution_count": 316,
   "metadata": {},
   "outputs": [],
   "source": [
    "def hog(X,ksize=3):\n",
    "    sobel_x = np.zeros_like(X)\n",
    "    sobel_y = np.zeros_like(X)\n",
    "    for i in range(len(X)):\n",
    "        sobel_x[i] = cv2.Sobel(X[i], cv2.CV_64F, dx=1, dy=0, ksize=ksize)\n",
    "        sobel_y[i] = cv2.Sobel(X[i], cv2.CV_64F, dx=0, dy=1, ksize=ksize)\n",
    "        \n",
    "        #angle and length of a vector\n",
    "    g, theta = cv2.cartToPolar(sobel_x, sobel_y)\n",
    "    return g, theta\n",
    "   \n",
    "        "
   ]
  },
  {
   "cell_type": "code",
   "execution_count": 317,
   "metadata": {},
   "outputs": [],
   "source": [
    "train_deckew_g, train_deckew_theta=hog(train_img)"
   ]
  },
  {
   "cell_type": "code",
   "execution_count": 318,
   "metadata": {},
   "outputs": [],
   "source": [
    "test_deckew_g, test_deckew_theta=hog(test_img)"
   ]
  },
  {
   "cell_type": "code",
   "execution_count": null,
   "metadata": {},
   "outputs": [],
   "source": []
  },
  {
   "cell_type": "code",
   "execution_count": 319,
   "metadata": {},
   "outputs": [
    {
     "data": {
      "image/png": "[encoded data removed]",
      "text/plain": [
       "<Figure size 1440x720 with 5 Axes>"
      ]
     },
     "metadata": {},
     "output_type": "display_data"
    }
   ],
   "source": [
    "fig = plt.figure(figsize=(20, 10))\n",
    "for i, img in enumerate(train_deckew_g[0:5], 1):\n",
    "    subplot = fig.add_subplot(1, 7, i)\n",
    "    plt.imshow(img, cmap='gray');\n",
    "    subplot.set_title('%s' % train_label[i - 1])\n",
    "    "
   ]
  },
  {
   "cell_type": "code",
   "execution_count": 320,
   "metadata": {
    "scrolled": true
   },
   "outputs": [
    {
     "data": {
      "image/png": "[encoded data removed]",
      "text/plain": [
       "<Figure size 1440x720 with 5 Axes>"
      ]
     },
     "metadata": {},
     "output_type": "display_data"
    }
   ],
   "source": [
    "fig = plt.figure(figsize=(20, 10))\n",
    "for i, img in enumerate(train_deckew_theta[0:5], 1):\n",
    "    subplot = fig.add_subplot(1, 7, i)\n",
    "    plt.imshow(img, cmap='gray');\n",
    "    subplot.set_title('%s' % train_label[i - 1])"
   ]
  },
  {
   "cell_type": "code",
   "execution_count": 253,
   "metadata": {},
   "outputs": [],
   "source": [
    "#train_deckew_g, train_deckew_theta\n",
    "train_deckew_hist = np.zeros((len(train_img_deckew), 16))\n",
    "for i in range(len(train_img_deckew)):\n",
    "    hist, borders = np.histogram(train_deckew_theta[i],\n",
    "                                 bins=16,\n",
    "                                 range=(0., 2. * np.pi),\n",
    "                                 weights=train_deckew_g[i])\n",
    "    train_deckew_hist[i] = hist"
   ]
  },
  {
   "cell_type": "code",
   "execution_count": 254,
   "metadata": {},
   "outputs": [],
   "source": [
    "test_deckew_hist = np.zeros((len(test_img_deckew), 16))\n",
    "for i in range(len(test_img_deckew)):\n",
    "    hist, borders = np.histogram(test_deckew_theta[i],\n",
    "                                 bins=16,\n",
    "                                 range=(0., 2. * np.pi),\n",
    "                                 weights=test_deckew_g[i])\n",
    "    test_deckew_hist[i] = hist"
   ]
  },
  {
   "cell_type": "code",
   "execution_count": 260,
   "metadata": {},
   "outputs": [
    {
     "data": {
      "image/png": "[encoded data removed]",
      "text/plain": [
       "<Figure size 1440x720 with 10 Axes>"
      ]
     },
     "metadata": {},
     "output_type": "display_data"
    }
   ],
   "source": [
    "\n",
    "fig = plt.figure(figsize=(20, 10))\n",
    "for i, img in enumerate(train_deckew_g[:5], 1):\n",
    "    subplot = fig.add_subplot(1, 7, i)\n",
    "    plt.imshow(img, cmap='gray');\n",
    "    subplot.set_title('%s' % train_label[i - 1]);\n",
    "    subplot = fig.add_subplot(3, 7, i)\n",
    "    plt.hist(train_deckew_theta[i - 1].flatten(),\n",
    "             bins=16, weights=train_deckew_g[i - 1].flatten())"
   ]
  },
  {
   "cell_type": "markdown",
   "metadata": {},
   "source": [
    "## Нормируем вектор гистограммы"
   ]
  },
  {
   "cell_type": "code",
   "execution_count": 261,
   "metadata": {},
   "outputs": [],
   "source": [
    "# По умолчанию используется L2 норма\n",
    "train_deckew_hist = train_deckew_hist / np.linalg.norm(train_deckew_hist, axis=1)[:, None]"
   ]
  },
  {
   "cell_type": "code",
   "execution_count": 262,
   "metadata": {},
   "outputs": [],
   "source": [
    "test_deckew_hist = test_deckew_hist / np.linalg.norm(test_deckew_hist, axis=1)[:, None]"
   ]
  },
  {
   "cell_type": "code",
   "execution_count": 263,
   "metadata": {},
   "outputs": [],
   "source": [
    "X_deckew_hist_train, X_deckew_hist_valid, y_train, y_valid = train_test_split(train_deckew_hist, train_label, test_size=0.30, random_state=42)"
   ]
  },
  {
   "cell_type": "code",
   "execution_count": 264,
   "metadata": {},
   "outputs": [
    {
     "name": "stdout",
     "output_type": "stream",
     "text": [
      "knn Mean_cross_val_Accuracy  0.6743882348697297  Valid_Accuracy:  0.6763492063492064\n",
      "____________________________________________________________________\n",
      "XGB Mean_cross_val_Accuracy  0.6959523443939473  Valid_Accuracy:  0.6973809523809524\n",
      "____________________________________________________________________\n",
      "Wall time: 44 s\n"
     ]
    }
   ],
   "source": [
    "%%time\n",
    "for est in estimators: \n",
    "    globals()[est+'_deckew_hist']=estimators[est]\n",
    "    eval(est+'_deckew_hist').fit(X_deckew_hist_train,y_train)\n",
    "    cross_val_scores = cross_val_score(eval(est+'_deckew_hist'), X_deckew_hist_train,y_train, cv=5,n_jobs=-1)\n",
    "    valid_score=accuracy_score(y_valid, eval(est+'_deckew_hist').predict(X_deckew_hist_valid))\n",
    "    print(est+' Mean_cross_val_Accuracy ',cross_val_scores.mean(),' Valid_Accuracy: ' ,valid_score)\n",
    "    results = results.append({'model' : est+'_deckew_hist' , 'Mean_cross_val_Accuracy' : cross_val_scores.mean(),'Valid_Accuracy':valid_score} , ignore_index=True)\n",
    "    print('____________________________________________________________________')"
   ]
  },
  {
   "cell_type": "code",
   "execution_count": 265,
   "metadata": {},
   "outputs": [],
   "source": [
    "train_g, train_theta=hog(train_img)"
   ]
  },
  {
   "cell_type": "code",
   "execution_count": 266,
   "metadata": {},
   "outputs": [],
   "source": [
    "test_g, test_theta=hog(test_img)"
   ]
  },
  {
   "cell_type": "code",
   "execution_count": 267,
   "metadata": {},
   "outputs": [],
   "source": [
    " #Гистограммы вычисляются с учетом длины вектора градиента\n",
    "train_hist = np.zeros((len(train_img), 16))\n",
    "for i in range(len(train_img)):\n",
    "    hist, borders = np.histogram(train_theta[i],\n",
    "                                 bins=16,\n",
    "                                 range=(0., 2. * np.pi),\n",
    "                                 weights=train_g[i])\n",
    "    train_hist[i] = hist"
   ]
  },
  {
   "cell_type": "code",
   "execution_count": null,
   "metadata": {},
   "outputs": [],
   "source": []
  },
  {
   "cell_type": "code",
   "execution_count": 268,
   "metadata": {},
   "outputs": [],
   "source": [
    "test_hist = np.zeros((len(test_img), 16))\n",
    "for i in range(len(test_img)):\n",
    "    hist, borders = np.histogram(test_theta[i],\n",
    "                                 bins=16,\n",
    "                                 range=(0., 2. * np.pi),\n",
    "                                 weights=test_g[i])\n",
    "    test_hist[i] = hist"
   ]
  },
  {
   "cell_type": "code",
   "execution_count": 269,
   "metadata": {},
   "outputs": [],
   "source": [
    "# По умолчанию используется L2 норма\n",
    "train_hist = train_hist / np.linalg.norm(train_hist, axis=1)[:, None]"
   ]
  },
  {
   "cell_type": "code",
   "execution_count": 270,
   "metadata": {},
   "outputs": [],
   "source": [
    "test_hist = test_hist / np.linalg.norm(test_hist, axis=1)[:, None]"
   ]
  },
  {
   "cell_type": "code",
   "execution_count": 271,
   "metadata": {},
   "outputs": [],
   "source": [
    "X_hist_train, X_hist_valid, y_train, y_valid = train_test_split(train_hist, train_label, test_size=0.30, random_state=42)"
   ]
  },
  {
   "cell_type": "code",
   "execution_count": null,
   "metadata": {},
   "outputs": [],
   "source": []
  },
  {
   "cell_type": "code",
   "execution_count": null,
   "metadata": {},
   "outputs": [],
   "source": []
  },
  {
   "cell_type": "code",
   "execution_count": 272,
   "metadata": {},
   "outputs": [
    {
     "name": "stdout",
     "output_type": "stream",
     "text": [
      "knn Mean_cross_val_Accuracy  0.5771069215620527  Valid_Accuracy:  0.5793650793650794\n",
      "____________________________________________________________________\n",
      "XGB Mean_cross_val_Accuracy  0.6310194509705583  Valid_Accuracy:  0.6265079365079365\n",
      "____________________________________________________________________\n",
      "Wall time: 33.1 s\n"
     ]
    }
   ],
   "source": [
    "%%time\n",
    "for est in estimators: \n",
    "    globals()[est+'_hist']=estimators[est]\n",
    "    eval(est+'_hist').fit(X_hist_train,y_train)\n",
    "    cross_val_scores = cross_val_score(eval(est+'_hist'), X_hist_train,y_train, cv=5,n_jobs=-1)\n",
    "    valid_score=accuracy_score(y_valid, eval(est+'_hist').predict(X_hist_valid))\n",
    "    print(est+' Mean_cross_val_Accuracy ',cross_val_scores.mean(),' Valid_Accuracy: ' ,valid_score)\n",
    "    results = results.append({'model' : est+'_hist' , 'Mean_cross_val_Accuracy' : cross_val_scores.mean(),'Valid_Accuracy':valid_score} , ignore_index=True)\n",
    "    print('____________________________________________________________________')"
   ]
  },
  {
   "cell_type": "code",
   "execution_count": null,
   "metadata": {},
   "outputs": [],
   "source": [
    "## чот сущевтенно  хуже стало"
   ]
  },
  {
   "cell_type": "code",
   "execution_count": null,
   "metadata": {},
   "outputs": [],
   "source": []
  },
  {
   "cell_type": "code",
   "execution_count": null,
   "metadata": {},
   "outputs": [],
   "source": []
  },
  {
   "cell_type": "code",
   "execution_count": null,
   "metadata": {},
   "outputs": [],
   "source": []
  },
  {
   "cell_type": "code",
   "execution_count": null,
   "metadata": {},
   "outputs": [],
   "source": []
  },
  {
   "cell_type": "code",
   "execution_count": null,
   "metadata": {},
   "outputs": [],
   "source": []
  },
  {
   "cell_type": "code",
   "execution_count": null,
   "metadata": {},
   "outputs": [],
   "source": []
  },
  {
   "cell_type": "code",
   "execution_count": null,
   "metadata": {},
   "outputs": [],
   "source": []
  }
 ],
 "metadata": {
  "kernelspec": {
   "display_name": "Python 3",
   "language": "python",
   "name": "python3"
  },
  "language_info": {
   "codemirror_mode": {
    "name": "ipython",
    "version": 3
   },
   "file_extension": ".py",
   "mimetype": "text/x-python",
   "name": "python",
   "nbconvert_exporter": "python",
   "pygments_lexer": "ipython3",
   "version": "3.6.5"
  }
 },
 "nbformat": 4,
 "nbformat_minor": 2
}
