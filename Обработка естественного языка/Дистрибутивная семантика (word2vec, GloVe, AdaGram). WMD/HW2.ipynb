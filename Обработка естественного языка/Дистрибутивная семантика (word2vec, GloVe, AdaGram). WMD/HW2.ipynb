{
 "cells": [
  {
   "cell_type": "code",
   "execution_count": 1,
   "metadata": {},
   "outputs": [],
   "source": [
    "import json\n",
    "import pickle\n",
    "import bz2\n",
    "import regex\n",
    "from tqdm import tqdm\n",
    "from scipy import sparse\n",
    "import warnings\n",
    "warnings.filterwarnings('ignore')\n",
    "from sklearn.semi_supervised import LabelSpreading\n",
    "from sklearn.semi_supervised import LabelPropagation"
   ]
  },
  {
   "cell_type": "code",
   "execution_count": 2,
   "metadata": {},
   "outputs": [
    {
     "name": "stdout",
     "output_type": "stream",
     "text": [
      "Populating the interactive namespace from numpy and matplotlib\n"
     ]
    }
   ],
   "source": [
    "import pandas as pd\n",
    "import numpy as np\n",
    "import nltk\n",
    "import matplotlib.pyplot as plt\n",
    "import seaborn as sns\n",
    "%matplotlib inline\n",
    "%pylab inline\n",
    "from nltk.corpus import stopwords\n",
    "from pymystem3 import Mystem\n",
    "from gensim.models import Word2Vec\n",
    "from sklearn.manifold import TSNE\n",
    "from pymorphy2 import MorphAnalyzer"
   ]
  },
  {
   "cell_type": "code",
   "execution_count": 3,
   "metadata": {
    "scrolled": true
   },
   "outputs": [
    {
     "name": "stderr",
     "output_type": "stream",
     "text": [
      "201030it [01:06, 3039.84it/s]\n"
     ]
    }
   ],
   "source": [
    "responses = []\n",
    "with bz2.BZ2File('banki_responses.json.bz2', 'r') as thefile:\n",
    "    for row in tqdm(thefile):\n",
    "        resp = json.loads(row)\n",
    "        if not resp['rating_not_checked'] and (len(resp['text'].split()) > 0):\n",
    "            responses.append(resp)"
   ]
  },
  {
   "cell_type": "markdown",
   "metadata": {},
   "source": [
    "\n",
    "#  Домашнее задание по NLP # 2 [100 баллов] \n",
    "## Составление словарей для классификации по тональности\n",
    "При классификации текстов или предложений по тональности необходимо использовать оценочные словари для предметной области, то есть, такие словари, в которых содержатся отрицательные и позитивные слова для какой-то предметной области. Идея подобных словарей основана на следующих наблюдениях: во-первых, для разных товаров используются разные оценочные слова (например бывает “захватывающая книга”, но не бывает “захватывающих лыж”), во-вторых, в контексте разных товаров одни и те же слова могут иметь разную окраску (слово “тормоз” в отзыве на велосипед имеет нейтральную окраску, в отзыве на компьютер – резко негативную, “пыль” в контексте пылесосов – нейтральную, в контексте кофемолок – положительную (“мелкий помол в пыль”)). Еще один пример: \"теплое пиво\" – это плохо, а \"теплый свитер\" – это хорошо.  \n",
    "\n",
    "Составление таких словарей в ручную – трудоемкий процесс, но, к счастью, его не сложно автоматизировать, если собрать достаточно большие корпуса отзывов. В этом домашнем задании вам предстоит попробовать реализовать один их подходов к составлению оценочных словарей, основанный на статье Inducing Domain-Specific Sentiment Lexicons from Unlabeled Corpora (https://nlp.stanford.edu/pubs/hamilton2016inducing.pdf).\n",
    "\n",
    "\n",
    "Данные для задания – уже знакомые вам отзывы на банки, собранные с нескольких сайтов Рунета. Отзывы могут быть как положительными (оценка 5), так и отрицательными (оценка 1)."
   ]
  },
  {
   "cell_type": "code",
   "execution_count": 4,
   "metadata": {},
   "outputs": [
    {
     "data": {
      "text/plain": [
       "{'city': 'г. Саратов',\n",
       " 'rating_not_checked': False,\n",
       " 'title': 'Карта ко вкладу',\n",
       " 'num_comments': 0,\n",
       " 'bank_license': 'лицензия № 880',\n",
       " 'author': 'ronnichka',\n",
       " 'bank_name': 'Югра',\n",
       " 'datetime': '2015-06-03 20:56:57',\n",
       " 'text': 'Здравствуйте! Хотела написать, что мне месяц не выдают карту ко вкладу, ссылаясь на \"нам же их из Самары везут\" (на секундочку 5 часов езды от нашего города). Но! Прочитала, что людям 3,5 месяцев не выдают карту, и поняла, что у меня все хорошо, пока что. И подарок мне дали, и кулер в отделении есть. Так что я, конечно, готова ждать. Правда хотелось бы не очень долго.',\n",
       " 'rating_grade': 3}"
      ]
     },
     "execution_count": 4,
     "metadata": {},
     "output_type": "execute_result"
    }
   ],
   "source": [
    "responses[99]"
   ]
  },
  {
   "cell_type": "markdown",
   "metadata": {},
   "source": [
    "## Часть 1. Обучение модели word2vec [50 баллов]\n",
    "\n",
    "1. Разбейте всю коллекцию отзывов на предложения. Лемматизируйте все слова. \n",
    "2. Обучите по коллекции предложений word2vec\n",
    "3. Приведите несколько удачных и неудачных примеров решения стандартных текстов для word2vec:\n",
    "    * тест на определение ближайших слов\n",
    "    * тест на аналогии (мужчина – король : женщина – королева)\n",
    "    * тест на определение лишнего слова.\n",
    "    \n",
    "4. Постройте несколько визуализаций:\n",
    "    * TSNE для топ-100 (или топ-500) слов и найдите осмысленные кластеры слов\n",
    "    * задайте координаты для нового пространства следующим образом: одна  ось описывает отношение \"плохо – хорошо\", вторая – \"медленно – быстро\" и найдите координаты названий банков в этих координатах.  Более формально:\n",
    "    берем вектор слова \"хорошо\", вычитаем из него вектор слова \"плохо\", получаем новый вектор, который описывает разницу между хорошими и плохими словами. Берем вектор слова \"сбербанк\" и умножаем его на этот новый вектор – получаем координату по первой оси. Аналогично – для второй оси. Две координаты уже можно нарисовать на плоскости.  \n",
    " \n",
    "\n",
    "\n",
    "Ссылка на примеры визуализаций: https://towardsdatascience.com/game-of-thrones-word-embeddings-does-r-l-j-part-2-30290b1c0b4b"
   ]
  },
  {
   "cell_type": "code",
   "execution_count": null,
   "metadata": {},
   "outputs": [],
   "source": [
    "df=pd.DataFrame.from_dict(responses)"
   ]
  },
  {
   "cell_type": "code",
   "execution_count": 7,
   "metadata": {},
   "outputs": [],
   "source": [
    "df.to_pickle('df.zip')"
   ]
  },
  {
   "cell_type": "code",
   "execution_count": 70,
   "metadata": {},
   "outputs": [],
   "source": [
    "df = pd.read_pickle('df.zip')"
   ]
  },
  {
   "cell_type": "code",
   "execution_count": 71,
   "metadata": {
    "scrolled": true
   },
   "outputs": [
    {
     "data": {
      "text/html": [
       "<div>\n",
       "<style scoped>\n",
       "    .dataframe tbody tr th:only-of-type {\n",
       "        vertical-align: middle;\n",
       "    }\n",
       "\n",
       "    .dataframe tbody tr th {\n",
       "        vertical-align: top;\n",
       "    }\n",
       "\n",
       "    .dataframe thead th {\n",
       "        text-align: right;\n",
       "    }\n",
       "</style>\n",
       "<table border=\"1\" class=\"dataframe\">\n",
       "  <thead>\n",
       "    <tr style=\"text-align: right;\">\n",
       "      <th></th>\n",
       "      <th>author</th>\n",
       "      <th>bank_license</th>\n",
       "      <th>bank_name</th>\n",
       "      <th>city</th>\n",
       "      <th>datetime</th>\n",
       "      <th>num_comments</th>\n",
       "      <th>rating_grade</th>\n",
       "      <th>rating_not_checked</th>\n",
       "      <th>text</th>\n",
       "      <th>title</th>\n",
       "    </tr>\n",
       "  </thead>\n",
       "  <tbody>\n",
       "    <tr>\n",
       "      <th>0</th>\n",
       "      <td>uhnov1</td>\n",
       "      <td>лицензия № 2562</td>\n",
       "      <td>Бинбанк</td>\n",
       "      <td>г. Москва</td>\n",
       "      <td>2015-06-08 12:50:54</td>\n",
       "      <td>0</td>\n",
       "      <td>NaN</td>\n",
       "      <td>False</td>\n",
       "      <td>Добрый день! Я не являюсь клиентом банка и пор...</td>\n",
       "      <td>Жалоба</td>\n",
       "    </tr>\n",
       "    <tr>\n",
       "      <th>1</th>\n",
       "      <td>Foryou</td>\n",
       "      <td>лицензия № 1481</td>\n",
       "      <td>Сбербанк России</td>\n",
       "      <td>г. Новосибирск</td>\n",
       "      <td>2015-06-08 11:09:57</td>\n",
       "      <td>0</td>\n",
       "      <td>NaN</td>\n",
       "      <td>False</td>\n",
       "      <td>Доброго дня! Являюсь держателем зарплатной кар...</td>\n",
       "      <td>Не могу пользоваться услугой Сбербанк он-лайн</td>\n",
       "    </tr>\n",
       "  </tbody>\n",
       "</table>\n",
       "</div>"
      ],
      "text/plain": [
       "   author     bank_license        bank_name            city  \\\n",
       "0  uhnov1  лицензия № 2562          Бинбанк       г. Москва   \n",
       "1  Foryou  лицензия № 1481  Сбербанк России  г. Новосибирск   \n",
       "\n",
       "              datetime  num_comments  rating_grade  rating_not_checked  \\\n",
       "0  2015-06-08 12:50:54             0           NaN               False   \n",
       "1  2015-06-08 11:09:57             0           NaN               False   \n",
       "\n",
       "                                                text  \\\n",
       "0  Добрый день! Я не являюсь клиентом банка и пор...   \n",
       "1  Доброго дня! Являюсь держателем зарплатной кар...   \n",
       "\n",
       "                                           title  \n",
       "0                                         Жалоба  \n",
       "1  Не могу пользоваться услугой Сбербанк он-лайн  "
      ]
     },
     "execution_count": 71,
     "metadata": {},
     "output_type": "execute_result"
    }
   ],
   "source": [
    "df.head(2)"
   ]
  },
  {
   "cell_type": "markdown",
   "metadata": {},
   "source": [
    "### 1.1 Разбейте всю коллекцию отзывов на предложения. Лемматизируйте все слова."
   ]
  },
  {
   "cell_type": "code",
   "execution_count": 7,
   "metadata": {
    "scrolled": true
   },
   "outputs": [
    {
     "name": "stderr",
     "output_type": "stream",
     "text": [
      "[nltk_data] Downloading package punkt to /home/gavril/nltk_data...\n",
      "[nltk_data]   Package punkt is already up-to-date!\n",
      "100%|██████████| 153499/153499 [01:33<00:00, 1648.97it/s]"
     ]
    },
    {
     "name": "stdout",
     "output_type": "stream",
     "text": [
      "2664456\n",
      "['Добрый день!', 'Я не являюсь клиентом банка и поручителем по кредитному договору, а также не являюсь каким-либо другим лицом, письменно  оформившим отношения с банком по поводу урегулирования чьей-либо  задолженности.']\n"
     ]
    },
    {
     "name": "stderr",
     "output_type": "stream",
     "text": [
      "\n"
     ]
    }
   ],
   "source": [
    "import nltk\n",
    "nltk.download('punkt')\n",
    "from nltk.tokenize import sent_tokenize\n",
    "\n",
    "sentenses = []\n",
    "\n",
    "for text in tqdm(df.text):\n",
    "    \n",
    "    for sent in sent_tokenize(text):\n",
    "        sentenses.append(sent)\n",
    "        \n",
    "print(len(sentenses))\n",
    "print(sentenses[:2])"
   ]
  },
  {
   "cell_type": "code",
   "execution_count": 25,
   "metadata": {},
   "outputs": [
    {
     "data": {
      "text/plain": [
       "'Добрый день!'"
      ]
     },
     "execution_count": 25,
     "metadata": {},
     "output_type": "execute_result"
    }
   ],
   "source": [
    "sentenses[0]"
   ]
  },
  {
   "cell_type": "code",
   "execution_count": null,
   "metadata": {},
   "outputs": [],
   "source": [
    "with open('sentenses', 'wb') as fp:\n",
    "    pickle.dump(sentenses, fp)"
   ]
  },
  {
   "cell_type": "code",
   "execution_count": 6,
   "metadata": {},
   "outputs": [],
   "source": [
    "with open('sentenses_lemma', 'rb') as f:\n",
    "    sentenses = pickle.load(f)"
   ]
  },
  {
   "cell_type": "code",
   "execution_count": 79,
   "metadata": {},
   "outputs": [],
   "source": [
    "regex = re.compile(\"[А-Яа-я]+\")\n",
    "def words_only(text, regex=regex):\n",
    "    return \" \".join(regex.findall(text))\n",
    "\n",
    "\n",
    "mystopwords = stopwords.words('russian') + ['это', 'наш' , 'тыс', 'млн', 'млрд', 'также',  'т', 'д','вы']\n",
    "def  remove_stopwords(text, mystopwords = mystopwords):\n",
    "    try:\n",
    "        return \" \".join([token for token in text.split() if not token in mystopwords])\n",
    "    except:\n",
    "        return \"\"\n",
    "\n",
    "    \n",
    "m = Mystem()\n",
    "def lemmatize(text, mystem=m):\n",
    "    try:\n",
    "        return \"\".join(m.lemmatize(text)).strip()  \n",
    "    except:\n",
    "        return \" \"\n",
    "    \n",
    "def preprocessing(text):\n",
    "    words = words_only(text)\n",
    "    no_stopwords = remove_stopwords(words)\n",
    "    lemmas = lemmatize(no_stopwords)\n",
    "    return(lemmas)"
   ]
  },
  {
   "cell_type": "code",
   "execution_count": 12,
   "metadata": {},
   "outputs": [
    {
     "data": {
      "text/plain": [
       "'являться клиент банк поручитель кредитный договор являться либо лицо письменно оформлять отношение банк повод урегулирование чей либо задолженность'"
      ]
     },
     "execution_count": 12,
     "metadata": {},
     "output_type": "execute_result"
    }
   ],
   "source": [
    "preprocessing(sentenses[1])\n"
   ]
  },
  {
   "cell_type": "code",
   "execution_count": null,
   "metadata": {},
   "outputs": [],
   "source": []
  },
  {
   "cell_type": "code",
   "execution_count": 13,
   "metadata": {},
   "outputs": [
    {
     "name": "stderr",
     "output_type": "stream",
     "text": [
      "100%|██████████| 2664456/2664456 [11:10<00:00, 3974.10it/s]\n"
     ]
    }
   ],
   "source": [
    "sentenses_lemma=[]\n",
    "for sent in tqdm(sentenses[:]):\n",
    "    #print(sent)\n",
    "    sentenses_lemma.append(preprocessing(sent).split())"
   ]
  },
  {
   "cell_type": "code",
   "execution_count": 15,
   "metadata": {
    "scrolled": true
   },
   "outputs": [
    {
     "data": {
      "text/plain": [
       "[['добрый', 'день'],\n",
       " ['являться',\n",
       "  'клиент',\n",
       "  'банк',\n",
       "  'поручитель',\n",
       "  'кредитный',\n",
       "  'договор',\n",
       "  'являться',\n",
       "  'либо',\n",
       "  'лицо',\n",
       "  'письменно',\n",
       "  'оформлять',\n",
       "  'отношение',\n",
       "  'банк',\n",
       "  'повод',\n",
       "  'урегулирование',\n",
       "  'чей',\n",
       "  'либо',\n",
       "  'задолженность']]"
      ]
     },
     "execution_count": 15,
     "metadata": {},
     "output_type": "execute_result"
    }
   ],
   "source": [
    "sentenses_lemma[:2]"
   ]
  },
  {
   "cell_type": "code",
   "execution_count": null,
   "metadata": {},
   "outputs": [],
   "source": []
  },
  {
   "cell_type": "code",
   "execution_count": 19,
   "metadata": {},
   "outputs": [
    {
     "data": {
      "text/plain": [
       "2664456"
      ]
     },
     "execution_count": 19,
     "metadata": {},
     "output_type": "execute_result"
    }
   ],
   "source": [
    "len(sentense)"
   ]
  },
  {
   "cell_type": "code",
   "execution_count": 16,
   "metadata": {},
   "outputs": [],
   "source": [
    "with open('sentenses_lemma', 'wb') as fp:\n",
    "    pickle.dump(sentenses_lemma, fp)"
   ]
  },
  {
   "cell_type": "code",
   "execution_count": 59,
   "metadata": {},
   "outputs": [],
   "source": [
    "with open('sentenses_lemma', 'rb') as f:\n",
    "    sentenses_lemma = pickle.load(f)"
   ]
  },
  {
   "cell_type": "code",
   "execution_count": 60,
   "metadata": {},
   "outputs": [
    {
     "data": {
      "text/plain": [
       "2664456"
      ]
     },
     "execution_count": 60,
     "metadata": {},
     "output_type": "execute_result"
    }
   ],
   "source": [
    "len(sentenses_lemma)"
   ]
  },
  {
   "cell_type": "markdown",
   "metadata": {},
   "source": [
    "### 1.2 Обучите по коллекции предложений word2vec"
   ]
  },
  {
   "cell_type": "code",
   "execution_count": 28,
   "metadata": {},
   "outputs": [
    {
     "name": "stdout",
     "output_type": "stream",
     "text": [
      "CPU times: user 9min 41s, sys: 53.8 ms, total: 9min 41s\n",
      "Wall time: 1min 15s\n"
     ]
    }
   ],
   "source": [
    "%time model_banks_size_100_win_3 = Word2Vec(sentenses_lemma, size=100, window=3, min_count=5, workers=12,sg=True)"
   ]
  },
  {
   "cell_type": "markdown",
   "metadata": {},
   "source": [
    "### 1.2 Приведите несколько удачных и неудачных примеров решения стандартных текстов для word2vec:\n",
    "    * тест на определение ближайших слов\n",
    "    * тест на аналогии (мужчина – король : женщина – королева)\n",
    "    * тест на определение лишнего слова."
   ]
  },
  {
   "cell_type": "markdown",
   "metadata": {},
   "source": [
    " * тест на определение ближайших слов"
   ]
  },
  {
   "cell_type": "code",
   "execution_count": 53,
   "metadata": {},
   "outputs": [
    {
     "data": {
      "text/plain": [
       "[('банка', 0.7386811971664429),\n",
       " ('БМ', 0.7169050574302673),\n",
       " ('росбанк', 0.6964902877807617),\n",
       " ('промсвязьбанк', 0.6916427612304688),\n",
       " ('БРС', 0.6913061141967773),\n",
       " ('ситибанк', 0.6840859651565552),\n",
       " ('сбер', 0.6831763982772827),\n",
       " ('райффазенбанк', 0.6829168796539307),\n",
       " ('юкб', 0.6681942343711853),\n",
       " ('ПСБ', 0.6667803525924683)]"
      ]
     },
     "execution_count": 53,
     "metadata": {},
     "output_type": "execute_result"
    }
   ],
   "source": [
    "model_banks_size_100_win_3.wv.most_similar('банк')"
   ]
  },
  {
   "cell_type": "code",
   "execution_count": 54,
   "metadata": {},
   "outputs": [
    {
     "data": {
      "text/plain": [
       "[('автокредит', 0.8683719635009766),\n",
       " ('потребкредит', 0.8343874216079712),\n",
       " ('потреба', 0.7961019277572632),\n",
       " ('автокред', 0.7739664316177368),\n",
       " ('потребительский', 0.7656630873680115),\n",
       " ('ипотека', 0.7496848702430725),\n",
       " ('ссуда', 0.7356037497520447),\n",
       " ('быстрокредит', 0.7212080955505371),\n",
       " ('нецелевой', 0.7065843343734741),\n",
       " ('рассрочка', 0.6705203652381897)]"
      ]
     },
     "execution_count": 54,
     "metadata": {},
     "output_type": "execute_result"
    }
   ],
   "source": [
    "model_banks_size_100_win_3.most_similar('кредит')"
   ]
  },
  {
   "cell_type": "code",
   "execution_count": 55,
   "metadata": {},
   "outputs": [
    {
     "data": {
      "text/plain": [
       "[('терминал', 0.8106145858764648),\n",
       " ('бакомат', 0.8089646100997925),\n",
       " ('атма', 0.7972457408905029),\n",
       " ('банкомет', 0.7818796634674072),\n",
       " ('банкамат', 0.7338375449180603),\n",
       " ('банокмат', 0.7025562524795532),\n",
       " ('кэшино', 0.7012708187103271),\n",
       " ('депозитор', 0.6932367086410522),\n",
       " ('аппарат', 0.6807467341423035),\n",
       " ('устройство', 0.6797964572906494)]"
      ]
     },
     "execution_count": 55,
     "metadata": {},
     "output_type": "execute_result"
    }
   ],
   "source": [
    "model_banks_size_100_win_3.most_similar('банкомат')"
   ]
  },
  {
   "cell_type": "markdown",
   "metadata": {},
   "source": [
    "#### Попробуем поиграться с парметрами"
   ]
  },
  {
   "cell_type": "code",
   "execution_count": 32,
   "metadata": {},
   "outputs": [],
   "source": [
    "model_banks_size_300_win_5 = Word2Vec(sentenses_lemma, size=300, window=5, min_count=20, workers=12,sg=True)"
   ]
  },
  {
   "cell_type": "code",
   "execution_count": 266,
   "metadata": {},
   "outputs": [],
   "source": [
    "model_banks_size_300_win_5.save(\"model_banks_size_300_win_5.model\")"
   ]
  },
  {
   "cell_type": "code",
   "execution_count": 3,
   "metadata": {},
   "outputs": [],
   "source": [
    "\n",
    "model_banks_size_300_win_5= Word2Vec.load(\"model_banks_size_300_win_5.model\")"
   ]
  },
  {
   "cell_type": "code",
   "execution_count": 33,
   "metadata": {},
   "outputs": [
    {
     "data": {
      "text/plain": [
       "['добрый', 'день']"
      ]
     },
     "execution_count": 33,
     "metadata": {},
     "output_type": "execute_result"
    }
   ],
   "source": [
    "sentenses_lemma[0]"
   ]
  },
  {
   "cell_type": "code",
   "execution_count": 268,
   "metadata": {},
   "outputs": [
    {
     "data": {
      "text/plain": [
       "[('пробизнес', 0.5226661562919617),\n",
       " ('транскапиталбанк', 0.5216688513755798),\n",
       " ('евротраст', 0.5092047452926636),\n",
       " ('райффазенбанк', 0.5086787939071655),\n",
       " ('челиндбанк', 0.5074278712272644),\n",
       " ('газэнергобанк', 0.5061803460121155),\n",
       " ('росбанк', 0.5020236968994141),\n",
       " ('экстробанк', 0.5015712976455688),\n",
       " ('промсвязьбанк', 0.4956953227519989),\n",
       " ('сбер', 0.49378693103790283)]"
      ]
     },
     "execution_count": 268,
     "metadata": {},
     "output_type": "execute_result"
    }
   ],
   "source": [
    "model_banks_size_300_win_5.most_similar('банк')"
   ]
  },
  {
   "cell_type": "code",
   "execution_count": 57,
   "metadata": {},
   "outputs": [
    {
     "data": {
      "text/plain": [
       "[('автокредит', 0.7075753211975098),\n",
       " ('потребкредит', 0.6529462337493896),\n",
       " ('потребительский', 0.6416990756988525),\n",
       " ('потреба', 0.6370478868484497),\n",
       " ('автокред', 0.6233214139938354),\n",
       " ('ссуда', 0.6032420992851257),\n",
       " ('ипотека', 0.5994747281074524),\n",
       " ('евроремонт', 0.5911850929260254),\n",
       " ('перекредитация', 0.569797158241272),\n",
       " ('нецелевой', 0.5519369840621948)]"
      ]
     },
     "execution_count": 57,
     "metadata": {},
     "output_type": "execute_result"
    }
   ],
   "source": [
    "model_banks_size_300_win_5.most_similar('кредит')"
   ]
  },
  {
   "cell_type": "code",
   "execution_count": 58,
   "metadata": {},
   "outputs": [
    {
     "data": {
      "text/plain": [
       "[('толпа', 0.6152852773666382),\n",
       " ('давка', 0.6064802408218384),\n",
       " ('толпиться', 0.5998757481575012),\n",
       " ('толкотня', 0.5943339467048645),\n",
       " ('столпотворение', 0.5925817489624023),\n",
       " ('километровый', 0.5905577540397644),\n",
       " ('томиться', 0.5782584547996521),\n",
       " ('битком', 0.5767631530761719),\n",
       " ('высиживать', 0.5751825571060181),\n",
       " ('очередник', 0.5666207075119019)]"
      ]
     },
     "execution_count": 58,
     "metadata": {},
     "output_type": "execute_result"
    }
   ],
   "source": [
    "model_banks_size_300_win_5.most_similar('очередь')"
   ]
  },
  {
   "cell_type": "code",
   "execution_count": 261,
   "metadata": {},
   "outputs": [],
   "source": [
    "# Гм, ну в целом похоже на правду"
   ]
  },
  {
   "cell_type": "markdown",
   "metadata": {},
   "source": [
    "  * тест на аналогии (мужчина – король : женщина – королева)"
   ]
  },
  {
   "cell_type": "code",
   "execution_count": 260,
   "metadata": {},
   "outputs": [
    {
     "data": {
      "text/plain": [
       "[('евро', 0.6529797911643982),\n",
       " ('руб', 0.601260244846344),\n",
       " ('евроцент', 0.5789920091629028),\n",
       " ('долл', 0.5780405402183533),\n",
       " ('бакс', 0.5686252117156982),\n",
       " ('тысяча', 0.5563974976539612),\n",
       " ('уе', 0.550661563873291),\n",
       " ('дол', 0.5479140281677246),\n",
       " ('еврик', 0.5475706458091736),\n",
       " ('р', 0.5234415531158447)]"
      ]
     },
     "execution_count": 260,
     "metadata": {},
     "output_type": "execute_result"
    }
   ],
   "source": [
    "model_banks_size_300_win_5.most_similar(positive=['рубль',\"доллар\"], negative=[\"российский\"])"
   ]
  },
  {
   "cell_type": "code",
   "execution_count": null,
   "metadata": {},
   "outputs": [],
   "source": [
    "# Тут не очень похоже"
   ]
  },
  {
   "cell_type": "markdown",
   "metadata": {},
   "source": [
    " * тест на определение лишнего слова."
   ]
  },
  {
   "cell_type": "code",
   "execution_count": 51,
   "metadata": {},
   "outputs": [
    {
     "data": {
      "text/plain": [
       "'собака'"
      ]
     },
     "execution_count": 51,
     "metadata": {},
     "output_type": "execute_result"
    }
   ],
   "source": [
    "model_banks_size_300_win_5.doesnt_match(\"деньги доллар собака\".split())"
   ]
  },
  {
   "cell_type": "code",
   "execution_count": 60,
   "metadata": {},
   "outputs": [
    {
     "data": {
      "text/plain": [
       "'вклад'"
      ]
     },
     "execution_count": 60,
     "metadata": {},
     "output_type": "execute_result"
    }
   ],
   "source": [
    "model_banks_size_300_win_5.doesnt_match(\"автокредит ипотека потребительский вклад\".split())"
   ]
  },
  {
   "cell_type": "code",
   "execution_count": 62,
   "metadata": {},
   "outputs": [
    {
     "data": {
      "text/plain": [
       "'банкомат'"
      ]
     },
     "execution_count": 62,
     "metadata": {},
     "output_type": "execute_result"
    }
   ],
   "source": [
    "model_banks_size_300_win_5.doesnt_match('кабинет комната офис банкомат'.split())"
   ]
  },
  {
   "cell_type": "code",
   "execution_count": null,
   "metadata": {},
   "outputs": [],
   "source": [
    "# Вроде справляется"
   ]
  },
  {
   "cell_type": "markdown",
   "metadata": {},
   "source": [
    "### 1.4  Постройте несколько визуализаций:\n",
    "    * TSNE для топ-100 (или топ-500) слов и найдите осмысленные кластеры слов\n",
    "    * задайте координаты для нового пространства следующим образом: одна  ось описывает отношение \"плохо –  хорошо\", вторая – \"медленно – быстро\" и найдите координаты названий банков в этих координатах. \n",
    "    Более формально:\n",
    "    берем вектор слова \"хорошо\", вычитаем из него вектор слова \"плохо\", получаем новый вектор, который описывает разницу между хорошими и плохими словами. Берем вектор слова \"сбербанк\" и умножаем его на этот новый вектор – получаем координату по первой оси. Аналогично – для второй оси. Две координаты уже можно нарисовать на плоскости.  \n",
    " \n",
    "\n",
    "\n",
    "Ссылка на примеры визуализаций: https://towardsdatascience.com/game-of-thrones-word-embeddings-does-r-l-j-part-2-30290b1c0b4b"
   ]
  },
  {
   "cell_type": "markdown",
   "metadata": {},
   "source": [
    "* TSNE для топ-100 (или топ-500) слов и найдите осмысленные кластеры слов"
   ]
  },
  {
   "cell_type": "code",
   "execution_count": 61,
   "metadata": {},
   "outputs": [
    {
     "name": "stdout",
     "output_type": "stream",
     "text": [
      "['банк', 'карта', 'деньги', 'день', 'кредит', 'который', 'отделение', 'клиент', 'сотрудник', 'счет', 'сказать', 'сумма', 'получать', 'заявление', 'год']\n"
     ]
    }
   ],
   "source": [
    "top_words = []\n",
    "from nltk import FreqDist\n",
    "fd = FreqDist()\n",
    "for text in sentenses_lemma:\n",
    "    fd.update(text)\n",
    "for i in fd.most_common(500):\n",
    "    top_words.append(i[0])\n",
    "print(top_words[:15])"
   ]
  },
  {
   "cell_type": "code",
   "execution_count": 62,
   "metadata": {},
   "outputs": [
    {
     "data": {
      "text/plain": [
       "500"
      ]
     },
     "execution_count": 62,
     "metadata": {},
     "output_type": "execute_result"
    }
   ],
   "source": [
    "len(top_words)"
   ]
  },
  {
   "cell_type": "code",
   "execution_count": 63,
   "metadata": {},
   "outputs": [
    {
     "data": {
      "text/plain": [
       "433"
      ]
     },
     "execution_count": 63,
     "metadata": {},
     "output_type": "execute_result"
    }
   ],
   "source": [
    "top_words = [w for w in top_words if len(w) > 4]\n",
    "len(top_words)"
   ]
  },
  {
   "cell_type": "code",
   "execution_count": 64,
   "metadata": {},
   "outputs": [],
   "source": [
    "top_words_vec = model_banks_size_300_win_5[top_words]"
   ]
  },
  {
   "cell_type": "code",
   "execution_count": 65,
   "metadata": {},
   "outputs": [],
   "source": [
    "from sklearn.manifold import TSNE\n",
    "tsne = TSNE(n_components=2, random_state=0)\n",
    "top_words_tsne = tsne.fit_transform(top_words_vec)"
   ]
  },
  {
   "cell_type": "code",
   "execution_count": 66,
   "metadata": {},
   "outputs": [
    {
     "data": {
      "text/html": [
       "\n",
       "    <div class=\"bk-root\">\n",
       "        <a href=\"https://bokeh.pydata.org\" target=\"_blank\" class=\"bk-logo bk-logo-small bk-logo-notebook\"></a>\n",
       "        <span id=\"1001\">Loading BokehJS ...</span>\n",
       "    </div>"
      ]
     },
     "metadata": {},
     "output_type": "display_data"
    },
    {
     "data": {
      "application/javascript": [
       "\n",
       "(function(root) {\n",
       "  function now() {\n",
       "    return new Date();\n",
       "  }\n",
       "\n",
       "  var force = true;\n",
       "\n",
       "  if (typeof (root._bokeh_onload_callbacks) === \"undefined\" || force === true) {\n",
       "    root._bokeh_onload_callbacks = [];\n",
       "    root._bokeh_is_loading = undefined;\n",
       "  }\n",
       "\n",
       "  var JS_MIME_TYPE = 'application/javascript';\n",
       "  var HTML_MIME_TYPE = 'text/html';\n",
       "  var EXEC_MIME_TYPE = 'application/vnd.bokehjs_exec.v0+json';\n",
       "  var CLASS_NAME = 'output_bokeh rendered_html';\n",
       "\n",
       "  /**\n",
       "   * Render data to the DOM node\n",
       "   */\n",
       "  function render(props, node) {\n",
       "    var script = document.createElement(\"script\");\n",
       "    node.appendChild(script);\n",
       "  }\n",
       "\n",
       "  /**\n",
       "   * Handle when an output is cleared or removed\n",
       "   */\n",
       "  function handleClearOutput(event, handle) {\n",
       "    var cell = handle.cell;\n",
       "\n",
       "    var id = cell.output_area._bokeh_element_id;\n",
       "    var server_id = cell.output_area._bokeh_server_id;\n",
       "    // Clean up Bokeh references\n",
       "    if (id != null && id in Bokeh.index) {\n",
       "      Bokeh.index[id].model.document.clear();\n",
       "      delete Bokeh.index[id];\n",
       "    }\n",
       "\n",
       "    if (server_id !== undefined) {\n",
       "      // Clean up Bokeh references\n",
       "      var cmd = \"from bokeh.io.state import curstate; print(curstate().uuid_to_server['\" + server_id + \"'].get_sessions()[0].document.roots[0]._id)\";\n",
       "      cell.notebook.kernel.execute(cmd, {\n",
       "        iopub: {\n",
       "          output: function(msg) {\n",
       "            var id = msg.content.text.trim();\n",
       "            if (id in Bokeh.index) {\n",
       "              Bokeh.index[id].model.document.clear();\n",
       "              delete Bokeh.index[id];\n",
       "            }\n",
       "          }\n",
       "        }\n",
       "      });\n",
       "      // Destroy server and session\n",
       "      var cmd = \"import bokeh.io.notebook as ion; ion.destroy_server('\" + server_id + \"')\";\n",
       "      cell.notebook.kernel.execute(cmd);\n",
       "    }\n",
       "  }\n",
       "\n",
       "  /**\n",
       "   * Handle when a new output is added\n",
       "   */\n",
       "  function handleAddOutput(event, handle) {\n",
       "    var output_area = handle.output_area;\n",
       "    var output = handle.output;\n",
       "\n",
       "    // limit handleAddOutput to display_data with EXEC_MIME_TYPE content only\n",
       "    if ((output.output_type != \"display_data\") || (!output.data.hasOwnProperty(EXEC_MIME_TYPE))) {\n",
       "      return\n",
       "    }\n",
       "\n",
       "    var toinsert = output_area.element.find(\".\" + CLASS_NAME.split(' ')[0]);\n",
       "\n",
       "    if (output.metadata[EXEC_MIME_TYPE][\"id\"] !== undefined) {\n",
       "      toinsert[toinsert.length - 1].firstChild.textContent = output.data[JS_MIME_TYPE];\n",
       "      // store reference to embed id on output_area\n",
       "      output_area._bokeh_element_id = output.metadata[EXEC_MIME_TYPE][\"id\"];\n",
       "    }\n",
       "    if (output.metadata[EXEC_MIME_TYPE][\"server_id\"] !== undefined) {\n",
       "      var bk_div = document.createElement(\"div\");\n",
       "      bk_div.innerHTML = output.data[HTML_MIME_TYPE];\n",
       "      var script_attrs = bk_div.children[0].attributes;\n",
       "      for (var i = 0; i < script_attrs.length; i++) {\n",
       "        toinsert[toinsert.length - 1].firstChild.setAttribute(script_attrs[i].name, script_attrs[i].value);\n",
       "      }\n",
       "      // store reference to server id on output_area\n",
       "      output_area._bokeh_server_id = output.metadata[EXEC_MIME_TYPE][\"server_id\"];\n",
       "    }\n",
       "  }\n",
       "\n",
       "  function register_renderer(events, OutputArea) {\n",
       "\n",
       "    function append_mime(data, metadata, element) {\n",
       "      // create a DOM node to render to\n",
       "      var toinsert = this.create_output_subarea(\n",
       "        metadata,\n",
       "        CLASS_NAME,\n",
       "        EXEC_MIME_TYPE\n",
       "      );\n",
       "      this.keyboard_manager.register_events(toinsert);\n",
       "      // Render to node\n",
       "      var props = {data: data, metadata: metadata[EXEC_MIME_TYPE]};\n",
       "      render(props, toinsert[toinsert.length - 1]);\n",
       "      element.append(toinsert);\n",
       "      return toinsert\n",
       "    }\n",
       "\n",
       "    /* Handle when an output is cleared or removed */\n",
       "    events.on('clear_output.CodeCell', handleClearOutput);\n",
       "    events.on('delete.Cell', handleClearOutput);\n",
       "\n",
       "    /* Handle when a new output is added */\n",
       "    events.on('output_added.OutputArea', handleAddOutput);\n",
       "\n",
       "    /**\n",
       "     * Register the mime type and append_mime function with output_area\n",
       "     */\n",
       "    OutputArea.prototype.register_mime_type(EXEC_MIME_TYPE, append_mime, {\n",
       "      /* Is output safe? */\n",
       "      safe: true,\n",
       "      /* Index of renderer in `output_area.display_order` */\n",
       "      index: 0\n",
       "    });\n",
       "  }\n",
       "\n",
       "  // register the mime type if in Jupyter Notebook environment and previously unregistered\n",
       "  if (root.Jupyter !== undefined) {\n",
       "    var events = require('base/js/events');\n",
       "    var OutputArea = require('notebook/js/outputarea').OutputArea;\n",
       "\n",
       "    if (OutputArea.prototype.mime_types().indexOf(EXEC_MIME_TYPE) == -1) {\n",
       "      register_renderer(events, OutputArea);\n",
       "    }\n",
       "  }\n",
       "\n",
       "  \n",
       "  if (typeof (root._bokeh_timeout) === \"undefined\" || force === true) {\n",
       "    root._bokeh_timeout = Date.now() + 5000;\n",
       "    root._bokeh_failed_load = false;\n",
       "  }\n",
       "\n",
       "  var NB_LOAD_WARNING = {'data': {'text/html':\n",
       "     \"<div style='background-color: #fdd'>\\n\"+\n",
       "     \"<p>\\n\"+\n",
       "     \"BokehJS does not appear to have successfully loaded. If loading BokehJS from CDN, this \\n\"+\n",
       "     \"may be due to a slow or bad network connection. Possible fixes:\\n\"+\n",
       "     \"</p>\\n\"+\n",
       "     \"<ul>\\n\"+\n",
       "     \"<li>re-rerun `output_notebook()` to attempt to load from CDN again, or</li>\\n\"+\n",
       "     \"<li>use INLINE resources instead, as so:</li>\\n\"+\n",
       "     \"</ul>\\n\"+\n",
       "     \"<code>\\n\"+\n",
       "     \"from bokeh.resources import INLINE\\n\"+\n",
       "     \"output_notebook(resources=INLINE)\\n\"+\n",
       "     \"</code>\\n\"+\n",
       "     \"</div>\"}};\n",
       "\n",
       "  function display_loaded() {\n",
       "    var el = document.getElementById(\"1001\");\n",
       "    if (el != null) {\n",
       "      el.textContent = \"BokehJS is loading...\";\n",
       "    }\n",
       "    if (root.Bokeh !== undefined) {\n",
       "      if (el != null) {\n",
       "        el.textContent = \"BokehJS \" + root.Bokeh.version + \" successfully loaded.\";\n",
       "      }\n",
       "    } else if (Date.now() < root._bokeh_timeout) {\n",
       "      setTimeout(display_loaded, 100)\n",
       "    }\n",
       "  }\n",
       "\n",
       "\n",
       "  function run_callbacks() {\n",
       "    try {\n",
       "      root._bokeh_onload_callbacks.forEach(function(callback) { callback() });\n",
       "    }\n",
       "    finally {\n",
       "      delete root._bokeh_onload_callbacks\n",
       "    }\n",
       "    console.info(\"Bokeh: all callbacks have finished\");\n",
       "  }\n",
       "\n",
       "  function load_libs(js_urls, callback) {\n",
       "    root._bokeh_onload_callbacks.push(callback);\n",
       "    if (root._bokeh_is_loading > 0) {\n",
       "      console.log(\"Bokeh: BokehJS is being loaded, scheduling callback at\", now());\n",
       "      return null;\n",
       "    }\n",
       "    if (js_urls == null || js_urls.length === 0) {\n",
       "      run_callbacks();\n",
       "      return null;\n",
       "    }\n",
       "    console.log(\"Bokeh: BokehJS not loaded, scheduling load and callback at\", now());\n",
       "    root._bokeh_is_loading = js_urls.length;\n",
       "    for (var i = 0; i < js_urls.length; i++) {\n",
       "      var url = js_urls[i];\n",
       "      var s = document.createElement('script');\n",
       "      s.src = url;\n",
       "      s.async = false;\n",
       "      s.onreadystatechange = s.onload = function() {\n",
       "        root._bokeh_is_loading--;\n",
       "        if (root._bokeh_is_loading === 0) {\n",
       "          console.log(\"Bokeh: all BokehJS libraries loaded\");\n",
       "          run_callbacks()\n",
       "        }\n",
       "      };\n",
       "      s.onerror = function() {\n",
       "        console.warn(\"failed to load library \" + url);\n",
       "      };\n",
       "      console.log(\"Bokeh: injecting script tag for BokehJS library: \", url);\n",
       "      document.getElementsByTagName(\"head\")[0].appendChild(s);\n",
       "    }\n",
       "  };var element = document.getElementById(\"1001\");\n",
       "  if (element == null) {\n",
       "    console.log(\"Bokeh: ERROR: autoload.js configured with elementid '1001' but no matching script tag was found. \")\n",
       "    return false;\n",
       "  }\n",
       "\n",
       "  var js_urls = [\"https://cdn.pydata.org/bokeh/release/bokeh-1.0.4.min.js\", \"https://cdn.pydata.org/bokeh/release/bokeh-widgets-1.0.4.min.js\", \"https://cdn.pydata.org/bokeh/release/bokeh-tables-1.0.4.min.js\", \"https://cdn.pydata.org/bokeh/release/bokeh-gl-1.0.4.min.js\"];\n",
       "\n",
       "  var inline_js = [\n",
       "    function(Bokeh) {\n",
       "      Bokeh.set_log_level(\"info\");\n",
       "    },\n",
       "    \n",
       "    function(Bokeh) {\n",
       "      \n",
       "    },\n",
       "    function(Bokeh) {\n",
       "      console.log(\"Bokeh: injecting CSS: https://cdn.pydata.org/bokeh/release/bokeh-1.0.4.min.css\");\n",
       "      Bokeh.embed.inject_css(\"https://cdn.pydata.org/bokeh/release/bokeh-1.0.4.min.css\");\n",
       "      console.log(\"Bokeh: injecting CSS: https://cdn.pydata.org/bokeh/release/bokeh-widgets-1.0.4.min.css\");\n",
       "      Bokeh.embed.inject_css(\"https://cdn.pydata.org/bokeh/release/bokeh-widgets-1.0.4.min.css\");\n",
       "      console.log(\"Bokeh: injecting CSS: https://cdn.pydata.org/bokeh/release/bokeh-tables-1.0.4.min.css\");\n",
       "      Bokeh.embed.inject_css(\"https://cdn.pydata.org/bokeh/release/bokeh-tables-1.0.4.min.css\");\n",
       "    }\n",
       "  ];\n",
       "\n",
       "  function run_inline_js() {\n",
       "    \n",
       "    if ((root.Bokeh !== undefined) || (force === true)) {\n",
       "      for (var i = 0; i < inline_js.length; i++) {\n",
       "        inline_js[i].call(root, root.Bokeh);\n",
       "      }if (force === true) {\n",
       "        display_loaded();\n",
       "      }} else if (Date.now() < root._bokeh_timeout) {\n",
       "      setTimeout(run_inline_js, 100);\n",
       "    } else if (!root._bokeh_failed_load) {\n",
       "      console.log(\"Bokeh: BokehJS failed to load within specified timeout.\");\n",
       "      root._bokeh_failed_load = true;\n",
       "    } else if (force !== true) {\n",
       "      var cell = $(document.getElementById(\"1001\")).parents('.cell').data().cell;\n",
       "      cell.output_area.append_execute_result(NB_LOAD_WARNING)\n",
       "    }\n",
       "\n",
       "  }\n",
       "\n",
       "  if (root._bokeh_is_loading === 0) {\n",
       "    console.log(\"Bokeh: BokehJS loaded, going straight to plotting\");\n",
       "    run_inline_js();\n",
       "  } else {\n",
       "    load_libs(js_urls, function() {\n",
       "      console.log(\"Bokeh: BokehJS plotting callback run at\", now());\n",
       "      run_inline_js();\n",
       "    });\n",
       "  }\n",
       "}(window));"
      ],
      "application/vnd.bokehjs_load.v0+json": "\n(function(root) {\n  function now() {\n    return new Date();\n  }\n\n  var force = true;\n\n  if (typeof (root._bokeh_onload_callbacks) === \"undefined\" || force === true) {\n    root._bokeh_onload_callbacks = [];\n    root._bokeh_is_loading = undefined;\n  }\n\n  \n\n  \n  if (typeof (root._bokeh_timeout) === \"undefined\" || force === true) {\n    root._bokeh_timeout = Date.now() + 5000;\n    root._bokeh_failed_load = false;\n  }\n\n  var NB_LOAD_WARNING = {'data': {'text/html':\n     \"<div style='background-color: #fdd'>\\n\"+\n     \"<p>\\n\"+\n     \"BokehJS does not appear to have successfully loaded. If loading BokehJS from CDN, this \\n\"+\n     \"may be due to a slow or bad network connection. Possible fixes:\\n\"+\n     \"</p>\\n\"+\n     \"<ul>\\n\"+\n     \"<li>re-rerun `output_notebook()` to attempt to load from CDN again, or</li>\\n\"+\n     \"<li>use INLINE resources instead, as so:</li>\\n\"+\n     \"</ul>\\n\"+\n     \"<code>\\n\"+\n     \"from bokeh.resources import INLINE\\n\"+\n     \"output_notebook(resources=INLINE)\\n\"+\n     \"</code>\\n\"+\n     \"</div>\"}};\n\n  function display_loaded() {\n    var el = document.getElementById(\"1001\");\n    if (el != null) {\n      el.textContent = \"BokehJS is loading...\";\n    }\n    if (root.Bokeh !== undefined) {\n      if (el != null) {\n        el.textContent = \"BokehJS \" + root.Bokeh.version + \" successfully loaded.\";\n      }\n    } else if (Date.now() < root._bokeh_timeout) {\n      setTimeout(display_loaded, 100)\n    }\n  }\n\n\n  function run_callbacks() {\n    try {\n      root._bokeh_onload_callbacks.forEach(function(callback) { callback() });\n    }\n    finally {\n      delete root._bokeh_onload_callbacks\n    }\n    console.info(\"Bokeh: all callbacks have finished\");\n  }\n\n  function load_libs(js_urls, callback) {\n    root._bokeh_onload_callbacks.push(callback);\n    if (root._bokeh_is_loading > 0) {\n      console.log(\"Bokeh: BokehJS is being loaded, scheduling callback at\", now());\n      return null;\n    }\n    if (js_urls == null || js_urls.length === 0) {\n      run_callbacks();\n      return null;\n    }\n    console.log(\"Bokeh: BokehJS not loaded, scheduling load and callback at\", now());\n    root._bokeh_is_loading = js_urls.length;\n    for (var i = 0; i < js_urls.length; i++) {\n      var url = js_urls[i];\n      var s = document.createElement('script');\n      s.src = url;\n      s.async = false;\n      s.onreadystatechange = s.onload = function() {\n        root._bokeh_is_loading--;\n        if (root._bokeh_is_loading === 0) {\n          console.log(\"Bokeh: all BokehJS libraries loaded\");\n          run_callbacks()\n        }\n      };\n      s.onerror = function() {\n        console.warn(\"failed to load library \" + url);\n      };\n      console.log(\"Bokeh: injecting script tag for BokehJS library: \", url);\n      document.getElementsByTagName(\"head\")[0].appendChild(s);\n    }\n  };var element = document.getElementById(\"1001\");\n  if (element == null) {\n    console.log(\"Bokeh: ERROR: autoload.js configured with elementid '1001' but no matching script tag was found. \")\n    return false;\n  }\n\n  var js_urls = [\"https://cdn.pydata.org/bokeh/release/bokeh-1.0.4.min.js\", \"https://cdn.pydata.org/bokeh/release/bokeh-widgets-1.0.4.min.js\", \"https://cdn.pydata.org/bokeh/release/bokeh-tables-1.0.4.min.js\", \"https://cdn.pydata.org/bokeh/release/bokeh-gl-1.0.4.min.js\"];\n\n  var inline_js = [\n    function(Bokeh) {\n      Bokeh.set_log_level(\"info\");\n    },\n    \n    function(Bokeh) {\n      \n    },\n    function(Bokeh) {\n      console.log(\"Bokeh: injecting CSS: https://cdn.pydata.org/bokeh/release/bokeh-1.0.4.min.css\");\n      Bokeh.embed.inject_css(\"https://cdn.pydata.org/bokeh/release/bokeh-1.0.4.min.css\");\n      console.log(\"Bokeh: injecting CSS: https://cdn.pydata.org/bokeh/release/bokeh-widgets-1.0.4.min.css\");\n      Bokeh.embed.inject_css(\"https://cdn.pydata.org/bokeh/release/bokeh-widgets-1.0.4.min.css\");\n      console.log(\"Bokeh: injecting CSS: https://cdn.pydata.org/bokeh/release/bokeh-tables-1.0.4.min.css\");\n      Bokeh.embed.inject_css(\"https://cdn.pydata.org/bokeh/release/bokeh-tables-1.0.4.min.css\");\n    }\n  ];\n\n  function run_inline_js() {\n    \n    if ((root.Bokeh !== undefined) || (force === true)) {\n      for (var i = 0; i < inline_js.length; i++) {\n        inline_js[i].call(root, root.Bokeh);\n      }if (force === true) {\n        display_loaded();\n      }} else if (Date.now() < root._bokeh_timeout) {\n      setTimeout(run_inline_js, 100);\n    } else if (!root._bokeh_failed_load) {\n      console.log(\"Bokeh: BokehJS failed to load within specified timeout.\");\n      root._bokeh_failed_load = true;\n    } else if (force !== true) {\n      var cell = $(document.getElementById(\"1001\")).parents('.cell').data().cell;\n      cell.output_area.append_execute_result(NB_LOAD_WARNING)\n    }\n\n  }\n\n  if (root._bokeh_is_loading === 0) {\n    console.log(\"Bokeh: BokehJS loaded, going straight to plotting\");\n    run_inline_js();\n  } else {\n    load_libs(js_urls, function() {\n      console.log(\"Bokeh: BokehJS plotting callback run at\", now());\n      run_inline_js();\n    });\n  }\n}(window));"
     },
     "metadata": {},
     "output_type": "display_data"
    },
    {
     "data": {
      "text/html": [
       "\n",
       "\n",
       "\n",
       "\n",
       "\n",
       "\n",
       "  <div class=\"bk-root\" id=\"b21d425a-a3ae-4716-975e-e8787456033a\" data-root-id=\"1003\"></div>\n"
      ]
     },
     "metadata": {},
     "output_type": "display_data"
    },
    {
     "data": {
      "application/javascript": [
       "(function(root) {\n",
       "  function embed_document(root) {\n",
       "    \n",
       "  var docs_json = {\"23fc04a8-4e0f-4bb0-9a6f-65c8f6b72e0d\":{\"roots\":{\"references\":[{\"attributes\":{\"below\":[{\"id\":\"1013\",\"type\":\"LinearAxis\"}],\"left\":[{\"id\":\"1018\",\"type\":\"LinearAxis\"}],\"renderers\":[{\"id\":\"1013\",\"type\":\"LinearAxis\"},{\"id\":\"1017\",\"type\":\"Grid\"},{\"id\":\"1018\",\"type\":\"LinearAxis\"},{\"id\":\"1022\",\"type\":\"Grid\"},{\"id\":\"1036\",\"type\":\"GlyphRenderer\"},{\"id\":\"1038\",\"type\":\"LabelSet\"}],\"title\":{\"id\":\"1002\",\"type\":\"Title\"},\"toolbar\":{\"id\":\"1027\",\"type\":\"Toolbar\"},\"toolbar_location\":\"above\",\"x_range\":{\"id\":\"1005\",\"type\":\"DataRange1d\"},\"x_scale\":{\"id\":\"1009\",\"type\":\"LinearScale\"},\"y_range\":{\"id\":\"1007\",\"type\":\"DataRange1d\"},\"y_scale\":{\"id\":\"1011\",\"type\":\"LinearScale\"}},\"id\":\"1003\",\"subtype\":\"Figure\",\"type\":\"Plot\"},{\"attributes\":{},\"id\":\"1041\",\"type\":\"BasicTickFormatter\"},{\"attributes\":{\"fill_color\":{\"value\":\"#1f77b4\"},\"line_color\":{\"value\":\"#1f77b4\"},\"size\":{\"units\":\"screen\",\"value\":8},\"x\":{\"field\":\"x1\"},\"y\":{\"field\":\"x2\"}},\"id\":\"1034\",\"type\":\"Scatter\"},{\"attributes\":{},\"id\":\"1011\",\"type\":\"LinearScale\"},{\"attributes\":{\"data_source\":{\"id\":\"1032\",\"type\":\"ColumnDataSource\"},\"glyph\":{\"id\":\"1034\",\"type\":\"Scatter\"},\"hover_glyph\":null,\"muted_glyph\":null,\"nonselection_glyph\":{\"id\":\"1035\",\"type\":\"Scatter\"},\"selection_glyph\":null,\"view\":{\"id\":\"1037\",\"type\":\"CDSView\"}},\"id\":\"1036\",\"type\":\"GlyphRenderer\"},{\"attributes\":{\"source\":{\"id\":\"1032\",\"type\":\"ColumnDataSource\"}},\"id\":\"1037\",\"type\":\"CDSView\"},{\"attributes\":{},\"id\":\"1009\",\"type\":\"LinearScale\"},{\"attributes\":{\"plot\":{\"id\":\"1003\",\"subtype\":\"Figure\",\"type\":\"Plot\"},\"ticker\":{\"id\":\"1014\",\"type\":\"BasicTicker\"}},\"id\":\"1017\",\"type\":\"Grid\"},{\"attributes\":{},\"id\":\"1043\",\"type\":\"BasicTickFormatter\"},{\"attributes\":{\"formatter\":{\"id\":\"1043\",\"type\":\"BasicTickFormatter\"},\"plot\":{\"id\":\"1003\",\"subtype\":\"Figure\",\"type\":\"Plot\"},\"ticker\":{\"id\":\"1019\",\"type\":\"BasicTicker\"}},\"id\":\"1018\",\"type\":\"LinearAxis\"},{\"attributes\":{},\"id\":\"1045\",\"type\":\"Selection\"},{\"attributes\":{\"formatter\":{\"id\":\"1041\",\"type\":\"BasicTickFormatter\"},\"plot\":{\"id\":\"1003\",\"subtype\":\"Figure\",\"type\":\"Plot\"},\"ticker\":{\"id\":\"1014\",\"type\":\"BasicTicker\"}},\"id\":\"1013\",\"type\":\"LinearAxis\"},{\"attributes\":{\"callback\":null,\"data\":{\"names\":[\"\\u043a\\u0430\\u0440\\u0442\\u0430\",\"\\u0434\\u0435\\u043d\\u044c\\u0433\\u0438\",\"\\u043a\\u0440\\u0435\\u0434\\u0438\\u0442\",\"\\u043a\\u043e\\u0442\\u043e\\u0440\\u044b\\u0439\",\"\\u043e\\u0442\\u0434\\u0435\\u043b\\u0435\\u043d\\u0438\\u0435\",\"\\u043a\\u043b\\u0438\\u0435\\u043d\\u0442\",\"\\u0441\\u043e\\u0442\\u0440\\u0443\\u0434\\u043d\\u0438\\u043a\",\"\\u0441\\u043a\\u0430\\u0437\\u0430\\u0442\\u044c\",\"\\u0441\\u0443\\u043c\\u043c\\u0430\",\"\\u043f\\u043e\\u043b\\u0443\\u0447\\u0430\\u0442\\u044c\",\"\\u0437\\u0430\\u044f\\u0432\\u043b\\u0435\\u043d\\u0438\\u0435\",\"\\u0432\\u043e\\u043f\\u0440\\u043e\\u0441\",\"\\u0432\\u0440\\u0435\\u043c\\u044f\",\"\\u043f\\u0440\\u0438\\u0445\\u043e\\u0434\\u0438\\u0442\\u044c\",\"\\u043a\\u0440\\u0435\\u0434\\u0438\\u0442\\u043d\\u044b\\u0439\",\"\\u043e\\u0442\\u0432\\u0435\\u0442\",\"\\u0432\\u043a\\u043b\\u0430\\u0434\",\"\\u0442\\u0435\\u043b\\u0435\\u0444\\u043e\\u043d\",\"\\u043f\\u043b\\u0430\\u0442\\u0435\\u0436\",\"\\u0434\\u043e\\u0433\\u043e\\u0432\\u043e\\u0440\",\"\\u0434\\u0430\\u043d\\u043d\\u044b\\u0439\",\"\\u043d\\u043e\\u043c\\u0435\\u0440\",\"\\u0437\\u0432\\u043e\\u043d\\u0438\\u0442\\u044c\",\"\\u0431\\u0430\\u043d\\u043a\\u043e\\u043c\\u0430\\u0442\",\"\\u0441\\u0431\\u0435\\u0440\\u0431\\u0430\\u043d\\u043a\",\"\\u043e\\u0447\\u0435\\u043d\\u044c\",\"\\u043f\\u043e\\u0437\\u0432\\u043e\\u043d\\u0438\\u0442\\u044c\",\"\\u043c\\u0435\\u0441\\u044f\\u0446\",\"\\u043d\\u0430\\u043f\\u0438\\u0441\\u0430\\u0442\\u044c\",\"\\u043f\\u0440\\u043e\\u0431\\u043b\\u0435\\u043c\\u0430\",\"\\u043e\\u0431\\u0440\\u0430\\u0449\\u0430\\u0442\\u044c\\u0441\\u044f\",\"\\u0440\\u0435\\u0448\\u0430\\u0442\\u044c\",\"\\u0440\\u0430\\u0431\\u043e\\u0442\\u0430\\u0442\\u044c\",\"\\u0441\\u0440\\u0435\\u0434\\u0441\\u0442\\u0432\\u043e\",\"\\u0440\\u0443\\u0431\\u043b\\u044c\",\"\\u0440\\u0430\\u0431\\u043e\\u0442\\u0430\",\"\\u0434\\u043e\\u043a\\u0443\\u043c\\u0435\\u043d\\u0442\",\"\\u0441\\u0438\\u0442\\u0443\\u0430\\u0446\\u0438\\u044f\",\"\\u0437\\u0432\\u043e\\u043d\\u043e\\u043a\",\"\\u043e\\u0442\\u0432\\u0435\\u0447\\u0430\\u0442\\u044c\",\"\\u0434\\u0430\\u0432\\u0430\\u0442\\u044c\",\"\\u0433\\u043e\\u0432\\u043e\\u0440\\u0438\\u0442\\u044c\",\"\\u0447\\u0435\\u043b\\u043e\\u0432\\u0435\\u043a\",\"\\u0445\\u043e\\u0442\\u0435\\u0442\\u044c\",\"\\u043e\\u043f\\u0435\\u0440\\u0430\\u0446\\u0438\\u044f\",\"\\u043f\\u043e\\u0447\\u0435\\u043c\\u0443\",\"\\u0438\\u043d\\u0444\\u043e\\u0440\\u043c\\u0430\\u0446\\u0438\\u044f\",\"\\u0441\\u043e\\u043e\\u0431\\u0449\\u0430\\u0442\\u044c\",\"\\u0441\\u0434\\u0435\\u043b\\u0430\\u0442\\u044c\",\"\\u043e\\u0444\\u043e\\u0440\\u043c\\u043b\\u044f\\u0442\\u044c\",\"\\u0443\\u0441\\u043b\\u0443\\u0433\\u0430\",\"\\u043f\\u0440\\u043e\\u0441\\u0442\\u043e\",\"\\u0437\\u043d\\u0430\\u0442\\u044c\",\"\\u0434\\u043e\\u043b\\u0436\\u043d\\u044b\\u0439\",\"\\u0437\\u0430\\u044f\\u0432\\u043a\\u0430\",\"\\u043e\\u0431\\u0441\\u043b\\u0443\\u0436\\u0438\\u0432\\u0430\\u043d\\u0438\\u0435\",\"\\u043e\\u0447\\u0435\\u0440\\u0435\\u0434\\u044c\",\"\\u043c\\u0438\\u043d\\u0443\\u0442\\u0430\",\"\\u043f\\u0435\\u0440\\u0432\\u044b\\u0439\",\"\\u0441\\u0435\\u0433\\u043e\\u0434\\u043d\\u044f\",\"\\u0434\\u0435\\u0432\\u0443\\u0448\\u043a\\u0430\",\"\\u0436\\u0434\\u0430\\u0442\\u044c\",\"\\u043f\\u0440\\u0435\\u0442\\u0435\\u043d\\u0437\\u0438\\u044f\",\"\\u043d\\u043e\\u0432\\u044b\\u0439\",\"\\u043f\\u0440\\u043e\\u0441\\u0438\\u0442\\u044c\",\"\\u043f\\u0440\\u0438\\u043d\\u0438\\u043c\\u0430\\u0442\\u044c\",\"\\u0438\\u043d\\u0442\\u0435\\u0440\\u043d\\u0435\\u0442\",\"\\u043f\\u0440\\u043e\\u0446\\u0435\\u043d\\u0442\",\"\\u0441\\u043d\\u0438\\u043c\\u0430\\u0442\\u044c\",\"\\u0432\\u044b\\u0434\\u0430\\u0432\\u0430\\u0442\\u044c\",\"\\u043e\\u0442\\u043a\\u0440\\u044b\\u0432\\u0430\\u0442\\u044c\",\"\\u043d\\u0435\\u0434\\u0435\\u043b\\u044f\",\"\\u043d\\u0438\\u043a\\u0430\\u043a\\u043e\\u0439\",\"\\u043e\\u043f\\u0435\\u0440\\u0430\\u0442\\u043e\\u0440\",\"\\u044f\\u0432\\u043b\\u044f\\u0442\\u044c\\u0441\\u044f\",\"\\u0441\\u0442\\u0430\\u043d\\u043e\\u0432\\u0438\\u0442\\u044c\\u0441\\u044f\",\"\\u043f\\u043e\\u043d\\u0438\\u043c\\u0430\\u0442\\u044c\",\"\\u043f\\u0440\\u043e\\u0445\\u043e\\u0434\\u0438\\u0442\\u044c\",\"\\u0437\\u0430\\u043a\\u0440\\u044b\\u0432\\u0430\\u0442\\u044c\",\"\\u043f\\u0440\\u0435\\u0434\\u043b\\u0430\\u0433\\u0430\\u0442\\u044c\",\"\\u043e\\u043f\\u043b\\u0430\\u0447\\u0438\\u0432\\u0430\\u0442\\u044c\",\"\\u043d\\u0435\\u0441\\u043a\\u043e\\u043b\\u044c\\u043a\\u043e\",\"\\u043f\\u0435\\u0440\\u0435\\u0432\\u043e\\u0434\",\"\\u043f\\u0438\\u0441\\u0430\\u0442\\u044c\",\"\\u043e\\u043a\\u0430\\u0437\\u044b\\u0432\\u0430\\u0442\\u044c\\u0441\\u044f\",\"\\u043d\\u0443\\u0436\\u043d\\u043e\",\"\\u043a\\u043e\\u043c\\u0438\\u0441\\u0441\\u0438\\u044f\",\"\\u0441\\u0430\\u043c\\u044b\\u0439\",\"\\u0438\\u043c\\u0435\\u0442\\u044c\",\"\\u043e\\u0431\\u044a\\u044f\\u0441\\u043d\\u044f\\u0442\\u044c\",\"\\u043f\\u043e\\u043b\\u044c\\u0437\\u043e\\u0432\\u0430\\u0442\\u044c\\u0441\\u044f\",\"\\u0443\\u0441\\u043b\\u043e\\u0432\\u0438\\u0435\",\"\\u0441\\u043b\\u0435\\u0434\\u0443\\u044e\\u0449\\u0438\\u0439\",\"\\u0446\\u0435\\u043d\\u0442\\u0440\",\"\\u043c\\u043e\\u043c\\u0435\\u043d\\u0442\",\"\\u0437\\u0430\\u0434\\u043e\\u043b\\u0436\\u0435\\u043d\\u043d\\u043e\\u0441\\u0442\\u044c\",\"\\u0443\\u043a\\u0430\\u0437\\u044b\\u0432\\u0430\\u0442\\u044c\",\"\\u0443\\u0437\\u043d\\u0430\\u0432\\u0430\\u0442\\u044c\",\"\\u0432\\u0437\\u044f\\u0442\\u044c\",\"\\u0441\\u043b\\u0443\\u0447\\u0430\\u0439\",\"\\u0442\\u0435\\u0447\\u0435\\u043d\\u0438\\u0435\",\"\\u043f\\u0440\\u0438\\u0445\\u043e\\u0434\\u0438\\u0442\\u044c\\u0441\\u044f\",\"\\u0432\\u043e\\u043e\\u0431\\u0449\\u0435\",\"\\u0434\\u0435\\u043b\\u0430\\u0442\\u044c\",\"\\u0441\\u0440\\u0430\\u0437\\u0443\",\"\\u043d\\u0430\\u0447\\u0438\\u043d\\u0430\\u0442\\u044c\",\"\\u043d\\u0438\\u043a\\u0442\\u043e\",\"\\u0440\\u0435\\u0448\\u0435\\u043d\\u0438\\u0435\",\"\\u0441\\u043b\\u0443\\u0436\\u0431\\u0430\",\"\\u0432\\u043d\\u043e\\u0441\\u0438\\u0442\\u044c\",\"\\u0441\\u043f\\u0435\\u0446\\u0438\\u0430\\u043b\\u0438\\u0441\\u0442\",\"\\u0441\\u0438\\u0441\\u0442\\u0435\\u043c\\u0430\",\"\\u0441\\u043f\\u0440\\u0430\\u0448\\u0438\\u0432\\u0430\\u0442\\u044c\",\"\\u0434\\u0435\\u043d\\u0435\\u0436\\u043d\\u044b\\u0439\",\"\\u043e\\u0431\\u0440\\u0430\\u0449\\u0435\\u043d\\u0438\\u0435\",\"\\u043e\\u0442\\u0437\\u044b\\u0432\",\"\\u043e\\u0442\\u043f\\u0440\\u0430\\u0432\\u043b\\u044f\\u0442\\u044c\",\"\\u0430\\u0434\\u0440\\u0435\\u0441\",\"\\u0441\\u043c\\u043e\\u0447\\u044c\",\"\\u043c\\u043e\\u0441\\u043a\\u0432\\u0430\",\"\\u043e\\u043f\\u043b\\u0430\\u0442\\u0430\",\"\\u043d\\u0443\\u0436\\u043d\\u044b\\u0439\",\"\\u043c\\u0435\\u043d\\u0435\\u0434\\u0436\\u0435\\u0440\",\"\\u043a\\u0430\\u0436\\u0434\\u044b\\u0439\",\"\\u043f\\u0440\\u0435\\u0434\\u043e\\u0441\\u0442\\u0430\\u0432\\u043b\\u044f\\u0442\\u044c\",\"\\u043f\\u043e\\u0441\\u0442\\u0443\\u043f\\u0430\\u0442\\u044c\",\"\\u043a\\u0430\\u0441\\u0441\\u0430\",\"\\u043f\\u0440\\u043e\\u0438\\u0441\\u0445\\u043e\\u0434\\u0438\\u0442\\u044c\",\"\\u0438\\u0441\\u0442\\u043e\\u0440\\u0438\\u044f\",\"\\u043e\\u0431\\u0449\\u0438\\u0439\",\"\\u0434\\u0443\\u043c\\u0430\\u0442\\u044c\",\"\\u043e\\u0441\\u0442\\u0430\\u0432\\u0430\\u0442\\u044c\\u0441\\u044f\",\"\\u0432\\u0442\\u043e\\u0440\\u043e\\u0439\",\"\\u0441\\u043b\\u043e\\u0432\\u043e\",\"\\u0432\\u0435\\u0440\\u043d\\u0443\\u0442\\u044c\",\"\\u043f\\u043e\\u0433\\u0430\\u0448\\u0435\\u043d\\u0438\\u0435\",\"\\u0434\\u043e\\u0431\\u0440\\u044b\\u0439\",\"\\u043e\\u0442\\u043d\\u043e\\u0448\\u0435\\u043d\\u0438\\u0435\",\"\\u0440\\u0430\\u0437\\u0431\\u0438\\u0440\\u0430\\u0442\\u044c\\u0441\\u044f\",\"\\u0431\\u0440\\u0430\\u0442\\u044c\",\"\\u0430\\u043b\\u044c\\u0444\\u0430\",\"\\u043f\\u043e\\u0434\\u0434\\u0435\\u0440\\u0436\\u043a\\u0430\",\"\\u043f\\u0440\\u0438\\u0435\\u0437\\u0436\\u0430\\u0442\\u044c\",\"\\u0434\\u0430\\u043d\\u043d\\u044b\\u0435\",\"\\u043f\\u043e\\u0441\\u043b\\u0435\\u0434\\u043d\\u0438\\u0439\",\"\\u043f\\u043e\\u043f\\u0440\\u043e\\u0441\\u0438\\u0442\\u044c\",\"\\u043f\\u043e\\u043b\\u0443\\u0447\\u0435\\u043d\\u0438\\u0435\",\"\\u0441\\u043f\\u0430\\u0441\\u0438\\u0431\\u043e\",\"\\u043e\\u0441\\u0442\\u0430\\u0432\\u043b\\u044f\\u0442\\u044c\",\"\\u043d\\u0430\\u0445\\u043e\\u0434\\u0438\\u0442\\u044c\\u0441\\u044f\",\"\\u043f\\u0438\\u0441\\u044c\\u043c\\u043e\",\"\\u0443\\u0442\\u043e\\u0447\\u043d\\u044f\\u0442\\u044c\",\"\\u043f\\u043b\\u0430\\u0442\\u0438\\u0442\\u044c\",\"\\u043b\\u0438\\u043c\\u0438\\u0442\",\"\\u043b\\u0438\\u043d\\u0438\\u044f\",\"\\u0440\\u0430\\u0431\\u043e\\u0447\\u0438\\u0439\",\"\\u0441\\u0432\\u044f\\u0437\\u044c\",\"\\u043f\\u043e\\u043c\\u043e\\u0433\\u0430\\u0442\\u044c\",\"\\u0432\\u043e\\u0437\\u043c\\u043e\\u0436\\u043d\\u043e\\u0441\\u0442\\u044c\",\"\\u043e\\u0442\\u043a\\u0430\\u0437\\u044b\\u0432\\u0430\\u0442\\u044c\\u0441\\u044f\",\"\\u043f\\u0440\\u0438\\u0447\\u0438\\u043d\\u0430\",\"\\u043e\\u0448\\u0438\\u0431\\u043a\\u0430\",\"\\u0441\\u043e\\u0442\\u0440\\u0443\\u0434\\u043d\\u0438\\u0446\\u0430\",\"\\u043f\\u0440\\u043e\\u0441\\u044c\\u0431\\u0430\",\"\\u0431\\u0430\\u043d\\u043a\\u043e\\u0432\\u0441\\u043a\\u0438\\u0439\",\"\\u0441\\u043d\\u043e\\u0432\\u0430\",\"\\u043f\\u0430\\u0441\\u043f\\u043e\\u0440\\u0442\",\"\\u043f\\u043e\\u0434\\u0430\\u0432\\u0430\\u0442\\u044c\",\"\\u043a\\u043e\\u043d\\u0435\\u0446\",\"\\u043c\\u0435\\u0441\\u0442\\u043e\",\"\\u0438\\u043c\\u0435\\u043d\\u043d\\u043e\",\"\\u0445\\u043e\\u0440\\u043e\\u0448\\u0438\\u0439\",\"\\u0431\\u044b\\u0441\\u0442\\u0440\\u043e\",\"\\u043d\\u0430\\u043b\\u0438\\u0447\\u043d\\u044b\\u0439\",\"\\u0434\\u0435\\u0439\\u0441\\u0442\\u0432\\u0438\\u0435\",\"\\u0432\\u044b\\u043f\\u0438\\u0441\\u043a\\u0430\",\"\\u0445\\u043e\\u0442\\u0435\\u0442\\u044c\\u0441\\u044f\",\"\\u0441\\u043f\\u0440\\u0430\\u0432\\u043a\\u0430\",\"\\u0441\\u0442\\u0440\\u0430\\u0445\\u043e\\u0432\\u043a\\u0430\",\"\\u043f\\u0435\\u0440\\u0435\\u0437\\u0432\\u0430\\u043d\\u0438\\u0432\\u0430\\u0442\\u044c\",\"\\u043a\\u0430\\u0440\\u0442\\u043e\\u0447\\u043a\\u0430\",\"\\u0432\\u0438\\u0434\\u0435\\u0442\\u044c\",\"\\u043e\\u0444\\u043e\\u0440\\u043c\\u043b\\u0435\\u043d\\u0438\\u0435\",\"\\u0440\\u0430\\u0441\\u0441\\u043c\\u043e\\u0442\\u0440\\u0435\\u043d\\u0438\\u0435\",\"\\u043d\\u0430\\u0437\\u0430\\u0434\",\"\\u0441\\u043f\\u0438\\u0441\\u044b\\u0432\\u0430\\u0442\\u044c\",\"\\u043e\\u0442\\u043a\\u0430\\u0437\",\"\\u0431\\u043e\\u043b\\u044c\\u0448\\u043e\\u0439\",\"\\u043f\\u043e\\u044d\\u0442\\u043e\\u043c\\u0443\",\"\\u043d\\u0430\\u0445\\u043e\\u0434\\u0438\\u0442\\u044c\",\"\\u043f\\u043e\\u043b\\u043d\\u044b\\u0439\",\"\\u043f\\u043e\\u0433\\u0430\\u0441\\u0438\\u0442\\u044c\",\"\\u043f\\u044b\\u0442\\u0430\\u0442\\u044c\\u0441\\u044f\",\"\\u0443\\u0445\\u043e\\u0434\\u0438\\u0442\\u044c\",\"\\u0437\\u0430\\u0431\\u043b\\u043e\\u043a\\u0438\\u0440\\u043e\\u0432\\u0430\\u0442\\u044c\",\"\\u043e\\u043f\\u0435\\u0440\\u0430\\u0446\\u0438\\u043e\\u043d\\u0438\\u0441\\u0442\",\"\\u043f\\u0435\\u0440\\u0435\\u0432\\u043e\\u0434\\u0438\\u0442\\u044c\",\"\\u0430\\u0434\\u043c\\u0438\\u043d\\u0438\\u0441\\u0442\\u0440\\u0430\\u0442\\u043e\\u0440\",\"\\u043b\\u044e\\u0431\\u043e\\u0439\",\"\\u0433\\u043e\\u0440\\u044f\\u0447\\u0438\\u0439\",\"\\u0440\\u0435\\u0437\\u0443\\u043b\\u044c\\u0442\\u0430\\u0442\",\"\\u043f\\u043e\\u043b\\u0443\\u0447\\u0430\\u0442\\u044c\\u0441\\u044f\",\"\\u0441\\u043e\\u043e\\u0431\\u0449\\u0435\\u043d\\u0438\\u0435\",\"\\u043f\\u0440\\u043e\\u0432\\u0435\\u0440\\u044f\\u0442\\u044c\",\"\\u0432\\u043e\\u0437\\u043d\\u0438\\u043a\\u0430\\u0442\\u044c\",\"\\u0442\\u0435\\u0440\\u043c\\u0438\\u043d\\u0430\\u043b\",\"\\u043f\\u043e\\u0439\\u0442\\u0438\",\"\\u0447\\u0438\\u0441\\u043b\\u043e\",\"\\u0441\\u0442\\u0430\\u0432\\u043a\\u0430\",\"\\u0437\\u0430\\u043a\\u0440\\u044b\\u0442\\u0438\\u0435\",\"\\u043c\\u043e\\u0431\\u0438\\u043b\\u044c\\u043d\\u044b\\u0439\",\"\\u043f\\u0440\\u043e\\u0441\\u0440\\u043e\\u0447\\u043a\\u0430\",\"\\u043e\\u0442\\u0434\\u0435\\u043b\",\"\\u0433\\u043e\\u0440\\u043e\\u0434\",\"\\u0441\\u043e\\u0441\\u0442\\u0430\\u0432\\u043b\\u044f\\u0442\\u044c\",\"\\u043f\\u043e\\u043a\\u0443\\u043f\\u043a\\u0430\",\"\\u0444\\u0438\\u043b\\u0438\\u0430\\u043b\",\"\\u0434\\u0435\\u043a\\u0430\\u0431\\u0440\\u044c\",\"\\u0441\\u0442\\u043e\\u044f\\u0442\\u044c\",\"\\u043e\\u043a\\u043e\\u043b\\u043e\",\"\\u0441\\u043f\\u0438\\u0441\\u0430\\u043d\\u0438\\u0435\",\"\\u0437\\u0430\\u043f\\u043e\\u043b\\u043d\\u044f\\u0442\\u044c\",\"\\u043e\\u0442\\u043a\\u0440\\u044b\\u0442\\u0438\\u0435\",\"\\u043f\\u043e\\u0434\\u0445\\u043e\\u0434\\u0438\\u0442\\u044c\",\"\\u0441\\u0447\\u0438\\u0442\\u0430\\u0442\\u044c\",\"\\u0434\\u0435\\u0431\\u0435\\u0442\\u043e\\u0432\\u044b\\u0439\",\"\\u043f\\u043e\\u0447\\u0442\\u0430\",\"\\u0437\\u0430\\u0431\\u0438\\u0440\\u0430\\u0442\\u044c\",\"\\u0441\\u0432\\u044f\\u0437\\u044b\\u0432\\u0430\\u0442\\u044c\\u0441\\u044f\",\"\\u0441\\u0442\\u043e\\u0440\\u043e\\u043d\\u0430\",\"\\u0440\\u0430\\u0437\\u043c\\u0435\\u0440\",\"\\u0441\\u043d\\u044f\\u0442\\u0438\\u0435\",\"\\u043f\\u043e\\u0434\\u043f\\u0438\\u0441\\u044b\\u0432\\u0430\\u0442\\u044c\",\"\\u043e\\u043d\\u043b\\u0430\\u0439\\u043d\",\"\\u043f\\u0440\\u0430\\u0432\\u043e\",\"\\u043e\\u0442\\u043a\\u0430\\u0437\\u044b\\u0432\\u0430\\u0442\\u044c\",\"\\u043d\\u0430\\u0434\\u0435\\u044f\\u0442\\u044c\\u0441\\u044f\",\"\\u043e\\u0434\\u043d\\u0430\\u043a\\u043e\",\"\\u043f\\u0440\\u043e\\u0433\\u0440\\u0430\\u043c\\u043c\\u0430\",\"\\u043f\\u0440\\u043e\\u0432\\u043e\\u0434\\u0438\\u0442\\u044c\",\"\\u043e\\u0431\\u0435\\u0449\\u0430\\u0442\\u044c\",\"\\u0437\\u0434\\u0440\\u0430\\u0432\\u0441\\u0442\\u0432\\u043e\\u0432\\u0430\\u0442\\u044c\",\"\\u043a\\u043e\\u043f\\u0438\\u044f\",\"\\u0432\\u0435\\u0447\\u0435\\u0440\",\"\\u043f\\u0440\\u0435\\u0434\\u043b\\u043e\\u0436\\u0435\\u043d\\u0438\\u0435\",\"\\u0434\\u0430\\u043b\\u0435\\u043a\\u043e\",\"\\u043f\\u043e\\u043b\\u0430\\u0433\\u0430\\u0442\\u044c\",\"\\u0441\\u043a\\u043e\\u043b\\u044c\\u043a\\u043e\",\"\\u0440\\u0430\\u0441\\u0441\\u043c\\u0430\\u0442\\u0440\\u0438\\u0432\\u0430\\u0442\\u044c\",\"\\u0436\\u0430\\u043b\\u043e\\u0431\\u0430\",\"\\u043d\\u0430\\u0437\\u044b\\u0432\\u0430\\u0442\\u044c\",\"\\u043f\\u043e\\u0434\\u0442\\u0432\\u0435\\u0440\\u0436\\u0434\\u0430\\u0442\\u044c\",\"\\u043e\\u0447\\u0435\\u0440\\u0435\\u0434\\u043d\\u043e\\u0439\",\"\\u0434\\u043e\\u043b\\u0433\\u043e\",\"\\u043f\\u043e\\u0440\\u044f\\u0434\\u043e\\u043a\",\"\\u0432\\u0438\\u0434\\u0438\\u043c\\u043e\",\"\\u0432\\u043e\\u0437\\u0432\\u0440\\u0430\\u0442\",\"\\u043c\\u0430\\u0433\\u0430\\u0437\\u0438\\u043d\",\"\\u043d\\u0430\\u0447\\u0438\\u043d\\u0430\\u0442\\u044c\\u0441\\u044f\",\"\\u0442\\u0430\\u0440\\u0438\\u0444\",\"\\u0434\\u0430\\u043b\\u0435\\u0435\",\"\\u0434\\u043e\\u043f\\u043e\\u043b\\u043d\\u0438\\u0442\\u0435\\u043b\\u044c\\u043d\\u044b\\u0439\",\"\\u0437\\u0430\\u043d\\u0438\\u043c\\u0430\\u0442\\u044c\",\"\\u043b\\u0438\\u0447\\u043d\\u044b\\u0439\",\"\\u043e\\u0441\\u0442\\u0430\\u0442\\u043e\\u043a\",\"\\u0432\\u044b\\u0434\\u0430\\u0447\\u0430\",\"\\u0440\\u0430\\u0437\\u0433\\u043e\\u0432\\u043e\\u0440\",\"\\u044d\\u043b\\u0435\\u043a\\u0442\\u0440\\u043e\\u043d\\u043d\\u044b\\u0439\",\"\\u043e\\u0434\\u043e\\u0431\\u0440\\u044f\\u0442\\u044c\",\"\\u0442\\u044b\\u0441\\u044f\\u0447\\u0430\",\"\\u043f\\u043e\\u0434\\u043a\\u043b\\u044e\\u0447\\u0430\\u0442\\u044c\",\"\\u0440\\u0430\\u0441\\u0441\\u043a\\u0430\\u0437\\u044b\\u0432\\u0430\\u0442\\u044c\",\"\\u0440\\u043e\\u0441\\u0441\\u0438\\u044f\",\"\\u0432\\u043d\\u0438\\u043c\\u0430\\u043d\\u0438\\u0435\",\"\\u0433\\u043e\\u0442\\u043e\\u0432\\u044b\\u0439\",\"\\u0442\\u0440\\u0435\\u0431\\u043e\\u0432\\u0430\\u0442\\u044c\",\"\\u0437\\u0430\\u043f\\u0440\\u043e\\u0441\",\"\\u044f\\u043d\\u0432\\u0430\\u0440\\u044c\",\"\\u043f\\u0440\\u0435\\u0434\\u0441\\u0442\\u0430\\u0432\\u0438\\u0442\\u0435\\u043b\\u044c\",\"\\u043d\\u0435\\u043e\\u0431\\u0445\\u043e\\u0434\\u0438\\u043c\\u044b\\u0439\",\"\\u0442\\u043e\\u0447\\u043d\\u043e\",\"\\u043f\\u0440\\u0438\\u0447\\u0435\\u043c\",\"\\u0441\\u0435\\u0440\\u0432\\u0438\\u0441\",\"\\u043e\\u0431\\u0440\\u0430\\u0437\",\"\\u043a\\u0430\\u0441\\u0441\\u0438\\u0440\",\"\\u0440\\u0430\\u0431\\u043e\\u0442\\u043d\\u0438\\u043a\",\"\\u0434\\u043e\\u0441\\u0440\\u043e\\u0447\\u043d\\u044b\\u0439\",\"\\u043e\\u0440\\u0433\\u0430\\u043d\\u0438\\u0437\\u0430\\u0446\\u0438\\u044f\",\"\\u0434\\u0435\\u043f\\u043e\\u0437\\u0438\\u0442\",\"\\u0437\\u0430\\u0439\\u0442\\u0438\",\"\\u0437\\u0430\\u043a\\u0430\\u0437\\u044b\\u0432\\u0430\\u0442\\u044c\",\"\\u0440\\u0430\\u0437\\u043d\\u044b\\u0439\",\"\\u0430\\u043d\\u043a\\u0435\\u0442\\u0430\",\"\\u043f\\u043e\\u0436\\u0430\\u043b\\u0443\\u0439\\u0441\\u0442\\u0430\",\"\\u0430\\u043f\\u0440\\u0435\\u043b\\u044c\",\"\\u043e\\u0446\\u0435\\u043d\\u043a\\u0430\",\"\\u043f\\u0435\\u0440\\u0438\\u043e\\u0434\",\"\\u043a\\u043e\\u043c\\u043f\\u0430\\u043d\\u0438\\u044f\",\"\\u0432\\u044b\\u044f\\u0441\\u043d\\u044f\\u0442\\u044c\\u0441\\u044f\",\"\\u0431\\u043b\\u0438\\u0437\\u043a\\u0438\\u0439\",\"\\u0437\\u0430\\u043f\\u043b\\u0430\\u0442\\u0438\\u0442\\u044c\",\"\\u0448\\u0442\\u0440\\u0430\\u0444\",\"\\u0441\\u0442\\u0440\\u0430\\u0445\\u043e\\u0432\\u0430\\u043d\\u0438\\u0435\",\"\\u0441\\u043d\\u0430\\u0447\\u0430\\u043b\\u0430\",\"\\u0432\\u044b\\u0445\\u043e\\u0434\\u0438\\u0442\\u044c\",\"\\u043f\\u043e\\u0432\\u043e\\u0434\",\"\\u043d\\u0435\\u043e\\u0431\\u0445\\u043e\\u0434\\u0438\\u043c\\u043e\",\"\\u043d\\u0435\\u043a\\u043e\\u0442\\u043e\\u0440\\u044b\\u0439\",\"\\u0434\\u043e\\u0437\\u0432\\u0430\\u043d\\u0438\\u0432\\u0430\\u0442\\u044c\\u0441\\u044f\",\"\\u043f\\u0435\\u0440\\u0435\\u0434\\u0430\\u0432\\u0430\\u0442\\u044c\",\"\\u0442\\u0440\\u0435\\u0431\\u043e\\u0432\\u0430\\u043d\\u0438\\u0435\",\"\\u043f\\u043e\\u043b\\u043e\\u0436\\u0438\\u0442\\u0435\\u043b\\u044c\\u043d\\u044b\\u0439\",\"\\u0442\\u0435\\u0445\\u043d\\u0438\\u0447\\u0435\\u0441\\u043a\\u0438\\u0439\",\"\\u0443\\u0432\\u0438\\u0434\\u0435\\u0442\\u044c\",\"\\u043f\\u043e\\u043f\\u044b\\u0442\\u043a\\u0430\",\"\\u0444\\u043e\\u0440\\u043c\\u0430\",\"\\u043f\\u0440\\u043e\\u0434\\u0443\\u043a\\u0442\",\"\\u0432\\u044b\\u044f\\u0441\\u043d\\u044f\\u0442\\u044c\",\"\\u043f\\u043e\\u044f\\u0432\\u043b\\u044f\\u0442\\u044c\\u0441\\u044f\",\"\\u0444\\u0435\\u0432\\u0440\\u0430\\u043b\\u044c\",\"\\u043d\\u043e\\u044f\\u0431\\u0440\\u044c\",\"\\u0442\\u0440\\u0435\\u0442\\u0438\\u0439\",\"\\u043a\\u0430\\u0447\\u0435\\u0441\\u0442\\u0432\\u043e\",\"\\u043a\\u0432\\u0430\\u0440\\u0442\\u0438\\u0440\\u0430\",\"\\u043b\\u0430\\u0434\\u043d\\u043e\",\"\\u043a\\u0440\\u043e\\u043c\\u0435\",\"\\u0433\\u043e\\u0434\\u043e\\u0432\\u043e\\u0439\",\"\\u0437\\u0430\\u043a\\u0430\\u043d\\u0447\\u0438\\u0432\\u0430\\u0442\\u044c\\u0441\\u044f\",\"\\u0432\\u0447\\u0435\\u0440\\u0430\",\"\\u043f\\u043e\\u0437\\u0434\\u043d\\u043e\",\"\\u043f\\u043e\\u0434\\u043e\\u0431\\u043d\\u044b\\u0439\",\"\\u043e\\u043a\\u0442\\u044f\\u0431\\u0440\\u044c\",\"\\u0447\\u0430\\u0441\\u0442\\u044c\",\"\\u043f\\u043e\\u0441\\u043c\\u043e\\u0442\\u0440\\u0435\\u0442\\u044c\",\"\\u0434\\u0435\\u0439\\u0441\\u0442\\u0432\\u0438\\u0442\\u0435\\u043b\\u044c\\u043d\\u043e\",\"\\u0432\\u043e\\u0437\\u043c\\u043e\\u0436\\u043d\\u043e\",\"\\u043f\\u043b\\u0430\\u0442\\u0430\",\"\\u0441\\u043e\\u0436\\u0430\\u043b\\u0435\\u043d\\u0438\\u0435\",\"\\u0432\\u044b\\u0431\\u0438\\u0440\\u0430\\u0442\\u044c\",\"\\u043f\\u043e\\u043f\\u043e\\u043b\\u043d\\u044f\\u0442\\u044c\",\"\\u0443\\u0432\\u0435\\u0434\\u043e\\u043c\\u043b\\u0435\\u043d\\u0438\\u0435\",\"\\u0443\\u043a\\u0430\\u0437\\u0430\\u043d\\u043d\\u044b\\u0439\",\"\\u043f\\u043e\\u043f\\u0430\\u0434\\u0430\\u0442\\u044c\",\"\\u0441\\u0438\\u0434\\u0435\\u0442\\u044c\",\"\\u043e\\u0431\\u0449\\u0435\\u043d\\u0438\\u0435\",\"\\u0441\\u043e\\u0432\\u0435\\u0440\\u0448\\u0430\\u0442\\u044c\",\"\\u0432\\u0432\\u043e\\u0434\\u0438\\u0442\\u044c\",\"\\u0442\\u0440\\u0443\\u0431\\u043a\\u0430\",\"\\u043a\\u0443\\u043f\\u044e\\u0440\\u0430\",\"\\u0432\\u043e\\u0441\\u043f\\u043e\\u043b\\u044c\\u0437\\u043e\\u0432\\u0430\\u0442\\u044c\\u0441\\u044f\",\"\\u0430\\u0432\\u0433\\u0443\\u0441\\u0442\",\"\\u043f\\u043e\\u043c\\u043e\\u0449\\u044c\",\"\\u043e\\u0431\\u0441\\u043b\\u0443\\u0436\\u0438\\u0432\\u0430\\u0442\\u044c\",\"\\u0435\\u0445\\u0430\\u0442\\u044c\",\"\\u0440\\u0443\\u043a\\u043e\\u0432\\u043e\\u0434\\u0441\\u0442\\u0432\\u043e\",\"\\u0434\\u0430\\u0432\\u043d\\u043e\",\"\\u043f\\u0440\\u0438\\u043c\\u0435\\u0440\\u043d\\u043e\",\"\\u0441\\u0435\\u043d\\u0442\\u044f\\u0431\\u0440\\u044c\",\"\\u043e\\u0442\\u0434\\u0430\\u0432\\u0430\\u0442\\u044c\",\"\\u043f\\u0440\\u0438\\u0441\\u044b\\u043b\\u0430\\u0442\\u044c\",\"\\u043f\\u043e\\u0434\\u043e\\u0436\\u0434\\u0430\\u0442\\u044c\",\"\\u043e\\u0436\\u0438\\u0434\\u0430\\u043d\\u0438\\u0435\",\"\\u0433\\u0440\\u0430\\u0444\\u0438\\u043a\",\"\\u043a\\u0441\\u0442\\u0430\\u0442\\u0438\",\"\\u043d\\u0430\\u0447\\u0438\\u0441\\u043b\\u044f\\u0442\\u044c\",\"\\u0432\\u043f\\u0435\\u0447\\u0430\\u0442\\u043b\\u0435\\u043d\\u0438\\u0435\",\"\\u0437\\u0430\\u043d\\u0438\\u043c\\u0430\\u0442\\u044c\\u0441\\u044f\",\"\\u043e\\u0441\\u043d\\u043e\\u0432\\u0430\\u043d\\u0438\\u0435\",\"\\u0437\\u0430\\u043a\\u043e\\u043d\",\"\\u0434\\u043e\\u0441\\u0442\\u0430\\u0442\\u043e\\u0447\\u043d\\u043e\",\"\\u0435\\u0441\\u0442\\u0435\\u0441\\u0442\\u0432\\u0435\\u043d\\u043d\\u043e\",\"\\u0441\\u043e\\u0431\\u0438\\u0440\\u0430\\u0442\\u044c\\u0441\\u044f\",\"\\u043f\\u043e\\u0442\\u0440\\u0430\\u0442\\u0438\\u0442\\u044c\",\"\\u0431\\u0435\\u0437\\u043e\\u043f\\u0430\\u0441\\u043d\\u043e\\u0441\\u0442\\u044c\",\"\\u0437\\u0430\\u044f\\u0432\\u043b\\u044f\\u0442\\u044c\",\"\\u0437\\u0430\\u0447\\u0438\\u0441\\u043b\\u044f\\u0442\\u044c\",\"\\u043f\\u043e\\u0441\\u0442\\u0430\\u0432\\u043b\\u044f\\u0442\\u044c\",\"\\u0441\\u0442\\u0430\\u0440\\u044b\\u0439\",\"\\u0432\\u044b\\u043f\\u043e\\u043b\\u043d\\u044f\\u0442\\u044c\",\"\\u043f\\u043e\\u0441\\u043a\\u043e\\u043b\\u044c\\u043a\\u0443\",\"\\u0441\\u0442\\u0440\\u0430\\u0445\\u043e\\u0432\\u043e\\u0439\",\"\\u0432\\u0440\\u043e\\u0434\\u0435\",\"\\u0432\\u044b\\u043f\\u0443\\u0441\\u043a\\u0430\\u0442\\u044c\",\"\\u0437\\u0430\\u0431\\u044b\\u0432\\u0430\\u0442\\u044c\",\"\\u043f\\u0440\\u043e\\u0438\\u0437\\u0432\\u043e\\u0434\\u0438\\u0442\\u044c\",\"\\u0435\\u0436\\u0435\\u043c\\u0435\\u0441\\u044f\\u0447\\u043d\\u044b\\u0439\",\"\\u043f\\u043e\\u0442\\u0435\\u0440\\u044f\\u0442\\u044c\",\"\\u043f\\u043e\\u043b\\u043d\\u043e\\u0441\\u0442\\u044c\\u044e\",\"\\u043f\\u0440\\u0430\\u0432\\u0434\\u0430\",\"\\u043f\\u0435\\u0440\\u0435\\u0432\\u044b\\u043f\\u0443\\u0441\\u043a\",\"\\u043c\\u0438\\u043d\\u0443\\u0441\",\"\\u0441\\u0443\\u0442\\u043a\\u0438\",\"\\u043e\\u0442\\u0441\\u0443\\u0442\\u0441\\u0442\\u0432\\u0438\\u0435\",\"\\u0442\\u0435\\u043a\\u0443\\u0449\\u0438\\u0439\",\"\\u043b\\u0438\\u0447\\u043d\\u043e\",\"\\u0436\\u0438\\u0437\\u043d\\u044c\",\"\\u0444\\u0430\\u043c\\u0438\\u043b\\u0438\\u044f\",\"\\u0437\\u0430\\u0432\\u0442\\u0440\\u0430\",\"\\u0440\\u0443\\u043a\\u043e\\u0432\\u043e\\u0434\\u0438\\u0442\\u0435\\u043b\\u044c\",\"\\u0443\\u0441\\u0442\\u0440\\u0430\\u0438\\u0432\\u0430\\u0442\\u044c\",\"\\u0443\\u0432\\u0430\\u0436\\u0430\\u0435\\u043c\\u044b\\u0439\",\"\\u0431\\u0435\\u0441\\u043f\\u043b\\u0430\\u0442\\u043d\\u044b\\u0439\",\"\\u0440\\u0430\\u043d\\u0435\\u0435\",\"\\u0432\\u0430\\u043b\\u044e\\u0442\\u0430\",\"\\u0440\\u0443\\u0441\\u0441\\u043a\\u0438\\u0439\",\"\\u043e\\u0431\\u0449\\u0430\\u0442\\u044c\\u0441\\u044f\",\"\\u0438\\u043f\\u043e\\u0442\\u0435\\u043a\\u0430\",\"\\u043f\\u043e\\u0441\\u0442\\u043e\\u044f\\u043d\\u043d\\u043e\",\"\\u0441\\u043a\\u043b\\u0430\\u0434\\u044b\\u0432\\u0430\\u0442\\u044c\\u0441\\u044f\",\"\\u0437\\u0430\\u0434\\u0430\\u0432\\u0430\\u0442\\u044c\",\"\\u043f\\u0440\\u0430\\u0432\\u0438\\u043b\\u043e\",\"\\u0435\\u0434\\u0438\\u043d\\u0441\\u0442\\u0432\\u0435\\u043d\\u043d\\u044b\\u0439\",\"\\u043f\\u0443\\u043d\\u043a\\u0442\",\"\\u0443\\u0434\\u043e\\u0431\\u043d\\u043e\",\"\\u043e\\u0431\\u043d\\u0430\\u0440\\u0443\\u0436\\u0438\\u0432\\u0430\\u0442\\u044c\",\"\\u043e\\u0431\\u0441\\u043b\\u0443\\u0436\\u0438\\u0432\\u0430\\u0442\\u044c\\u0441\\u044f\",\"\\u0431\\u0430\\u043b\\u0430\\u043d\\u0441\",\"\\u0441\\u0442\\u0430\\u043d\\u0434\\u0430\\u0440\\u0442\",\"\\u043e\\u043f\\u0435\\u0440\\u0430\\u0446\\u0438\\u043e\\u043d\\u0438\\u0441\\u0442\\u043a\\u0430\",\"\\u0441\\u0442\\u0430\\u043b\\u043a\\u0438\\u0432\\u0430\\u0442\\u044c\\u0441\\u044f\",\"\\u0438\\u043c\\u0435\\u0442\\u044c\\u0441\\u044f\",\"\\u043f\\u0430\\u0440\\u043e\\u043b\\u044c\",\"\\u0440\\u0435\\u043a\\u0432\\u0438\\u0437\\u0438\\u0442\",\"\\u043f\\u043e\\u043f\\u043e\\u043b\\u043d\\u0435\\u043d\\u0438\\u0435\",\"\\u0441\\u043a\\u043e\\u0440\\u043e\",\"\\u043f\\u0440\\u0438\\u043d\\u043e\\u0441\\u0438\\u0442\\u044c\",\"\\u0442\\u0435\\u043b\\u0435\\u0444\\u043e\\u043d\\u043d\\u044b\\u0439\",\"\\u0441\\u043f\\u0443\\u0441\\u0442\\u044f\",\"\\u0443\\u0434\\u043e\\u0431\\u043d\\u044b\\u0439\",\"\\u043e\\u0441\\u043d\\u043e\\u0432\\u043d\\u043e\\u0439\",\"\\u0434\\u043e\\u043b\\u043b\\u0430\\u0440\",\"\\u0437\\u0430\\u0440\\u043f\\u043b\\u0430\\u0442\\u0430\",\"\\u0432\\u0435\\u0440\\u043d\\u0443\\u0442\\u044c\\u0441\\u044f\"],\"x1\":{\"__ndarray__\":\"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\",\"dtype\":\"float32\",\"shape\":[433]},\"x2\":{\"__ndarray__\":\"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\",\"dtype\":\"float32\",\"shape\":[433]}},\"selected\":{\"id\":\"1045\",\"type\":\"Selection\"},\"selection_policy\":{\"id\":\"1046\",\"type\":\"UnionRenderers\"}},\"id\":\"1032\",\"type\":\"ColumnDataSource\"},{\"attributes\":{},\"id\":\"1019\",\"type\":\"BasicTicker\"},{\"attributes\":{\"plot\":null,\"text\":\"word2vec T-SNE for most common words\"},\"id\":\"1002\",\"type\":\"Title\"},{\"attributes\":{\"plot\":{\"id\":\"1003\",\"subtype\":\"Figure\",\"type\":\"Plot\"},\"source\":{\"id\":\"1032\",\"type\":\"ColumnDataSource\"},\"text\":{\"field\":\"names\"},\"text_align\":\"center\",\"text_color\":{\"value\":\"#555555\"},\"text_font_size\":{\"value\":\"6pt\"},\"x\":{\"field\":\"x1\"},\"y\":{\"field\":\"x2\"},\"y_offset\":{\"value\":6}},\"id\":\"1038\",\"type\":\"LabelSet\"},{\"attributes\":{},\"id\":\"1014\",\"type\":\"BasicTicker\"},{\"attributes\":{\"fill_alpha\":{\"value\":0.1},\"fill_color\":{\"value\":\"#1f77b4\"},\"line_alpha\":{\"value\":0.1},\"line_color\":{\"value\":\"#1f77b4\"},\"size\":{\"units\":\"screen\",\"value\":8},\"x\":{\"field\":\"x1\"},\"y\":{\"field\":\"x2\"}},\"id\":\"1035\",\"type\":\"Scatter\"},{\"attributes\":{},\"id\":\"1046\",\"type\":\"UnionRenderers\"},{\"attributes\":{\"dimension\":1,\"plot\":{\"id\":\"1003\",\"subtype\":\"Figure\",\"type\":\"Plot\"},\"ticker\":{\"id\":\"1019\",\"type\":\"BasicTicker\"}},\"id\":\"1022\",\"type\":\"Grid\"},{\"attributes\":{},\"id\":\"1023\",\"type\":\"PanTool\"},{\"attributes\":{},\"id\":\"1024\",\"type\":\"WheelZoomTool\"},{\"attributes\":{},\"id\":\"1025\",\"type\":\"ResetTool\"},{\"attributes\":{},\"id\":\"1026\",\"type\":\"SaveTool\"},{\"attributes\":{\"active_drag\":\"auto\",\"active_inspect\":\"auto\",\"active_multi\":null,\"active_scroll\":\"auto\",\"active_tap\":\"auto\",\"tools\":[{\"id\":\"1023\",\"type\":\"PanTool\"},{\"id\":\"1024\",\"type\":\"WheelZoomTool\"},{\"id\":\"1025\",\"type\":\"ResetTool\"},{\"id\":\"1026\",\"type\":\"SaveTool\"}]},\"id\":\"1027\",\"type\":\"Toolbar\"},{\"attributes\":{\"callback\":null},\"id\":\"1005\",\"type\":\"DataRange1d\"},{\"attributes\":{\"callback\":null},\"id\":\"1007\",\"type\":\"DataRange1d\"}],\"root_ids\":[\"1003\"]},\"title\":\"Bokeh Application\",\"version\":\"1.0.4\"}};\n",
       "  var render_items = [{\"docid\":\"23fc04a8-4e0f-4bb0-9a6f-65c8f6b72e0d\",\"roots\":{\"1003\":\"b21d425a-a3ae-4716-975e-e8787456033a\"}}];\n",
       "  root.Bokeh.embed.embed_items_notebook(docs_json, render_items);\n",
       "\n",
       "  }\n",
       "  if (root.Bokeh !== undefined) {\n",
       "    embed_document(root);\n",
       "  } else {\n",
       "    var attempts = 0;\n",
       "    var timer = setInterval(function(root) {\n",
       "      if (root.Bokeh !== undefined) {\n",
       "        embed_document(root);\n",
       "        clearInterval(timer);\n",
       "      }\n",
       "      attempts++;\n",
       "      if (attempts > 100) {\n",
       "        console.log(\"Bokeh: ERROR: Unable to run BokehJS code because BokehJS library is missing\");\n",
       "        clearInterval(timer);\n",
       "      }\n",
       "    }, 10, root)\n",
       "  }\n",
       "})(window);"
      ],
      "application/vnd.bokehjs_exec.v0+json": ""
     },
     "metadata": {
      "application/vnd.bokehjs_exec.v0+json": {
       "id": "1003"
      }
     },
     "output_type": "display_data"
    }
   ],
   "source": [
    "from bokeh.models import ColumnDataSource, LabelSet\n",
    "from bokeh.plotting import figure, show, output_file\n",
    "from bokeh.io import output_notebook\n",
    "output_notebook()\n",
    "\n",
    "p = figure(tools=\"pan,wheel_zoom,reset,save\",\n",
    "           toolbar_location=\"above\",\n",
    "           title=\"word2vec T-SNE for most common words\")\n",
    "\n",
    "source = ColumnDataSource(data=dict(x1=top_words_tsne[:,0],\n",
    "                                    x2=top_words_tsne[:,1],\n",
    "                                    names=top_words))\n",
    "\n",
    "p.scatter(x=\"x1\", y=\"x2\", size=8, source=source)\n",
    "\n",
    "labels = LabelSet(x=\"x1\", y=\"x2\", text=\"names\", y_offset=6,\n",
    "                  text_font_size=\"6pt\", text_color=\"#555555\",\n",
    "                  source=source, text_align='center')\n",
    "p.add_layout(labels)\n",
    "\n",
    "show(p)"
   ]
  },
  {
   "cell_type": "markdown",
   "metadata": {},
   "source": [
    "#### Можно выделить множетсво остмысленных кластеров:\n",
    "* страхование-тариф -услуга\n",
    "* банкомат-средства-наличные-деньги\n",
    "* номер-телефон-трубка-оператор\n",
    "* запрос-обращение-претензия"
   ]
  },
  {
   "cell_type": "code",
   "execution_count": 266,
   "metadata": {},
   "outputs": [
    {
     "data": {
      "image/png": "[encoded data removed]",
      "text/plain": [
       "<IPython.core.display.Image object>"
      ]
     },
     "execution_count": 266,
     "metadata": {},
     "output_type": "execute_result"
    }
   ],
   "source": [
    "# В гите карртинка не отбражается, сохранил её\n",
    "from IPython.display import Image\n",
    "Image(\"bokeh_plot.png\")"
   ]
  },
  {
   "cell_type": "markdown",
   "metadata": {},
   "source": [
    "* задайте координаты для нового пространства следующим образом: одна  ось описывает отношение \"плохо –  хорошо\", вторая – \"медленно – быстро\" и найдите координаты названий банков в этих координатах. \n",
    " Более формально:\n",
    " берем вектор слова \"хорошо\", вычитаем из него вектор слова \"плохо\", получаем новый вектор, который описывает   разницу между хорошими и плохими словами. Берем вектор слова \"сбербанк\" и умножаем его на этот новый вектор   – получаем координату по первой оси. Аналогично – для второй оси. Две координаты уже можно нарисовать на  плоскости."
   ]
  },
  {
   "cell_type": "code",
   "execution_count": 72,
   "metadata": {},
   "outputs": [],
   "source": [
    "xorosh_minus_plox=model_banks_size_300_win_5['хороший']-model_banks_size_300_win_5['плохо']"
   ]
  },
  {
   "cell_type": "code",
   "execution_count": 73,
   "metadata": {},
   "outputs": [],
   "source": [
    "bistr_minus_medlen=model_banks_size_300_win_5['быстро']-model_banks_size_300_win_5['медленно']"
   ]
  },
  {
   "cell_type": "code",
   "execution_count": 74,
   "metadata": {},
   "outputs": [
    {
     "data": {
      "text/html": [
       "<div>\n",
       "<style scoped>\n",
       "    .dataframe tbody tr th:only-of-type {\n",
       "        vertical-align: middle;\n",
       "    }\n",
       "\n",
       "    .dataframe tbody tr th {\n",
       "        vertical-align: top;\n",
       "    }\n",
       "\n",
       "    .dataframe thead th {\n",
       "        text-align: right;\n",
       "    }\n",
       "</style>\n",
       "<table border=\"1\" class=\"dataframe\">\n",
       "  <thead>\n",
       "    <tr style=\"text-align: right;\">\n",
       "      <th></th>\n",
       "      <th>author</th>\n",
       "      <th>bank_license</th>\n",
       "      <th>bank_name</th>\n",
       "      <th>city</th>\n",
       "      <th>datetime</th>\n",
       "      <th>num_comments</th>\n",
       "      <th>rating_grade</th>\n",
       "      <th>rating_not_checked</th>\n",
       "      <th>text</th>\n",
       "      <th>title</th>\n",
       "    </tr>\n",
       "  </thead>\n",
       "  <tbody>\n",
       "    <tr>\n",
       "      <th>0</th>\n",
       "      <td>uhnov1</td>\n",
       "      <td>лицензия № 2562</td>\n",
       "      <td>Бинбанк</td>\n",
       "      <td>г. Москва</td>\n",
       "      <td>2015-06-08 12:50:54</td>\n",
       "      <td>0</td>\n",
       "      <td>NaN</td>\n",
       "      <td>False</td>\n",
       "      <td>Добрый день! Я не являюсь клиентом банка и пор...</td>\n",
       "      <td>Жалоба</td>\n",
       "    </tr>\n",
       "    <tr>\n",
       "      <th>1</th>\n",
       "      <td>Foryou</td>\n",
       "      <td>лицензия № 1481</td>\n",
       "      <td>Сбербанк России</td>\n",
       "      <td>г. Новосибирск</td>\n",
       "      <td>2015-06-08 11:09:57</td>\n",
       "      <td>0</td>\n",
       "      <td>NaN</td>\n",
       "      <td>False</td>\n",
       "      <td>Доброго дня! Являюсь держателем зарплатной кар...</td>\n",
       "      <td>Не могу пользоваться услугой Сбербанк он-лайн</td>\n",
       "    </tr>\n",
       "    <tr>\n",
       "      <th>2</th>\n",
       "      <td>Vladimir84</td>\n",
       "      <td>лицензия № 2562</td>\n",
       "      <td>Бинбанк</td>\n",
       "      <td>г. Москва</td>\n",
       "      <td>2015-06-05 20:14:28</td>\n",
       "      <td>1</td>\n",
       "      <td>NaN</td>\n",
       "      <td>False</td>\n",
       "      <td>Здравствуйте!  Дублирую свое заявление от 03.0...</td>\n",
       "      <td>Двойное списание за один товар.</td>\n",
       "    </tr>\n",
       "  </tbody>\n",
       "</table>\n",
       "</div>"
      ],
      "text/plain": [
       "       author     bank_license        bank_name            city  \\\n",
       "0      uhnov1  лицензия № 2562          Бинбанк       г. Москва   \n",
       "1      Foryou  лицензия № 1481  Сбербанк России  г. Новосибирск   \n",
       "2  Vladimir84  лицензия № 2562          Бинбанк       г. Москва   \n",
       "\n",
       "              datetime  num_comments  rating_grade  rating_not_checked  \\\n",
       "0  2015-06-08 12:50:54             0           NaN               False   \n",
       "1  2015-06-08 11:09:57             0           NaN               False   \n",
       "2  2015-06-05 20:14:28             1           NaN               False   \n",
       "\n",
       "                                                text  \\\n",
       "0  Добрый день! Я не являюсь клиентом банка и пор...   \n",
       "1  Доброго дня! Являюсь держателем зарплатной кар...   \n",
       "2  Здравствуйте!  Дублирую свое заявление от 03.0...   \n",
       "\n",
       "                                           title  \n",
       "0                                         Жалоба  \n",
       "1  Не могу пользоваться услугой Сбербанк он-лайн  \n",
       "2                Двойное списание за один товар.  "
      ]
     },
     "execution_count": 74,
     "metadata": {},
     "output_type": "execute_result"
    }
   ],
   "source": [
    "df.head(3)"
   ]
  },
  {
   "cell_type": "code",
   "execution_count": 250,
   "metadata": {
    "scrolled": true
   },
   "outputs": [
    {
     "data": {
      "text/plain": [
       "Сбербанк России                   0.171513\n",
       "Альфа-Банк                        0.066606\n",
       "ВТБ 24                            0.053323\n",
       "Русский Стандарт                  0.051746\n",
       "Хоум Кредит Банк                  0.049179\n",
       "Тинькофф Банк                     0.035095\n",
       "Национальный Банк «Траст»         0.030013\n",
       "Ренессанс Кредит                  0.025075\n",
       "Связной Банк                      0.024593\n",
       "ОТП Банк                          0.021088\n",
       "Восточный Экспресс Банк           0.020443\n",
       "Райффайзенбанк                    0.019915\n",
       "Московский Кредитный Банк         0.019179\n",
       "Ситибанк                          0.018554\n",
       "Авангард                          0.017805\n",
       "Промсвязьбанк                     0.016847\n",
       "ЮниКредит Банк                    0.016209\n",
       "Банк Москвы                       0.016000\n",
       "Ханты-Мансийский банк Открытие    0.014059\n",
       "МТС Банк                          0.012182\n",
       "Киви Банк                         0.011342\n",
       "Кредит Европа Банк                0.010964\n",
       "Росбанк                           0.010801\n",
       "Бинбанк                           0.010723\n",
       "БИНБАНК кредитные карты           0.009538\n",
       "Name: bank_name, dtype: float64"
      ]
     },
     "execution_count": 250,
     "metadata": {},
     "output_type": "execute_result"
    }
   ],
   "source": [
    "#  У нас в отзывах доминирует сбер, что ожидаемо\n",
    "df.bank_name.value_counts(normalize=1).head(25)"
   ]
  },
  {
   "cell_type": "code",
   "execution_count": 76,
   "metadata": {},
   "outputs": [],
   "source": [
    "# Возьмем первые 25, чтобы каши не было\n",
    "bank_name=df.bank_name.value_counts(normalize=1).index.tolist()[:25]"
   ]
  },
  {
   "cell_type": "code",
   "execution_count": 80,
   "metadata": {},
   "outputs": [
    {
     "data": {
      "text/plain": [
       "['сбербанк',\n",
       " 'альфа',\n",
       " 'втб',\n",
       " 'русский',\n",
       " 'хоум',\n",
       " 'тинькофф',\n",
       " 'национальный',\n",
       " 'ренессанс',\n",
       " 'связной',\n",
       " 'отп',\n",
       " 'восточный',\n",
       " 'райффайзенбанк',\n",
       " 'московский',\n",
       " 'ситибанк',\n",
       " 'авангард',\n",
       " 'промсвязьбанк',\n",
       " 'юникредит',\n",
       " 'банк',\n",
       " 'ханты',\n",
       " 'мтс',\n",
       " 'киви',\n",
       " 'кредит',\n",
       " 'росбанк',\n",
       " 'бинбанк',\n",
       " 'бинбанк']"
      ]
     },
     "execution_count": 80,
     "metadata": {},
     "output_type": "execute_result"
    }
   ],
   "source": [
    "bank_name=[preprocessing(bank.lower()).split()[0] for bank in bank_name ]\n",
    "bank_name"
   ]
  },
  {
   "cell_type": "code",
   "execution_count": 252,
   "metadata": {},
   "outputs": [],
   "source": [
    "df_temp=pd.DataFrame(bank_name,columns=['bank_name'])"
   ]
  },
  {
   "cell_type": "code",
   "execution_count": 253,
   "metadata": {},
   "outputs": [],
   "source": [
    "df_temp['kachestvo']=df_temp.apply(lambda  row:np.dot(model_banks_size_300_win_5[row['bank_name']],xorosh_minus_plox) ,axis=1)"
   ]
  },
  {
   "cell_type": "code",
   "execution_count": 254,
   "metadata": {},
   "outputs": [],
   "source": [
    "df_temp['skorost']=df_temp.apply(lambda  row:np.dot(model_banks_size_300_win_5[row['bank_name']],bistr_minus_medlen) ,axis=1)"
   ]
  },
  {
   "cell_type": "code",
   "execution_count": 257,
   "metadata": {},
   "outputs": [
    {
     "data": {
      "text/html": [
       "<div>\n",
       "<style scoped>\n",
       "    .dataframe tbody tr th:only-of-type {\n",
       "        vertical-align: middle;\n",
       "    }\n",
       "\n",
       "    .dataframe tbody tr th {\n",
       "        vertical-align: top;\n",
       "    }\n",
       "\n",
       "    .dataframe thead th {\n",
       "        text-align: right;\n",
       "    }\n",
       "</style>\n",
       "<table border=\"1\" class=\"dataframe\">\n",
       "  <thead>\n",
       "    <tr style=\"text-align: right;\">\n",
       "      <th></th>\n",
       "      <th>bank_name</th>\n",
       "      <th>kachestvo</th>\n",
       "      <th>skorost</th>\n",
       "    </tr>\n",
       "  </thead>\n",
       "  <tbody>\n",
       "    <tr>\n",
       "      <th>0</th>\n",
       "      <td>сбербанк</td>\n",
       "      <td>0.959767</td>\n",
       "      <td>-0.147402</td>\n",
       "    </tr>\n",
       "    <tr>\n",
       "      <th>1</th>\n",
       "      <td>альфа</td>\n",
       "      <td>0.946438</td>\n",
       "      <td>0.284290</td>\n",
       "    </tr>\n",
       "    <tr>\n",
       "      <th>2</th>\n",
       "      <td>втб</td>\n",
       "      <td>0.662389</td>\n",
       "      <td>0.367923</td>\n",
       "    </tr>\n",
       "    <tr>\n",
       "      <th>3</th>\n",
       "      <td>русский</td>\n",
       "      <td>0.103523</td>\n",
       "      <td>0.010437</td>\n",
       "    </tr>\n",
       "    <tr>\n",
       "      <th>4</th>\n",
       "      <td>хоум</td>\n",
       "      <td>1.627054</td>\n",
       "      <td>0.950497</td>\n",
       "    </tr>\n",
       "  </tbody>\n",
       "</table>\n",
       "</div>"
      ],
      "text/plain": [
       "  bank_name  kachestvo   skorost\n",
       "0  сбербанк   0.959767 -0.147402\n",
       "1     альфа   0.946438  0.284290\n",
       "2       втб   0.662389  0.367923\n",
       "3   русский   0.103523  0.010437\n",
       "4      хоум   1.627054  0.950497"
      ]
     },
     "execution_count": 257,
     "metadata": {},
     "output_type": "execute_result"
    }
   ],
   "source": [
    "df_temp.head()"
   ]
  },
  {
   "cell_type": "code",
   "execution_count": 256,
   "metadata": {},
   "outputs": [
    {
     "data": {
      "text/html": [
       "\n",
       "    <div class=\"bk-root\">\n",
       "        <a href=\"https://bokeh.pydata.org\" target=\"_blank\" class=\"bk-logo bk-logo-small bk-logo-notebook\"></a>\n",
       "        <span id=\"1184\">Loading BokehJS ...</span>\n",
       "    </div>"
      ]
     },
     "metadata": {},
     "output_type": "display_data"
    },
    {
     "data": {
      "application/javascript": [
       "\n",
       "(function(root) {\n",
       "  function now() {\n",
       "    return new Date();\n",
       "  }\n",
       "\n",
       "  var force = true;\n",
       "\n",
       "  if (typeof (root._bokeh_onload_callbacks) === \"undefined\" || force === true) {\n",
       "    root._bokeh_onload_callbacks = [];\n",
       "    root._bokeh_is_loading = undefined;\n",
       "  }\n",
       "\n",
       "  var JS_MIME_TYPE = 'application/javascript';\n",
       "  var HTML_MIME_TYPE = 'text/html';\n",
       "  var EXEC_MIME_TYPE = 'application/vnd.bokehjs_exec.v0+json';\n",
       "  var CLASS_NAME = 'output_bokeh rendered_html';\n",
       "\n",
       "  /**\n",
       "   * Render data to the DOM node\n",
       "   */\n",
       "  function render(props, node) {\n",
       "    var script = document.createElement(\"script\");\n",
       "    node.appendChild(script);\n",
       "  }\n",
       "\n",
       "  /**\n",
       "   * Handle when an output is cleared or removed\n",
       "   */\n",
       "  function handleClearOutput(event, handle) {\n",
       "    var cell = handle.cell;\n",
       "\n",
       "    var id = cell.output_area._bokeh_element_id;\n",
       "    var server_id = cell.output_area._bokeh_server_id;\n",
       "    // Clean up Bokeh references\n",
       "    if (id != null && id in Bokeh.index) {\n",
       "      Bokeh.index[id].model.document.clear();\n",
       "      delete Bokeh.index[id];\n",
       "    }\n",
       "\n",
       "    if (server_id !== undefined) {\n",
       "      // Clean up Bokeh references\n",
       "      var cmd = \"from bokeh.io.state import curstate; print(curstate().uuid_to_server['\" + server_id + \"'].get_sessions()[0].document.roots[0]._id)\";\n",
       "      cell.notebook.kernel.execute(cmd, {\n",
       "        iopub: {\n",
       "          output: function(msg) {\n",
       "            var id = msg.content.text.trim();\n",
       "            if (id in Bokeh.index) {\n",
       "              Bokeh.index[id].model.document.clear();\n",
       "              delete Bokeh.index[id];\n",
       "            }\n",
       "          }\n",
       "        }\n",
       "      });\n",
       "      // Destroy server and session\n",
       "      var cmd = \"import bokeh.io.notebook as ion; ion.destroy_server('\" + server_id + \"')\";\n",
       "      cell.notebook.kernel.execute(cmd);\n",
       "    }\n",
       "  }\n",
       "\n",
       "  /**\n",
       "   * Handle when a new output is added\n",
       "   */\n",
       "  function handleAddOutput(event, handle) {\n",
       "    var output_area = handle.output_area;\n",
       "    var output = handle.output;\n",
       "\n",
       "    // limit handleAddOutput to display_data with EXEC_MIME_TYPE content only\n",
       "    if ((output.output_type != \"display_data\") || (!output.data.hasOwnProperty(EXEC_MIME_TYPE))) {\n",
       "      return\n",
       "    }\n",
       "\n",
       "    var toinsert = output_area.element.find(\".\" + CLASS_NAME.split(' ')[0]);\n",
       "\n",
       "    if (output.metadata[EXEC_MIME_TYPE][\"id\"] !== undefined) {\n",
       "      toinsert[toinsert.length - 1].firstChild.textContent = output.data[JS_MIME_TYPE];\n",
       "      // store reference to embed id on output_area\n",
       "      output_area._bokeh_element_id = output.metadata[EXEC_MIME_TYPE][\"id\"];\n",
       "    }\n",
       "    if (output.metadata[EXEC_MIME_TYPE][\"server_id\"] !== undefined) {\n",
       "      var bk_div = document.createElement(\"div\");\n",
       "      bk_div.innerHTML = output.data[HTML_MIME_TYPE];\n",
       "      var script_attrs = bk_div.children[0].attributes;\n",
       "      for (var i = 0; i < script_attrs.length; i++) {\n",
       "        toinsert[toinsert.length - 1].firstChild.setAttribute(script_attrs[i].name, script_attrs[i].value);\n",
       "      }\n",
       "      // store reference to server id on output_area\n",
       "      output_area._bokeh_server_id = output.metadata[EXEC_MIME_TYPE][\"server_id\"];\n",
       "    }\n",
       "  }\n",
       "\n",
       "  function register_renderer(events, OutputArea) {\n",
       "\n",
       "    function append_mime(data, metadata, element) {\n",
       "      // create a DOM node to render to\n",
       "      var toinsert = this.create_output_subarea(\n",
       "        metadata,\n",
       "        CLASS_NAME,\n",
       "        EXEC_MIME_TYPE\n",
       "      );\n",
       "      this.keyboard_manager.register_events(toinsert);\n",
       "      // Render to node\n",
       "      var props = {data: data, metadata: metadata[EXEC_MIME_TYPE]};\n",
       "      render(props, toinsert[toinsert.length - 1]);\n",
       "      element.append(toinsert);\n",
       "      return toinsert\n",
       "    }\n",
       "\n",
       "    /* Handle when an output is cleared or removed */\n",
       "    events.on('clear_output.CodeCell', handleClearOutput);\n",
       "    events.on('delete.Cell', handleClearOutput);\n",
       "\n",
       "    /* Handle when a new output is added */\n",
       "    events.on('output_added.OutputArea', handleAddOutput);\n",
       "\n",
       "    /**\n",
       "     * Register the mime type and append_mime function with output_area\n",
       "     */\n",
       "    OutputArea.prototype.register_mime_type(EXEC_MIME_TYPE, append_mime, {\n",
       "      /* Is output safe? */\n",
       "      safe: true,\n",
       "      /* Index of renderer in `output_area.display_order` */\n",
       "      index: 0\n",
       "    });\n",
       "  }\n",
       "\n",
       "  // register the mime type if in Jupyter Notebook environment and previously unregistered\n",
       "  if (root.Jupyter !== undefined) {\n",
       "    var events = require('base/js/events');\n",
       "    var OutputArea = require('notebook/js/outputarea').OutputArea;\n",
       "\n",
       "    if (OutputArea.prototype.mime_types().indexOf(EXEC_MIME_TYPE) == -1) {\n",
       "      register_renderer(events, OutputArea);\n",
       "    }\n",
       "  }\n",
       "\n",
       "  \n",
       "  if (typeof (root._bokeh_timeout) === \"undefined\" || force === true) {\n",
       "    root._bokeh_timeout = Date.now() + 5000;\n",
       "    root._bokeh_failed_load = false;\n",
       "  }\n",
       "\n",
       "  var NB_LOAD_WARNING = {'data': {'text/html':\n",
       "     \"<div style='background-color: #fdd'>\\n\"+\n",
       "     \"<p>\\n\"+\n",
       "     \"BokehJS does not appear to have successfully loaded. If loading BokehJS from CDN, this \\n\"+\n",
       "     \"may be due to a slow or bad network connection. Possible fixes:\\n\"+\n",
       "     \"</p>\\n\"+\n",
       "     \"<ul>\\n\"+\n",
       "     \"<li>re-rerun `output_notebook()` to attempt to load from CDN again, or</li>\\n\"+\n",
       "     \"<li>use INLINE resources instead, as so:</li>\\n\"+\n",
       "     \"</ul>\\n\"+\n",
       "     \"<code>\\n\"+\n",
       "     \"from bokeh.resources import INLINE\\n\"+\n",
       "     \"output_notebook(resources=INLINE)\\n\"+\n",
       "     \"</code>\\n\"+\n",
       "     \"</div>\"}};\n",
       "\n",
       "  function display_loaded() {\n",
       "    var el = document.getElementById(\"1184\");\n",
       "    if (el != null) {\n",
       "      el.textContent = \"BokehJS is loading...\";\n",
       "    }\n",
       "    if (root.Bokeh !== undefined) {\n",
       "      if (el != null) {\n",
       "        el.textContent = \"BokehJS \" + root.Bokeh.version + \" successfully loaded.\";\n",
       "      }\n",
       "    } else if (Date.now() < root._bokeh_timeout) {\n",
       "      setTimeout(display_loaded, 100)\n",
       "    }\n",
       "  }\n",
       "\n",
       "\n",
       "  function run_callbacks() {\n",
       "    try {\n",
       "      root._bokeh_onload_callbacks.forEach(function(callback) { callback() });\n",
       "    }\n",
       "    finally {\n",
       "      delete root._bokeh_onload_callbacks\n",
       "    }\n",
       "    console.info(\"Bokeh: all callbacks have finished\");\n",
       "  }\n",
       "\n",
       "  function load_libs(js_urls, callback) {\n",
       "    root._bokeh_onload_callbacks.push(callback);\n",
       "    if (root._bokeh_is_loading > 0) {\n",
       "      console.log(\"Bokeh: BokehJS is being loaded, scheduling callback at\", now());\n",
       "      return null;\n",
       "    }\n",
       "    if (js_urls == null || js_urls.length === 0) {\n",
       "      run_callbacks();\n",
       "      return null;\n",
       "    }\n",
       "    console.log(\"Bokeh: BokehJS not loaded, scheduling load and callback at\", now());\n",
       "    root._bokeh_is_loading = js_urls.length;\n",
       "    for (var i = 0; i < js_urls.length; i++) {\n",
       "      var url = js_urls[i];\n",
       "      var s = document.createElement('script');\n",
       "      s.src = url;\n",
       "      s.async = false;\n",
       "      s.onreadystatechange = s.onload = function() {\n",
       "        root._bokeh_is_loading--;\n",
       "        if (root._bokeh_is_loading === 0) {\n",
       "          console.log(\"Bokeh: all BokehJS libraries loaded\");\n",
       "          run_callbacks()\n",
       "        }\n",
       "      };\n",
       "      s.onerror = function() {\n",
       "        console.warn(\"failed to load library \" + url);\n",
       "      };\n",
       "      console.log(\"Bokeh: injecting script tag for BokehJS library: \", url);\n",
       "      document.getElementsByTagName(\"head\")[0].appendChild(s);\n",
       "    }\n",
       "  };var element = document.getElementById(\"1184\");\n",
       "  if (element == null) {\n",
       "    console.log(\"Bokeh: ERROR: autoload.js configured with elementid '1184' but no matching script tag was found. \")\n",
       "    return false;\n",
       "  }\n",
       "\n",
       "  var js_urls = [\"https://cdn.pydata.org/bokeh/release/bokeh-1.0.4.min.js\", \"https://cdn.pydata.org/bokeh/release/bokeh-widgets-1.0.4.min.js\", \"https://cdn.pydata.org/bokeh/release/bokeh-tables-1.0.4.min.js\", \"https://cdn.pydata.org/bokeh/release/bokeh-gl-1.0.4.min.js\"];\n",
       "\n",
       "  var inline_js = [\n",
       "    function(Bokeh) {\n",
       "      Bokeh.set_log_level(\"info\");\n",
       "    },\n",
       "    \n",
       "    function(Bokeh) {\n",
       "      \n",
       "    },\n",
       "    function(Bokeh) {\n",
       "      console.log(\"Bokeh: injecting CSS: https://cdn.pydata.org/bokeh/release/bokeh-1.0.4.min.css\");\n",
       "      Bokeh.embed.inject_css(\"https://cdn.pydata.org/bokeh/release/bokeh-1.0.4.min.css\");\n",
       "      console.log(\"Bokeh: injecting CSS: https://cdn.pydata.org/bokeh/release/bokeh-widgets-1.0.4.min.css\");\n",
       "      Bokeh.embed.inject_css(\"https://cdn.pydata.org/bokeh/release/bokeh-widgets-1.0.4.min.css\");\n",
       "      console.log(\"Bokeh: injecting CSS: https://cdn.pydata.org/bokeh/release/bokeh-tables-1.0.4.min.css\");\n",
       "      Bokeh.embed.inject_css(\"https://cdn.pydata.org/bokeh/release/bokeh-tables-1.0.4.min.css\");\n",
       "    }\n",
       "  ];\n",
       "\n",
       "  function run_inline_js() {\n",
       "    \n",
       "    if ((root.Bokeh !== undefined) || (force === true)) {\n",
       "      for (var i = 0; i < inline_js.length; i++) {\n",
       "        inline_js[i].call(root, root.Bokeh);\n",
       "      }if (force === true) {\n",
       "        display_loaded();\n",
       "      }} else if (Date.now() < root._bokeh_timeout) {\n",
       "      setTimeout(run_inline_js, 100);\n",
       "    } else if (!root._bokeh_failed_load) {\n",
       "      console.log(\"Bokeh: BokehJS failed to load within specified timeout.\");\n",
       "      root._bokeh_failed_load = true;\n",
       "    } else if (force !== true) {\n",
       "      var cell = $(document.getElementById(\"1184\")).parents('.cell').data().cell;\n",
       "      cell.output_area.append_execute_result(NB_LOAD_WARNING)\n",
       "    }\n",
       "\n",
       "  }\n",
       "\n",
       "  if (root._bokeh_is_loading === 0) {\n",
       "    console.log(\"Bokeh: BokehJS loaded, going straight to plotting\");\n",
       "    run_inline_js();\n",
       "  } else {\n",
       "    load_libs(js_urls, function() {\n",
       "      console.log(\"Bokeh: BokehJS plotting callback run at\", now());\n",
       "      run_inline_js();\n",
       "    });\n",
       "  }\n",
       "}(window));"
      ],
      "application/vnd.bokehjs_load.v0+json": "\n(function(root) {\n  function now() {\n    return new Date();\n  }\n\n  var force = true;\n\n  if (typeof (root._bokeh_onload_callbacks) === \"undefined\" || force === true) {\n    root._bokeh_onload_callbacks = [];\n    root._bokeh_is_loading = undefined;\n  }\n\n  \n\n  \n  if (typeof (root._bokeh_timeout) === \"undefined\" || force === true) {\n    root._bokeh_timeout = Date.now() + 5000;\n    root._bokeh_failed_load = false;\n  }\n\n  var NB_LOAD_WARNING = {'data': {'text/html':\n     \"<div style='background-color: #fdd'>\\n\"+\n     \"<p>\\n\"+\n     \"BokehJS does not appear to have successfully loaded. If loading BokehJS from CDN, this \\n\"+\n     \"may be due to a slow or bad network connection. Possible fixes:\\n\"+\n     \"</p>\\n\"+\n     \"<ul>\\n\"+\n     \"<li>re-rerun `output_notebook()` to attempt to load from CDN again, or</li>\\n\"+\n     \"<li>use INLINE resources instead, as so:</li>\\n\"+\n     \"</ul>\\n\"+\n     \"<code>\\n\"+\n     \"from bokeh.resources import INLINE\\n\"+\n     \"output_notebook(resources=INLINE)\\n\"+\n     \"</code>\\n\"+\n     \"</div>\"}};\n\n  function display_loaded() {\n    var el = document.getElementById(\"1184\");\n    if (el != null) {\n      el.textContent = \"BokehJS is loading...\";\n    }\n    if (root.Bokeh !== undefined) {\n      if (el != null) {\n        el.textContent = \"BokehJS \" + root.Bokeh.version + \" successfully loaded.\";\n      }\n    } else if (Date.now() < root._bokeh_timeout) {\n      setTimeout(display_loaded, 100)\n    }\n  }\n\n\n  function run_callbacks() {\n    try {\n      root._bokeh_onload_callbacks.forEach(function(callback) { callback() });\n    }\n    finally {\n      delete root._bokeh_onload_callbacks\n    }\n    console.info(\"Bokeh: all callbacks have finished\");\n  }\n\n  function load_libs(js_urls, callback) {\n    root._bokeh_onload_callbacks.push(callback);\n    if (root._bokeh_is_loading > 0) {\n      console.log(\"Bokeh: BokehJS is being loaded, scheduling callback at\", now());\n      return null;\n    }\n    if (js_urls == null || js_urls.length === 0) {\n      run_callbacks();\n      return null;\n    }\n    console.log(\"Bokeh: BokehJS not loaded, scheduling load and callback at\", now());\n    root._bokeh_is_loading = js_urls.length;\n    for (var i = 0; i < js_urls.length; i++) {\n      var url = js_urls[i];\n      var s = document.createElement('script');\n      s.src = url;\n      s.async = false;\n      s.onreadystatechange = s.onload = function() {\n        root._bokeh_is_loading--;\n        if (root._bokeh_is_loading === 0) {\n          console.log(\"Bokeh: all BokehJS libraries loaded\");\n          run_callbacks()\n        }\n      };\n      s.onerror = function() {\n        console.warn(\"failed to load library \" + url);\n      };\n      console.log(\"Bokeh: injecting script tag for BokehJS library: \", url);\n      document.getElementsByTagName(\"head\")[0].appendChild(s);\n    }\n  };var element = document.getElementById(\"1184\");\n  if (element == null) {\n    console.log(\"Bokeh: ERROR: autoload.js configured with elementid '1184' but no matching script tag was found. \")\n    return false;\n  }\n\n  var js_urls = [\"https://cdn.pydata.org/bokeh/release/bokeh-1.0.4.min.js\", \"https://cdn.pydata.org/bokeh/release/bokeh-widgets-1.0.4.min.js\", \"https://cdn.pydata.org/bokeh/release/bokeh-tables-1.0.4.min.js\", \"https://cdn.pydata.org/bokeh/release/bokeh-gl-1.0.4.min.js\"];\n\n  var inline_js = [\n    function(Bokeh) {\n      Bokeh.set_log_level(\"info\");\n    },\n    \n    function(Bokeh) {\n      \n    },\n    function(Bokeh) {\n      console.log(\"Bokeh: injecting CSS: https://cdn.pydata.org/bokeh/release/bokeh-1.0.4.min.css\");\n      Bokeh.embed.inject_css(\"https://cdn.pydata.org/bokeh/release/bokeh-1.0.4.min.css\");\n      console.log(\"Bokeh: injecting CSS: https://cdn.pydata.org/bokeh/release/bokeh-widgets-1.0.4.min.css\");\n      Bokeh.embed.inject_css(\"https://cdn.pydata.org/bokeh/release/bokeh-widgets-1.0.4.min.css\");\n      console.log(\"Bokeh: injecting CSS: https://cdn.pydata.org/bokeh/release/bokeh-tables-1.0.4.min.css\");\n      Bokeh.embed.inject_css(\"https://cdn.pydata.org/bokeh/release/bokeh-tables-1.0.4.min.css\");\n    }\n  ];\n\n  function run_inline_js() {\n    \n    if ((root.Bokeh !== undefined) || (force === true)) {\n      for (var i = 0; i < inline_js.length; i++) {\n        inline_js[i].call(root, root.Bokeh);\n      }if (force === true) {\n        display_loaded();\n      }} else if (Date.now() < root._bokeh_timeout) {\n      setTimeout(run_inline_js, 100);\n    } else if (!root._bokeh_failed_load) {\n      console.log(\"Bokeh: BokehJS failed to load within specified timeout.\");\n      root._bokeh_failed_load = true;\n    } else if (force !== true) {\n      var cell = $(document.getElementById(\"1184\")).parents('.cell').data().cell;\n      cell.output_area.append_execute_result(NB_LOAD_WARNING)\n    }\n\n  }\n\n  if (root._bokeh_is_loading === 0) {\n    console.log(\"Bokeh: BokehJS loaded, going straight to plotting\");\n    run_inline_js();\n  } else {\n    load_libs(js_urls, function() {\n      console.log(\"Bokeh: BokehJS plotting callback run at\", now());\n      run_inline_js();\n    });\n  }\n}(window));"
     },
     "metadata": {},
     "output_type": "display_data"
    },
    {
     "data": {
      "text/html": [
       "\n",
       "\n",
       "\n",
       "\n",
       "\n",
       "\n",
       "  <div class=\"bk-root\" id=\"226148b8-8552-4438-b1f9-c0c5e1f631e0\" data-root-id=\"1186\"></div>\n"
      ]
     },
     "metadata": {},
     "output_type": "display_data"
    },
    {
     "data": {
      "application/javascript": [
       "(function(root) {\n",
       "  function embed_document(root) {\n",
       "    \n",
       "  var docs_json = {\"b452bb84-9fbf-4ec2-b963-94ab27007f36\":{\"roots\":{\"references\":[{\"attributes\":{\"below\":[{\"id\":\"1196\",\"type\":\"LinearAxis\"}],\"left\":[{\"id\":\"1201\",\"type\":\"LinearAxis\"}],\"renderers\":[{\"id\":\"1196\",\"type\":\"LinearAxis\"},{\"id\":\"1200\",\"type\":\"Grid\"},{\"id\":\"1201\",\"type\":\"LinearAxis\"},{\"id\":\"1205\",\"type\":\"Grid\"},{\"id\":\"1219\",\"type\":\"GlyphRenderer\"},{\"id\":\"1221\",\"type\":\"LabelSet\"}],\"title\":{\"id\":\"1185\",\"type\":\"Title\"},\"toolbar\":{\"id\":\"1210\",\"type\":\"Toolbar\"},\"toolbar_location\":\"above\",\"x_range\":{\"id\":\"1188\",\"type\":\"DataRange1d\"},\"x_scale\":{\"id\":\"1192\",\"type\":\"LinearScale\"},\"y_range\":{\"id\":\"1190\",\"type\":\"DataRange1d\"},\"y_scale\":{\"id\":\"1194\",\"type\":\"LinearScale\"}},\"id\":\"1186\",\"subtype\":\"Figure\",\"type\":\"Plot\"},{\"attributes\":{\"plot\":{\"id\":\"1186\",\"subtype\":\"Figure\",\"type\":\"Plot\"},\"ticker\":{\"id\":\"1197\",\"type\":\"BasicTicker\"}},\"id\":\"1200\",\"type\":\"Grid\"},{\"attributes\":{\"plot\":{\"id\":\"1186\",\"subtype\":\"Figure\",\"type\":\"Plot\"},\"source\":{\"id\":\"1215\",\"type\":\"ColumnDataSource\"},\"text\":{\"field\":\"names\"},\"text_align\":\"center\",\"text_color\":{\"value\":\"#555555\"},\"text_font_size\":{\"value\":\"9pt\"},\"x\":{\"field\":\"x1\"},\"y\":{\"field\":\"x2\"},\"y_offset\":{\"value\":6}},\"id\":\"1221\",\"type\":\"LabelSet\"},{\"attributes\":{\"active_drag\":\"auto\",\"active_inspect\":\"auto\",\"active_multi\":null,\"active_scroll\":\"auto\",\"active_tap\":\"auto\",\"tools\":[{\"id\":\"1206\",\"type\":\"PanTool\"},{\"id\":\"1207\",\"type\":\"WheelZoomTool\"},{\"id\":\"1208\",\"type\":\"ResetTool\"},{\"id\":\"1209\",\"type\":\"SaveTool\"}]},\"id\":\"1210\",\"type\":\"Toolbar\"},{\"attributes\":{},\"id\":\"1243\",\"type\":\"UnionRenderers\"},{\"attributes\":{\"callback\":null,\"data\":{\"names\":[\"\\u0441\\u0431\\u0435\\u0440\\u0431\\u0430\\u043d\\u043a\",\"\\u0430\\u043b\\u044c\\u0444\\u0430\",\"\\u0432\\u0442\\u0431\",\"\\u0440\\u0443\\u0441\\u0441\\u043a\\u0438\\u0439\",\"\\u0445\\u043e\\u0443\\u043c\",\"\\u0442\\u0438\\u043d\\u044c\\u043a\\u043e\\u0444\\u0444\",\"\\u043d\\u0430\\u0446\\u0438\\u043e\\u043d\\u0430\\u043b\\u044c\\u043d\\u044b\\u0439\",\"\\u0440\\u0435\\u043d\\u0435\\u0441\\u0441\\u0430\\u043d\\u0441\",\"\\u0441\\u0432\\u044f\\u0437\\u043d\\u043e\\u0439\",\"\\u043e\\u0442\\u043f\",\"\\u0432\\u043e\\u0441\\u0442\\u043e\\u0447\\u043d\\u044b\\u0439\",\"\\u0440\\u0430\\u0439\\u0444\\u0444\\u0430\\u0439\\u0437\\u0435\\u043d\\u0431\\u0430\\u043d\\u043a\",\"\\u043c\\u043e\\u0441\\u043a\\u043e\\u0432\\u0441\\u043a\\u0438\\u0439\",\"\\u0441\\u0438\\u0442\\u0438\\u0431\\u0430\\u043d\\u043a\",\"\\u0430\\u0432\\u0430\\u043d\\u0433\\u0430\\u0440\\u0434\",\"\\u043f\\u0440\\u043e\\u043c\\u0441\\u0432\\u044f\\u0437\\u044c\\u0431\\u0430\\u043d\\u043a\",\"\\u044e\\u043d\\u0438\\u043a\\u0440\\u0435\\u0434\\u0438\\u0442\",\"\\u0445\\u0430\\u043d\\u0442\\u044b\",\"\\u043c\\u0442\\u0441\",\"\\u043a\\u0438\\u0432\\u0438\",\"\\u0440\\u043e\\u0441\\u0431\\u0430\\u043d\\u043a\",\"\\u0431\\u0438\\u043d\\u0431\\u0430\\u043d\\u043a\",\"\\u0431\\u0438\\u043d\\u0431\\u0430\\u043d\\u043a\"],\"x1\":{\"__ndarray__\":\"AAAAoGi27j8AAACgN0nuPwAAAGBJMuU/AAAAAHaAuj8AAADAaQj6PwAAAAC3CAJAAAAAgEuV0z8AAADASL/vPwAAAMBmnPA/AAAAALkf4z8AAAAgT7PBvwAAAADP7fU/AAAAANXG7z8AAAAAMJXjPwAAAMAD6f4/AAAAoH5P+D8AAADgbscBQAAAAMBtpeo/AAAAQJn7zL8AAADg9UDnPwAAAODiRtI/AAAA4N/o2j8AAADg3+jaPw==\",\"dtype\":\"float64\",\"shape\":[23]},\"x2\":{\"__ndarray__\":\"AAAAABXewr8AAACgzDHSPwAAAOAKjNc/AAAAwMhfhT8AAACgeWruPwAAAMACbd0/AAAAoH6AwL8AAADAdz/ZPwAAAAAu6t6/AAAAQICl8T8AAABgLPjwvwAAAEDWKLS/AAAAQJcB0T8AAACAyeDUvwAAAGAlFuA/AAAA4INY0j8AAABAkS/iPwAAAODSLsi/AAAAAB4g4r8AAAAAdsvXPwAAAAAXGfE/AAAAAFXQ4L8AAAAAVdDgvw==\",\"dtype\":\"float64\",\"shape\":[23]}},\"selected\":{\"id\":\"1242\",\"type\":\"Selection\"},\"selection_policy\":{\"id\":\"1243\",\"type\":\"UnionRenderers\"}},\"id\":\"1215\",\"type\":\"ColumnDataSource\"},{\"attributes\":{},\"id\":\"1240\",\"type\":\"BasicTickFormatter\"},{\"attributes\":{\"axis_label\":\"\\u0421\\u043a\\u043e\\u0440\\u043e\\u0441\\u0442\\u044c\",\"formatter\":{\"id\":\"1240\",\"type\":\"BasicTickFormatter\"},\"plot\":{\"id\":\"1186\",\"subtype\":\"Figure\",\"type\":\"Plot\"},\"ticker\":{\"id\":\"1202\",\"type\":\"BasicTicker\"}},\"id\":\"1201\",\"type\":\"LinearAxis\"},{\"attributes\":{},\"id\":\"1208\",\"type\":\"ResetTool\"},{\"attributes\":{\"data_source\":{\"id\":\"1215\",\"type\":\"ColumnDataSource\"},\"glyph\":{\"id\":\"1217\",\"type\":\"Scatter\"},\"hover_glyph\":null,\"muted_glyph\":null,\"nonselection_glyph\":{\"id\":\"1218\",\"type\":\"Scatter\"},\"selection_glyph\":null,\"view\":{\"id\":\"1220\",\"type\":\"CDSView\"}},\"id\":\"1219\",\"type\":\"GlyphRenderer\"},{\"attributes\":{\"callback\":null},\"id\":\"1190\",\"type\":\"DataRange1d\"},{\"attributes\":{\"axis_label\":\"\\u041a\\u0430\\u0447\\u0435\\u0441\\u0442\\u0432\\u043e\",\"formatter\":{\"id\":\"1238\",\"type\":\"BasicTickFormatter\"},\"plot\":{\"id\":\"1186\",\"subtype\":\"Figure\",\"type\":\"Plot\"},\"ticker\":{\"id\":\"1197\",\"type\":\"BasicTicker\"}},\"id\":\"1196\",\"type\":\"LinearAxis\"},{\"attributes\":{},\"id\":\"1206\",\"type\":\"PanTool\"},{\"attributes\":{\"plot\":null,\"text\":\"word2vec T-SNE for most common words\"},\"id\":\"1185\",\"type\":\"Title\"},{\"attributes\":{},\"id\":\"1192\",\"type\":\"LinearScale\"},{\"attributes\":{\"callback\":null},\"id\":\"1188\",\"type\":\"DataRange1d\"},{\"attributes\":{},\"id\":\"1238\",\"type\":\"BasicTickFormatter\"},{\"attributes\":{\"dimension\":1,\"plot\":{\"id\":\"1186\",\"subtype\":\"Figure\",\"type\":\"Plot\"},\"ticker\":{\"id\":\"1202\",\"type\":\"BasicTicker\"}},\"id\":\"1205\",\"type\":\"Grid\"},{\"attributes\":{},\"id\":\"1197\",\"type\":\"BasicTicker\"},{\"attributes\":{},\"id\":\"1207\",\"type\":\"WheelZoomTool\"},{\"attributes\":{},\"id\":\"1242\",\"type\":\"Selection\"},{\"attributes\":{\"fill_alpha\":{\"value\":0.1},\"fill_color\":{\"value\":\"#1f77b4\"},\"line_alpha\":{\"value\":0.1},\"line_color\":{\"value\":\"#1f77b4\"},\"size\":{\"units\":\"screen\",\"value\":8},\"x\":{\"field\":\"x1\"},\"y\":{\"field\":\"x2\"}},\"id\":\"1218\",\"type\":\"Scatter\"},{\"attributes\":{\"fill_color\":{\"value\":\"#1f77b4\"},\"line_color\":{\"value\":\"#1f77b4\"},\"size\":{\"units\":\"screen\",\"value\":8},\"x\":{\"field\":\"x1\"},\"y\":{\"field\":\"x2\"}},\"id\":\"1217\",\"type\":\"Scatter\"},{\"attributes\":{\"source\":{\"id\":\"1215\",\"type\":\"ColumnDataSource\"}},\"id\":\"1220\",\"type\":\"CDSView\"},{\"attributes\":{},\"id\":\"1194\",\"type\":\"LinearScale\"},{\"attributes\":{},\"id\":\"1202\",\"type\":\"BasicTicker\"},{\"attributes\":{},\"id\":\"1209\",\"type\":\"SaveTool\"}],\"root_ids\":[\"1186\"]},\"title\":\"Bokeh Application\",\"version\":\"1.0.4\"}};\n",
       "  var render_items = [{\"docid\":\"b452bb84-9fbf-4ec2-b963-94ab27007f36\",\"roots\":{\"1186\":\"226148b8-8552-4438-b1f9-c0c5e1f631e0\"}}];\n",
       "  root.Bokeh.embed.embed_items_notebook(docs_json, render_items);\n",
       "\n",
       "  }\n",
       "  if (root.Bokeh !== undefined) {\n",
       "    embed_document(root);\n",
       "  } else {\n",
       "    var attempts = 0;\n",
       "    var timer = setInterval(function(root) {\n",
       "      if (root.Bokeh !== undefined) {\n",
       "        embed_document(root);\n",
       "        clearInterval(timer);\n",
       "      }\n",
       "      attempts++;\n",
       "      if (attempts > 100) {\n",
       "        console.log(\"Bokeh: ERROR: Unable to run BokehJS code because BokehJS library is missing\");\n",
       "        clearInterval(timer);\n",
       "      }\n",
       "    }, 10, root)\n",
       "  }\n",
       "})(window);"
      ],
      "application/vnd.bokehjs_exec.v0+json": ""
     },
     "metadata": {
      "application/vnd.bokehjs_exec.v0+json": {
       "id": "1186"
      }
     },
     "output_type": "display_data"
    }
   ],
   "source": [
    "output_notebook()\n",
    "\n",
    "p = figure(tools=\"pan,wheel_zoom,reset,save\",\n",
    "           toolbar_location=\"above\",\n",
    "           title=\"word2vec T-SNE for most common words\")\n",
    "\n",
    "source = ColumnDataSource(data=dict(x1=df_temp.kachestvo,\n",
    "                                    x2=df_temp.skorost,\n",
    "                                    names=df_temp.bank_name))\n",
    "\n",
    "p.scatter(x=\"x1\", y=\"x2\", size=8, source=source)\n",
    "\n",
    "labels = LabelSet(x=\"x1\", y=\"x2\", text=\"names\", y_offset=6,\n",
    "                  text_font_size=\"9pt\", text_color=\"#555555\",\n",
    "                  source=source, text_align='center')\n",
    "p.add_layout(labels)\n",
    "p.xaxis.axis_label = 'Качество'\n",
    "p.yaxis.axis_label = 'Скорость'\n",
    "show(p)"
   ]
  },
  {
   "cell_type": "code",
   "execution_count": 265,
   "metadata": {
    "scrolled": true
   },
   "outputs": [
    {
     "data": {
      "image/png": "[encoded data removed]",
      "text/plain": [
       "<IPython.core.display.Image object>"
      ]
     },
     "execution_count": 265,
     "metadata": {},
     "output_type": "execute_result"
    }
   ],
   "source": [
    "# В гите карртинка не отбражается, сохранил её\n",
    "from IPython.display import Image\n",
    "Image(\"bokeh_plot_1.png\")"
   ]
  },
  {
   "cell_type": "markdown",
   "metadata": {},
   "source": [
    "#### Интересная картика, самый медленный и ужасный - Вострочный, где-то посередине-Сбер,самые качественные -юникретит и тинькофф"
   ]
  },
  {
   "cell_type": "markdown",
   "metadata": {},
   "source": [
    "## Часть 2. Распространение метки [50 баллов]\n",
    "\n",
    "Определите 5-8 позитивных слов (например, “быстрый”, “удобный”) и 5-8  негативных слов (например,“очередь”, “медленно”). Эти слова будут основной будущего оценочного словаря. Пусть позитивному классу соответствует метка 1, негативному – -1. Пометьте выбранные слова в лексическом графе соответствующими метками. Запустите любой известный вам метод распространения метки (Label Propogation) в лексическом графе. На выходе метода распространения ошибки должны быть новые слова, помеченные метками 1 и -1 – это и есть искомые оценочные слова.\n",
    "\n",
    "Алгоритмы распространения метки устроены примерно так: пусть мы находимся в выршине, помеченном +1. С какой-то вероятностью мы переносим эту метку на соседние узлы. С меньшей вероятностью переносим ее на вершины на расстоянии два. В конце распространения метки, часть вершин оказывается помечена меткой +1, часть – -1, большая часть остается без метки.\n",
    "\n",
    "Рекомендуемые алгоритмы распространения метки:\n",
    "1. ```graphlab.label_propagation``` (```graphlab``` доступен бесплатно по образовательной лицензии)\n",
    "2. ```sklearn.semi_supervised.LabelPropagation``` \n",
    "3. ```sklearn.semi_supervised.LabelSpreading```"
   ]
  },
  {
   "cell_type": "code",
   "execution_count": 5,
   "metadata": {},
   "outputs": [],
   "source": [
    "positive=['быстрый','удобный','качественный','хороший','красивый' ,'приятный']\n",
    "negative=[  'медленный','долгий','плохой','очередь','ждать' ,'ужасный']"
   ]
  },
  {
   "cell_type": "code",
   "execution_count": 244,
   "metadata": {
    "scrolled": true
   },
   "outputs": [],
   "source": [
    "X=positive+negative\n"
   ]
  },
  {
   "cell_type": "code",
   "execution_count": 245,
   "metadata": {},
   "outputs": [
    {
     "data": {
      "text/plain": [
       "array([-1, -1, -1, ..., -1, -1, -1])"
      ]
     },
     "execution_count": 245,
     "metadata": {},
     "output_type": "execute_result"
    }
   ],
   "source": [
    "y=[1 if x in positive  else 0  if x in negative else -1 for x in words]\n",
    "y=np.array(y)\n",
    "y"
   ]
  },
  {
   "cell_type": "code",
   "execution_count": 96,
   "metadata": {},
   "outputs": [
    {
     "data": {
      "text/plain": [
       "(array([-1,  1,  2]), array([17165,     6,     6]))"
      ]
     },
     "execution_count": 96,
     "metadata": {},
     "output_type": "execute_result"
    }
   ],
   "source": [
    "np.unique(y, return_counts=True)"
   ]
  },
  {
   "cell_type": "code",
   "execution_count": 115,
   "metadata": {},
   "outputs": [],
   "source": [
    "# Заберем вектора слов\n",
    "X=model_banks_size_300_win_5[model_banks_size_300_win_5.wv.vocab.keys()]"
   ]
  },
  {
   "cell_type": "code",
   "execution_count": 187,
   "metadata": {},
   "outputs": [],
   "source": [
    "# И сами слов \n",
    "words=model_banks_size_300_win_5.wv.vocab.keys()"
   ]
  },
  {
   "cell_type": "code",
   "execution_count": null,
   "metadata": {},
   "outputs": [],
   "source": [
    "# Пусть позитивиные слова -1, негавтиные 0,-1 неразеченые\n",
    "y=[1 if x in positive  else 0  if x in negative else -1 for x in words]"
   ]
  },
  {
   "cell_type": "code",
   "execution_count": null,
   "metadata": {},
   "outputs": [],
   "source": [
    "# Индексы не размеченных слов\n",
    "unlabeled_set=np.where(y==-1)"
   ]
  },
  {
   "cell_type": "code",
   "execution_count": 179,
   "metadata": {},
   "outputs": [],
   "source": [
    "# Почему-то гамма значимо влияет на резульаты \n",
    "\n",
    "lp_model = LabelSpreading(gamma=1,n_jobs=12)"
   ]
  },
  {
   "cell_type": "code",
   "execution_count": 180,
   "metadata": {
    "scrolled": true
   },
   "outputs": [
    {
     "name": "stdout",
     "output_type": "stream",
     "text": [
      "CPU times: user 20.8 s, sys: 5.78 s, total: 26.6 s\n",
      "Wall time: 8.45 s\n"
     ]
    },
    {
     "data": {
      "text/plain": [
       "LabelSpreading(alpha=0.2, gamma=1, kernel='rbf', max_iter=30, n_jobs=12,\n",
       "        n_neighbors=7, tol=0.001)"
      ]
     },
     "execution_count": 180,
     "metadata": {},
     "output_type": "execute_result"
    }
   ],
   "source": [
    "%time lp_model.fit(X,y)"
   ]
  },
  {
   "cell_type": "code",
   "execution_count": 230,
   "metadata": {},
   "outputs": [
    {
     "data": {
      "text/plain": [
       "(array([0, 1]), array([14684,  2481]))"
      ]
     },
     "execution_count": 230,
     "metadata": {},
     "output_type": "execute_result"
    }
   ],
   "source": [
    "# Распростаним метки\n",
    "predicted_labels=lp_model.predict(X[unlabeled_set])\n",
    "np.unique(predicted_labels, return_counts=True)"
   ]
  },
  {
   "cell_type": "code",
   "execution_count": 248,
   "metadata": {},
   "outputs": [],
   "source": [
    "data=vstack((np.array([*words])[unlabeled_set],predicted_labels))"
   ]
  },
  {
   "cell_type": "code",
   "execution_count": 249,
   "metadata": {
    "scrolled": false
   },
   "outputs": [],
   "source": [
    "data=pd.DataFrame({'word':data[0],'label':data[1]})\n"
   ]
  },
  {
   "cell_type": "code",
   "execution_count": 246,
   "metadata": {},
   "outputs": [
    {
     "data": {
      "text/html": [
       "<div>\n",
       "<style scoped>\n",
       "    .dataframe tbody tr th:only-of-type {\n",
       "        vertical-align: middle;\n",
       "    }\n",
       "\n",
       "    .dataframe tbody tr th {\n",
       "        vertical-align: top;\n",
       "    }\n",
       "\n",
       "    .dataframe thead th {\n",
       "        text-align: right;\n",
       "    }\n",
       "</style>\n",
       "<table border=\"1\" class=\"dataframe\">\n",
       "  <thead>\n",
       "    <tr style=\"text-align: right;\">\n",
       "      <th></th>\n",
       "      <th>word</th>\n",
       "      <th>label</th>\n",
       "    </tr>\n",
       "  </thead>\n",
       "  <tbody>\n",
       "    <tr>\n",
       "      <th>19</th>\n",
       "      <td>год</td>\n",
       "      <td>1</td>\n",
       "    </tr>\n",
       "    <tr>\n",
       "      <th>55</th>\n",
       "      <td>имя</td>\n",
       "      <td>1</td>\n",
       "    </tr>\n",
       "    <tr>\n",
       "      <th>56</th>\n",
       "      <td>меньший</td>\n",
       "      <td>1</td>\n",
       "    </tr>\n",
       "    <tr>\n",
       "      <th>104</th>\n",
       "      <td>скорый</td>\n",
       "      <td>1</td>\n",
       "    </tr>\n",
       "    <tr>\n",
       "      <th>123</th>\n",
       "      <td>александровна</td>\n",
       "      <td>1</td>\n",
       "    </tr>\n",
       "    <tr>\n",
       "      <th>128</th>\n",
       "      <td>услуга</td>\n",
       "      <td>1</td>\n",
       "    </tr>\n",
       "    <tr>\n",
       "      <th>129</th>\n",
       "      <td>онлайн</td>\n",
       "      <td>1</td>\n",
       "    </tr>\n",
       "    <tr>\n",
       "      <th>131</th>\n",
       "      <td>главный</td>\n",
       "      <td>1</td>\n",
       "    </tr>\n",
       "    <tr>\n",
       "      <th>145</th>\n",
       "      <td>необходимый</td>\n",
       "      <td>1</td>\n",
       "    </tr>\n",
       "    <tr>\n",
       "      <th>163</th>\n",
       "      <td>обслуживание</td>\n",
       "      <td>1</td>\n",
       "    </tr>\n",
       "    <tr>\n",
       "      <th>168</th>\n",
       "      <td>уважение</td>\n",
       "      <td>1</td>\n",
       "    </tr>\n",
       "    <tr>\n",
       "      <th>169</th>\n",
       "      <td>здравствовать</td>\n",
       "      <td>1</td>\n",
       "    </tr>\n",
       "    <tr>\n",
       "      <th>172</th>\n",
       "      <td>дебетовый</td>\n",
       "      <td>1</td>\n",
       "    </tr>\n",
       "    <tr>\n",
       "      <th>175</th>\n",
       "      <td>интернет</td>\n",
       "      <td>1</td>\n",
       "    </tr>\n",
       "    <tr>\n",
       "      <th>198</th>\n",
       "      <td>открывать</td>\n",
       "      <td>1</td>\n",
       "    </tr>\n",
       "    <tr>\n",
       "      <th>199</th>\n",
       "      <td>расчетный</td>\n",
       "      <td>1</td>\n",
       "    </tr>\n",
       "    <tr>\n",
       "      <th>207</th>\n",
       "      <td>условие</td>\n",
       "      <td>1</td>\n",
       "    </tr>\n",
       "    <tr>\n",
       "      <th>211</th>\n",
       "      <td>проведение</td>\n",
       "      <td>1</td>\n",
       "    </tr>\n",
       "    <tr>\n",
       "      <th>217</th>\n",
       "      <td>изменять</td>\n",
       "      <td>1</td>\n",
       "    </tr>\n",
       "    <tr>\n",
       "      <th>218</th>\n",
       "      <td>процентный</td>\n",
       "      <td>1</td>\n",
       "    </tr>\n",
       "  </tbody>\n",
       "</table>\n",
       "</div>"
      ],
      "text/plain": [
       "              word label\n",
       "19             год     1\n",
       "55             имя     1\n",
       "56         меньший     1\n",
       "104         скорый     1\n",
       "123  александровна     1\n",
       "128         услуга     1\n",
       "129         онлайн     1\n",
       "131        главный     1\n",
       "145    необходимый     1\n",
       "163   обслуживание     1\n",
       "168       уважение     1\n",
       "169  здравствовать     1\n",
       "172      дебетовый     1\n",
       "175       интернет     1\n",
       "198      открывать     1\n",
       "199      расчетный     1\n",
       "207        условие     1\n",
       "211     проведение     1\n",
       "217       изменять     1\n",
       "218     процентный     1"
      ]
     },
     "execution_count": 246,
     "metadata": {},
     "output_type": "execute_result"
    }
   ],
   "source": [
    "# Посмотрим на позитивные метки\n",
    "data[data.label=='1'].head(20)"
   ]
  },
  {
   "cell_type": "markdown",
   "metadata": {},
   "source": [
    "#### Ну в целом где-то похоже-что-то про уважние, обслуживание"
   ]
  },
  {
   "cell_type": "code",
   "execution_count": null,
   "metadata": {},
   "outputs": [],
   "source": []
  },
  {
   "cell_type": "code",
   "execution_count": 247,
   "metadata": {},
   "outputs": [
    {
     "data": {
      "text/html": [
       "<div>\n",
       "<style scoped>\n",
       "    .dataframe tbody tr th:only-of-type {\n",
       "        vertical-align: middle;\n",
       "    }\n",
       "\n",
       "    .dataframe tbody tr th {\n",
       "        vertical-align: top;\n",
       "    }\n",
       "\n",
       "    .dataframe thead th {\n",
       "        text-align: right;\n",
       "    }\n",
       "</style>\n",
       "<table border=\"1\" class=\"dataframe\">\n",
       "  <thead>\n",
       "    <tr style=\"text-align: right;\">\n",
       "      <th></th>\n",
       "      <th>word</th>\n",
       "      <th>label</th>\n",
       "    </tr>\n",
       "  </thead>\n",
       "  <tbody>\n",
       "    <tr>\n",
       "      <th>0</th>\n",
       "      <td>добрый</td>\n",
       "      <td>0</td>\n",
       "    </tr>\n",
       "    <tr>\n",
       "      <th>1</th>\n",
       "      <td>день</td>\n",
       "      <td>0</td>\n",
       "    </tr>\n",
       "    <tr>\n",
       "      <th>2</th>\n",
       "      <td>являться</td>\n",
       "      <td>0</td>\n",
       "    </tr>\n",
       "    <tr>\n",
       "      <th>3</th>\n",
       "      <td>клиент</td>\n",
       "      <td>0</td>\n",
       "    </tr>\n",
       "    <tr>\n",
       "      <th>4</th>\n",
       "      <td>банк</td>\n",
       "      <td>0</td>\n",
       "    </tr>\n",
       "    <tr>\n",
       "      <th>5</th>\n",
       "      <td>поручитель</td>\n",
       "      <td>0</td>\n",
       "    </tr>\n",
       "    <tr>\n",
       "      <th>6</th>\n",
       "      <td>кредитный</td>\n",
       "      <td>0</td>\n",
       "    </tr>\n",
       "    <tr>\n",
       "      <th>7</th>\n",
       "      <td>договор</td>\n",
       "      <td>0</td>\n",
       "    </tr>\n",
       "    <tr>\n",
       "      <th>8</th>\n",
       "      <td>либо</td>\n",
       "      <td>0</td>\n",
       "    </tr>\n",
       "    <tr>\n",
       "      <th>9</th>\n",
       "      <td>лицо</td>\n",
       "      <td>0</td>\n",
       "    </tr>\n",
       "    <tr>\n",
       "      <th>10</th>\n",
       "      <td>письменно</td>\n",
       "      <td>0</td>\n",
       "    </tr>\n",
       "    <tr>\n",
       "      <th>11</th>\n",
       "      <td>оформлять</td>\n",
       "      <td>0</td>\n",
       "    </tr>\n",
       "    <tr>\n",
       "      <th>12</th>\n",
       "      <td>отношение</td>\n",
       "      <td>0</td>\n",
       "    </tr>\n",
       "    <tr>\n",
       "      <th>13</th>\n",
       "      <td>повод</td>\n",
       "      <td>0</td>\n",
       "    </tr>\n",
       "    <tr>\n",
       "      <th>14</th>\n",
       "      <td>урегулирование</td>\n",
       "      <td>0</td>\n",
       "    </tr>\n",
       "    <tr>\n",
       "      <th>15</th>\n",
       "      <td>чей</td>\n",
       "      <td>0</td>\n",
       "    </tr>\n",
       "    <tr>\n",
       "      <th>16</th>\n",
       "      <td>задолженность</td>\n",
       "      <td>0</td>\n",
       "    </tr>\n",
       "    <tr>\n",
       "      <th>17</th>\n",
       "      <td>начинать</td>\n",
       "      <td>0</td>\n",
       "    </tr>\n",
       "    <tr>\n",
       "      <th>18</th>\n",
       "      <td>март</td>\n",
       "      <td>0</td>\n",
       "    </tr>\n",
       "    <tr>\n",
       "      <th>20</th>\n",
       "      <td>приходить</td>\n",
       "      <td>0</td>\n",
       "    </tr>\n",
       "  </tbody>\n",
       "</table>\n",
       "</div>"
      ],
      "text/plain": [
       "              word label\n",
       "0           добрый     0\n",
       "1             день     0\n",
       "2         являться     0\n",
       "3           клиент     0\n",
       "4             банк     0\n",
       "5       поручитель     0\n",
       "6        кредитный     0\n",
       "7          договор     0\n",
       "8             либо     0\n",
       "9             лицо     0\n",
       "10       письменно     0\n",
       "11       оформлять     0\n",
       "12       отношение     0\n",
       "13           повод     0\n",
       "14  урегулирование     0\n",
       "15             чей     0\n",
       "16   задолженность     0\n",
       "17        начинать     0\n",
       "18            март     0\n",
       "20       приходить     0"
      ]
     },
     "execution_count": 247,
     "metadata": {},
     "output_type": "execute_result"
    }
   ],
   "source": [
    "# Посмотрим на негативные метки\n",
    "data[data.label=='0'].head(20)"
   ]
  },
  {
   "cell_type": "markdown",
   "metadata": {},
   "source": [
    "#### Ну тоже где-то близко, хотя мусора много"
   ]
  },
  {
   "cell_type": "code",
   "execution_count": null,
   "metadata": {},
   "outputs": [],
   "source": []
  },
  {
   "cell_type": "code",
   "execution_count": null,
   "metadata": {},
   "outputs": [],
   "source": []
  },
  {
   "cell_type": "code",
   "execution_count": null,
   "metadata": {},
   "outputs": [],
   "source": []
  },
  {
   "cell_type": "code",
   "execution_count": null,
   "metadata": {},
   "outputs": [],
   "source": []
  },
  {
   "cell_type": "code",
   "execution_count": null,
   "metadata": {},
   "outputs": [],
   "source": []
  },
  {
   "cell_type": "code",
   "execution_count": null,
   "metadata": {},
   "outputs": [],
   "source": []
  },
  {
   "cell_type": "code",
   "execution_count": null,
   "metadata": {},
   "outputs": [],
   "source": []
  },
  {
   "cell_type": "code",
   "execution_count": null,
   "metadata": {},
   "outputs": [],
   "source": []
  },
  {
   "cell_type": "code",
   "execution_count": null,
   "metadata": {},
   "outputs": [],
   "source": []
  },
  {
   "cell_type": "code",
   "execution_count": null,
   "metadata": {},
   "outputs": [],
   "source": []
  },
  {
   "cell_type": "code",
   "execution_count": null,
   "metadata": {},
   "outputs": [],
   "source": []
  },
  {
   "cell_type": "code",
   "execution_count": null,
   "metadata": {},
   "outputs": [],
   "source": []
  },
  {
   "cell_type": "code",
   "execution_count": null,
   "metadata": {},
   "outputs": [],
   "source": []
  },
  {
   "cell_type": "code",
   "execution_count": null,
   "metadata": {},
   "outputs": [],
   "source": []
  },
  {
   "cell_type": "code",
   "execution_count": null,
   "metadata": {},
   "outputs": [],
   "source": []
  },
  {
   "cell_type": "code",
   "execution_count": null,
   "metadata": {},
   "outputs": [],
   "source": []
  },
  {
   "cell_type": "code",
   "execution_count": null,
   "metadata": {},
   "outputs": [],
   "source": []
  },
  {
   "cell_type": "code",
   "execution_count": null,
   "metadata": {},
   "outputs": [],
   "source": []
  },
  {
   "cell_type": "code",
   "execution_count": null,
   "metadata": {},
   "outputs": [],
   "source": []
  },
  {
   "cell_type": "code",
   "execution_count": null,
   "metadata": {},
   "outputs": [],
   "source": []
  },
  {
   "cell_type": "code",
   "execution_count": null,
   "metadata": {},
   "outputs": [],
   "source": []
  },
  {
   "cell_type": "code",
   "execution_count": null,
   "metadata": {},
   "outputs": [],
   "source": []
  },
  {
   "cell_type": "code",
   "execution_count": null,
   "metadata": {},
   "outputs": [],
   "source": []
  },
  {
   "cell_type": "code",
   "execution_count": null,
   "metadata": {},
   "outputs": [],
   "source": []
  },
  {
   "cell_type": "code",
   "execution_count": null,
   "metadata": {},
   "outputs": [],
   "source": []
  },
  {
   "cell_type": "code",
   "execution_count": null,
   "metadata": {},
   "outputs": [],
   "source": []
  },
  {
   "cell_type": "code",
   "execution_count": null,
   "metadata": {},
   "outputs": [],
   "source": []
  },
  {
   "cell_type": "code",
   "execution_count": null,
   "metadata": {},
   "outputs": [],
   "source": []
  },
  {
   "cell_type": "code",
   "execution_count": null,
   "metadata": {},
   "outputs": [],
   "source": []
  },
  {
   "cell_type": "code",
   "execution_count": null,
   "metadata": {},
   "outputs": [],
   "source": []
  },
  {
   "cell_type": "code",
   "execution_count": null,
   "metadata": {},
   "outputs": [],
   "source": []
  },
  {
   "cell_type": "code",
   "execution_count": null,
   "metadata": {},
   "outputs": [],
   "source": []
  },
  {
   "cell_type": "code",
   "execution_count": null,
   "metadata": {},
   "outputs": [],
   "source": []
  },
  {
   "cell_type": "code",
   "execution_count": null,
   "metadata": {},
   "outputs": [],
   "source": []
  },
  {
   "cell_type": "code",
   "execution_count": null,
   "metadata": {},
   "outputs": [],
   "source": []
  },
  {
   "cell_type": "code",
   "execution_count": null,
   "metadata": {},
   "outputs": [],
   "source": []
  },
  {
   "cell_type": "code",
   "execution_count": null,
   "metadata": {},
   "outputs": [],
   "source": []
  },
  {
   "cell_type": "code",
   "execution_count": null,
   "metadata": {},
   "outputs": [],
   "source": []
  },
  {
   "cell_type": "code",
   "execution_count": null,
   "metadata": {},
   "outputs": [],
   "source": []
  },
  {
   "cell_type": "code",
   "execution_count": null,
   "metadata": {},
   "outputs": [],
   "source": []
  },
  {
   "cell_type": "code",
   "execution_count": null,
   "metadata": {},
   "outputs": [],
   "source": []
  },
  {
   "cell_type": "code",
   "execution_count": null,
   "metadata": {},
   "outputs": [],
   "source": []
  },
  {
   "cell_type": "code",
   "execution_count": null,
   "metadata": {},
   "outputs": [],
   "source": []
  },
  {
   "cell_type": "code",
   "execution_count": null,
   "metadata": {},
   "outputs": [],
   "source": []
  },
  {
   "cell_type": "code",
   "execution_count": null,
   "metadata": {},
   "outputs": [],
   "source": []
  },
  {
   "cell_type": "code",
   "execution_count": null,
   "metadata": {},
   "outputs": [],
   "source": []
  },
  {
   "cell_type": "code",
   "execution_count": null,
   "metadata": {},
   "outputs": [],
   "source": []
  },
  {
   "cell_type": "code",
   "execution_count": null,
   "metadata": {},
   "outputs": [],
   "source": []
  },
  {
   "cell_type": "code",
   "execution_count": null,
   "metadata": {},
   "outputs": [],
   "source": []
  },
  {
   "cell_type": "code",
   "execution_count": null,
   "metadata": {},
   "outputs": [],
   "source": []
  },
  {
   "cell_type": "code",
   "execution_count": null,
   "metadata": {},
   "outputs": [],
   "source": []
  },
  {
   "cell_type": "code",
   "execution_count": null,
   "metadata": {},
   "outputs": [],
   "source": []
  },
  {
   "cell_type": "code",
   "execution_count": null,
   "metadata": {},
   "outputs": [],
   "source": []
  },
  {
   "cell_type": "code",
   "execution_count": null,
   "metadata": {},
   "outputs": [],
   "source": []
  },
  {
   "cell_type": "code",
   "execution_count": null,
   "metadata": {},
   "outputs": [],
   "source": []
  },
  {
   "cell_type": "code",
   "execution_count": null,
   "metadata": {},
   "outputs": [],
   "source": []
  },
  {
   "cell_type": "code",
   "execution_count": null,
   "metadata": {},
   "outputs": [],
   "source": []
  },
  {
   "cell_type": "code",
   "execution_count": null,
   "metadata": {},
   "outputs": [],
   "source": []
  },
  {
   "cell_type": "code",
   "execution_count": null,
   "metadata": {},
   "outputs": [],
   "source": []
  },
  {
   "cell_type": "code",
   "execution_count": null,
   "metadata": {},
   "outputs": [],
   "source": []
  },
  {
   "cell_type": "code",
   "execution_count": null,
   "metadata": {},
   "outputs": [],
   "source": []
  },
  {
   "cell_type": "code",
   "execution_count": null,
   "metadata": {},
   "outputs": [],
   "source": []
  }
 ],
 "metadata": {
  "kernelspec": {
   "display_name": "Python 3",
   "language": "python",
   "name": "python3"
  },
  "language_info": {
   "codemirror_mode": {
    "name": "ipython",
    "version": 3
   },
   "file_extension": ".py",
   "mimetype": "text/x-python",
   "name": "python",
   "nbconvert_exporter": "python",
   "pygments_lexer": "ipython3",
   "version": "3.6.7"
  }
 },
 "nbformat": 4,
 "nbformat_minor": 2
}
