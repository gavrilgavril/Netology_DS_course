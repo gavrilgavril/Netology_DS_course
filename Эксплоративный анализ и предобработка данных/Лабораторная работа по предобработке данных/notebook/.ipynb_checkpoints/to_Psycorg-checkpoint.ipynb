{
 "cells": [
  {
   "cell_type": "code",
   "execution_count": 33,
   "metadata": {},
   "outputs": [],
   "source": [
    "import os\n",
    "import logging\n",
    "\n",
    "import psycopg2\n",
    "import psycopg2.extensions\n",
    "from pymongo import MongoClient\n",
    "import pandas as pd\n",
    "from sqlalchemy import create_engine\n",
    "from sqlalchemy import Table, Column, Integer, Float, MetaData, String\n",
    "from sqlalchemy.orm import sessionmaker\n",
    "from sqlalchemy.ext.declarative import declarative_base\n",
    "\n",
    "\n",
    "\n",
    "logging.basicConfig(format='%(asctime)s : %(levelname)s : %(message)s', level=logging.INFO)\n",
    "logger = logging.getLogger(__name__)\n",
    "\n",
    "\n"
   ]
  },
  {
   "cell_type": "code",
   "execution_count": 34,
   "metadata": {},
   "outputs": [
    {
     "name": "stderr",
     "output_type": "stream",
     "text": [
      "2018-08-24 18:15:56,718 : INFO : Создаём подключёние к Postgres\n"
     ]
    }
   ],
   "source": [
    "\n",
    "logger.info(\"Создаём подключёние к Postgres\")\n",
    "params = {\n",
    "    \"host\": '0.0.0.0',\n",
    "    \"port\": '5433',\n",
    "    \"user\": 'postgres'\n",
    "}\n",
    "conn = psycopg2.connect(**params)\n",
    "\n",
    "# дополнительные настройки\n",
    "psycopg2.extensions.register_type(\n",
    "    psycopg2.extensions.UNICODE,\n",
    "    conn\n",
    ")\n",
    "conn.set_isolation_level(\n",
    "    psycopg2.extensions.ISOLATION_LEVEL_AUTOCOMMIT\n",
    ")\n",
    "cursor = conn.cursor()"
   ]
  },
  {
   "cell_type": "code",
   "execution_count": 35,
   "metadata": {},
   "outputs": [],
   "source": [
    "sql_str = (\"select userid,budget  into  users_budjet from users \")"
   ]
  },
  {
   "cell_type": "code",
   "execution_count": 36,
   "metadata": {
    "scrolled": true
   },
   "outputs": [],
   "source": [
    "cursor.execute(sql_str)\n",
    "conn.commit()"
   ]
  },
  {
   "cell_type": "code",
   "execution_count": 37,
   "metadata": {},
   "outputs": [
    {
     "name": "stderr",
     "output_type": "stream",
     "text": [
      "2018-08-24 18:16:06,604 : INFO : Выгружаем данные из таблицы users_budjet: (Userid,budjet\n",
      "[('U1024', None), ('U1122', None), ('U1083', None), ('U1130', None), ('U1079', 'medium'), ('U1107', 'high'), ('U1107', 'high'), ('U1092', 'medium'), ('U1004', 'medium'), ('U1004', 'medium')]\n"
     ]
    }
   ],
   "source": [
    "# Проверка - выгружаем данные\n",
    "cursor.execute(\"SELECT * FROM users_budjet LIMIT 10\")\n",
    "logger.info(\n",
    "    \"Выгружаем данные из таблицы users_budjet: (Userid,budget\\n{}\".format(\n",
    "        [i for i in cursor.fetchall()])\n",
    ")\n"
   ]
  }
 ],
 "metadata": {
  "kernelspec": {
   "display_name": "Python 3",
   "language": "python",
   "name": "python3"
  },
  "language_info": {
   "codemirror_mode": {
    "name": "ipython",
    "version": 3
   },
   "file_extension": ".py",
   "mimetype": "text/x-python",
   "name": "python",
   "nbconvert_exporter": "python",
   "pygments_lexer": "ipython3",
   "version": "3.7.0"
  }
 },
 "nbformat": 4,
 "nbformat_minor": 2
}
