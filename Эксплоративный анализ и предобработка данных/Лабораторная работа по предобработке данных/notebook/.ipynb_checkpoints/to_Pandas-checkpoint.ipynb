{
 "cells": [
  {
   "cell_type": "code",
   "execution_count": 27,
   "metadata": {},
   "outputs": [],
   "source": [
    "import datetime\n",
    "import logging\n",
    "import os\n",
    "from subprocess import call\n",
    "\n",
    "import numpy as np\n",
    "import pandas as pd\n",
    "from sqlalchemy import create_engine\n",
    "\n",
    "\n",
    "logging.basicConfig(format='%(asctime)s : %(levelname)s : %(message)s', level=logging.INFO)\n",
    "logger = logging.getLogger(__name__)"
   ]
  },
  {
   "cell_type": "code",
   "execution_count": 48,
   "metadata": {},
   "outputs": [],
   "source": [
    "# создаём движок для работы с данными\n",
    "engine = create_engine('postgresql://postgres:@{}:{}'.format('0.0.0.0','5433'))"
   ]
  },
  {
   "cell_type": "code",
   "execution_count": 262,
   "metadata": {},
   "outputs": [],
   "source": [
    "# загрузка данных из Postgres\n",
    "users = pd.read_sql('SELECT * FROM users', engine)\n",
    "Jap_Chi = pd.read_sql('SELECT * FROM Jap_Chi', engine)\n",
    "rating_final = pd.read_sql('SELECT * FROM rating_final', engine)\n",
    "geoplaces2 =  pd.read_sql('SELECT * FROM geoplaces2', engine)\n",
    "PLACE_SMOKE =  pd.read_sql('SELECT * FROM PLACE_SMOKE', engine)"
   ]
  },
  {
   "cell_type": "code",
   "execution_count": 103,
   "metadata": {
    "scrolled": true
   },
   "outputs": [
    {
     "name": "stdout",
     "output_type": "stream",
     "text": [
      "{'U1013'}\n"
     ]
    }
   ],
   "source": [
    "#------4)   Определим входят ли хотя бы одна из кухонь в их предпочтения\n",
    "\n",
    "# select distinct userid from users where rcuisine='Chinese' or rcuisine='Japanese'\n",
    "# intersect\n",
    "# select userid from Jap_Chi;\n",
    "\n",
    "\n",
    "xy = set(users[(users.rcuisine == 'Chinese') | (users.rcuisine == 'Japanese')].userid)\n",
    "z = set(Jap_Chi.userid)\n",
    "t = xy.intersection(z)\n",
    "print(t)\n",
    "\n",
    "\n",
    "# idx1.intersection(idx2)\n"
   ]
  },
  {
   "cell_type": "code",
   "execution_count": 114,
   "metadata": {},
   "outputs": [
    {
     "name": "stdout",
     "output_type": "stream",
     "text": [
      "placeid\n",
      "132955    2.000000\n",
      "135034    2.000000\n",
      "134986    2.000000\n",
      "132922    1.833333\n",
      "132755    1.800000\n",
      "135013    1.750000\n",
      "134976    1.750000\n",
      "135074    1.750000\n",
      "135055    1.714286\n",
      "135075    1.692308\n",
      "Name: rating, dtype: float64\n"
     ]
    }
   ],
   "source": [
    "\n",
    "#------1) Выведем ТОП-10 ресторанов с лушчши средним рейтингом рейтингом\n",
    "\n",
    "#select * from   (select rating_final.placeid, avg(rating) from rating_final group by  rating_final.placeid)t   order by avg desc limit 10;\n",
    "\n",
    "z = rating_final.groupby(by=['placeid'])['rating'].mean().sort_values(ascending=False).head(10)\n",
    "print(z)\n",
    "\n"
   ]
  },
  {
   "cell_type": "code",
   "execution_count": 199,
   "metadata": {},
   "outputs": [
    {
     "name": "stdout",
     "output_type": "stream",
     "text": [
      "                 userid\n",
      "city                   \n",
      "Cd Victoria          22\n",
      "Cuernavaca           23\n",
      "Jiutepec              8\n",
      "San Luis Potosi      90\n",
      "Soledad              12\n",
      "cuernavaca           10\n"
     ]
    }
   ],
   "source": [
    "#------2) Выведем количество клиентов ресторанов в каждом городе\n",
    "#with cte2 as (select distinct userid, city  from rating_final  r inner join geoplaces2  g on r.placeid=g.placeid where city is not null)\n",
    "#select distinct city, count(userid) over (PARTITION BY  city) as num from cte2 limit 10;\n",
    "\n",
    "t= rating_final.merge(geoplaces2, how='inner',left_on='placeid',right_on='placeid')[['city','userid']].dropna().drop_duplicates()\n",
    "\n",
    "g = t.groupby(by=['city'])[['userid']].count()\n",
    "\n",
    "print(g)\n",
    "#t.to_csv('bbbb.csv',index=False, sep=';')"
   ]
  },
  {
   "cell_type": "code",
   "execution_count": 318,
   "metadata": {},
   "outputs": [
    {
     "name": "stdout",
     "output_type": "stream",
     "text": [
      "price\n",
      "high      1.256410\n",
      "low       1.074286\n",
      "medium    1.253033\n",
      "Name: rating, dtype: float64\n"
     ]
    }
   ],
   "source": [
    "#------5)   Определим средний рейтинг ресторанов  каждой ценовой категории\n",
    "#select distinct g.price,  avg(r.rating) over (partition by g.price) from rating_final r inner join geoplaces2 g on  r.placeid=g.placeid limit 10;\n",
    "\n",
    "x = rating_final.merge(geoplaces2, how='inner',left_on='placeid',right_on='placeid')[['rating','price']]\n",
    "\n",
    "h=  x.groupby(by =['price'])['rating'].mean().drop_duplicates()\n",
    "print (h)"
   ]
  },
  {
   "cell_type": "code",
   "execution_count": 335,
   "metadata": {},
   "outputs": [
    {
     "name": "stdout",
     "output_type": "stream",
     "text": [
      "15     132870\n",
      "23     132851\n",
      "44     132869\n",
      "124    132583\n",
      "125    132866\n",
      "Name: placeid, dtype: int64\n"
     ]
    }
   ],
   "source": [
    "#------8) Определим некурящие рестораны, где больинство посетителей - курильщики\n",
    "\n",
    "\n",
    "#select g.placeid  from geoplaces2 g inner join PLACE_SMOKE p on p.placeid=g.placeid where smoking_area='not permitted' and PERCENT>50\n",
    "\n",
    "x = geoplaces2.merge(PLACE_SMOKE, how='inner',left_on='placeid',right_on='placeid') [['placeid','smoking_area','percent']]\n",
    "y =  x[(x.smoking_area=='not permitted') & (x.percent>50) ].placeid \n",
    "\n",
    "print(y)\n",
    "\n",
    "\n"
   ]
  }
 ],
 "metadata": {
  "kernelspec": {
   "display_name": "Python 3",
   "language": "python",
   "name": "python3"
  },
  "language_info": {
   "codemirror_mode": {
    "name": "ipython",
    "version": 3
   },
   "file_extension": ".py",
   "mimetype": "text/x-python",
   "name": "python",
   "nbconvert_exporter": "python",
   "pygments_lexer": "ipython3",
   "version": "3.7.0"
  }
 },
 "nbformat": 4,
 "nbformat_minor": 2
}
