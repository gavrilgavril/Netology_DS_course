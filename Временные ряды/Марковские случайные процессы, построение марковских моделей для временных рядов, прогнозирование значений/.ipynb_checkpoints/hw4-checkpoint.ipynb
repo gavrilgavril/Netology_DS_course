{
 "cells": [
  {
   "cell_type": "markdown",
   "metadata": {},
   "source": [
    "#### — Скачайте текст войны и мир (ссылка на github и гугл диск). Очистите его, оставив только русские буквы и символы пробела. Постройте матрицу переходных вероятностей. Посчитайте вероятность встретить строку из 4-х символов, которая начинается п, а кончается на р; Используя матрицу переходных вероятностей сгенерируйте слово, начинающееся с буквы “Б” и имеющее длину 8-мь символов\n",
    "#### — Выберите ряд и оцените его через HMM. Попробуйте “построить” (через среднее каждой компоненты) наивный прогноз ряда"
   ]
  },
  {
   "cell_type": "markdown",
   "metadata": {},
   "source": [
    "#### Скачайте текст войны и мир (ссылка на github и гугл диск). "
   ]
  },
  {
   "cell_type": "code",
   "execution_count": 2,
   "metadata": {},
   "outputs": [],
   "source": [
    "import os\n",
    "import numpy as np\n",
    "import re\n",
    "import matplotlib.pyplot as plt\n",
    "import seaborn as sns\n",
    "import pandas as pd\n",
    "%matplotlib inline\n",
    "sns.set()"
   ]
  },
  {
   "cell_type": "code",
   "execution_count": 19,
   "metadata": {},
   "outputs": [],
   "source": [
    "\n",
    "just_text=''\n",
    "for filename in os.listdir(os.getcwd()):\n",
    "    #print(filename)\n",
    "    if '.txt' in filename:\n",
    "        with open(filename, 'r') as f:\n",
    "           #print(f.read().lower()[:509])\n",
    "            just_text+=f.read().lower()\n",
    "        #just_text=\n",
    "        #print(filename)"
   ]
  },
  {
   "cell_type": "markdown",
   "metadata": {},
   "source": [
    " #### Очистите его, оставив только русские буквы и символы пробела."
   ]
  },
  {
   "cell_type": "code",
   "execution_count": 27,
   "metadata": {},
   "outputs": [],
   "source": [
    "import re\n",
    "regex = re.compile(\"[А-Яа-я]+\")\n",
    "\n",
    "def words_only(text, regex=regex):\n",
    "    try:\n",
    "        return \" \".join(regex.findall(text))\n",
    "    except:\n",
    "        return \"\""
   ]
  },
  {
   "cell_type": "code",
   "execution_count": 32,
   "metadata": {},
   "outputs": [],
   "source": [
    "text=words_only(just_text)"
   ]
  },
  {
   "cell_type": "code",
   "execution_count": 26,
   "metadata": {
    "scrolled": true
   },
   "outputs": [
    {
     "data": {
      "text/plain": [
       "'лев толстойвойна и миртом   том часть перваяхчасть втораячасть третьячасть четвертаячасть пятаяпримечание издателяпечатные варианты  том лев николаевич толстойвойна и миртом часть перваяв начале  года николай ростов вернулся в отпуск денисов ехал тоже домой в воронеж и ростов уговорил его ехать с собой до москвы и остановиться у них в доме на предпоследней станции встретив товарища денисов выпил с ним три бутылки вина и подъезжая к москве несмотря на ухабы дороги не просыпался лежа на дне перекладных саней подле ростова который по мере приближения к москве приходил все более и более в нетерпениескоро ли скоро ли о эти несносные улицы лавки калачи фонари извозчики думал ростов когда уже они записали свои отпуски на заставе и въехали в москву денисов приехали спит  говорил он всем телом подаваясь вперед как будто он этим положением надеялся ускорить движение саней денисов не откликался вот он уголперекресток где захар извозчик стоит вот он и захар и вс та же лошадь вот и лавочка где пряники покупали скоро ли ну к какому домуто  спросил ямщик да вон на конце к большому как ты не видишь это наш дом  говорил ростов  ведь это наш дом денисов денисов сейчас приедемденисов поднял голову откашлялся и ничего не ответил дмитрий  обратился ростов к лакею на облучке  ведь это у нас огонь так точнос и у папеньки в кабинете светится еще не ложились а как ты думаешь смотри же не забудь тотчас достань мне новую венгерку  прибавил ростов ощупывая новые усы  ну же пошел  кричал он ямщику  да проснись же вася  обращался он к денисову который опять опустил голову  да ну же пошел три целковых на водку пошел  закричал ростов когда уже сани были за три дома от подъезда ему казалось что лошади не двигаются наконец сани взяли вправо к подъезду над головой своей ростов увидал знакомый карниз с отбитой штукатуркой крыльцо тротуарный столб он на ходу выскочил из саней и побежал в сени дом также стоял неподвижно нерадушно как будто ему дела не было до того кто приехал в него в сенях никого не бы'"
      ]
     },
     "execution_count": 26,
     "metadata": {},
     "output_type": "execute_result"
    }
   ],
   "source": [
    "text[:2000]"
   ]
  },
  {
   "cell_type": "markdown",
   "metadata": {},
   "source": [
    "#### Лемматизируем это дело"
   ]
  },
  {
   "cell_type": "code",
   "execution_count": 36,
   "metadata": {},
   "outputs": [
    {
     "name": "stderr",
     "output_type": "stream",
     "text": [
      "Installing mystem to /home/gavril/.local/bin/mystem from http://download.cdn.yandex.net/mystem/mystem-3.1-linux-64bit.tar.gz\n"
     ]
    }
   ],
   "source": [
    "from pymorphy2 import MorphAnalyzer\n",
    "from pymystem3 import Mystem\n",
    "m = Mystem()\n",
    "def lemmatize(text, mystem=m):\n",
    "    try:\n",
    "        return \"\".join(m.lemmatize(text)).strip()  \n",
    "    except:\n",
    "        return \" \""
   ]
  },
  {
   "cell_type": "code",
   "execution_count": 37,
   "metadata": {},
   "outputs": [],
   "source": [
    "text_lemma=lemmatize(text)"
   ]
  },
  {
   "cell_type": "code",
   "execution_count": 38,
   "metadata": {},
   "outputs": [
    {
     "data": {
      "text/plain": [
       "'лев толстой война и мир тот то часть первый х часть второй часть третий часть четвертый часть пятый примечание издателяпечатный вариант то лев николаевич толстой война и мир то часть первый в начало год николай рост вернуться в отпуск денисов ехать тоже домой в воронеж и рост уговаривать он ехать с себя до москва и останавливаться у они в дом на предпоследний станция встречать товарищ денисов выпивать с он три бутылка вино и подъезжать к москва несмотря на ухаб дорога не просыпаться лежать на дно перекладной сани подле ростов который по мера приближение к москва приходить весь много и более в нетерпение скоро ли скоро ли о этот несносный улица лавка калач фонарь извозчик думать ростов когда уже они записывать свой отпуски на застава и въезжать в москва денисов приезжать спать говорить он все тело подаваться вперед как будто он этот положение надеяться ускорять движение сани денисов не откликаться вот он угол перекресток где захар извозчик стоять вот он и захар и вс тот же лошадь вот и лавочка где пряник покупать скоро ли ну к какой дом то спрашивать ямщик да вон на конец к большой как ты не видеть это наш дом говорить ростов ведь это наш дом денисов денисов сейчас приезжать денисов подымать голова откашливаться и ничто не отвечать дмитрий обращаться ростов к лакей на облучок ведь это у мы огонь так точно с и у папенька в кабинет светиться еще не ложиться а как ты думать смотреть же не забывать тотчас доставать я новый венгерка прибавлять ростов ощупывать новый усы ну же пойти кричать он ямщик да просыпаться же вася обращаться он к денисов который опять опускать голова да ну же пойти три целковый на водка пойти закричать ростов когда уже сани быть за три дом от подъезд он казаться что лошадь не двигаться наконец сани взять вправо к подъезд над голова свой ростов увидать знакомый карниз с отбивать штукатурка крыльцо тротуарный столб он на ход выскочить из сани и побежать в сени дом также стоять неподвижно нерадушно как будто он дело не быть до то кто приезжать в он в '"
      ]
     },
     "execution_count": 38,
     "metadata": {},
     "output_type": "execute_result"
    }
   ],
   "source": [
    "text_lemma[:2000]"
   ]
  },
  {
   "cell_type": "markdown",
   "metadata": {},
   "source": [
    "#### Постройте матрицу переходных вероятностей"
   ]
  },
  {
   "cell_type": "code",
   "execution_count": 40,
   "metadata": {
    "scrolled": false
   },
   "outputs": [
    {
     "data": {
      "image/png": "[encoded data removed]",
      "text/plain": [
       "<Figure size 1152x720 with 2 Axes>"
      ]
     },
     "metadata": {
      "needs_background": "light"
     },
     "output_type": "display_data"
    }
   ],
   "source": [
    "RUSSIAN = 'абвгдежзийклмнопрстуфхцчшщъыьэюя'\n",
    "\n",
    "POS = {l: i for i, l in enumerate(RUSSIAN)}\n",
    "\n",
    "probabilities = np.ones((len(RUSSIAN), len(RUSSIAN)))\n",
    "\n",
    "for cp, cn in zip(text[:-1], text[1:]):\n",
    "    if (cp!=' ') and (cn!=' '):\n",
    "        probabilities[POS[cp], POS[cn]] += 1\n",
    "\n",
    "probabilities = (probabilities / probabilities.sum(axis=1)[:, None])\n",
    "    \n",
    "\n",
    "df = pd.DataFrame(probabilities, index=(c for c in RUSSIAN), columns=(c for c in RUSSIAN))\n",
    "\n",
    "plt.figure(figsize=(16,10))\n",
    "sns.heatmap(df, xticklabels=True, yticklabels=True)\n",
    "plt.tight_layout()\n",
    "plt.show()"
   ]
  },
  {
   "cell_type": "code",
   "execution_count": 36,
   "metadata": {},
   "outputs": [],
   "source": [
    "# На что-то похоже вроде, например, из \"э\" в \"т\" высока вероятность попасть"
   ]
  },
  {
   "cell_type": "code",
   "execution_count": null,
   "metadata": {},
   "outputs": [],
   "source": []
  },
  {
   "cell_type": "markdown",
   "metadata": {},
   "source": [
    "#### Посчитайте вероятность встретить строку из 4-х символов, которая начинается п, а кончается на р; "
   ]
  },
  {
   "cell_type": "code",
   "execution_count": 41,
   "metadata": {},
   "outputs": [],
   "source": [
    "start = POS['п']\n",
    "end = POS['р']\n",
    "prior = 1. / len(RUSSIAN)\n",
    "proba_sum = 0.\n",
    "for c1 in RUSSIAN:\n",
    "    for c2 in RUSSIAN:\n",
    "        proba = prior * probabilities[start, POS[c1]] * probabilities[POS[c1], POS[c2]] * probabilities[POS[c2], end]\n",
    "        proba_sum += proba\n",
    "        "
   ]
  },
  {
   "cell_type": "code",
   "execution_count": 42,
   "metadata": {},
   "outputs": [
    {
     "data": {
      "text/plain": [
       "0.0012447390831113526"
      ]
     },
     "execution_count": 42,
     "metadata": {},
     "output_type": "execute_result"
    }
   ],
   "source": [
    "\n",
    "proba_sum"
   ]
  },
  {
   "cell_type": "markdown",
   "metadata": {},
   "source": [
    "####  Используя матрицу переходных вероятностей сгенерируйте слово, начинающееся с буквы “Б” и имеющее длину 8-мь символов"
   ]
  },
  {
   "cell_type": "code",
   "execution_count": 44,
   "metadata": {},
   "outputs": [
    {
     "name": "stdout",
     "output_type": "stream",
     "text": [
      "боролкали\n"
     ]
    }
   ],
   "source": [
    "s = []\n",
    "start = 'б'\n",
    "s.append(start)\n",
    "length = 8\n",
    "for i in range(length):\n",
    "    index = POS[s[i]]\n",
    "    next_char = np.random.choice(list(RUSSIAN), p=probabilities[index])\n",
    "    s.append(next_char)\n",
    "\n",
    "print (''.join(s))"
   ]
  },
  {
   "cell_type": "markdown",
   "metadata": {},
   "source": [
    " ###  Выберите ряд и оцените его через HMM. Попробуйте “построить” (через среднее каждой компоненты) наивный прогноз ряда"
   ]
  },
  {
   "cell_type": "code",
   "execution_count": 12,
   "metadata": {},
   "outputs": [],
   "source": [
    "from hmmlearn.hmm import GaussianHMM\n",
    "import warnings\n",
    "warnings.filterwarnings('ignore')"
   ]
  },
  {
   "cell_type": "code",
   "execution_count": 27,
   "metadata": {},
   "outputs": [],
   "source": [
    "series = pd.read_csv('monthly-sales-of-company-x-jan-6.csv',sep=',').iloc[:,1]"
   ]
  },
  {
   "cell_type": "code",
   "execution_count": 29,
   "metadata": {},
   "outputs": [],
   "source": [
    "values = series.values.reshape(-1,1)"
   ]
  },
  {
   "cell_type": "code",
   "execution_count": 30,
   "metadata": {},
   "outputs": [],
   "source": [
    "X_train = values[:150]\n",
    "X_test = values[150:]"
   ]
  },
  {
   "cell_type": "code",
   "execution_count": 31,
   "metadata": {},
   "outputs": [
    {
     "name": "stdout",
     "output_type": "stream",
     "text": [
      "1 -516.1188153076023\n",
      "2 -487.4579358801952\n",
      "3 -465.47589432498637\n",
      "4 -454.54532730630314\n",
      "5 -447.6657088378956\n",
      "6 -436.42916202467717\n",
      "7 -433.19791112475184\n",
      "8 -426.6928979464542\n",
      "9 -422.0456996971685\n",
      "10 -415.2820492582638\n",
      "11 -409.58563729668157\n",
      "12 -403.16294833502826\n",
      "13 -400.29490512069316\n",
      "14 -387.5316471105701\n",
      "15 -381.3085027065057\n",
      "16 -369.0219460447428\n",
      "17 -374.7393428209995\n",
      "18 -364.8637305436991\n",
      "19 -370.9638616917479\n",
      "20 -359.0629584955789\n",
      "21 -340.12189132093073\n",
      "22 -332.0547893906632\n",
      "23 -330.8070431043212\n",
      "24 -322.2922847350086\n",
      "25 -317.0251005516407\n",
      "26 -312.80562119491157\n",
      "27 -300.769867103925\n",
      "28 -292.3298948863192\n",
      "29 -284.5062989656942\n"
     ]
    }
   ],
   "source": [
    "for n in range(1, 30):\n",
    "    model = GaussianHMM(n_components=n,\n",
    "                        covariance_type=\"diag\",\n",
    "                        n_iter=1000)\n",
    "    model.fit(X_train)\n",
    "    print (n, model.score(X_train))"
   ]
  },
  {
   "cell_type": "code",
   "execution_count": 59,
   "metadata": {},
   "outputs": [],
   "source": [
    "model = GaussianHMM(n_components=29,\n",
    "                        covariance_type=\"diag\",\n",
    "                        n_iter=1000)\n",
    "model.fit(X_train)\n",
    "labels = model.predict(values)\n",
    "means = np.zeros_like(values)\n",
    "for i in range(model.n_components):\n",
    "    means[labels == i] = model.means_[i]\n"
   ]
  },
  {
   "cell_type": "code",
   "execution_count": 62,
   "metadata": {},
   "outputs": [
    {
     "data": {
      "image/png": "[encoded data removed]",
      "text/plain": [
       "<Figure size 864x432 with 1 Axes>"
      ]
     },
     "metadata": {
      "needs_background": "light"
     },
     "output_type": "display_data"
    }
   ],
   "source": [
    "plt.figure(figsize=(12, 6))\n",
    "plt.plot(values,label='values')\n",
    "plt.plot(means, linewidth=4, alpha=0.45,linestyle='-.', color='red',label='means')\n",
    "plt.legend()\n",
    "plt.show()"
   ]
  },
  {
   "cell_type": "markdown",
   "metadata": {},
   "source": [
    "* Достатчно точно получилось"
   ]
  },
  {
   "cell_type": "code",
   "execution_count": null,
   "metadata": {},
   "outputs": [],
   "source": []
  }
 ],
 "metadata": {
  "kernelspec": {
   "display_name": "Python 3",
   "language": "python",
   "name": "python3"
  },
  "language_info": {
   "codemirror_mode": {
    "name": "ipython",
    "version": 3
   },
   "file_extension": ".py",
   "mimetype": "text/x-python",
   "name": "python",
   "nbconvert_exporter": "python",
   "pygments_lexer": "ipython3",
   "version": "3.6.8"
  }
 },
 "nbformat": 4,
 "nbformat_minor": 2
}
