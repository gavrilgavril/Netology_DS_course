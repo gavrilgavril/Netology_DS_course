{
 "cells": [
  {
   "cell_type": "code",
   "execution_count": 1,
   "metadata": {},
   "outputs": [],
   "source": [
    "import random\n",
    "import numpy as np\n",
    "import pandas as pd\n",
    "from scipy import stats\n",
    "from scipy.stats import kurtosis\n",
    "from scipy.stats import skew\n",
    "\n",
    "import seaborn\n",
    "import matplotlib.pyplot as plt\n",
    "%matplotlib inline  "
   ]
  },
  {
   "cell_type": "markdown",
   "metadata": {},
   "source": [
    "\n",
    "#### 1. Загрузить файл auto.csv"
   ]
  },
  {
   "cell_type": "code",
   "execution_count": 5,
   "metadata": {},
   "outputs": [],
   "source": [
    "auto=pd.read_csv('auto.csv')"
   ]
  },
  {
   "cell_type": "code",
   "execution_count": 7,
   "metadata": {},
   "outputs": [
    {
     "data": {
      "text/html": [
       "<div>\n",
       "<style scoped>\n",
       "    .dataframe tbody tr th:only-of-type {\n",
       "        vertical-align: middle;\n",
       "    }\n",
       "\n",
       "    .dataframe tbody tr th {\n",
       "        vertical-align: top;\n",
       "    }\n",
       "\n",
       "    .dataframe thead th {\n",
       "        text-align: right;\n",
       "    }\n",
       "</style>\n",
       "<table border=\"1\" class=\"dataframe\">\n",
       "  <thead>\n",
       "    <tr style=\"text-align: right;\">\n",
       "      <th></th>\n",
       "      <th>symboling</th>\n",
       "      <th>normalized-losses</th>\n",
       "      <th>make</th>\n",
       "      <th>fuel-type</th>\n",
       "      <th>aspiration</th>\n",
       "      <th>num-of-doors</th>\n",
       "      <th>body-style</th>\n",
       "      <th>drive-wheels</th>\n",
       "      <th>engine-location</th>\n",
       "      <th>wheel-base</th>\n",
       "      <th>...</th>\n",
       "      <th>engine-size</th>\n",
       "      <th>fuel-system</th>\n",
       "      <th>bore</th>\n",
       "      <th>stroke</th>\n",
       "      <th>compression-ratio</th>\n",
       "      <th>horsepower</th>\n",
       "      <th>peak-rpm</th>\n",
       "      <th>city-mpg</th>\n",
       "      <th>highway-mpg</th>\n",
       "      <th>price</th>\n",
       "    </tr>\n",
       "  </thead>\n",
       "  <tbody>\n",
       "    <tr>\n",
       "      <th>0</th>\n",
       "      <td>3</td>\n",
       "      <td>164</td>\n",
       "      <td>alfa-romero</td>\n",
       "      <td>gas</td>\n",
       "      <td>std</td>\n",
       "      <td>two</td>\n",
       "      <td>convertible</td>\n",
       "      <td>rwd</td>\n",
       "      <td>front</td>\n",
       "      <td>88.6</td>\n",
       "      <td>...</td>\n",
       "      <td>130</td>\n",
       "      <td>mpfi</td>\n",
       "      <td>3.47</td>\n",
       "      <td>2.68</td>\n",
       "      <td>9.0</td>\n",
       "      <td>111</td>\n",
       "      <td>5000</td>\n",
       "      <td>21</td>\n",
       "      <td>27</td>\n",
       "      <td>13495</td>\n",
       "    </tr>\n",
       "    <tr>\n",
       "      <th>1</th>\n",
       "      <td>3</td>\n",
       "      <td>164</td>\n",
       "      <td>alfa-romero</td>\n",
       "      <td>gas</td>\n",
       "      <td>std</td>\n",
       "      <td>two</td>\n",
       "      <td>convertible</td>\n",
       "      <td>rwd</td>\n",
       "      <td>front</td>\n",
       "      <td>88.6</td>\n",
       "      <td>...</td>\n",
       "      <td>130</td>\n",
       "      <td>mpfi</td>\n",
       "      <td>3.47</td>\n",
       "      <td>2.68</td>\n",
       "      <td>9.0</td>\n",
       "      <td>111</td>\n",
       "      <td>5000</td>\n",
       "      <td>21</td>\n",
       "      <td>27</td>\n",
       "      <td>16500</td>\n",
       "    </tr>\n",
       "  </tbody>\n",
       "</table>\n",
       "<p>2 rows × 26 columns</p>\n",
       "</div>"
      ],
      "text/plain": [
       "   symboling  normalized-losses         make fuel-type aspiration  \\\n",
       "0          3                164  alfa-romero       gas        std   \n",
       "1          3                164  alfa-romero       gas        std   \n",
       "\n",
       "  num-of-doors   body-style drive-wheels engine-location  wheel-base  ...  \\\n",
       "0          two  convertible          rwd           front        88.6  ...   \n",
       "1          two  convertible          rwd           front        88.6  ...   \n",
       "\n",
       "   engine-size  fuel-system  bore  stroke compression-ratio horsepower  \\\n",
       "0          130         mpfi  3.47    2.68               9.0        111   \n",
       "1          130         mpfi  3.47    2.68               9.0        111   \n",
       "\n",
       "   peak-rpm city-mpg  highway-mpg  price  \n",
       "0      5000       21           27  13495  \n",
       "1      5000       21           27  16500  \n",
       "\n",
       "[2 rows x 26 columns]"
      ]
     },
     "execution_count": 7,
     "metadata": {},
     "output_type": "execute_result"
    }
   ],
   "source": [
    "auto.head(2)"
   ]
  },
  {
   "cell_type": "markdown",
   "metadata": {},
   "source": [
    "#### 2. Рассчитать основные статистики для переменных (среднее, медиана, мода, мин/макс, сред. отклонение)"
   ]
  },
  {
   "cell_type": "code",
   "execution_count": 8,
   "metadata": {},
   "outputs": [
    {
     "data": {
      "text/html": [
       "<div>\n",
       "<style scoped>\n",
       "    .dataframe tbody tr th:only-of-type {\n",
       "        vertical-align: middle;\n",
       "    }\n",
       "\n",
       "    .dataframe tbody tr th {\n",
       "        vertical-align: top;\n",
       "    }\n",
       "\n",
       "    .dataframe thead th {\n",
       "        text-align: right;\n",
       "    }\n",
       "</style>\n",
       "<table border=\"1\" class=\"dataframe\">\n",
       "  <thead>\n",
       "    <tr style=\"text-align: right;\">\n",
       "      <th></th>\n",
       "      <th>symboling</th>\n",
       "      <th>normalized-losses</th>\n",
       "      <th>wheel-base</th>\n",
       "      <th>length</th>\n",
       "      <th>width</th>\n",
       "      <th>height</th>\n",
       "      <th>curb-weight</th>\n",
       "      <th>engine-size</th>\n",
       "      <th>bore</th>\n",
       "      <th>stroke</th>\n",
       "      <th>compression-ratio</th>\n",
       "      <th>horsepower</th>\n",
       "      <th>peak-rpm</th>\n",
       "      <th>city-mpg</th>\n",
       "      <th>highway-mpg</th>\n",
       "      <th>price</th>\n",
       "    </tr>\n",
       "  </thead>\n",
       "  <tbody>\n",
       "    <tr>\n",
       "      <th>count</th>\n",
       "      <td>205.000000</td>\n",
       "      <td>205.000000</td>\n",
       "      <td>205.000000</td>\n",
       "      <td>205.000000</td>\n",
       "      <td>205.000000</td>\n",
       "      <td>205.000000</td>\n",
       "      <td>205.000000</td>\n",
       "      <td>205.000000</td>\n",
       "      <td>205.000000</td>\n",
       "      <td>205.000000</td>\n",
       "      <td>205.000000</td>\n",
       "      <td>205.000000</td>\n",
       "      <td>205.000000</td>\n",
       "      <td>205.000000</td>\n",
       "      <td>205.000000</td>\n",
       "      <td>205.000000</td>\n",
       "    </tr>\n",
       "    <tr>\n",
       "      <th>mean</th>\n",
       "      <td>0.834146</td>\n",
       "      <td>126.365854</td>\n",
       "      <td>98.756585</td>\n",
       "      <td>174.049268</td>\n",
       "      <td>65.907805</td>\n",
       "      <td>53.724878</td>\n",
       "      <td>2555.565854</td>\n",
       "      <td>126.907317</td>\n",
       "      <td>3.324878</td>\n",
       "      <td>3.253366</td>\n",
       "      <td>10.142537</td>\n",
       "      <td>106.048780</td>\n",
       "      <td>5131.463415</td>\n",
       "      <td>25.219512</td>\n",
       "      <td>30.751220</td>\n",
       "      <td>13312.712195</td>\n",
       "    </tr>\n",
       "    <tr>\n",
       "      <th>std</th>\n",
       "      <td>1.245307</td>\n",
       "      <td>35.438400</td>\n",
       "      <td>6.021776</td>\n",
       "      <td>12.337289</td>\n",
       "      <td>2.145204</td>\n",
       "      <td>2.443522</td>\n",
       "      <td>520.680204</td>\n",
       "      <td>41.642693</td>\n",
       "      <td>0.273049</td>\n",
       "      <td>0.313937</td>\n",
       "      <td>3.972040</td>\n",
       "      <td>43.468803</td>\n",
       "      <td>480.933330</td>\n",
       "      <td>6.542142</td>\n",
       "      <td>6.886443</td>\n",
       "      <td>8102.472461</td>\n",
       "    </tr>\n",
       "    <tr>\n",
       "      <th>min</th>\n",
       "      <td>-2.000000</td>\n",
       "      <td>65.000000</td>\n",
       "      <td>86.600000</td>\n",
       "      <td>141.100000</td>\n",
       "      <td>60.300000</td>\n",
       "      <td>47.800000</td>\n",
       "      <td>1488.000000</td>\n",
       "      <td>61.000000</td>\n",
       "      <td>2.540000</td>\n",
       "      <td>2.070000</td>\n",
       "      <td>7.000000</td>\n",
       "      <td>48.000000</td>\n",
       "      <td>4150.000000</td>\n",
       "      <td>13.000000</td>\n",
       "      <td>16.000000</td>\n",
       "      <td>5118.000000</td>\n",
       "    </tr>\n",
       "    <tr>\n",
       "      <th>25%</th>\n",
       "      <td>0.000000</td>\n",
       "      <td>101.000000</td>\n",
       "      <td>94.500000</td>\n",
       "      <td>166.300000</td>\n",
       "      <td>64.100000</td>\n",
       "      <td>52.000000</td>\n",
       "      <td>2145.000000</td>\n",
       "      <td>97.000000</td>\n",
       "      <td>3.130000</td>\n",
       "      <td>3.110000</td>\n",
       "      <td>8.600000</td>\n",
       "      <td>70.000000</td>\n",
       "      <td>4800.000000</td>\n",
       "      <td>19.000000</td>\n",
       "      <td>25.000000</td>\n",
       "      <td>7775.000000</td>\n",
       "    </tr>\n",
       "    <tr>\n",
       "      <th>50%</th>\n",
       "      <td>1.000000</td>\n",
       "      <td>122.000000</td>\n",
       "      <td>97.000000</td>\n",
       "      <td>173.200000</td>\n",
       "      <td>65.500000</td>\n",
       "      <td>54.100000</td>\n",
       "      <td>2414.000000</td>\n",
       "      <td>120.000000</td>\n",
       "      <td>3.310000</td>\n",
       "      <td>3.290000</td>\n",
       "      <td>9.000000</td>\n",
       "      <td>95.000000</td>\n",
       "      <td>5200.000000</td>\n",
       "      <td>24.000000</td>\n",
       "      <td>30.000000</td>\n",
       "      <td>10295.000000</td>\n",
       "    </tr>\n",
       "    <tr>\n",
       "      <th>75%</th>\n",
       "      <td>2.000000</td>\n",
       "      <td>150.000000</td>\n",
       "      <td>102.400000</td>\n",
       "      <td>183.100000</td>\n",
       "      <td>66.900000</td>\n",
       "      <td>55.500000</td>\n",
       "      <td>2935.000000</td>\n",
       "      <td>141.000000</td>\n",
       "      <td>3.580000</td>\n",
       "      <td>3.410000</td>\n",
       "      <td>9.400000</td>\n",
       "      <td>120.000000</td>\n",
       "      <td>5500.000000</td>\n",
       "      <td>30.000000</td>\n",
       "      <td>34.000000</td>\n",
       "      <td>16503.000000</td>\n",
       "    </tr>\n",
       "    <tr>\n",
       "      <th>max</th>\n",
       "      <td>3.000000</td>\n",
       "      <td>256.000000</td>\n",
       "      <td>120.900000</td>\n",
       "      <td>208.100000</td>\n",
       "      <td>72.300000</td>\n",
       "      <td>59.800000</td>\n",
       "      <td>4066.000000</td>\n",
       "      <td>326.000000</td>\n",
       "      <td>3.940000</td>\n",
       "      <td>4.170000</td>\n",
       "      <td>23.000000</td>\n",
       "      <td>288.000000</td>\n",
       "      <td>6600.000000</td>\n",
       "      <td>49.000000</td>\n",
       "      <td>54.000000</td>\n",
       "      <td>45400.000000</td>\n",
       "    </tr>\n",
       "  </tbody>\n",
       "</table>\n",
       "</div>"
      ],
      "text/plain": [
       "        symboling  normalized-losses  wheel-base      length       width  \\\n",
       "count  205.000000         205.000000  205.000000  205.000000  205.000000   \n",
       "mean     0.834146         126.365854   98.756585  174.049268   65.907805   \n",
       "std      1.245307          35.438400    6.021776   12.337289    2.145204   \n",
       "min     -2.000000          65.000000   86.600000  141.100000   60.300000   \n",
       "25%      0.000000         101.000000   94.500000  166.300000   64.100000   \n",
       "50%      1.000000         122.000000   97.000000  173.200000   65.500000   \n",
       "75%      2.000000         150.000000  102.400000  183.100000   66.900000   \n",
       "max      3.000000         256.000000  120.900000  208.100000   72.300000   \n",
       "\n",
       "           height  curb-weight  engine-size        bore      stroke  \\\n",
       "count  205.000000   205.000000   205.000000  205.000000  205.000000   \n",
       "mean    53.724878  2555.565854   126.907317    3.324878    3.253366   \n",
       "std      2.443522   520.680204    41.642693    0.273049    0.313937   \n",
       "min     47.800000  1488.000000    61.000000    2.540000    2.070000   \n",
       "25%     52.000000  2145.000000    97.000000    3.130000    3.110000   \n",
       "50%     54.100000  2414.000000   120.000000    3.310000    3.290000   \n",
       "75%     55.500000  2935.000000   141.000000    3.580000    3.410000   \n",
       "max     59.800000  4066.000000   326.000000    3.940000    4.170000   \n",
       "\n",
       "       compression-ratio  horsepower     peak-rpm    city-mpg  highway-mpg  \\\n",
       "count         205.000000  205.000000   205.000000  205.000000   205.000000   \n",
       "mean           10.142537  106.048780  5131.463415   25.219512    30.751220   \n",
       "std             3.972040   43.468803   480.933330    6.542142     6.886443   \n",
       "min             7.000000   48.000000  4150.000000   13.000000    16.000000   \n",
       "25%             8.600000   70.000000  4800.000000   19.000000    25.000000   \n",
       "50%             9.000000   95.000000  5200.000000   24.000000    30.000000   \n",
       "75%             9.400000  120.000000  5500.000000   30.000000    34.000000   \n",
       "max            23.000000  288.000000  6600.000000   49.000000    54.000000   \n",
       "\n",
       "              price  \n",
       "count    205.000000  \n",
       "mean   13312.712195  \n",
       "std     8102.472461  \n",
       "min     5118.000000  \n",
       "25%     7775.000000  \n",
       "50%    10295.000000  \n",
       "75%    16503.000000  \n",
       "max    45400.000000  "
      ]
     },
     "execution_count": 8,
     "metadata": {},
     "output_type": "execute_result"
    }
   ],
   "source": [
    "auto.describe()"
   ]
  },
  {
   "cell_type": "code",
   "execution_count": 65,
   "metadata": {},
   "outputs": [
    {
     "name": "stdout",
     "output_type": "stream",
     "text": [
      "symboling 0.8341463414634146\n",
      "normalized-losses 126.36585365853658\n",
      "wheel-base 98.75658536585378\n",
      "length 174.04926829268305\n",
      "width 65.90780487804875\n",
      "height 53.724878048780525\n",
      "curb-weight 2555.5658536585365\n",
      "engine-size 126.90731707317073\n",
      "bore 3.3248780487804894\n",
      "stroke 3.2533658536585306\n",
      "compression-ratio 10.142536585365855\n",
      "horsepower 106.04878048780488\n",
      "peak-rpm 5131.463414634146\n",
      "city-mpg 25.21951219512195\n",
      "highway-mpg 30.75121951219512\n",
      "price 13312.71219512195\n"
     ]
    }
   ],
   "source": [
    "#среднее\n",
    "def means(x):\n",
    "    try:\n",
    "        return  sum([float(w) for w in x])/len(x)\n",
    "    except:\n",
    "        return 'Nan'\n",
    "\n",
    "    \n",
    "\n",
    "for variables in auto:   \n",
    "    if isinstance(means(auto[variables]), float):\n",
    "        print(variables,means(auto[variables]))"
   ]
  },
  {
   "cell_type": "code",
   "execution_count": 83,
   "metadata": {},
   "outputs": [
    {
     "name": "stdout",
     "output_type": "stream",
     "text": [
      "symboling 1.0\n",
      "normalized-losses 122.0\n",
      "wheel-base 97.0\n",
      "length 173.2\n",
      "width 65.5\n",
      "height 54.1\n",
      "curb-weight 2414.0\n",
      "engine-size 120.0\n",
      "bore 3.31\n",
      "stroke 3.29\n",
      "compression-ratio 9.0\n",
      "horsepower 95.0\n",
      "peak-rpm 5200.0\n",
      "city-mpg 24.0\n",
      "highway-mpg 30.0\n",
      "price 10295.0\n"
     ]
    }
   ],
   "source": [
    "#медиана\n",
    "\n",
    "def mediana(x):\n",
    "    try:\n",
    "        return float(sorted(x)[int(len(x)//2+0.5)])\n",
    "    except:\n",
    "        return 'Nan'\n",
    "for variables in auto:   \n",
    "    if isinstance(mediana(auto[variables]), float):\n",
    "        print(variables,mediana(auto[variables]))"
   ]
  },
  {
   "cell_type": "code",
   "execution_count": 87,
   "metadata": {},
   "outputs": [
    {
     "name": "stdout",
     "output_type": "stream",
     "text": [
      "symboling 0.0\n",
      "normalized-losses 161.0\n",
      "wheel-base 94.5\n",
      "length 157.3\n",
      "width 63.8\n",
      "height 50.8\n",
      "curb-weight 2385.0\n",
      "engine-size 122.0\n",
      "bore 3.62\n",
      "stroke 3.4\n",
      "compression-ratio 9.0\n",
      "horsepower 68.0\n",
      "peak-rpm 5500.0\n",
      "city-mpg 31.0\n",
      "highway-mpg 25.0\n",
      "price 6785.0\n"
     ]
    }
   ],
   "source": [
    "#мода\n",
    "\n",
    "def moda(x):\n",
    "    try:\n",
    "        counts = {}\n",
    "        for p in x:\n",
    "            if p not in counts:\n",
    "                counts[p] = 1\n",
    "            else:\n",
    "                counts[p] += 1\n",
    "\n",
    "        maxp = 0\n",
    "        mode = None\n",
    "        for k, v in counts.items():\n",
    "            if maxp < v:\n",
    "                maxp = v\n",
    "                mode = k\n",
    "        return float(mode)\n",
    "    except:\n",
    "        return 'Nan'\n",
    "for variables in auto:   \n",
    "    if isinstance(moda(auto[variables]), float):\n",
    "        print(variables,moda(auto[variables]))"
   ]
  },
  {
   "cell_type": "code",
   "execution_count": 97,
   "metadata": {},
   "outputs": [
    {
     "name": "stdout",
     "output_type": "stream",
     "text": [
      "symboling 3\n",
      "normalized-losses 256\n",
      "wheel-base 120.9\n",
      "length 208.1\n",
      "width 72.3\n",
      "height 59.8\n",
      "curb-weight 4066\n",
      "engine-size 326\n",
      "bore 3.94\n",
      "stroke 4.17\n",
      "compression-ratio 23.0\n",
      "horsepower 288\n",
      "peak-rpm 6600\n",
      "city-mpg 49\n",
      "highway-mpg 54\n",
      "price 45400\n"
     ]
    }
   ],
   "source": [
    "#макс\n",
    "for variables in auto:\n",
    "    if isinstance(max(auto[variables]), (float,int)):\n",
    "                  print(variables,max(auto[variables]))"
   ]
  },
  {
   "cell_type": "code",
   "execution_count": 98,
   "metadata": {},
   "outputs": [
    {
     "name": "stdout",
     "output_type": "stream",
     "text": [
      "symboling -2\n",
      "normalized-losses 65\n",
      "wheel-base 86.6\n",
      "length 141.1\n",
      "width 60.3\n",
      "height 47.8\n",
      "curb-weight 1488\n",
      "engine-size 61\n",
      "bore 2.54\n",
      "stroke 2.07\n",
      "compression-ratio 7.0\n",
      "horsepower 48\n",
      "peak-rpm 4150\n",
      "city-mpg 13\n",
      "highway-mpg 16\n",
      "price 5118\n"
     ]
    }
   ],
   "source": [
    "#мин\n",
    "for variables in auto:\n",
    "    if isinstance(min(auto[variables]), (float,int)):\n",
    "                  print(variables,min(auto[variables]))"
   ]
  },
  {
   "cell_type": "code",
   "execution_count": 104,
   "metadata": {},
   "outputs": [
    {
     "name": "stdout",
     "output_type": "stream",
     "text": [
      "symboling 1.24530682810553\n",
      "normalized-losses 35.43840008889838\n",
      "wheel-base 6.021775685025572\n",
      "length 12.337288526555186\n",
      "width 2.1452038526871817\n",
      "height 2.4435219699049044\n",
      "curb-weight 520.6802035016389\n",
      "engine-size 41.642693438179826\n",
      "bore 0.27304853004709617\n",
      "stroke 0.3139374981582808\n",
      "compression-ratio 3.972040321863297\n",
      "horsepower 43.46880288765603\n",
      "peak-rpm 480.9333296076485\n",
      "city-mpg 6.54214165300162\n",
      "highway-mpg 6.88644313094182\n",
      "price 8102.472460952136\n"
     ]
    }
   ],
   "source": [
    "#сред. отклонение\n",
    "def stdev(nums):\n",
    "    try:\n",
    "        diffs = 0\n",
    "        avg = sum(nums)/len(nums)\n",
    "        for n in nums:\n",
    "            diffs += (n - avg)**(2)\n",
    "        return (diffs/(len(nums)-1))**(0.5)\n",
    "    except:\n",
    "        return 'Nan'\n",
    "for variables in auto:   \n",
    "    if isinstance(stdev(auto[variables]), (float,int)):\n",
    "        print(variables,stdev(auto[variables]))"
   ]
  },
  {
   "cell_type": "markdown",
   "metadata": {},
   "source": [
    "#### 3. Рассчитать и визуализировать корреляционную матрицу для переменных"
   ]
  },
  {
   "cell_type": "code",
   "execution_count": 8,
   "metadata": {},
   "outputs": [
    {
     "data": {
      "text/html": [
       "<div>\n",
       "<style scoped>\n",
       "    .dataframe tbody tr th:only-of-type {\n",
       "        vertical-align: middle;\n",
       "    }\n",
       "\n",
       "    .dataframe tbody tr th {\n",
       "        vertical-align: top;\n",
       "    }\n",
       "\n",
       "    .dataframe thead th {\n",
       "        text-align: right;\n",
       "    }\n",
       "</style>\n",
       "<table border=\"1\" class=\"dataframe\">\n",
       "  <thead>\n",
       "    <tr style=\"text-align: right;\">\n",
       "      <th></th>\n",
       "      <th>symboling</th>\n",
       "      <th>normalized-losses</th>\n",
       "      <th>wheel-base</th>\n",
       "      <th>length</th>\n",
       "      <th>width</th>\n",
       "      <th>height</th>\n",
       "      <th>curb-weight</th>\n",
       "      <th>engine-size</th>\n",
       "      <th>bore</th>\n",
       "      <th>stroke</th>\n",
       "      <th>compression-ratio</th>\n",
       "      <th>horsepower</th>\n",
       "      <th>peak-rpm</th>\n",
       "      <th>city-mpg</th>\n",
       "      <th>highway-mpg</th>\n",
       "      <th>price</th>\n",
       "    </tr>\n",
       "  </thead>\n",
       "  <tbody>\n",
       "    <tr>\n",
       "      <th>symboling</th>\n",
       "      <td>1.000000</td>\n",
       "      <td>0.497890</td>\n",
       "      <td>-0.531954</td>\n",
       "      <td>-0.357612</td>\n",
       "      <td>-0.232919</td>\n",
       "      <td>-0.541038</td>\n",
       "      <td>-0.227691</td>\n",
       "      <td>-0.105790</td>\n",
       "      <td>-0.160225</td>\n",
       "      <td>-0.020132</td>\n",
       "      <td>-0.178515</td>\n",
       "      <td>0.070421</td>\n",
       "      <td>0.273125</td>\n",
       "      <td>-0.035823</td>\n",
       "      <td>0.034606</td>\n",
       "      <td>-0.080149</td>\n",
       "    </tr>\n",
       "    <tr>\n",
       "      <th>normalized-losses</th>\n",
       "      <td>0.497890</td>\n",
       "      <td>1.000000</td>\n",
       "      <td>-0.029810</td>\n",
       "      <td>0.051375</td>\n",
       "      <td>0.122172</td>\n",
       "      <td>-0.332532</td>\n",
       "      <td>0.152171</td>\n",
       "      <td>0.166203</td>\n",
       "      <td>0.013503</td>\n",
       "      <td>0.038636</td>\n",
       "      <td>-0.148861</td>\n",
       "      <td>0.274619</td>\n",
       "      <td>0.234561</td>\n",
       "      <td>-0.290161</td>\n",
       "      <td>-0.256047</td>\n",
       "      <td>0.199860</td>\n",
       "    </tr>\n",
       "    <tr>\n",
       "      <th>wheel-base</th>\n",
       "      <td>-0.531954</td>\n",
       "      <td>-0.029810</td>\n",
       "      <td>1.000000</td>\n",
       "      <td>0.874587</td>\n",
       "      <td>0.795144</td>\n",
       "      <td>0.589435</td>\n",
       "      <td>0.776386</td>\n",
       "      <td>0.569329</td>\n",
       "      <td>0.495108</td>\n",
       "      <td>0.164549</td>\n",
       "      <td>0.249786</td>\n",
       "      <td>0.301696</td>\n",
       "      <td>-0.363355</td>\n",
       "      <td>-0.470414</td>\n",
       "      <td>-0.544082</td>\n",
       "      <td>0.571784</td>\n",
       "    </tr>\n",
       "    <tr>\n",
       "      <th>length</th>\n",
       "      <td>-0.357612</td>\n",
       "      <td>0.051375</td>\n",
       "      <td>0.874587</td>\n",
       "      <td>1.000000</td>\n",
       "      <td>0.841118</td>\n",
       "      <td>0.491029</td>\n",
       "      <td>0.877728</td>\n",
       "      <td>0.683360</td>\n",
       "      <td>0.608905</td>\n",
       "      <td>0.132076</td>\n",
       "      <td>0.158414</td>\n",
       "      <td>0.521192</td>\n",
       "      <td>-0.279406</td>\n",
       "      <td>-0.670909</td>\n",
       "      <td>-0.704662</td>\n",
       "      <td>0.678818</td>\n",
       "    </tr>\n",
       "    <tr>\n",
       "      <th>width</th>\n",
       "      <td>-0.232919</td>\n",
       "      <td>0.122172</td>\n",
       "      <td>0.795144</td>\n",
       "      <td>0.841118</td>\n",
       "      <td>1.000000</td>\n",
       "      <td>0.279210</td>\n",
       "      <td>0.867032</td>\n",
       "      <td>0.735433</td>\n",
       "      <td>0.556374</td>\n",
       "      <td>0.183379</td>\n",
       "      <td>0.181129</td>\n",
       "      <td>0.596251</td>\n",
       "      <td>-0.214240</td>\n",
       "      <td>-0.642704</td>\n",
       "      <td>-0.677218</td>\n",
       "      <td>0.764977</td>\n",
       "    </tr>\n",
       "    <tr>\n",
       "      <th>height</th>\n",
       "      <td>-0.541038</td>\n",
       "      <td>-0.332532</td>\n",
       "      <td>0.589435</td>\n",
       "      <td>0.491029</td>\n",
       "      <td>0.279210</td>\n",
       "      <td>1.000000</td>\n",
       "      <td>0.295572</td>\n",
       "      <td>0.067149</td>\n",
       "      <td>0.199995</td>\n",
       "      <td>-0.044176</td>\n",
       "      <td>0.261214</td>\n",
       "      <td>-0.114968</td>\n",
       "      <td>-0.322525</td>\n",
       "      <td>-0.048640</td>\n",
       "      <td>-0.107358</td>\n",
       "      <td>0.112421</td>\n",
       "    </tr>\n",
       "    <tr>\n",
       "      <th>curb-weight</th>\n",
       "      <td>-0.227691</td>\n",
       "      <td>0.152171</td>\n",
       "      <td>0.776386</td>\n",
       "      <td>0.877728</td>\n",
       "      <td>0.867032</td>\n",
       "      <td>0.295572</td>\n",
       "      <td>1.000000</td>\n",
       "      <td>0.850594</td>\n",
       "      <td>0.648219</td>\n",
       "      <td>0.170425</td>\n",
       "      <td>0.151362</td>\n",
       "      <td>0.679865</td>\n",
       "      <td>-0.264976</td>\n",
       "      <td>-0.757414</td>\n",
       "      <td>-0.797465</td>\n",
       "      <td>0.835657</td>\n",
       "    </tr>\n",
       "    <tr>\n",
       "      <th>engine-size</th>\n",
       "      <td>-0.105790</td>\n",
       "      <td>0.166203</td>\n",
       "      <td>0.569329</td>\n",
       "      <td>0.683360</td>\n",
       "      <td>0.735433</td>\n",
       "      <td>0.067149</td>\n",
       "      <td>0.850594</td>\n",
       "      <td>1.000000</td>\n",
       "      <td>0.602516</td>\n",
       "      <td>0.211477</td>\n",
       "      <td>0.028971</td>\n",
       "      <td>0.742119</td>\n",
       "      <td>-0.241031</td>\n",
       "      <td>-0.653658</td>\n",
       "      <td>-0.677470</td>\n",
       "      <td>0.870751</td>\n",
       "    </tr>\n",
       "    <tr>\n",
       "      <th>bore</th>\n",
       "      <td>-0.160225</td>\n",
       "      <td>0.013503</td>\n",
       "      <td>0.495108</td>\n",
       "      <td>0.608905</td>\n",
       "      <td>0.556374</td>\n",
       "      <td>0.199995</td>\n",
       "      <td>0.648219</td>\n",
       "      <td>0.602516</td>\n",
       "      <td>1.000000</td>\n",
       "      <td>-0.049492</td>\n",
       "      <td>0.008511</td>\n",
       "      <td>0.537543</td>\n",
       "      <td>-0.276942</td>\n",
       "      <td>-0.556570</td>\n",
       "      <td>-0.562065</td>\n",
       "      <td>0.549438</td>\n",
       "    </tr>\n",
       "    <tr>\n",
       "      <th>stroke</th>\n",
       "      <td>-0.020132</td>\n",
       "      <td>0.038636</td>\n",
       "      <td>0.164549</td>\n",
       "      <td>0.132076</td>\n",
       "      <td>0.183379</td>\n",
       "      <td>-0.044176</td>\n",
       "      <td>0.170425</td>\n",
       "      <td>0.211477</td>\n",
       "      <td>-0.049492</td>\n",
       "      <td>1.000000</td>\n",
       "      <td>0.187134</td>\n",
       "      <td>0.164722</td>\n",
       "      <td>-0.051970</td>\n",
       "      <td>-0.033609</td>\n",
       "      <td>-0.036502</td>\n",
       "      <td>0.079775</td>\n",
       "    </tr>\n",
       "    <tr>\n",
       "      <th>compression-ratio</th>\n",
       "      <td>-0.178515</td>\n",
       "      <td>-0.148861</td>\n",
       "      <td>0.249786</td>\n",
       "      <td>0.158414</td>\n",
       "      <td>0.181129</td>\n",
       "      <td>0.261214</td>\n",
       "      <td>0.151362</td>\n",
       "      <td>0.028971</td>\n",
       "      <td>0.008511</td>\n",
       "      <td>0.187134</td>\n",
       "      <td>1.000000</td>\n",
       "      <td>-0.202096</td>\n",
       "      <td>-0.436976</td>\n",
       "      <td>0.324701</td>\n",
       "      <td>0.265201</td>\n",
       "      <td>0.064381</td>\n",
       "    </tr>\n",
       "    <tr>\n",
       "      <th>horsepower</th>\n",
       "      <td>0.070421</td>\n",
       "      <td>0.274619</td>\n",
       "      <td>0.301696</td>\n",
       "      <td>0.521192</td>\n",
       "      <td>0.596251</td>\n",
       "      <td>-0.114968</td>\n",
       "      <td>0.679865</td>\n",
       "      <td>0.742119</td>\n",
       "      <td>0.537543</td>\n",
       "      <td>0.164722</td>\n",
       "      <td>-0.202096</td>\n",
       "      <td>1.000000</td>\n",
       "      <td>0.171390</td>\n",
       "      <td>-0.744246</td>\n",
       "      <td>-0.699361</td>\n",
       "      <td>0.725481</td>\n",
       "    </tr>\n",
       "    <tr>\n",
       "      <th>peak-rpm</th>\n",
       "      <td>0.273125</td>\n",
       "      <td>0.234561</td>\n",
       "      <td>-0.363355</td>\n",
       "      <td>-0.279406</td>\n",
       "      <td>-0.214240</td>\n",
       "      <td>-0.322525</td>\n",
       "      <td>-0.264976</td>\n",
       "      <td>-0.241031</td>\n",
       "      <td>-0.276942</td>\n",
       "      <td>-0.051970</td>\n",
       "      <td>-0.436976</td>\n",
       "      <td>0.171390</td>\n",
       "      <td>1.000000</td>\n",
       "      <td>-0.117108</td>\n",
       "      <td>-0.053351</td>\n",
       "      <td>-0.083675</td>\n",
       "    </tr>\n",
       "    <tr>\n",
       "      <th>city-mpg</th>\n",
       "      <td>-0.035823</td>\n",
       "      <td>-0.290161</td>\n",
       "      <td>-0.470414</td>\n",
       "      <td>-0.670909</td>\n",
       "      <td>-0.642704</td>\n",
       "      <td>-0.048640</td>\n",
       "      <td>-0.757414</td>\n",
       "      <td>-0.653658</td>\n",
       "      <td>-0.556570</td>\n",
       "      <td>-0.033609</td>\n",
       "      <td>0.324701</td>\n",
       "      <td>-0.744246</td>\n",
       "      <td>-0.117108</td>\n",
       "      <td>1.000000</td>\n",
       "      <td>0.971337</td>\n",
       "      <td>-0.690580</td>\n",
       "    </tr>\n",
       "    <tr>\n",
       "      <th>highway-mpg</th>\n",
       "      <td>0.034606</td>\n",
       "      <td>-0.256047</td>\n",
       "      <td>-0.544082</td>\n",
       "      <td>-0.704662</td>\n",
       "      <td>-0.677218</td>\n",
       "      <td>-0.107358</td>\n",
       "      <td>-0.797465</td>\n",
       "      <td>-0.677470</td>\n",
       "      <td>-0.562065</td>\n",
       "      <td>-0.036502</td>\n",
       "      <td>0.265201</td>\n",
       "      <td>-0.699361</td>\n",
       "      <td>-0.053351</td>\n",
       "      <td>0.971337</td>\n",
       "      <td>1.000000</td>\n",
       "      <td>-0.698389</td>\n",
       "    </tr>\n",
       "    <tr>\n",
       "      <th>price</th>\n",
       "      <td>-0.080149</td>\n",
       "      <td>0.199860</td>\n",
       "      <td>0.571784</td>\n",
       "      <td>0.678818</td>\n",
       "      <td>0.764977</td>\n",
       "      <td>0.112421</td>\n",
       "      <td>0.835657</td>\n",
       "      <td>0.870751</td>\n",
       "      <td>0.549438</td>\n",
       "      <td>0.079775</td>\n",
       "      <td>0.064381</td>\n",
       "      <td>0.725481</td>\n",
       "      <td>-0.083675</td>\n",
       "      <td>-0.690580</td>\n",
       "      <td>-0.698389</td>\n",
       "      <td>1.000000</td>\n",
       "    </tr>\n",
       "  </tbody>\n",
       "</table>\n",
       "</div>"
      ],
      "text/plain": [
       "                   symboling  normalized-losses  wheel-base    length  \\\n",
       "symboling           1.000000           0.497890   -0.531954 -0.357612   \n",
       "normalized-losses   0.497890           1.000000   -0.029810  0.051375   \n",
       "wheel-base         -0.531954          -0.029810    1.000000  0.874587   \n",
       "length             -0.357612           0.051375    0.874587  1.000000   \n",
       "width              -0.232919           0.122172    0.795144  0.841118   \n",
       "height             -0.541038          -0.332532    0.589435  0.491029   \n",
       "curb-weight        -0.227691           0.152171    0.776386  0.877728   \n",
       "engine-size        -0.105790           0.166203    0.569329  0.683360   \n",
       "bore               -0.160225           0.013503    0.495108  0.608905   \n",
       "stroke             -0.020132           0.038636    0.164549  0.132076   \n",
       "compression-ratio  -0.178515          -0.148861    0.249786  0.158414   \n",
       "horsepower          0.070421           0.274619    0.301696  0.521192   \n",
       "peak-rpm            0.273125           0.234561   -0.363355 -0.279406   \n",
       "city-mpg           -0.035823          -0.290161   -0.470414 -0.670909   \n",
       "highway-mpg         0.034606          -0.256047   -0.544082 -0.704662   \n",
       "price              -0.080149           0.199860    0.571784  0.678818   \n",
       "\n",
       "                      width    height  curb-weight  engine-size      bore  \\\n",
       "symboling         -0.232919 -0.541038    -0.227691    -0.105790 -0.160225   \n",
       "normalized-losses  0.122172 -0.332532     0.152171     0.166203  0.013503   \n",
       "wheel-base         0.795144  0.589435     0.776386     0.569329  0.495108   \n",
       "length             0.841118  0.491029     0.877728     0.683360  0.608905   \n",
       "width              1.000000  0.279210     0.867032     0.735433  0.556374   \n",
       "height             0.279210  1.000000     0.295572     0.067149  0.199995   \n",
       "curb-weight        0.867032  0.295572     1.000000     0.850594  0.648219   \n",
       "engine-size        0.735433  0.067149     0.850594     1.000000  0.602516   \n",
       "bore               0.556374  0.199995     0.648219     0.602516  1.000000   \n",
       "stroke             0.183379 -0.044176     0.170425     0.211477 -0.049492   \n",
       "compression-ratio  0.181129  0.261214     0.151362     0.028971  0.008511   \n",
       "horsepower         0.596251 -0.114968     0.679865     0.742119  0.537543   \n",
       "peak-rpm          -0.214240 -0.322525    -0.264976    -0.241031 -0.276942   \n",
       "city-mpg          -0.642704 -0.048640    -0.757414    -0.653658 -0.556570   \n",
       "highway-mpg       -0.677218 -0.107358    -0.797465    -0.677470 -0.562065   \n",
       "price              0.764977  0.112421     0.835657     0.870751  0.549438   \n",
       "\n",
       "                     stroke  compression-ratio  horsepower  peak-rpm  \\\n",
       "symboling         -0.020132          -0.178515    0.070421  0.273125   \n",
       "normalized-losses  0.038636          -0.148861    0.274619  0.234561   \n",
       "wheel-base         0.164549           0.249786    0.301696 -0.363355   \n",
       "length             0.132076           0.158414    0.521192 -0.279406   \n",
       "width              0.183379           0.181129    0.596251 -0.214240   \n",
       "height            -0.044176           0.261214   -0.114968 -0.322525   \n",
       "curb-weight        0.170425           0.151362    0.679865 -0.264976   \n",
       "engine-size        0.211477           0.028971    0.742119 -0.241031   \n",
       "bore              -0.049492           0.008511    0.537543 -0.276942   \n",
       "stroke             1.000000           0.187134    0.164722 -0.051970   \n",
       "compression-ratio  0.187134           1.000000   -0.202096 -0.436976   \n",
       "horsepower         0.164722          -0.202096    1.000000  0.171390   \n",
       "peak-rpm          -0.051970          -0.436976    0.171390  1.000000   \n",
       "city-mpg          -0.033609           0.324701   -0.744246 -0.117108   \n",
       "highway-mpg       -0.036502           0.265201   -0.699361 -0.053351   \n",
       "price              0.079775           0.064381    0.725481 -0.083675   \n",
       "\n",
       "                   city-mpg  highway-mpg     price  \n",
       "symboling         -0.035823     0.034606 -0.080149  \n",
       "normalized-losses -0.290161    -0.256047  0.199860  \n",
       "wheel-base        -0.470414    -0.544082  0.571784  \n",
       "length            -0.670909    -0.704662  0.678818  \n",
       "width             -0.642704    -0.677218  0.764977  \n",
       "height            -0.048640    -0.107358  0.112421  \n",
       "curb-weight       -0.757414    -0.797465  0.835657  \n",
       "engine-size       -0.653658    -0.677470  0.870751  \n",
       "bore              -0.556570    -0.562065  0.549438  \n",
       "stroke            -0.033609    -0.036502  0.079775  \n",
       "compression-ratio  0.324701     0.265201  0.064381  \n",
       "horsepower        -0.744246    -0.699361  0.725481  \n",
       "peak-rpm          -0.117108    -0.053351 -0.083675  \n",
       "city-mpg           1.000000     0.971337 -0.690580  \n",
       "highway-mpg        0.971337     1.000000 -0.698389  \n",
       "price             -0.690580    -0.698389  1.000000  "
      ]
     },
     "execution_count": 8,
     "metadata": {},
     "output_type": "execute_result"
    }
   ],
   "source": [
    "corr = auto.corr()\n",
    "corr"
   ]
  },
  {
   "cell_type": "code",
   "execution_count": 9,
   "metadata": {},
   "outputs": [
    {
     "data": {
      "text/plain": [
       "<matplotlib.axes._subplots.AxesSubplot at 0x1a14440b38>"
      ]
     },
     "execution_count": 9,
     "metadata": {},
     "output_type": "execute_result"
    },
    {
     "data": {
      "image/png": "[encoded data removed]",
      "text/plain": [
       "<Figure size 720x720 with 2 Axes>"
      ]
     },
     "metadata": {
      "needs_background": "light"
     },
     "output_type": "display_data"
    }
   ],
   "source": [
    "plt.figure(figsize=(10, 10))\n",
    "seaborn.heatmap(corr, annot=True,\n",
    "            xticklabels=corr.columns.values,\n",
    "            yticklabels=corr.columns.values)"
   ]
  },
  {
   "cell_type": "markdown",
   "metadata": {},
   "source": [
    "#### 4. Визуализировать распределение переменной ‘Price’, рассчитать показатели skewness и kurtosis"
   ]
  },
  {
   "cell_type": "code",
   "execution_count": 110,
   "metadata": {},
   "outputs": [
    {
     "data": {
      "text/plain": [
       "[<matplotlib.lines.Line2D at 0x1a1c80e278>]"
      ]
     },
     "execution_count": 110,
     "metadata": {},
     "output_type": "execute_result"
    },
    {
     "data": {
      "image/png": "[encoded data removed]",
      "text/plain": [
       "<Figure size 432x288 with 1 Axes>"
      ]
     },
     "metadata": {},
     "output_type": "display_data"
    }
   ],
   "source": [
    "plt.plot(auto['price'])"
   ]
  },
  {
   "cell_type": "code",
   "execution_count": 13,
   "metadata": {},
   "outputs": [
    {
     "data": {
      "image/png": "[encoded data removed]",
      "text/plain": [
       "<Figure size 432x288 with 1 Axes>"
      ]
     },
     "metadata": {
      "needs_background": "light"
     },
     "output_type": "display_data"
    }
   ],
   "source": [
    "plt.hist(auto['price'],bins=100)\n",
    "plt.show()"
   ]
  },
  {
   "cell_type": "code",
   "execution_count": 116,
   "metadata": {},
   "outputs": [
    {
     "data": {
      "text/plain": [
       "2.848082544390688"
      ]
     },
     "execution_count": 116,
     "metadata": {},
     "output_type": "execute_result"
    }
   ],
   "source": [
    "kurtosis(auto['price'])"
   ]
  },
  {
   "cell_type": "code",
   "execution_count": 115,
   "metadata": {},
   "outputs": [
    {
     "data": {
      "text/plain": [
       "1.7534486514523662"
      ]
     },
     "execution_count": 115,
     "metadata": {},
     "output_type": "execute_result"
    }
   ],
   "source": [
    "skew(auto['price'])"
   ]
  },
  {
   "cell_type": "raw",
   "metadata": {},
   "source": [
    "5. Визуализировать несколько взаимосвязей между переменными"
   ]
  },
  {
   "cell_type": "code",
   "execution_count": 117,
   "metadata": {},
   "outputs": [
    {
     "data": {
      "text/plain": [
       "<matplotlib.collections.PathCollection at 0x1a1cc24978>"
      ]
     },
     "execution_count": 117,
     "metadata": {},
     "output_type": "execute_result"
    },
    {
     "data": {
      "image/png": "[encoded data removed]",
      "text/plain": [
       "<Figure size 432x288 with 1 Axes>"
      ]
     },
     "metadata": {},
     "output_type": "display_data"
    }
   ],
   "source": [
    "#вот, например высота от цены не слишком зависит, хотя корреляция была высокой\n",
    "plt.scatter(auto['price'],auto['height'])"
   ]
  },
  {
   "cell_type": "code",
   "execution_count": 118,
   "metadata": {},
   "outputs": [
    {
     "data": {
      "text/plain": [
       "<matplotlib.collections.PathCollection at 0x1a1cdc3eb8>"
      ]
     },
     "execution_count": 118,
     "metadata": {},
     "output_type": "execute_result"
    },
    {
     "data": {
      "image/png": "[encoded data removed]",
      "text/plain": [
       "<Figure size 432x288 with 1 Axes>"
      ]
     },
     "metadata": {},
     "output_type": "display_data"
    }
   ],
   "source": [
    "#а от лошадиные силы-да\n",
    "plt.scatter(auto['price'],auto['horsepower'])"
   ]
  },
  {
   "cell_type": "raw",
   "metadata": {},
   "source": [
    "6. С использованием t-test статистики проверить взаимосвязи между несколькими переменным"
   ]
  },
  {
   "cell_type": "code",
   "execution_count": 122,
   "metadata": {},
   "outputs": [
    {
     "data": {
      "text/plain": [
       "Ttest_indResult(statistic=23.337064505286627, pvalue=3.909801820534587e-77)"
      ]
     },
     "execution_count": 122,
     "metadata": {},
     "output_type": "execute_result"
    }
   ],
   "source": [
    "#Например, срднее по horsepower и price отличаются\n",
    "stats.ttest_ind(auto['price'],auto['horsepower'])"
   ]
  },
  {
   "cell_type": "code",
   "execution_count": 139,
   "metadata": {},
   "outputs": [
    {
     "name": "stdout",
     "output_type": "stream",
     "text": [
      "symboling 5.116533585558064e-60\n",
      "normalized-losses 1.8415615051329775e-59\n",
      "wheel-base 1.4406672917029465e-59\n",
      "length 3.07577588576527e-59\n",
      "width 1.0290443844812812e-59\n",
      "height 9.201819149922409e-60\n",
      "curb-weight 3.4283672597335664e-50\n",
      "engine-size 1.0818423184623213e-59\n",
      "bore 5.237324801324596e-60\n",
      "stroke 5.245191013799236e-60\n",
      "compression-ratio 5.642740937792058e-60\n",
      "horsepower 9.333160604550755e-60\n",
      "peak-rpm 8.857226510865485e-33\n",
      "city-mpg 7.29684947345386e-60\n",
      "highway-mpg 7.806013398089922e-60\n",
      "price nan\n"
     ]
    },
    {
     "name": "stderr",
     "output_type": "stream",
     "text": [
      "/Users/d33-vc4/anaconda3/lib/python3.6/site-packages/scipy/stats/stats.py:245: RuntimeWarning: The input array could not be properly checked for nan values. nan values will be ignored.\n",
      "  \"values. nan values will be ignored.\", RuntimeWarning)\n"
     ]
    }
   ],
   "source": [
    "#Вообще срeднее цены ни к чему не близко\n",
    "def test(x):\n",
    "    try:\n",
    "        return stats.ttest_rel(auto['price'],auto[variables])\n",
    "    except:\n",
    "        return 'Nan'\n",
    "        \n",
    "for variables in auto:\n",
    "    if isinstance(test(auto[variables])[1],(float,int)):\n",
    "           print(variables,test(auto[variables])[1] )"
   ]
  },
  {
   "cell_type": "code",
   "execution_count": 188,
   "metadata": {},
   "outputs": [
    {
     "name": "stdout",
     "output_type": "stream",
     "text": [
      "('normalized-losses', 'engine-size') 0.8769204609519932\n"
     ]
    },
    {
     "name": "stderr",
     "output_type": "stream",
     "text": [
      "/Users/d33-vc4/anaconda3/lib/python3.6/site-packages/scipy/stats/stats.py:245: RuntimeWarning: The input array could not be properly checked for nan values. nan values will be ignored.\n",
      "  \"values. nan values will be ignored.\", RuntimeWarning)\n"
     ]
    }
   ],
   "source": [
    "# Проведем тест для всех комбинации переменных:\n",
    "import itertools as it\n",
    "combin=list(it.combinations(auto,2))\n",
    "def test(x):\n",
    "    try:\n",
    "        return stats.ttest_rel(auto[x[0]],auto[x[1]])\n",
    "    except:\n",
    "        return 'Nan'\n",
    "\n",
    "for x in combin:\n",
    "    #print(x)\n",
    "    if isinstance(test(x)[1],(float,int)):\n",
    "        if test(x)[1]>0.2:\n",
    "            print(x,test(x)[1])\n",
    "    \n",
    "    #print(auto[x[0]],auto[x[1]])\n",
    "    #test(auto[(x[0]],auto[x[1]])\n",
    "#test(auto['length'],auto['width'])    "
   ]
  },
  {
   "cell_type": "code",
   "execution_count": null,
   "metadata": {},
   "outputs": [],
   "source": []
  }
 ],
 "metadata": {
  "kernelspec": {
   "display_name": "Python 3",
   "language": "python",
   "name": "python3"
  },
  "language_info": {
   "codemirror_mode": {
    "name": "ipython",
    "version": 3
   },
   "file_extension": ".py",
   "mimetype": "text/x-python",
   "name": "python",
   "nbconvert_exporter": "python",
   "pygments_lexer": "ipython3",
   "version": "3.6.8"
  }
 },
 "nbformat": 4,
 "nbformat_minor": 2
}
