{
 "cells": [
  {
   "cell_type": "markdown",
   "metadata": {},
   "source": [
    "#### 1. Существует массив Z = [1,2,3,4,5,6,7,8,9,10,11,12,13,14],\n",
    "#### как из него создать массив R = [[1,2,3,4], [2,3,4,5], [3,4,5,6], ...,[11,12,13,14]]?"
   ]
  },
  {
   "cell_type": "code",
   "execution_count": 7,
   "metadata": {},
   "outputs": [],
   "source": [
    "def  transformation(arr,length):\n",
    "    result=[]\n",
    "    for iter,numb in enumerate(arr):\n",
    "        if len((arr[iter:iter+4]))==length:\n",
    "            result.append(arr[iter:iter+4])\n",
    "    return result  "
   ]
  },
  {
   "cell_type": "code",
   "execution_count": 8,
   "metadata": {},
   "outputs": [],
   "source": [
    "Z = [1,2,3,4,5,6,7,8,9,10,11,12,13,14]"
   ]
  },
  {
   "cell_type": "code",
   "execution_count": 9,
   "metadata": {
    "scrolled": true
   },
   "outputs": [
    {
     "name": "stdout",
     "output_type": "stream",
     "text": [
      "[[1, 2, 3, 4], [2, 3, 4, 5], [3, 4, 5, 6], [4, 5, 6, 7], [5, 6, 7, 8], [6, 7, 8, 9], [7, 8, 9, 10], [8, 9, 10, 11], [9, 10, 11, 12], [10, 11, 12, 13], [11, 12, 13, 14]]\n"
     ]
    }
   ],
   "source": [
    "R=transformation(Z,4)\n",
    "print(R)"
   ]
  },
  {
   "cell_type": "markdown",
   "metadata": {},
   "source": [
    "#### 2. Дана произвольная матрица A. Рассчитать ранг матрицы A."
   ]
  },
  {
   "cell_type": "markdown",
   "metadata": {},
   "source": [
    "\n",
    "Минором Му элемента матрицы «-го порядка называется\n",
    "определитель матрицы (п — 1)-го порядка, полученной из матрицы\n",
    "А вычеркиванием /-й строки и у-го столбца\n",
    "\n",
    "\n",
    "\n",
    "Ранг матрицы – это наивысший порядок минора матрицы, отличного от нуля. Ранг матрицы А \n"
   ]
  },
  {
   "cell_type": "code",
   "execution_count": 10,
   "metadata": {},
   "outputs": [],
   "source": [
    "def det(a):\n",
    "    A=a.copy()\n",
    "    res = 1\n",
    "    n = len(A)\n",
    "    for i in range(n):\n",
    "        # выбираем опорный элемент\n",
    "        j = max(range(i,n), key=lambda k: abs(A[k][i]))\n",
    "        if i != j:\n",
    "            A[i],A[j] = A[j],A[i]\n",
    "            res *= -1\n",
    "        # убеждаемся, что матрица не вырожденная\n",
    "        if A[i][i] == 0:\n",
    "            return 0\n",
    "        res *= A[i][i]\n",
    "        # \"обнуляем\" элементы в текущем столбце\n",
    "        for j in range(i+1,n):\n",
    "            b = A[j][i] / A[i][i]\n",
    "            A[j] = [A[j][k]-b*A[i][k] for k in range(n)]\n",
    "    return res"
   ]
  },
  {
   "cell_type": "code",
   "execution_count": 11,
   "metadata": {},
   "outputs": [],
   "source": [
    "m=[[11.0, 12.0, 13.0, 14.0],\n",
    " [0.0, 0.0, 0.0, 0.0],\n",
    " [31.0,32.0, 33.0, 34.0],\n",
    " [41.0, 42.0, 0.0, 44.0]]"
   ]
  },
  {
   "cell_type": "code",
   "execution_count": 12,
   "metadata": {},
   "outputs": [],
   "source": [
    "def ranks(m):  \n",
    "    if det(m)!=0:\n",
    "        return len(m)\n",
    "    else:\n",
    "        #Создадим матрицы миноров\n",
    "        temp0=m.copy()\n",
    "        for x in range(len(temp0)):\n",
    "           \n",
    "            tt=[]\n",
    "            temp=m.copy()\n",
    "            for z in range(len(temp)): \n",
    "                if x==z:\n",
    "                    #print(z)\n",
    "                    del temp[z]\n",
    "           \n",
    "            for column in range(len(temp[0])):\n",
    "                vv=[]\n",
    "                for row in range(len(temp)):\n",
    "                    temp2=temp[row].copy()\n",
    "                    del temp2[column]\n",
    "                    vv.append(temp2)\n",
    "                \n",
    "                tt.append(vv)\n",
    "                \n",
    "            for submatrix in tt:\n",
    "                #№Проверим их ести ли среди ни ненулевые   \n",
    "                if det (submatrix) !=0:\n",
    "                   \n",
    "                    return len(temp)\n",
    "                    break\n",
    "                #будем вызывать функцию пока не найдем ненулевой минор\n",
    "                ranks(submatrix)  "
   ]
  },
  {
   "cell_type": "code",
   "execution_count": 13,
   "metadata": {},
   "outputs": [
    {
     "data": {
      "text/plain": [
       "3"
      ]
     },
     "execution_count": 13,
     "metadata": {},
     "output_type": "execute_result"
    }
   ],
   "source": [
    "ranks(m)"
   ]
  },
  {
   "cell_type": "markdown",
   "metadata": {},
   "source": [
    "#### 3. Найти лучший алгоритм для решения следующей задачи:\n",
    "min (x1x4(x1+x2+x3)+x3).  \n",
    "Условия:  \n",
    "x1x2x3x4≥30  \n",
    "x1^2+x2^2+x3^2+x4^2=60  \n",
    "2≤x1,x2,x3,x4≤6  \n",
    "Начальное приближение:  \n",
    "x=(1,5,5,1)"
   ]
  },
  {
   "cell_type": "code",
   "execution_count": 1,
   "metadata": {},
   "outputs": [],
   "source": [
    "import numpy as np\n",
    "from scipy import optimize"
   ]
  },
  {
   "cell_type": "code",
   "execution_count": 15,
   "metadata": {},
   "outputs": [],
   "source": [
    "def f(x):\n",
    "    \n",
    "    return (x[0]*x[3]*(x[0]+x[1]+x[2])+x[2])"
   ]
  },
  {
   "cell_type": "raw",
   "metadata": {},
   "source": [
    "SLSQP"
   ]
  },
  {
   "cell_type": "code",
   "execution_count": 16,
   "metadata": {},
   "outputs": [],
   "source": [
    "def constraint1(x):\n",
    "    return x[0]*x[1]*x[2]*x[3]-30.0\n",
    "def constraint2(x):\n",
    "    return 60 - x[0]**2 - x[1]**2 - x[2]**2 - x[3]**2"
   ]
  },
  {
   "cell_type": "code",
   "execution_count": 17,
   "metadata": {},
   "outputs": [],
   "source": [
    "x0=[1,5,5,1]"
   ]
  },
  {
   "cell_type": "code",
   "execution_count": 18,
   "metadata": {},
   "outputs": [],
   "source": [
    "b=(2.0,6.0)\n",
    "bnds=(b,b,b,b)\n",
    "con1={'type':'ineq','fun': constraint1}\n",
    "con2={'type':'eq','fun': constraint2}\n",
    "cons=[con1,con2]"
   ]
  },
  {
   "cell_type": "code",
   "execution_count": 19,
   "metadata": {},
   "outputs": [],
   "source": [
    "sol=optimize.minimize(f,x0, method='SLSQP',\n",
    "                     bounds=bnds,constraints=cons)"
   ]
  },
  {
   "cell_type": "code",
   "execution_count": 712,
   "metadata": {},
   "outputs": [
    {
     "data": {
      "text/plain": [
       "     fun: 52.00000009676279\n",
       "     jac: array([28.,  4.,  5., 24.])\n",
       " message: 'Optimization terminated successfully.'\n",
       "    nfev: 30\n",
       "     nit: 5\n",
       "    njev: 5\n",
       "  status: 0\n",
       " success: True\n",
       "       x: array([2.        , 6.        , 4.00000002, 2.        ])"
      ]
     },
     "execution_count": 712,
     "metadata": {},
     "output_type": "execute_result"
    }
   ],
   "source": [
    "sol\n"
   ]
  },
  {
   "cell_type": "code",
   "execution_count": 699,
   "metadata": {},
   "outputs": [
    {
     "name": "stdout",
     "output_type": "stream",
     "text": [
      "52.00000009679038\n",
      "5\n"
     ]
    }
   ],
   "source": [
    "print(sol.fun)\n",
    "print(sol.nit)"
   ]
  },
  {
   "cell_type": "code",
   "execution_count": null,
   "metadata": {},
   "outputs": [],
   "source": []
  },
  {
   "cell_type": "code",
   "execution_count": null,
   "metadata": {},
   "outputs": [],
   "source": []
  }
 ],
 "metadata": {
  "kernelspec": {
   "display_name": "Python 3",
   "language": "python",
   "name": "python3"
  },
  "language_info": {
   "codemirror_mode": {
    "name": "ipython",
    "version": 3
   },
   "file_extension": ".py",
   "mimetype": "text/x-python",
   "name": "python",
   "nbconvert_exporter": "python",
   "pygments_lexer": "ipython3",
   "version": "3.6.8"
  }
 },
 "nbformat": 4,
 "nbformat_minor": 2
}
