{
 "cells": [
  {
   "cell_type": "markdown",
   "metadata": {},
   "source": [
    "#### Задание 1\n",
    "Напишите функцию date_range, которая возвращает список дней между датами start_date и end_date. Даты должны вводиться в формате YYYY-MM-DD."
   ]
  },
  {
   "cell_type": "code",
   "execution_count": 1,
   "metadata": {
    "scrolled": false
   },
   "outputs": [
    {
     "data": {
      "text/plain": [
       "['2018-09-01',\n",
       " '2018-09-02',\n",
       " '2018-09-03',\n",
       " '2018-09-04',\n",
       " '2018-09-05',\n",
       " '2018-09-06',\n",
       " '2018-09-07']"
      ]
     },
     "execution_count": 1,
     "metadata": {},
     "output_type": "execute_result"
    }
   ],
   "source": [
    "def date_range(start_date,end_date):\n",
    "    from datetime import datetime,timedelta\n",
    "    interval_day=[]\n",
    "    start_date_dt = datetime.strptime(start_date, '%d.%m.%Y')\n",
    "    end_date_dt = datetime.strptime(end_date, '%d.%m.%Y')\n",
    "\n",
    "    \n",
    "    current_dt = start_date_dt\n",
    "    while current_dt <= end_date_dt:\n",
    "        interval_day.append(current_dt.strftime('%Y-%m-%d'))\n",
    "        current_dt += timedelta(days=1)\n",
    "    return interval_day\n",
    "\n",
    "    \n",
    "date_range('01.09.2018','07.09.2018')"
   ]
  },
  {
   "cell_type": "markdown",
   "metadata": {},
   "source": [
    "#### Задание 2\n",
    "Дополните функцию из первого задания проверкой на корректность дат. В случае неверного формата или если start_date > end_date должен возвращаться пустой список."
   ]
  },
  {
   "cell_type": "code",
   "execution_count": 3,
   "metadata": {},
   "outputs": [
    {
     "name": "stdout",
     "output_type": "stream",
     "text": [
      "['2018-09-03', '2018-09-04', '2018-09-05', '2018-09-06', '2018-09-07']\n",
      "[]\n",
      "[]\n"
     ]
    }
   ],
   "source": [
    "def date_range(start_date,end_date):\n",
    "    from datetime import datetime,timedelta\n",
    "    interval_day=[]\n",
    "    try:\n",
    "        start_date_dt = datetime.strptime(start_date, '%d.%m.%Y')\n",
    "        end_date_dt = datetime.strptime(end_date, '%d.%m.%Y')\n",
    "    except:\n",
    "        return interval_day\n",
    "    \n",
    "    current_dt = start_date_dt\n",
    "    while current_dt <= end_date_dt:\n",
    "        interval_day.append(current_dt.strftime('%Y-%m-%d'))\n",
    "        current_dt += timedelta(days=1)\n",
    "    return interval_day\n",
    "\n",
    "    \n",
    "print(date_range('03.09.2018','07.09.2018'))\n",
    "print(date_range('10-09.2018','07.09.2018'))\n",
    "print(date_range('09.09.2018','07.09.2018'))"
   ]
  },
  {
   "cell_type": "markdown",
   "metadata": {},
   "source": [
    "#### Задание 3\n",
    "Дан поток дат в формате YYYY-MM-DD, в которых встречаются некорректные значения:\n",
    "stream = ['2018-04-02', '2018-02-29', '2018-19-02']\n",
    "Напишите функцию, которая проверяет эти даты на корректность. Т. е. для каждой даты возвращает True (дата корректна) или False (некорректная дата)."
   ]
  },
  {
   "cell_type": "code",
   "execution_count": 4,
   "metadata": {},
   "outputs": [
    {
     "data": {
      "text/plain": [
       "[True, False, False]"
      ]
     },
     "execution_count": 4,
     "metadata": {},
     "output_type": "execute_result"
    }
   ],
   "source": [
    "stream = ['2018-04-02', '2018-02-29', '2018-19-02'] \n",
    "\n",
    "def check_correct_dates(dates):\n",
    "    from datetime import datetime\n",
    "    log_of_chech=[]\n",
    "    for date in dates:\n",
    "        try:\n",
    "            datetime.strptime(date, '%Y-%m-%d')\n",
    "            log_of_chech.append(True)\n",
    "        except:\n",
    "            log_of_chech.append(False)\n",
    "    return log_of_chech\n",
    "\n",
    "check_correct_dates(stream)\n",
    "\n",
    "\n"
   ]
  },
  {
   "cell_type": "markdown",
   "metadata": {},
   "source": [
    "#### Задание 4\n",
    "Напишите функцию, которая возвращает список дат с 1 по вчерашний день текущего месяца. Если дан 1 день месяца, то возвращается список дней прошлого месяца."
   ]
  },
  {
   "cell_type": "code",
   "execution_count": 4,
   "metadata": {},
   "outputs": [
    {
     "name": "stdout",
     "output_type": "stream",
     "text": [
      "['2018.02.28', '2018.02.27', '2018.02.26', '2018.02.25', '2018.02.24', '2018.02.23', '2018.02.22', '2018.02.21', '2018.02.20', '2018.02.19', '2018.02.18', '2018.02.17', '2018.02.16', '2018.02.15', '2018.02.14', '2018.02.13', '2018.02.12', '2018.02.11', '2018.02.10', '2018.02.09', '2018.02.08', '2018.02.07', '2018.02.06', '2018.02.05', '2018.02.04', '2018.02.03', '2018.02.02', '2018.02.01']\n",
      "['2018.03.03', '2018.03.02', '2018.03.01']\n"
     ]
    }
   ],
   "source": [
    "day='2018.03.01'\n",
    "\n",
    "def previous_days(day):\n",
    "    list_days=[]\n",
    "    from datetime import datetime,timedelta,date\n",
    "    yesterday_dt= datetime.strptime(day, '%Y.%m.%d') +timedelta(days=-1)\n",
    "    previous_month=yesterday_dt.month-1\n",
    "\n",
    "    while yesterday_dt.month>previous_month:\n",
    "        list_days.append(yesterday_dt.strftime('%Y.%m.%d'))\n",
    "        yesterday_dt=yesterday_dt + timedelta(days=-1)\n",
    "    return list_days\n",
    "\n",
    "print(previous_days('2018.03.01'))\n",
    "print(previous_days('2018.03.04'))"
   ]
  },
  {
   "cell_type": "markdown",
   "metadata": {},
   "source": [
    "#### Задание 5\n",
    "Напишите функцию, которая возвращает точную дату в формате YYYY-MM-DD по фразе:\n",
    "1. 'today' - сегодняшнюю дату\n",
    "2. 'last monday' -  прошлый понедельник\n",
    "3. 'last day' - Последний день текущего мес"
   ]
  },
  {
   "cell_type": "code",
   "execution_count": 5,
   "metadata": {},
   "outputs": [
    {
     "name": "stdout",
     "output_type": "stream",
     "text": [
      "2018-09-13\n",
      "2018-09-03\n",
      "2018-09-30\n",
      "ERROR\n"
     ]
    }
   ],
   "source": [
    "from datetime import datetime,timedelta,date\n",
    "def dates(param):\n",
    "    if param=='today':\n",
    "        return datetime.today().strftime('%Y-%m-%d')\n",
    "    elif param=='last monday':\n",
    "        offset=datetime.today().weekday()+7\n",
    "        return (datetime.today()-timedelta(days=offset)).strftime('%Y-%m-%d')\n",
    "    elif param=='last day':\n",
    "        today=datetime.today()\n",
    "        tommorow=datetime.today()+ timedelta(days=1)\n",
    "\n",
    "        while today.day<tommorow.day+1:\n",
    "            today+=timedelta(days=1)\n",
    "            tommorow+=timedelta(days=1)\n",
    "        return today.strftime('%Y-%m-%d')\n",
    "    else:\n",
    "        return 'ERROR'\n",
    "    \n",
    "print(dates('today'))    \n",
    "print(dates('last monday')) \n",
    "print(dates('last day'))\n",
    "print(dates('last ay'))\n"
   ]
  },
  {
   "cell_type": "markdown",
   "metadata": {},
   "source": [
    "#### Задание 6\n",
    "Напишите функцию, которая разбивает на недели с понедельника по воскресенье интервал дат между start_date и end_date. Считайте, что входные данные всегда корректны. В ответ должны входить только полные недели.\n"
   ]
  },
  {
   "cell_type": "code",
   "execution_count": 7,
   "metadata": {
    "scrolled": true
   },
   "outputs": [
    {
     "data": {
      "text/plain": [
       "{0: ['13.08.2018',\n",
       "  '14.08.2018',\n",
       "  '15.08.2018',\n",
       "  '16.08.2018',\n",
       "  '17.08.2018',\n",
       "  '18.08.2018',\n",
       "  '19.08.2018'],\n",
       " 1: ['20.08.2018',\n",
       "  '21.08.2018',\n",
       "  '22.08.2018',\n",
       "  '23.08.2018',\n",
       "  '24.08.2018',\n",
       "  '25.08.2018',\n",
       "  '26.08.2018'],\n",
       " 2: ['27.08.2018',\n",
       "  '28.08.2018',\n",
       "  '29.08.2018',\n",
       "  '30.08.2018',\n",
       "  '31.08.2018',\n",
       "  '01.09.2018',\n",
       "  '02.09.2018'],\n",
       " 3: ['03.09.2018',\n",
       "  '04.09.2018',\n",
       "  '05.09.2018',\n",
       "  '06.09.2018',\n",
       "  '07.09.2018',\n",
       "  '08.09.2018',\n",
       "  '09.09.2018']}"
      ]
     },
     "execution_count": 7,
     "metadata": {},
     "output_type": "execute_result"
    }
   ],
   "source": [
    "def weeks_days(start_date,end_date):\n",
    "    from datetime import datetime\n",
    "    from datetime import timedelta\n",
    "    \n",
    "    #переведетем в datetime\n",
    "  \n",
    "    start_date_dt = datetime.strptime(start_date, '%d.%m.%Y')\n",
    "    end_date_dt = datetime.strptime(end_date, '%d.%m.%Y')\n",
    "\n",
    "    # вычислим настоящие даты конца и начала\n",
    "\n",
    "\n",
    "    if  start_date_dt.weekday()==0:\n",
    "        real_start_date= start_date_dt\n",
    "    else :\n",
    "        real_start_date= start_date_dt+ timedelta(7-start_date_dt.weekday())                             \n",
    "    if  end_date_dt.weekday()==6:\n",
    "        real_end_date = end_date_dt\n",
    "    else:\n",
    "        real_end_date = end_date_dt - timedelta(end_date_dt.weekday()+1)\n",
    "\n",
    "    #сформируем массивы нелеь и дней\n",
    "  \n",
    "        \n",
    "    number_week=[0]    \n",
    "    weekdays=[real_start_date.strftime('%d.%m.%Y')]                   \n",
    "    while real_start_date<real_end_date:\n",
    "            if real_start_date.weekday()==6:\n",
    "                number_week.append(number_week[-1]+1)\n",
    "            else:\n",
    "                number_week.append(number_week[-1]) \n",
    "            weekdays.append((real_start_date+timedelta(days=1)).strftime('%d.%m.%Y'))\n",
    "            real_start_date= real_start_date+timedelta(days=1) \n",
    "    \n",
    "    #структурируем в словарь\n",
    "    \n",
    "    out={}       \n",
    "    for week in(set(number_week)):\n",
    "        a=[]\n",
    "        for pairs in zip(number_week, weekdays ):\n",
    "            if week==pairs[0]:\n",
    "                a.append(pairs[1])\n",
    "        out.setdefault(week, a)\n",
    "    return out\n",
    " \n",
    "weeks_days('12.08.2018','10.09.2018')"
   ]
  },
  {
   "cell_type": "code",
   "execution_count": null,
   "metadata": {},
   "outputs": [],
   "source": []
  },
  {
   "cell_type": "code",
   "execution_count": null,
   "metadata": {},
   "outputs": [],
   "source": []
  },
  {
   "cell_type": "code",
   "execution_count": null,
   "metadata": {},
   "outputs": [],
   "source": []
  }
 ],
 "metadata": {
  "kernelspec": {
   "display_name": "Python 3",
   "language": "python",
   "name": "python3"
  },
  "language_info": {
   "codemirror_mode": {
    "name": "ipython",
    "version": 3
   },
   "file_extension": ".py",
   "mimetype": "text/x-python",
   "name": "python",
   "nbconvert_exporter": "python",
   "pygments_lexer": "ipython3",
   "version": "3.6.8"
  }
 },
 "nbformat": 4,
 "nbformat_minor": 2
}
